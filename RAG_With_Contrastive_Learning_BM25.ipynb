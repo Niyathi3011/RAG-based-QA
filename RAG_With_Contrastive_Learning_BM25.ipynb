{
  "nbformat": 4,
  "nbformat_minor": 0,
  "metadata": {
    "colab": {
      "provenance": [],
      "gpuType": "T4"
    },
    "kernelspec": {
      "name": "python3",
      "display_name": "Python 3"
    },
    "language_info": {
      "name": "python"
    },
    "widgets": {
      "application/vnd.jupyter.widget-state+json": {
        "686966734b174765ac594f00ecdfb776": {
          "model_module": "@jupyter-widgets/controls",
          "model_name": "HBoxModel",
          "model_module_version": "1.5.0",
          "state": {
            "_dom_classes": [],
            "_model_module": "@jupyter-widgets/controls",
            "_model_module_version": "1.5.0",
            "_model_name": "HBoxModel",
            "_view_count": null,
            "_view_module": "@jupyter-widgets/controls",
            "_view_module_version": "1.5.0",
            "_view_name": "HBoxView",
            "box_style": "",
            "children": [
              "IPY_MODEL_2815c502f6a04a709e398548b8c2c2b0",
              "IPY_MODEL_d0332c0837824289ac614503833943d5",
              "IPY_MODEL_18bae32a2ffa4987bbe735160a7c78e9"
            ],
            "layout": "IPY_MODEL_977e96eefeb6461b89048c02ab127ebb"
          }
        },
        "2815c502f6a04a709e398548b8c2c2b0": {
          "model_module": "@jupyter-widgets/controls",
          "model_name": "HTMLModel",
          "model_module_version": "1.5.0",
          "state": {
            "_dom_classes": [],
            "_model_module": "@jupyter-widgets/controls",
            "_model_module_version": "1.5.0",
            "_model_name": "HTMLModel",
            "_view_count": null,
            "_view_module": "@jupyter-widgets/controls",
            "_view_module_version": "1.5.0",
            "_view_name": "HTMLView",
            "description": "",
            "description_tooltip": null,
            "layout": "IPY_MODEL_2b29db5dd82745c7b00c0a40f001e0b8",
            "placeholder": "​",
            "style": "IPY_MODEL_20d9221800b34024aa959118991a4ebe",
            "value": "Downloading (…)ve/main/spiece.model: 100%"
          }
        },
        "d0332c0837824289ac614503833943d5": {
          "model_module": "@jupyter-widgets/controls",
          "model_name": "FloatProgressModel",
          "model_module_version": "1.5.0",
          "state": {
            "_dom_classes": [],
            "_model_module": "@jupyter-widgets/controls",
            "_model_module_version": "1.5.0",
            "_model_name": "FloatProgressModel",
            "_view_count": null,
            "_view_module": "@jupyter-widgets/controls",
            "_view_module_version": "1.5.0",
            "_view_name": "ProgressView",
            "bar_style": "success",
            "description": "",
            "description_tooltip": null,
            "layout": "IPY_MODEL_ab75cab0eeb84a64aa2b4c309a1d101f",
            "max": 791656,
            "min": 0,
            "orientation": "horizontal",
            "style": "IPY_MODEL_7c3b2b516cef49a4b483e01999e2c636",
            "value": 791656
          }
        },
        "18bae32a2ffa4987bbe735160a7c78e9": {
          "model_module": "@jupyter-widgets/controls",
          "model_name": "HTMLModel",
          "model_module_version": "1.5.0",
          "state": {
            "_dom_classes": [],
            "_model_module": "@jupyter-widgets/controls",
            "_model_module_version": "1.5.0",
            "_model_name": "HTMLModel",
            "_view_count": null,
            "_view_module": "@jupyter-widgets/controls",
            "_view_module_version": "1.5.0",
            "_view_name": "HTMLView",
            "description": "",
            "description_tooltip": null,
            "layout": "IPY_MODEL_223cf6f8c93d41c18cf548daf65ae4f8",
            "placeholder": "​",
            "style": "IPY_MODEL_e101ac3b27294720a9f9848234cc2843",
            "value": " 792k/792k [00:00&lt;00:00, 7.57MB/s]"
          }
        },
        "977e96eefeb6461b89048c02ab127ebb": {
          "model_module": "@jupyter-widgets/base",
          "model_name": "LayoutModel",
          "model_module_version": "1.2.0",
          "state": {
            "_model_module": "@jupyter-widgets/base",
            "_model_module_version": "1.2.0",
            "_model_name": "LayoutModel",
            "_view_count": null,
            "_view_module": "@jupyter-widgets/base",
            "_view_module_version": "1.2.0",
            "_view_name": "LayoutView",
            "align_content": null,
            "align_items": null,
            "align_self": null,
            "border": null,
            "bottom": null,
            "display": null,
            "flex": null,
            "flex_flow": null,
            "grid_area": null,
            "grid_auto_columns": null,
            "grid_auto_flow": null,
            "grid_auto_rows": null,
            "grid_column": null,
            "grid_gap": null,
            "grid_row": null,
            "grid_template_areas": null,
            "grid_template_columns": null,
            "grid_template_rows": null,
            "height": null,
            "justify_content": null,
            "justify_items": null,
            "left": null,
            "margin": null,
            "max_height": null,
            "max_width": null,
            "min_height": null,
            "min_width": null,
            "object_fit": null,
            "object_position": null,
            "order": null,
            "overflow": null,
            "overflow_x": null,
            "overflow_y": null,
            "padding": null,
            "right": null,
            "top": null,
            "visibility": null,
            "width": null
          }
        },
        "2b29db5dd82745c7b00c0a40f001e0b8": {
          "model_module": "@jupyter-widgets/base",
          "model_name": "LayoutModel",
          "model_module_version": "1.2.0",
          "state": {
            "_model_module": "@jupyter-widgets/base",
            "_model_module_version": "1.2.0",
            "_model_name": "LayoutModel",
            "_view_count": null,
            "_view_module": "@jupyter-widgets/base",
            "_view_module_version": "1.2.0",
            "_view_name": "LayoutView",
            "align_content": null,
            "align_items": null,
            "align_self": null,
            "border": null,
            "bottom": null,
            "display": null,
            "flex": null,
            "flex_flow": null,
            "grid_area": null,
            "grid_auto_columns": null,
            "grid_auto_flow": null,
            "grid_auto_rows": null,
            "grid_column": null,
            "grid_gap": null,
            "grid_row": null,
            "grid_template_areas": null,
            "grid_template_columns": null,
            "grid_template_rows": null,
            "height": null,
            "justify_content": null,
            "justify_items": null,
            "left": null,
            "margin": null,
            "max_height": null,
            "max_width": null,
            "min_height": null,
            "min_width": null,
            "object_fit": null,
            "object_position": null,
            "order": null,
            "overflow": null,
            "overflow_x": null,
            "overflow_y": null,
            "padding": null,
            "right": null,
            "top": null,
            "visibility": null,
            "width": null
          }
        },
        "20d9221800b34024aa959118991a4ebe": {
          "model_module": "@jupyter-widgets/controls",
          "model_name": "DescriptionStyleModel",
          "model_module_version": "1.5.0",
          "state": {
            "_model_module": "@jupyter-widgets/controls",
            "_model_module_version": "1.5.0",
            "_model_name": "DescriptionStyleModel",
            "_view_count": null,
            "_view_module": "@jupyter-widgets/base",
            "_view_module_version": "1.2.0",
            "_view_name": "StyleView",
            "description_width": ""
          }
        },
        "ab75cab0eeb84a64aa2b4c309a1d101f": {
          "model_module": "@jupyter-widgets/base",
          "model_name": "LayoutModel",
          "model_module_version": "1.2.0",
          "state": {
            "_model_module": "@jupyter-widgets/base",
            "_model_module_version": "1.2.0",
            "_model_name": "LayoutModel",
            "_view_count": null,
            "_view_module": "@jupyter-widgets/base",
            "_view_module_version": "1.2.0",
            "_view_name": "LayoutView",
            "align_content": null,
            "align_items": null,
            "align_self": null,
            "border": null,
            "bottom": null,
            "display": null,
            "flex": null,
            "flex_flow": null,
            "grid_area": null,
            "grid_auto_columns": null,
            "grid_auto_flow": null,
            "grid_auto_rows": null,
            "grid_column": null,
            "grid_gap": null,
            "grid_row": null,
            "grid_template_areas": null,
            "grid_template_columns": null,
            "grid_template_rows": null,
            "height": null,
            "justify_content": null,
            "justify_items": null,
            "left": null,
            "margin": null,
            "max_height": null,
            "max_width": null,
            "min_height": null,
            "min_width": null,
            "object_fit": null,
            "object_position": null,
            "order": null,
            "overflow": null,
            "overflow_x": null,
            "overflow_y": null,
            "padding": null,
            "right": null,
            "top": null,
            "visibility": null,
            "width": null
          }
        },
        "7c3b2b516cef49a4b483e01999e2c636": {
          "model_module": "@jupyter-widgets/controls",
          "model_name": "ProgressStyleModel",
          "model_module_version": "1.5.0",
          "state": {
            "_model_module": "@jupyter-widgets/controls",
            "_model_module_version": "1.5.0",
            "_model_name": "ProgressStyleModel",
            "_view_count": null,
            "_view_module": "@jupyter-widgets/base",
            "_view_module_version": "1.2.0",
            "_view_name": "StyleView",
            "bar_color": null,
            "description_width": ""
          }
        },
        "223cf6f8c93d41c18cf548daf65ae4f8": {
          "model_module": "@jupyter-widgets/base",
          "model_name": "LayoutModel",
          "model_module_version": "1.2.0",
          "state": {
            "_model_module": "@jupyter-widgets/base",
            "_model_module_version": "1.2.0",
            "_model_name": "LayoutModel",
            "_view_count": null,
            "_view_module": "@jupyter-widgets/base",
            "_view_module_version": "1.2.0",
            "_view_name": "LayoutView",
            "align_content": null,
            "align_items": null,
            "align_self": null,
            "border": null,
            "bottom": null,
            "display": null,
            "flex": null,
            "flex_flow": null,
            "grid_area": null,
            "grid_auto_columns": null,
            "grid_auto_flow": null,
            "grid_auto_rows": null,
            "grid_column": null,
            "grid_gap": null,
            "grid_row": null,
            "grid_template_areas": null,
            "grid_template_columns": null,
            "grid_template_rows": null,
            "height": null,
            "justify_content": null,
            "justify_items": null,
            "left": null,
            "margin": null,
            "max_height": null,
            "max_width": null,
            "min_height": null,
            "min_width": null,
            "object_fit": null,
            "object_position": null,
            "order": null,
            "overflow": null,
            "overflow_x": null,
            "overflow_y": null,
            "padding": null,
            "right": null,
            "top": null,
            "visibility": null,
            "width": null
          }
        },
        "e101ac3b27294720a9f9848234cc2843": {
          "model_module": "@jupyter-widgets/controls",
          "model_name": "DescriptionStyleModel",
          "model_module_version": "1.5.0",
          "state": {
            "_model_module": "@jupyter-widgets/controls",
            "_model_module_version": "1.5.0",
            "_model_name": "DescriptionStyleModel",
            "_view_count": null,
            "_view_module": "@jupyter-widgets/base",
            "_view_module_version": "1.2.0",
            "_view_name": "StyleView",
            "description_width": ""
          }
        },
        "ed03eefa930e42c48ab38a863fdc1df6": {
          "model_module": "@jupyter-widgets/controls",
          "model_name": "HBoxModel",
          "model_module_version": "1.5.0",
          "state": {
            "_dom_classes": [],
            "_model_module": "@jupyter-widgets/controls",
            "_model_module_version": "1.5.0",
            "_model_name": "HBoxModel",
            "_view_count": null,
            "_view_module": "@jupyter-widgets/controls",
            "_view_module_version": "1.5.0",
            "_view_name": "HBoxView",
            "box_style": "",
            "children": [
              "IPY_MODEL_ad66d65498fb4daaa58884935be5adf1",
              "IPY_MODEL_b0dc65da5f8143b781896bfb68b422ed",
              "IPY_MODEL_245caf2c2eb2444d8240d2afbdd94653"
            ],
            "layout": "IPY_MODEL_991ed4f318604b60820370cc6b7c5329"
          }
        },
        "ad66d65498fb4daaa58884935be5adf1": {
          "model_module": "@jupyter-widgets/controls",
          "model_name": "HTMLModel",
          "model_module_version": "1.5.0",
          "state": {
            "_dom_classes": [],
            "_model_module": "@jupyter-widgets/controls",
            "_model_module_version": "1.5.0",
            "_model_name": "HTMLModel",
            "_view_count": null,
            "_view_module": "@jupyter-widgets/controls",
            "_view_module_version": "1.5.0",
            "_view_name": "HTMLView",
            "description": "",
            "description_tooltip": null,
            "layout": "IPY_MODEL_743795e49f574576ad2e05a9509861f1",
            "placeholder": "​",
            "style": "IPY_MODEL_ff9e8212d2ba43b890b957717be7e3e9",
            "value": "Downloading (…)lve/main/config.json: 100%"
          }
        },
        "b0dc65da5f8143b781896bfb68b422ed": {
          "model_module": "@jupyter-widgets/controls",
          "model_name": "FloatProgressModel",
          "model_module_version": "1.5.0",
          "state": {
            "_dom_classes": [],
            "_model_module": "@jupyter-widgets/controls",
            "_model_module_version": "1.5.0",
            "_model_name": "FloatProgressModel",
            "_view_count": null,
            "_view_module": "@jupyter-widgets/controls",
            "_view_module_version": "1.5.0",
            "_view_name": "ProgressView",
            "bar_style": "success",
            "description": "",
            "description_tooltip": null,
            "layout": "IPY_MODEL_b0a8b6fe7fb049f0ab18d5ea8f45c6ef",
            "max": 1208,
            "min": 0,
            "orientation": "horizontal",
            "style": "IPY_MODEL_1b11b8141cbb4ccaa5bfea461e625a19",
            "value": 1208
          }
        },
        "245caf2c2eb2444d8240d2afbdd94653": {
          "model_module": "@jupyter-widgets/controls",
          "model_name": "HTMLModel",
          "model_module_version": "1.5.0",
          "state": {
            "_dom_classes": [],
            "_model_module": "@jupyter-widgets/controls",
            "_model_module_version": "1.5.0",
            "_model_name": "HTMLModel",
            "_view_count": null,
            "_view_module": "@jupyter-widgets/controls",
            "_view_module_version": "1.5.0",
            "_view_name": "HTMLView",
            "description": "",
            "description_tooltip": null,
            "layout": "IPY_MODEL_edeaabc674d84deb9dea9e836964c52b",
            "placeholder": "​",
            "style": "IPY_MODEL_d69e5bae8a65466384762c819a280716",
            "value": " 1.21k/1.21k [00:00&lt;00:00, 19.1kB/s]"
          }
        },
        "991ed4f318604b60820370cc6b7c5329": {
          "model_module": "@jupyter-widgets/base",
          "model_name": "LayoutModel",
          "model_module_version": "1.2.0",
          "state": {
            "_model_module": "@jupyter-widgets/base",
            "_model_module_version": "1.2.0",
            "_model_name": "LayoutModel",
            "_view_count": null,
            "_view_module": "@jupyter-widgets/base",
            "_view_module_version": "1.2.0",
            "_view_name": "LayoutView",
            "align_content": null,
            "align_items": null,
            "align_self": null,
            "border": null,
            "bottom": null,
            "display": null,
            "flex": null,
            "flex_flow": null,
            "grid_area": null,
            "grid_auto_columns": null,
            "grid_auto_flow": null,
            "grid_auto_rows": null,
            "grid_column": null,
            "grid_gap": null,
            "grid_row": null,
            "grid_template_areas": null,
            "grid_template_columns": null,
            "grid_template_rows": null,
            "height": null,
            "justify_content": null,
            "justify_items": null,
            "left": null,
            "margin": null,
            "max_height": null,
            "max_width": null,
            "min_height": null,
            "min_width": null,
            "object_fit": null,
            "object_position": null,
            "order": null,
            "overflow": null,
            "overflow_x": null,
            "overflow_y": null,
            "padding": null,
            "right": null,
            "top": null,
            "visibility": null,
            "width": null
          }
        },
        "743795e49f574576ad2e05a9509861f1": {
          "model_module": "@jupyter-widgets/base",
          "model_name": "LayoutModel",
          "model_module_version": "1.2.0",
          "state": {
            "_model_module": "@jupyter-widgets/base",
            "_model_module_version": "1.2.0",
            "_model_name": "LayoutModel",
            "_view_count": null,
            "_view_module": "@jupyter-widgets/base",
            "_view_module_version": "1.2.0",
            "_view_name": "LayoutView",
            "align_content": null,
            "align_items": null,
            "align_self": null,
            "border": null,
            "bottom": null,
            "display": null,
            "flex": null,
            "flex_flow": null,
            "grid_area": null,
            "grid_auto_columns": null,
            "grid_auto_flow": null,
            "grid_auto_rows": null,
            "grid_column": null,
            "grid_gap": null,
            "grid_row": null,
            "grid_template_areas": null,
            "grid_template_columns": null,
            "grid_template_rows": null,
            "height": null,
            "justify_content": null,
            "justify_items": null,
            "left": null,
            "margin": null,
            "max_height": null,
            "max_width": null,
            "min_height": null,
            "min_width": null,
            "object_fit": null,
            "object_position": null,
            "order": null,
            "overflow": null,
            "overflow_x": null,
            "overflow_y": null,
            "padding": null,
            "right": null,
            "top": null,
            "visibility": null,
            "width": null
          }
        },
        "ff9e8212d2ba43b890b957717be7e3e9": {
          "model_module": "@jupyter-widgets/controls",
          "model_name": "DescriptionStyleModel",
          "model_module_version": "1.5.0",
          "state": {
            "_model_module": "@jupyter-widgets/controls",
            "_model_module_version": "1.5.0",
            "_model_name": "DescriptionStyleModel",
            "_view_count": null,
            "_view_module": "@jupyter-widgets/base",
            "_view_module_version": "1.2.0",
            "_view_name": "StyleView",
            "description_width": ""
          }
        },
        "b0a8b6fe7fb049f0ab18d5ea8f45c6ef": {
          "model_module": "@jupyter-widgets/base",
          "model_name": "LayoutModel",
          "model_module_version": "1.2.0",
          "state": {
            "_model_module": "@jupyter-widgets/base",
            "_model_module_version": "1.2.0",
            "_model_name": "LayoutModel",
            "_view_count": null,
            "_view_module": "@jupyter-widgets/base",
            "_view_module_version": "1.2.0",
            "_view_name": "LayoutView",
            "align_content": null,
            "align_items": null,
            "align_self": null,
            "border": null,
            "bottom": null,
            "display": null,
            "flex": null,
            "flex_flow": null,
            "grid_area": null,
            "grid_auto_columns": null,
            "grid_auto_flow": null,
            "grid_auto_rows": null,
            "grid_column": null,
            "grid_gap": null,
            "grid_row": null,
            "grid_template_areas": null,
            "grid_template_columns": null,
            "grid_template_rows": null,
            "height": null,
            "justify_content": null,
            "justify_items": null,
            "left": null,
            "margin": null,
            "max_height": null,
            "max_width": null,
            "min_height": null,
            "min_width": null,
            "object_fit": null,
            "object_position": null,
            "order": null,
            "overflow": null,
            "overflow_x": null,
            "overflow_y": null,
            "padding": null,
            "right": null,
            "top": null,
            "visibility": null,
            "width": null
          }
        },
        "1b11b8141cbb4ccaa5bfea461e625a19": {
          "model_module": "@jupyter-widgets/controls",
          "model_name": "ProgressStyleModel",
          "model_module_version": "1.5.0",
          "state": {
            "_model_module": "@jupyter-widgets/controls",
            "_model_module_version": "1.5.0",
            "_model_name": "ProgressStyleModel",
            "_view_count": null,
            "_view_module": "@jupyter-widgets/base",
            "_view_module_version": "1.2.0",
            "_view_name": "StyleView",
            "bar_color": null,
            "description_width": ""
          }
        },
        "edeaabc674d84deb9dea9e836964c52b": {
          "model_module": "@jupyter-widgets/base",
          "model_name": "LayoutModel",
          "model_module_version": "1.2.0",
          "state": {
            "_model_module": "@jupyter-widgets/base",
            "_model_module_version": "1.2.0",
            "_model_name": "LayoutModel",
            "_view_count": null,
            "_view_module": "@jupyter-widgets/base",
            "_view_module_version": "1.2.0",
            "_view_name": "LayoutView",
            "align_content": null,
            "align_items": null,
            "align_self": null,
            "border": null,
            "bottom": null,
            "display": null,
            "flex": null,
            "flex_flow": null,
            "grid_area": null,
            "grid_auto_columns": null,
            "grid_auto_flow": null,
            "grid_auto_rows": null,
            "grid_column": null,
            "grid_gap": null,
            "grid_row": null,
            "grid_template_areas": null,
            "grid_template_columns": null,
            "grid_template_rows": null,
            "height": null,
            "justify_content": null,
            "justify_items": null,
            "left": null,
            "margin": null,
            "max_height": null,
            "max_width": null,
            "min_height": null,
            "min_width": null,
            "object_fit": null,
            "object_position": null,
            "order": null,
            "overflow": null,
            "overflow_x": null,
            "overflow_y": null,
            "padding": null,
            "right": null,
            "top": null,
            "visibility": null,
            "width": null
          }
        },
        "d69e5bae8a65466384762c819a280716": {
          "model_module": "@jupyter-widgets/controls",
          "model_name": "DescriptionStyleModel",
          "model_module_version": "1.5.0",
          "state": {
            "_model_module": "@jupyter-widgets/controls",
            "_model_module_version": "1.5.0",
            "_model_name": "DescriptionStyleModel",
            "_view_count": null,
            "_view_module": "@jupyter-widgets/base",
            "_view_module_version": "1.2.0",
            "_view_name": "StyleView",
            "description_width": ""
          }
        },
        "f3bf25680fc948509e6d277a8eeddf9d": {
          "model_module": "@jupyter-widgets/controls",
          "model_name": "HBoxModel",
          "model_module_version": "1.5.0",
          "state": {
            "_dom_classes": [],
            "_model_module": "@jupyter-widgets/controls",
            "_model_module_version": "1.5.0",
            "_model_name": "HBoxModel",
            "_view_count": null,
            "_view_module": "@jupyter-widgets/controls",
            "_view_module_version": "1.5.0",
            "_view_name": "HBoxView",
            "box_style": "",
            "children": [
              "IPY_MODEL_5cdf3054f2e34e4d81285d60f2a83aa0",
              "IPY_MODEL_656cb1af80e342988252b172668488a1",
              "IPY_MODEL_816c308a3fb14d12a3708479bd7ef38a"
            ],
            "layout": "IPY_MODEL_dc1164ec64f048d1b3e60bdb0af450a4"
          }
        },
        "5cdf3054f2e34e4d81285d60f2a83aa0": {
          "model_module": "@jupyter-widgets/controls",
          "model_name": "HTMLModel",
          "model_module_version": "1.5.0",
          "state": {
            "_dom_classes": [],
            "_model_module": "@jupyter-widgets/controls",
            "_model_module_version": "1.5.0",
            "_model_name": "HTMLModel",
            "_view_count": null,
            "_view_module": "@jupyter-widgets/controls",
            "_view_module_version": "1.5.0",
            "_view_name": "HTMLView",
            "description": "",
            "description_tooltip": null,
            "layout": "IPY_MODEL_52cbe9f95d5447d995b6dad0dfdd92f7",
            "placeholder": "​",
            "style": "IPY_MODEL_10bfcd1c96df4474b85bb74ab7a6bd56",
            "value": "Downloading pytorch_model.bin: 100%"
          }
        },
        "656cb1af80e342988252b172668488a1": {
          "model_module": "@jupyter-widgets/controls",
          "model_name": "FloatProgressModel",
          "model_module_version": "1.5.0",
          "state": {
            "_dom_classes": [],
            "_model_module": "@jupyter-widgets/controls",
            "_model_module_version": "1.5.0",
            "_model_name": "FloatProgressModel",
            "_view_count": null,
            "_view_module": "@jupyter-widgets/controls",
            "_view_module_version": "1.5.0",
            "_view_name": "ProgressView",
            "bar_style": "success",
            "description": "",
            "description_tooltip": null,
            "layout": "IPY_MODEL_ba815c528f564a00a90fae83a73e5f44",
            "max": 891691430,
            "min": 0,
            "orientation": "horizontal",
            "style": "IPY_MODEL_f1ed04e27a324b18a93f4a5719393d4c",
            "value": 891691430
          }
        },
        "816c308a3fb14d12a3708479bd7ef38a": {
          "model_module": "@jupyter-widgets/controls",
          "model_name": "HTMLModel",
          "model_module_version": "1.5.0",
          "state": {
            "_dom_classes": [],
            "_model_module": "@jupyter-widgets/controls",
            "_model_module_version": "1.5.0",
            "_model_name": "HTMLModel",
            "_view_count": null,
            "_view_module": "@jupyter-widgets/controls",
            "_view_module_version": "1.5.0",
            "_view_name": "HTMLView",
            "description": "",
            "description_tooltip": null,
            "layout": "IPY_MODEL_3ee286c4d8914cd59a5d6553519481ae",
            "placeholder": "​",
            "style": "IPY_MODEL_2ca7129ebf0a4755afe9ef44776e80b1",
            "value": " 892M/892M [00:12&lt;00:00, 68.8MB/s]"
          }
        },
        "dc1164ec64f048d1b3e60bdb0af450a4": {
          "model_module": "@jupyter-widgets/base",
          "model_name": "LayoutModel",
          "model_module_version": "1.2.0",
          "state": {
            "_model_module": "@jupyter-widgets/base",
            "_model_module_version": "1.2.0",
            "_model_name": "LayoutModel",
            "_view_count": null,
            "_view_module": "@jupyter-widgets/base",
            "_view_module_version": "1.2.0",
            "_view_name": "LayoutView",
            "align_content": null,
            "align_items": null,
            "align_self": null,
            "border": null,
            "bottom": null,
            "display": null,
            "flex": null,
            "flex_flow": null,
            "grid_area": null,
            "grid_auto_columns": null,
            "grid_auto_flow": null,
            "grid_auto_rows": null,
            "grid_column": null,
            "grid_gap": null,
            "grid_row": null,
            "grid_template_areas": null,
            "grid_template_columns": null,
            "grid_template_rows": null,
            "height": null,
            "justify_content": null,
            "justify_items": null,
            "left": null,
            "margin": null,
            "max_height": null,
            "max_width": null,
            "min_height": null,
            "min_width": null,
            "object_fit": null,
            "object_position": null,
            "order": null,
            "overflow": null,
            "overflow_x": null,
            "overflow_y": null,
            "padding": null,
            "right": null,
            "top": null,
            "visibility": null,
            "width": null
          }
        },
        "52cbe9f95d5447d995b6dad0dfdd92f7": {
          "model_module": "@jupyter-widgets/base",
          "model_name": "LayoutModel",
          "model_module_version": "1.2.0",
          "state": {
            "_model_module": "@jupyter-widgets/base",
            "_model_module_version": "1.2.0",
            "_model_name": "LayoutModel",
            "_view_count": null,
            "_view_module": "@jupyter-widgets/base",
            "_view_module_version": "1.2.0",
            "_view_name": "LayoutView",
            "align_content": null,
            "align_items": null,
            "align_self": null,
            "border": null,
            "bottom": null,
            "display": null,
            "flex": null,
            "flex_flow": null,
            "grid_area": null,
            "grid_auto_columns": null,
            "grid_auto_flow": null,
            "grid_auto_rows": null,
            "grid_column": null,
            "grid_gap": null,
            "grid_row": null,
            "grid_template_areas": null,
            "grid_template_columns": null,
            "grid_template_rows": null,
            "height": null,
            "justify_content": null,
            "justify_items": null,
            "left": null,
            "margin": null,
            "max_height": null,
            "max_width": null,
            "min_height": null,
            "min_width": null,
            "object_fit": null,
            "object_position": null,
            "order": null,
            "overflow": null,
            "overflow_x": null,
            "overflow_y": null,
            "padding": null,
            "right": null,
            "top": null,
            "visibility": null,
            "width": null
          }
        },
        "10bfcd1c96df4474b85bb74ab7a6bd56": {
          "model_module": "@jupyter-widgets/controls",
          "model_name": "DescriptionStyleModel",
          "model_module_version": "1.5.0",
          "state": {
            "_model_module": "@jupyter-widgets/controls",
            "_model_module_version": "1.5.0",
            "_model_name": "DescriptionStyleModel",
            "_view_count": null,
            "_view_module": "@jupyter-widgets/base",
            "_view_module_version": "1.2.0",
            "_view_name": "StyleView",
            "description_width": ""
          }
        },
        "ba815c528f564a00a90fae83a73e5f44": {
          "model_module": "@jupyter-widgets/base",
          "model_name": "LayoutModel",
          "model_module_version": "1.2.0",
          "state": {
            "_model_module": "@jupyter-widgets/base",
            "_model_module_version": "1.2.0",
            "_model_name": "LayoutModel",
            "_view_count": null,
            "_view_module": "@jupyter-widgets/base",
            "_view_module_version": "1.2.0",
            "_view_name": "LayoutView",
            "align_content": null,
            "align_items": null,
            "align_self": null,
            "border": null,
            "bottom": null,
            "display": null,
            "flex": null,
            "flex_flow": null,
            "grid_area": null,
            "grid_auto_columns": null,
            "grid_auto_flow": null,
            "grid_auto_rows": null,
            "grid_column": null,
            "grid_gap": null,
            "grid_row": null,
            "grid_template_areas": null,
            "grid_template_columns": null,
            "grid_template_rows": null,
            "height": null,
            "justify_content": null,
            "justify_items": null,
            "left": null,
            "margin": null,
            "max_height": null,
            "max_width": null,
            "min_height": null,
            "min_width": null,
            "object_fit": null,
            "object_position": null,
            "order": null,
            "overflow": null,
            "overflow_x": null,
            "overflow_y": null,
            "padding": null,
            "right": null,
            "top": null,
            "visibility": null,
            "width": null
          }
        },
        "f1ed04e27a324b18a93f4a5719393d4c": {
          "model_module": "@jupyter-widgets/controls",
          "model_name": "ProgressStyleModel",
          "model_module_version": "1.5.0",
          "state": {
            "_model_module": "@jupyter-widgets/controls",
            "_model_module_version": "1.5.0",
            "_model_name": "ProgressStyleModel",
            "_view_count": null,
            "_view_module": "@jupyter-widgets/base",
            "_view_module_version": "1.2.0",
            "_view_name": "StyleView",
            "bar_color": null,
            "description_width": ""
          }
        },
        "3ee286c4d8914cd59a5d6553519481ae": {
          "model_module": "@jupyter-widgets/base",
          "model_name": "LayoutModel",
          "model_module_version": "1.2.0",
          "state": {
            "_model_module": "@jupyter-widgets/base",
            "_model_module_version": "1.2.0",
            "_model_name": "LayoutModel",
            "_view_count": null,
            "_view_module": "@jupyter-widgets/base",
            "_view_module_version": "1.2.0",
            "_view_name": "LayoutView",
            "align_content": null,
            "align_items": null,
            "align_self": null,
            "border": null,
            "bottom": null,
            "display": null,
            "flex": null,
            "flex_flow": null,
            "grid_area": null,
            "grid_auto_columns": null,
            "grid_auto_flow": null,
            "grid_auto_rows": null,
            "grid_column": null,
            "grid_gap": null,
            "grid_row": null,
            "grid_template_areas": null,
            "grid_template_columns": null,
            "grid_template_rows": null,
            "height": null,
            "justify_content": null,
            "justify_items": null,
            "left": null,
            "margin": null,
            "max_height": null,
            "max_width": null,
            "min_height": null,
            "min_width": null,
            "object_fit": null,
            "object_position": null,
            "order": null,
            "overflow": null,
            "overflow_x": null,
            "overflow_y": null,
            "padding": null,
            "right": null,
            "top": null,
            "visibility": null,
            "width": null
          }
        },
        "2ca7129ebf0a4755afe9ef44776e80b1": {
          "model_module": "@jupyter-widgets/controls",
          "model_name": "DescriptionStyleModel",
          "model_module_version": "1.5.0",
          "state": {
            "_model_module": "@jupyter-widgets/controls",
            "_model_module_version": "1.5.0",
            "_model_name": "DescriptionStyleModel",
            "_view_count": null,
            "_view_module": "@jupyter-widgets/base",
            "_view_module_version": "1.2.0",
            "_view_name": "StyleView",
            "description_width": ""
          }
        },
        "e09fe23bccbd48c682f1cdb25360cf89": {
          "model_module": "@jupyter-widgets/controls",
          "model_name": "HBoxModel",
          "model_module_version": "1.5.0",
          "state": {
            "_dom_classes": [],
            "_model_module": "@jupyter-widgets/controls",
            "_model_module_version": "1.5.0",
            "_model_name": "HBoxModel",
            "_view_count": null,
            "_view_module": "@jupyter-widgets/controls",
            "_view_module_version": "1.5.0",
            "_view_name": "HBoxView",
            "box_style": "",
            "children": [
              "IPY_MODEL_248831ba6f55487db338f3f5486ba3bd",
              "IPY_MODEL_fa3fbe3b31874bf28be566d92b1a8267",
              "IPY_MODEL_c5c866415a8346afa7cf51a46716c22b"
            ],
            "layout": "IPY_MODEL_5b7e2ef5fd5b4fb7b4fc9b00efc6294d"
          }
        },
        "248831ba6f55487db338f3f5486ba3bd": {
          "model_module": "@jupyter-widgets/controls",
          "model_name": "HTMLModel",
          "model_module_version": "1.5.0",
          "state": {
            "_dom_classes": [],
            "_model_module": "@jupyter-widgets/controls",
            "_model_module_version": "1.5.0",
            "_model_name": "HTMLModel",
            "_view_count": null,
            "_view_module": "@jupyter-widgets/controls",
            "_view_module_version": "1.5.0",
            "_view_name": "HTMLView",
            "description": "",
            "description_tooltip": null,
            "layout": "IPY_MODEL_7a27d8daf5984766822872bb61815801",
            "placeholder": "​",
            "style": "IPY_MODEL_30e8c33acf66444385728d2448afcebe",
            "value": "Downloading (…)neration_config.json: 100%"
          }
        },
        "fa3fbe3b31874bf28be566d92b1a8267": {
          "model_module": "@jupyter-widgets/controls",
          "model_name": "FloatProgressModel",
          "model_module_version": "1.5.0",
          "state": {
            "_dom_classes": [],
            "_model_module": "@jupyter-widgets/controls",
            "_model_module_version": "1.5.0",
            "_model_name": "FloatProgressModel",
            "_view_count": null,
            "_view_module": "@jupyter-widgets/controls",
            "_view_module_version": "1.5.0",
            "_view_name": "ProgressView",
            "bar_style": "success",
            "description": "",
            "description_tooltip": null,
            "layout": "IPY_MODEL_f0804c58605f466ca97358ade5cfe9a8",
            "max": 147,
            "min": 0,
            "orientation": "horizontal",
            "style": "IPY_MODEL_08807f89c06f4e539abcf9c61e5758a8",
            "value": 147
          }
        },
        "c5c866415a8346afa7cf51a46716c22b": {
          "model_module": "@jupyter-widgets/controls",
          "model_name": "HTMLModel",
          "model_module_version": "1.5.0",
          "state": {
            "_dom_classes": [],
            "_model_module": "@jupyter-widgets/controls",
            "_model_module_version": "1.5.0",
            "_model_name": "HTMLModel",
            "_view_count": null,
            "_view_module": "@jupyter-widgets/controls",
            "_view_module_version": "1.5.0",
            "_view_name": "HTMLView",
            "description": "",
            "description_tooltip": null,
            "layout": "IPY_MODEL_fbbb9d024292429c820c504890717429",
            "placeholder": "​",
            "style": "IPY_MODEL_e8da4c6c97b84234a0fd0c72aad73261",
            "value": " 147/147 [00:00&lt;00:00, 8.39kB/s]"
          }
        },
        "5b7e2ef5fd5b4fb7b4fc9b00efc6294d": {
          "model_module": "@jupyter-widgets/base",
          "model_name": "LayoutModel",
          "model_module_version": "1.2.0",
          "state": {
            "_model_module": "@jupyter-widgets/base",
            "_model_module_version": "1.2.0",
            "_model_name": "LayoutModel",
            "_view_count": null,
            "_view_module": "@jupyter-widgets/base",
            "_view_module_version": "1.2.0",
            "_view_name": "LayoutView",
            "align_content": null,
            "align_items": null,
            "align_self": null,
            "border": null,
            "bottom": null,
            "display": null,
            "flex": null,
            "flex_flow": null,
            "grid_area": null,
            "grid_auto_columns": null,
            "grid_auto_flow": null,
            "grid_auto_rows": null,
            "grid_column": null,
            "grid_gap": null,
            "grid_row": null,
            "grid_template_areas": null,
            "grid_template_columns": null,
            "grid_template_rows": null,
            "height": null,
            "justify_content": null,
            "justify_items": null,
            "left": null,
            "margin": null,
            "max_height": null,
            "max_width": null,
            "min_height": null,
            "min_width": null,
            "object_fit": null,
            "object_position": null,
            "order": null,
            "overflow": null,
            "overflow_x": null,
            "overflow_y": null,
            "padding": null,
            "right": null,
            "top": null,
            "visibility": null,
            "width": null
          }
        },
        "7a27d8daf5984766822872bb61815801": {
          "model_module": "@jupyter-widgets/base",
          "model_name": "LayoutModel",
          "model_module_version": "1.2.0",
          "state": {
            "_model_module": "@jupyter-widgets/base",
            "_model_module_version": "1.2.0",
            "_model_name": "LayoutModel",
            "_view_count": null,
            "_view_module": "@jupyter-widgets/base",
            "_view_module_version": "1.2.0",
            "_view_name": "LayoutView",
            "align_content": null,
            "align_items": null,
            "align_self": null,
            "border": null,
            "bottom": null,
            "display": null,
            "flex": null,
            "flex_flow": null,
            "grid_area": null,
            "grid_auto_columns": null,
            "grid_auto_flow": null,
            "grid_auto_rows": null,
            "grid_column": null,
            "grid_gap": null,
            "grid_row": null,
            "grid_template_areas": null,
            "grid_template_columns": null,
            "grid_template_rows": null,
            "height": null,
            "justify_content": null,
            "justify_items": null,
            "left": null,
            "margin": null,
            "max_height": null,
            "max_width": null,
            "min_height": null,
            "min_width": null,
            "object_fit": null,
            "object_position": null,
            "order": null,
            "overflow": null,
            "overflow_x": null,
            "overflow_y": null,
            "padding": null,
            "right": null,
            "top": null,
            "visibility": null,
            "width": null
          }
        },
        "30e8c33acf66444385728d2448afcebe": {
          "model_module": "@jupyter-widgets/controls",
          "model_name": "DescriptionStyleModel",
          "model_module_version": "1.5.0",
          "state": {
            "_model_module": "@jupyter-widgets/controls",
            "_model_module_version": "1.5.0",
            "_model_name": "DescriptionStyleModel",
            "_view_count": null,
            "_view_module": "@jupyter-widgets/base",
            "_view_module_version": "1.2.0",
            "_view_name": "StyleView",
            "description_width": ""
          }
        },
        "f0804c58605f466ca97358ade5cfe9a8": {
          "model_module": "@jupyter-widgets/base",
          "model_name": "LayoutModel",
          "model_module_version": "1.2.0",
          "state": {
            "_model_module": "@jupyter-widgets/base",
            "_model_module_version": "1.2.0",
            "_model_name": "LayoutModel",
            "_view_count": null,
            "_view_module": "@jupyter-widgets/base",
            "_view_module_version": "1.2.0",
            "_view_name": "LayoutView",
            "align_content": null,
            "align_items": null,
            "align_self": null,
            "border": null,
            "bottom": null,
            "display": null,
            "flex": null,
            "flex_flow": null,
            "grid_area": null,
            "grid_auto_columns": null,
            "grid_auto_flow": null,
            "grid_auto_rows": null,
            "grid_column": null,
            "grid_gap": null,
            "grid_row": null,
            "grid_template_areas": null,
            "grid_template_columns": null,
            "grid_template_rows": null,
            "height": null,
            "justify_content": null,
            "justify_items": null,
            "left": null,
            "margin": null,
            "max_height": null,
            "max_width": null,
            "min_height": null,
            "min_width": null,
            "object_fit": null,
            "object_position": null,
            "order": null,
            "overflow": null,
            "overflow_x": null,
            "overflow_y": null,
            "padding": null,
            "right": null,
            "top": null,
            "visibility": null,
            "width": null
          }
        },
        "08807f89c06f4e539abcf9c61e5758a8": {
          "model_module": "@jupyter-widgets/controls",
          "model_name": "ProgressStyleModel",
          "model_module_version": "1.5.0",
          "state": {
            "_model_module": "@jupyter-widgets/controls",
            "_model_module_version": "1.5.0",
            "_model_name": "ProgressStyleModel",
            "_view_count": null,
            "_view_module": "@jupyter-widgets/base",
            "_view_module_version": "1.2.0",
            "_view_name": "StyleView",
            "bar_color": null,
            "description_width": ""
          }
        },
        "fbbb9d024292429c820c504890717429": {
          "model_module": "@jupyter-widgets/base",
          "model_name": "LayoutModel",
          "model_module_version": "1.2.0",
          "state": {
            "_model_module": "@jupyter-widgets/base",
            "_model_module_version": "1.2.0",
            "_model_name": "LayoutModel",
            "_view_count": null,
            "_view_module": "@jupyter-widgets/base",
            "_view_module_version": "1.2.0",
            "_view_name": "LayoutView",
            "align_content": null,
            "align_items": null,
            "align_self": null,
            "border": null,
            "bottom": null,
            "display": null,
            "flex": null,
            "flex_flow": null,
            "grid_area": null,
            "grid_auto_columns": null,
            "grid_auto_flow": null,
            "grid_auto_rows": null,
            "grid_column": null,
            "grid_gap": null,
            "grid_row": null,
            "grid_template_areas": null,
            "grid_template_columns": null,
            "grid_template_rows": null,
            "height": null,
            "justify_content": null,
            "justify_items": null,
            "left": null,
            "margin": null,
            "max_height": null,
            "max_width": null,
            "min_height": null,
            "min_width": null,
            "object_fit": null,
            "object_position": null,
            "order": null,
            "overflow": null,
            "overflow_x": null,
            "overflow_y": null,
            "padding": null,
            "right": null,
            "top": null,
            "visibility": null,
            "width": null
          }
        },
        "e8da4c6c97b84234a0fd0c72aad73261": {
          "model_module": "@jupyter-widgets/controls",
          "model_name": "DescriptionStyleModel",
          "model_module_version": "1.5.0",
          "state": {
            "_model_module": "@jupyter-widgets/controls",
            "_model_module_version": "1.5.0",
            "_model_name": "DescriptionStyleModel",
            "_view_count": null,
            "_view_module": "@jupyter-widgets/base",
            "_view_module_version": "1.2.0",
            "_view_name": "StyleView",
            "description_width": ""
          }
        },
        "cd9eea6264c34fef914faac69e9ccb2d": {
          "model_module": "@jupyter-widgets/controls",
          "model_name": "HBoxModel",
          "model_module_version": "1.5.0",
          "state": {
            "_dom_classes": [],
            "_model_module": "@jupyter-widgets/controls",
            "_model_module_version": "1.5.0",
            "_model_name": "HBoxModel",
            "_view_count": null,
            "_view_module": "@jupyter-widgets/controls",
            "_view_module_version": "1.5.0",
            "_view_name": "HBoxView",
            "box_style": "",
            "children": [
              "IPY_MODEL_96ae7bb2566941df9d66b519ef17d80a",
              "IPY_MODEL_002b683894de4ef0a88633c0291569c7",
              "IPY_MODEL_dc81aa55b3ef41d38aa142f604956cc8"
            ],
            "layout": "IPY_MODEL_1dc5b46fcff44951892e93ada713d36d"
          }
        },
        "96ae7bb2566941df9d66b519ef17d80a": {
          "model_module": "@jupyter-widgets/controls",
          "model_name": "HTMLModel",
          "model_module_version": "1.5.0",
          "state": {
            "_dom_classes": [],
            "_model_module": "@jupyter-widgets/controls",
            "_model_module_version": "1.5.0",
            "_model_name": "HTMLModel",
            "_view_count": null,
            "_view_module": "@jupyter-widgets/controls",
            "_view_module_version": "1.5.0",
            "_view_name": "HTMLView",
            "description": "",
            "description_tooltip": null,
            "layout": "IPY_MODEL_e48c97bdd19043f684f5697596fbb9f3",
            "placeholder": "​",
            "style": "IPY_MODEL_839a43f6a402470cb210152d440dbecc",
            "value": "Downloading (…)lve/main/config.json: 100%"
          }
        },
        "002b683894de4ef0a88633c0291569c7": {
          "model_module": "@jupyter-widgets/controls",
          "model_name": "FloatProgressModel",
          "model_module_version": "1.5.0",
          "state": {
            "_dom_classes": [],
            "_model_module": "@jupyter-widgets/controls",
            "_model_module_version": "1.5.0",
            "_model_name": "FloatProgressModel",
            "_view_count": null,
            "_view_module": "@jupyter-widgets/controls",
            "_view_module_version": "1.5.0",
            "_view_name": "ProgressView",
            "bar_style": "success",
            "description": "",
            "description_tooltip": null,
            "layout": "IPY_MODEL_5e43a6b4a30e47f2aa710142de288c74",
            "max": 492,
            "min": 0,
            "orientation": "horizontal",
            "style": "IPY_MODEL_a7bce770f68940beaf4be91606338044",
            "value": 492
          }
        },
        "dc81aa55b3ef41d38aa142f604956cc8": {
          "model_module": "@jupyter-widgets/controls",
          "model_name": "HTMLModel",
          "model_module_version": "1.5.0",
          "state": {
            "_dom_classes": [],
            "_model_module": "@jupyter-widgets/controls",
            "_model_module_version": "1.5.0",
            "_model_name": "HTMLModel",
            "_view_count": null,
            "_view_module": "@jupyter-widgets/controls",
            "_view_module_version": "1.5.0",
            "_view_name": "HTMLView",
            "description": "",
            "description_tooltip": null,
            "layout": "IPY_MODEL_800dbe1a56834a6682c3686ad038da70",
            "placeholder": "​",
            "style": "IPY_MODEL_5a7e3a8d67744d6697a22996f88229a2",
            "value": " 492/492 [00:00&lt;00:00, 8.55kB/s]"
          }
        },
        "1dc5b46fcff44951892e93ada713d36d": {
          "model_module": "@jupyter-widgets/base",
          "model_name": "LayoutModel",
          "model_module_version": "1.2.0",
          "state": {
            "_model_module": "@jupyter-widgets/base",
            "_model_module_version": "1.2.0",
            "_model_name": "LayoutModel",
            "_view_count": null,
            "_view_module": "@jupyter-widgets/base",
            "_view_module_version": "1.2.0",
            "_view_name": "LayoutView",
            "align_content": null,
            "align_items": null,
            "align_self": null,
            "border": null,
            "bottom": null,
            "display": null,
            "flex": null,
            "flex_flow": null,
            "grid_area": null,
            "grid_auto_columns": null,
            "grid_auto_flow": null,
            "grid_auto_rows": null,
            "grid_column": null,
            "grid_gap": null,
            "grid_row": null,
            "grid_template_areas": null,
            "grid_template_columns": null,
            "grid_template_rows": null,
            "height": null,
            "justify_content": null,
            "justify_items": null,
            "left": null,
            "margin": null,
            "max_height": null,
            "max_width": null,
            "min_height": null,
            "min_width": null,
            "object_fit": null,
            "object_position": null,
            "order": null,
            "overflow": null,
            "overflow_x": null,
            "overflow_y": null,
            "padding": null,
            "right": null,
            "top": null,
            "visibility": null,
            "width": null
          }
        },
        "e48c97bdd19043f684f5697596fbb9f3": {
          "model_module": "@jupyter-widgets/base",
          "model_name": "LayoutModel",
          "model_module_version": "1.2.0",
          "state": {
            "_model_module": "@jupyter-widgets/base",
            "_model_module_version": "1.2.0",
            "_model_name": "LayoutModel",
            "_view_count": null,
            "_view_module": "@jupyter-widgets/base",
            "_view_module_version": "1.2.0",
            "_view_name": "LayoutView",
            "align_content": null,
            "align_items": null,
            "align_self": null,
            "border": null,
            "bottom": null,
            "display": null,
            "flex": null,
            "flex_flow": null,
            "grid_area": null,
            "grid_auto_columns": null,
            "grid_auto_flow": null,
            "grid_auto_rows": null,
            "grid_column": null,
            "grid_gap": null,
            "grid_row": null,
            "grid_template_areas": null,
            "grid_template_columns": null,
            "grid_template_rows": null,
            "height": null,
            "justify_content": null,
            "justify_items": null,
            "left": null,
            "margin": null,
            "max_height": null,
            "max_width": null,
            "min_height": null,
            "min_width": null,
            "object_fit": null,
            "object_position": null,
            "order": null,
            "overflow": null,
            "overflow_x": null,
            "overflow_y": null,
            "padding": null,
            "right": null,
            "top": null,
            "visibility": null,
            "width": null
          }
        },
        "839a43f6a402470cb210152d440dbecc": {
          "model_module": "@jupyter-widgets/controls",
          "model_name": "DescriptionStyleModel",
          "model_module_version": "1.5.0",
          "state": {
            "_model_module": "@jupyter-widgets/controls",
            "_model_module_version": "1.5.0",
            "_model_name": "DescriptionStyleModel",
            "_view_count": null,
            "_view_module": "@jupyter-widgets/base",
            "_view_module_version": "1.2.0",
            "_view_name": "StyleView",
            "description_width": ""
          }
        },
        "5e43a6b4a30e47f2aa710142de288c74": {
          "model_module": "@jupyter-widgets/base",
          "model_name": "LayoutModel",
          "model_module_version": "1.2.0",
          "state": {
            "_model_module": "@jupyter-widgets/base",
            "_model_module_version": "1.2.0",
            "_model_name": "LayoutModel",
            "_view_count": null,
            "_view_module": "@jupyter-widgets/base",
            "_view_module_version": "1.2.0",
            "_view_name": "LayoutView",
            "align_content": null,
            "align_items": null,
            "align_self": null,
            "border": null,
            "bottom": null,
            "display": null,
            "flex": null,
            "flex_flow": null,
            "grid_area": null,
            "grid_auto_columns": null,
            "grid_auto_flow": null,
            "grid_auto_rows": null,
            "grid_column": null,
            "grid_gap": null,
            "grid_row": null,
            "grid_template_areas": null,
            "grid_template_columns": null,
            "grid_template_rows": null,
            "height": null,
            "justify_content": null,
            "justify_items": null,
            "left": null,
            "margin": null,
            "max_height": null,
            "max_width": null,
            "min_height": null,
            "min_width": null,
            "object_fit": null,
            "object_position": null,
            "order": null,
            "overflow": null,
            "overflow_x": null,
            "overflow_y": null,
            "padding": null,
            "right": null,
            "top": null,
            "visibility": null,
            "width": null
          }
        },
        "a7bce770f68940beaf4be91606338044": {
          "model_module": "@jupyter-widgets/controls",
          "model_name": "ProgressStyleModel",
          "model_module_version": "1.5.0",
          "state": {
            "_model_module": "@jupyter-widgets/controls",
            "_model_module_version": "1.5.0",
            "_model_name": "ProgressStyleModel",
            "_view_count": null,
            "_view_module": "@jupyter-widgets/base",
            "_view_module_version": "1.2.0",
            "_view_name": "StyleView",
            "bar_color": null,
            "description_width": ""
          }
        },
        "800dbe1a56834a6682c3686ad038da70": {
          "model_module": "@jupyter-widgets/base",
          "model_name": "LayoutModel",
          "model_module_version": "1.2.0",
          "state": {
            "_model_module": "@jupyter-widgets/base",
            "_model_module_version": "1.2.0",
            "_model_name": "LayoutModel",
            "_view_count": null,
            "_view_module": "@jupyter-widgets/base",
            "_view_module_version": "1.2.0",
            "_view_name": "LayoutView",
            "align_content": null,
            "align_items": null,
            "align_self": null,
            "border": null,
            "bottom": null,
            "display": null,
            "flex": null,
            "flex_flow": null,
            "grid_area": null,
            "grid_auto_columns": null,
            "grid_auto_flow": null,
            "grid_auto_rows": null,
            "grid_column": null,
            "grid_gap": null,
            "grid_row": null,
            "grid_template_areas": null,
            "grid_template_columns": null,
            "grid_template_rows": null,
            "height": null,
            "justify_content": null,
            "justify_items": null,
            "left": null,
            "margin": null,
            "max_height": null,
            "max_width": null,
            "min_height": null,
            "min_width": null,
            "object_fit": null,
            "object_position": null,
            "order": null,
            "overflow": null,
            "overflow_x": null,
            "overflow_y": null,
            "padding": null,
            "right": null,
            "top": null,
            "visibility": null,
            "width": null
          }
        },
        "5a7e3a8d67744d6697a22996f88229a2": {
          "model_module": "@jupyter-widgets/controls",
          "model_name": "DescriptionStyleModel",
          "model_module_version": "1.5.0",
          "state": {
            "_model_module": "@jupyter-widgets/controls",
            "_model_module_version": "1.5.0",
            "_model_name": "DescriptionStyleModel",
            "_view_count": null,
            "_view_module": "@jupyter-widgets/base",
            "_view_module_version": "1.2.0",
            "_view_name": "StyleView",
            "description_width": ""
          }
        },
        "c438f637583842eb8f09e0ffdb2e4c21": {
          "model_module": "@jupyter-widgets/controls",
          "model_name": "HBoxModel",
          "model_module_version": "1.5.0",
          "state": {
            "_dom_classes": [],
            "_model_module": "@jupyter-widgets/controls",
            "_model_module_version": "1.5.0",
            "_model_name": "HBoxModel",
            "_view_count": null,
            "_view_module": "@jupyter-widgets/controls",
            "_view_module_version": "1.5.0",
            "_view_name": "HBoxView",
            "box_style": "",
            "children": [
              "IPY_MODEL_f3596875d748422aada4754bd4f03867",
              "IPY_MODEL_6be165a4b4e241c8a59b0e52cec1bb20",
              "IPY_MODEL_ad05bbda560c4630a74cba125d00eb3a"
            ],
            "layout": "IPY_MODEL_71e961b395bc4d96b0acb7568ce65a0a"
          }
        },
        "f3596875d748422aada4754bd4f03867": {
          "model_module": "@jupyter-widgets/controls",
          "model_name": "HTMLModel",
          "model_module_version": "1.5.0",
          "state": {
            "_dom_classes": [],
            "_model_module": "@jupyter-widgets/controls",
            "_model_module_version": "1.5.0",
            "_model_name": "HTMLModel",
            "_view_count": null,
            "_view_module": "@jupyter-widgets/controls",
            "_view_module_version": "1.5.0",
            "_view_name": "HTMLView",
            "description": "",
            "description_tooltip": null,
            "layout": "IPY_MODEL_f55464306aa14e16a77c6b357ea5a6d4",
            "placeholder": "​",
            "style": "IPY_MODEL_6a6af0dc27a245a9be9119063d26ba8f",
            "value": "Downloading pytorch_model.bin: 100%"
          }
        },
        "6be165a4b4e241c8a59b0e52cec1bb20": {
          "model_module": "@jupyter-widgets/controls",
          "model_name": "FloatProgressModel",
          "model_module_version": "1.5.0",
          "state": {
            "_dom_classes": [],
            "_model_module": "@jupyter-widgets/controls",
            "_model_module_version": "1.5.0",
            "_model_name": "FloatProgressModel",
            "_view_count": null,
            "_view_module": "@jupyter-widgets/controls",
            "_view_module_version": "1.5.0",
            "_view_name": "ProgressView",
            "bar_style": "success",
            "description": "",
            "description_tooltip": null,
            "layout": "IPY_MODEL_01c5f0c9d4fd4ad394818ec6a633b59d",
            "max": 438018293,
            "min": 0,
            "orientation": "horizontal",
            "style": "IPY_MODEL_96b14dc9056840c9b7b1fd32fae42775",
            "value": 438018293
          }
        },
        "ad05bbda560c4630a74cba125d00eb3a": {
          "model_module": "@jupyter-widgets/controls",
          "model_name": "HTMLModel",
          "model_module_version": "1.5.0",
          "state": {
            "_dom_classes": [],
            "_model_module": "@jupyter-widgets/controls",
            "_model_module_version": "1.5.0",
            "_model_name": "HTMLModel",
            "_view_count": null,
            "_view_module": "@jupyter-widgets/controls",
            "_view_module_version": "1.5.0",
            "_view_name": "HTMLView",
            "description": "",
            "description_tooltip": null,
            "layout": "IPY_MODEL_2738b968b7b246cc8a72255d6c657680",
            "placeholder": "​",
            "style": "IPY_MODEL_2faae81f04aa48e0bf3c59803df0c2e3",
            "value": " 438M/438M [00:04&lt;00:00, 78.7MB/s]"
          }
        },
        "71e961b395bc4d96b0acb7568ce65a0a": {
          "model_module": "@jupyter-widgets/base",
          "model_name": "LayoutModel",
          "model_module_version": "1.2.0",
          "state": {
            "_model_module": "@jupyter-widgets/base",
            "_model_module_version": "1.2.0",
            "_model_name": "LayoutModel",
            "_view_count": null,
            "_view_module": "@jupyter-widgets/base",
            "_view_module_version": "1.2.0",
            "_view_name": "LayoutView",
            "align_content": null,
            "align_items": null,
            "align_self": null,
            "border": null,
            "bottom": null,
            "display": null,
            "flex": null,
            "flex_flow": null,
            "grid_area": null,
            "grid_auto_columns": null,
            "grid_auto_flow": null,
            "grid_auto_rows": null,
            "grid_column": null,
            "grid_gap": null,
            "grid_row": null,
            "grid_template_areas": null,
            "grid_template_columns": null,
            "grid_template_rows": null,
            "height": null,
            "justify_content": null,
            "justify_items": null,
            "left": null,
            "margin": null,
            "max_height": null,
            "max_width": null,
            "min_height": null,
            "min_width": null,
            "object_fit": null,
            "object_position": null,
            "order": null,
            "overflow": null,
            "overflow_x": null,
            "overflow_y": null,
            "padding": null,
            "right": null,
            "top": null,
            "visibility": null,
            "width": null
          }
        },
        "f55464306aa14e16a77c6b357ea5a6d4": {
          "model_module": "@jupyter-widgets/base",
          "model_name": "LayoutModel",
          "model_module_version": "1.2.0",
          "state": {
            "_model_module": "@jupyter-widgets/base",
            "_model_module_version": "1.2.0",
            "_model_name": "LayoutModel",
            "_view_count": null,
            "_view_module": "@jupyter-widgets/base",
            "_view_module_version": "1.2.0",
            "_view_name": "LayoutView",
            "align_content": null,
            "align_items": null,
            "align_self": null,
            "border": null,
            "bottom": null,
            "display": null,
            "flex": null,
            "flex_flow": null,
            "grid_area": null,
            "grid_auto_columns": null,
            "grid_auto_flow": null,
            "grid_auto_rows": null,
            "grid_column": null,
            "grid_gap": null,
            "grid_row": null,
            "grid_template_areas": null,
            "grid_template_columns": null,
            "grid_template_rows": null,
            "height": null,
            "justify_content": null,
            "justify_items": null,
            "left": null,
            "margin": null,
            "max_height": null,
            "max_width": null,
            "min_height": null,
            "min_width": null,
            "object_fit": null,
            "object_position": null,
            "order": null,
            "overflow": null,
            "overflow_x": null,
            "overflow_y": null,
            "padding": null,
            "right": null,
            "top": null,
            "visibility": null,
            "width": null
          }
        },
        "6a6af0dc27a245a9be9119063d26ba8f": {
          "model_module": "@jupyter-widgets/controls",
          "model_name": "DescriptionStyleModel",
          "model_module_version": "1.5.0",
          "state": {
            "_model_module": "@jupyter-widgets/controls",
            "_model_module_version": "1.5.0",
            "_model_name": "DescriptionStyleModel",
            "_view_count": null,
            "_view_module": "@jupyter-widgets/base",
            "_view_module_version": "1.2.0",
            "_view_name": "StyleView",
            "description_width": ""
          }
        },
        "01c5f0c9d4fd4ad394818ec6a633b59d": {
          "model_module": "@jupyter-widgets/base",
          "model_name": "LayoutModel",
          "model_module_version": "1.2.0",
          "state": {
            "_model_module": "@jupyter-widgets/base",
            "_model_module_version": "1.2.0",
            "_model_name": "LayoutModel",
            "_view_count": null,
            "_view_module": "@jupyter-widgets/base",
            "_view_module_version": "1.2.0",
            "_view_name": "LayoutView",
            "align_content": null,
            "align_items": null,
            "align_self": null,
            "border": null,
            "bottom": null,
            "display": null,
            "flex": null,
            "flex_flow": null,
            "grid_area": null,
            "grid_auto_columns": null,
            "grid_auto_flow": null,
            "grid_auto_rows": null,
            "grid_column": null,
            "grid_gap": null,
            "grid_row": null,
            "grid_template_areas": null,
            "grid_template_columns": null,
            "grid_template_rows": null,
            "height": null,
            "justify_content": null,
            "justify_items": null,
            "left": null,
            "margin": null,
            "max_height": null,
            "max_width": null,
            "min_height": null,
            "min_width": null,
            "object_fit": null,
            "object_position": null,
            "order": null,
            "overflow": null,
            "overflow_x": null,
            "overflow_y": null,
            "padding": null,
            "right": null,
            "top": null,
            "visibility": null,
            "width": null
          }
        },
        "96b14dc9056840c9b7b1fd32fae42775": {
          "model_module": "@jupyter-widgets/controls",
          "model_name": "ProgressStyleModel",
          "model_module_version": "1.5.0",
          "state": {
            "_model_module": "@jupyter-widgets/controls",
            "_model_module_version": "1.5.0",
            "_model_name": "ProgressStyleModel",
            "_view_count": null,
            "_view_module": "@jupyter-widgets/base",
            "_view_module_version": "1.2.0",
            "_view_name": "StyleView",
            "bar_color": null,
            "description_width": ""
          }
        },
        "2738b968b7b246cc8a72255d6c657680": {
          "model_module": "@jupyter-widgets/base",
          "model_name": "LayoutModel",
          "model_module_version": "1.2.0",
          "state": {
            "_model_module": "@jupyter-widgets/base",
            "_model_module_version": "1.2.0",
            "_model_name": "LayoutModel",
            "_view_count": null,
            "_view_module": "@jupyter-widgets/base",
            "_view_module_version": "1.2.0",
            "_view_name": "LayoutView",
            "align_content": null,
            "align_items": null,
            "align_self": null,
            "border": null,
            "bottom": null,
            "display": null,
            "flex": null,
            "flex_flow": null,
            "grid_area": null,
            "grid_auto_columns": null,
            "grid_auto_flow": null,
            "grid_auto_rows": null,
            "grid_column": null,
            "grid_gap": null,
            "grid_row": null,
            "grid_template_areas": null,
            "grid_template_columns": null,
            "grid_template_rows": null,
            "height": null,
            "justify_content": null,
            "justify_items": null,
            "left": null,
            "margin": null,
            "max_height": null,
            "max_width": null,
            "min_height": null,
            "min_width": null,
            "object_fit": null,
            "object_position": null,
            "order": null,
            "overflow": null,
            "overflow_x": null,
            "overflow_y": null,
            "padding": null,
            "right": null,
            "top": null,
            "visibility": null,
            "width": null
          }
        },
        "2faae81f04aa48e0bf3c59803df0c2e3": {
          "model_module": "@jupyter-widgets/controls",
          "model_name": "DescriptionStyleModel",
          "model_module_version": "1.5.0",
          "state": {
            "_model_module": "@jupyter-widgets/controls",
            "_model_module_version": "1.5.0",
            "_model_name": "DescriptionStyleModel",
            "_view_count": null,
            "_view_module": "@jupyter-widgets/base",
            "_view_module_version": "1.2.0",
            "_view_name": "StyleView",
            "description_width": ""
          }
        },
        "b944acbe012345269c369deff0397dfa": {
          "model_module": "@jupyter-widgets/controls",
          "model_name": "HBoxModel",
          "model_module_version": "1.5.0",
          "state": {
            "_dom_classes": [],
            "_model_module": "@jupyter-widgets/controls",
            "_model_module_version": "1.5.0",
            "_model_name": "HBoxModel",
            "_view_count": null,
            "_view_module": "@jupyter-widgets/controls",
            "_view_module_version": "1.5.0",
            "_view_name": "HBoxView",
            "box_style": "",
            "children": [
              "IPY_MODEL_2f0ead8ed1d642e9981d6839727b2881",
              "IPY_MODEL_d6cbf77d1d19458ca204abb447180dce",
              "IPY_MODEL_4318ba5e2dc5479099a14253b203115d"
            ],
            "layout": "IPY_MODEL_ae34b73884be4061bc7f5cb67c94c3f3"
          }
        },
        "2f0ead8ed1d642e9981d6839727b2881": {
          "model_module": "@jupyter-widgets/controls",
          "model_name": "HTMLModel",
          "model_module_version": "1.5.0",
          "state": {
            "_dom_classes": [],
            "_model_module": "@jupyter-widgets/controls",
            "_model_module_version": "1.5.0",
            "_model_name": "HTMLModel",
            "_view_count": null,
            "_view_module": "@jupyter-widgets/controls",
            "_view_module_version": "1.5.0",
            "_view_name": "HTMLView",
            "description": "",
            "description_tooltip": null,
            "layout": "IPY_MODEL_5f727e54d5064297bef5ae7ed4dda6a4",
            "placeholder": "​",
            "style": "IPY_MODEL_59ff83976a9a4787bd293da566de9e30",
            "value": "Downloading (…)okenizer_config.json: 100%"
          }
        },
        "d6cbf77d1d19458ca204abb447180dce": {
          "model_module": "@jupyter-widgets/controls",
          "model_name": "FloatProgressModel",
          "model_module_version": "1.5.0",
          "state": {
            "_dom_classes": [],
            "_model_module": "@jupyter-widgets/controls",
            "_model_module_version": "1.5.0",
            "_model_name": "FloatProgressModel",
            "_view_count": null,
            "_view_module": "@jupyter-widgets/controls",
            "_view_module_version": "1.5.0",
            "_view_name": "ProgressView",
            "bar_style": "success",
            "description": "",
            "description_tooltip": null,
            "layout": "IPY_MODEL_0768d852d3fc4fc1a99c6795216dffce",
            "max": 28,
            "min": 0,
            "orientation": "horizontal",
            "style": "IPY_MODEL_31d2dee41e90408ab2dbf89a88f53869",
            "value": 28
          }
        },
        "4318ba5e2dc5479099a14253b203115d": {
          "model_module": "@jupyter-widgets/controls",
          "model_name": "HTMLModel",
          "model_module_version": "1.5.0",
          "state": {
            "_dom_classes": [],
            "_model_module": "@jupyter-widgets/controls",
            "_model_module_version": "1.5.0",
            "_model_name": "HTMLModel",
            "_view_count": null,
            "_view_module": "@jupyter-widgets/controls",
            "_view_module_version": "1.5.0",
            "_view_name": "HTMLView",
            "description": "",
            "description_tooltip": null,
            "layout": "IPY_MODEL_8890af115aad4c099497ed3ed36cb0a7",
            "placeholder": "​",
            "style": "IPY_MODEL_5acaad77d08b487da1d1bec33386d904",
            "value": " 28.0/28.0 [00:00&lt;00:00, 216B/s]"
          }
        },
        "ae34b73884be4061bc7f5cb67c94c3f3": {
          "model_module": "@jupyter-widgets/base",
          "model_name": "LayoutModel",
          "model_module_version": "1.2.0",
          "state": {
            "_model_module": "@jupyter-widgets/base",
            "_model_module_version": "1.2.0",
            "_model_name": "LayoutModel",
            "_view_count": null,
            "_view_module": "@jupyter-widgets/base",
            "_view_module_version": "1.2.0",
            "_view_name": "LayoutView",
            "align_content": null,
            "align_items": null,
            "align_self": null,
            "border": null,
            "bottom": null,
            "display": null,
            "flex": null,
            "flex_flow": null,
            "grid_area": null,
            "grid_auto_columns": null,
            "grid_auto_flow": null,
            "grid_auto_rows": null,
            "grid_column": null,
            "grid_gap": null,
            "grid_row": null,
            "grid_template_areas": null,
            "grid_template_columns": null,
            "grid_template_rows": null,
            "height": null,
            "justify_content": null,
            "justify_items": null,
            "left": null,
            "margin": null,
            "max_height": null,
            "max_width": null,
            "min_height": null,
            "min_width": null,
            "object_fit": null,
            "object_position": null,
            "order": null,
            "overflow": null,
            "overflow_x": null,
            "overflow_y": null,
            "padding": null,
            "right": null,
            "top": null,
            "visibility": null,
            "width": null
          }
        },
        "5f727e54d5064297bef5ae7ed4dda6a4": {
          "model_module": "@jupyter-widgets/base",
          "model_name": "LayoutModel",
          "model_module_version": "1.2.0",
          "state": {
            "_model_module": "@jupyter-widgets/base",
            "_model_module_version": "1.2.0",
            "_model_name": "LayoutModel",
            "_view_count": null,
            "_view_module": "@jupyter-widgets/base",
            "_view_module_version": "1.2.0",
            "_view_name": "LayoutView",
            "align_content": null,
            "align_items": null,
            "align_self": null,
            "border": null,
            "bottom": null,
            "display": null,
            "flex": null,
            "flex_flow": null,
            "grid_area": null,
            "grid_auto_columns": null,
            "grid_auto_flow": null,
            "grid_auto_rows": null,
            "grid_column": null,
            "grid_gap": null,
            "grid_row": null,
            "grid_template_areas": null,
            "grid_template_columns": null,
            "grid_template_rows": null,
            "height": null,
            "justify_content": null,
            "justify_items": null,
            "left": null,
            "margin": null,
            "max_height": null,
            "max_width": null,
            "min_height": null,
            "min_width": null,
            "object_fit": null,
            "object_position": null,
            "order": null,
            "overflow": null,
            "overflow_x": null,
            "overflow_y": null,
            "padding": null,
            "right": null,
            "top": null,
            "visibility": null,
            "width": null
          }
        },
        "59ff83976a9a4787bd293da566de9e30": {
          "model_module": "@jupyter-widgets/controls",
          "model_name": "DescriptionStyleModel",
          "model_module_version": "1.5.0",
          "state": {
            "_model_module": "@jupyter-widgets/controls",
            "_model_module_version": "1.5.0",
            "_model_name": "DescriptionStyleModel",
            "_view_count": null,
            "_view_module": "@jupyter-widgets/base",
            "_view_module_version": "1.2.0",
            "_view_name": "StyleView",
            "description_width": ""
          }
        },
        "0768d852d3fc4fc1a99c6795216dffce": {
          "model_module": "@jupyter-widgets/base",
          "model_name": "LayoutModel",
          "model_module_version": "1.2.0",
          "state": {
            "_model_module": "@jupyter-widgets/base",
            "_model_module_version": "1.2.0",
            "_model_name": "LayoutModel",
            "_view_count": null,
            "_view_module": "@jupyter-widgets/base",
            "_view_module_version": "1.2.0",
            "_view_name": "LayoutView",
            "align_content": null,
            "align_items": null,
            "align_self": null,
            "border": null,
            "bottom": null,
            "display": null,
            "flex": null,
            "flex_flow": null,
            "grid_area": null,
            "grid_auto_columns": null,
            "grid_auto_flow": null,
            "grid_auto_rows": null,
            "grid_column": null,
            "grid_gap": null,
            "grid_row": null,
            "grid_template_areas": null,
            "grid_template_columns": null,
            "grid_template_rows": null,
            "height": null,
            "justify_content": null,
            "justify_items": null,
            "left": null,
            "margin": null,
            "max_height": null,
            "max_width": null,
            "min_height": null,
            "min_width": null,
            "object_fit": null,
            "object_position": null,
            "order": null,
            "overflow": null,
            "overflow_x": null,
            "overflow_y": null,
            "padding": null,
            "right": null,
            "top": null,
            "visibility": null,
            "width": null
          }
        },
        "31d2dee41e90408ab2dbf89a88f53869": {
          "model_module": "@jupyter-widgets/controls",
          "model_name": "ProgressStyleModel",
          "model_module_version": "1.5.0",
          "state": {
            "_model_module": "@jupyter-widgets/controls",
            "_model_module_version": "1.5.0",
            "_model_name": "ProgressStyleModel",
            "_view_count": null,
            "_view_module": "@jupyter-widgets/base",
            "_view_module_version": "1.2.0",
            "_view_name": "StyleView",
            "bar_color": null,
            "description_width": ""
          }
        },
        "8890af115aad4c099497ed3ed36cb0a7": {
          "model_module": "@jupyter-widgets/base",
          "model_name": "LayoutModel",
          "model_module_version": "1.2.0",
          "state": {
            "_model_module": "@jupyter-widgets/base",
            "_model_module_version": "1.2.0",
            "_model_name": "LayoutModel",
            "_view_count": null,
            "_view_module": "@jupyter-widgets/base",
            "_view_module_version": "1.2.0",
            "_view_name": "LayoutView",
            "align_content": null,
            "align_items": null,
            "align_self": null,
            "border": null,
            "bottom": null,
            "display": null,
            "flex": null,
            "flex_flow": null,
            "grid_area": null,
            "grid_auto_columns": null,
            "grid_auto_flow": null,
            "grid_auto_rows": null,
            "grid_column": null,
            "grid_gap": null,
            "grid_row": null,
            "grid_template_areas": null,
            "grid_template_columns": null,
            "grid_template_rows": null,
            "height": null,
            "justify_content": null,
            "justify_items": null,
            "left": null,
            "margin": null,
            "max_height": null,
            "max_width": null,
            "min_height": null,
            "min_width": null,
            "object_fit": null,
            "object_position": null,
            "order": null,
            "overflow": null,
            "overflow_x": null,
            "overflow_y": null,
            "padding": null,
            "right": null,
            "top": null,
            "visibility": null,
            "width": null
          }
        },
        "5acaad77d08b487da1d1bec33386d904": {
          "model_module": "@jupyter-widgets/controls",
          "model_name": "DescriptionStyleModel",
          "model_module_version": "1.5.0",
          "state": {
            "_model_module": "@jupyter-widgets/controls",
            "_model_module_version": "1.5.0",
            "_model_name": "DescriptionStyleModel",
            "_view_count": null,
            "_view_module": "@jupyter-widgets/base",
            "_view_module_version": "1.2.0",
            "_view_name": "StyleView",
            "description_width": ""
          }
        },
        "49657db8595f4affbe3b35e386be46c1": {
          "model_module": "@jupyter-widgets/controls",
          "model_name": "HBoxModel",
          "model_module_version": "1.5.0",
          "state": {
            "_dom_classes": [],
            "_model_module": "@jupyter-widgets/controls",
            "_model_module_version": "1.5.0",
            "_model_name": "HBoxModel",
            "_view_count": null,
            "_view_module": "@jupyter-widgets/controls",
            "_view_module_version": "1.5.0",
            "_view_name": "HBoxView",
            "box_style": "",
            "children": [
              "IPY_MODEL_1dd09df5e69144599811b082c140dcdb",
              "IPY_MODEL_7abce4491b544f41a1ed771d7b48282a",
              "IPY_MODEL_9e9b2a50918a4ed7bf8ae9a5ab81bccb"
            ],
            "layout": "IPY_MODEL_44f9647e3c904beaaf846f349e0476f3"
          }
        },
        "1dd09df5e69144599811b082c140dcdb": {
          "model_module": "@jupyter-widgets/controls",
          "model_name": "HTMLModel",
          "model_module_version": "1.5.0",
          "state": {
            "_dom_classes": [],
            "_model_module": "@jupyter-widgets/controls",
            "_model_module_version": "1.5.0",
            "_model_name": "HTMLModel",
            "_view_count": null,
            "_view_module": "@jupyter-widgets/controls",
            "_view_module_version": "1.5.0",
            "_view_name": "HTMLView",
            "description": "",
            "description_tooltip": null,
            "layout": "IPY_MODEL_1c2aedb50a8a49f4be366c172b613d22",
            "placeholder": "​",
            "style": "IPY_MODEL_6bb139926b49400b84835028a71c1b2a",
            "value": "Downloading (…)solve/main/vocab.txt: 100%"
          }
        },
        "7abce4491b544f41a1ed771d7b48282a": {
          "model_module": "@jupyter-widgets/controls",
          "model_name": "FloatProgressModel",
          "model_module_version": "1.5.0",
          "state": {
            "_dom_classes": [],
            "_model_module": "@jupyter-widgets/controls",
            "_model_module_version": "1.5.0",
            "_model_name": "FloatProgressModel",
            "_view_count": null,
            "_view_module": "@jupyter-widgets/controls",
            "_view_module_version": "1.5.0",
            "_view_name": "ProgressView",
            "bar_style": "success",
            "description": "",
            "description_tooltip": null,
            "layout": "IPY_MODEL_0489eaec6ab24d9992d78ccf73156e82",
            "max": 231508,
            "min": 0,
            "orientation": "horizontal",
            "style": "IPY_MODEL_974c389cafbc4bb5a7abefef857f78b9",
            "value": 231508
          }
        },
        "9e9b2a50918a4ed7bf8ae9a5ab81bccb": {
          "model_module": "@jupyter-widgets/controls",
          "model_name": "HTMLModel",
          "model_module_version": "1.5.0",
          "state": {
            "_dom_classes": [],
            "_model_module": "@jupyter-widgets/controls",
            "_model_module_version": "1.5.0",
            "_model_name": "HTMLModel",
            "_view_count": null,
            "_view_module": "@jupyter-widgets/controls",
            "_view_module_version": "1.5.0",
            "_view_name": "HTMLView",
            "description": "",
            "description_tooltip": null,
            "layout": "IPY_MODEL_92d63d7bb4844dc2bb3aa4cb7205ec0a",
            "placeholder": "​",
            "style": "IPY_MODEL_41c1624426e64e6fbde02aaddb43cdce",
            "value": " 232k/232k [00:00&lt;00:00, 2.79MB/s]"
          }
        },
        "44f9647e3c904beaaf846f349e0476f3": {
          "model_module": "@jupyter-widgets/base",
          "model_name": "LayoutModel",
          "model_module_version": "1.2.0",
          "state": {
            "_model_module": "@jupyter-widgets/base",
            "_model_module_version": "1.2.0",
            "_model_name": "LayoutModel",
            "_view_count": null,
            "_view_module": "@jupyter-widgets/base",
            "_view_module_version": "1.2.0",
            "_view_name": "LayoutView",
            "align_content": null,
            "align_items": null,
            "align_self": null,
            "border": null,
            "bottom": null,
            "display": null,
            "flex": null,
            "flex_flow": null,
            "grid_area": null,
            "grid_auto_columns": null,
            "grid_auto_flow": null,
            "grid_auto_rows": null,
            "grid_column": null,
            "grid_gap": null,
            "grid_row": null,
            "grid_template_areas": null,
            "grid_template_columns": null,
            "grid_template_rows": null,
            "height": null,
            "justify_content": null,
            "justify_items": null,
            "left": null,
            "margin": null,
            "max_height": null,
            "max_width": null,
            "min_height": null,
            "min_width": null,
            "object_fit": null,
            "object_position": null,
            "order": null,
            "overflow": null,
            "overflow_x": null,
            "overflow_y": null,
            "padding": null,
            "right": null,
            "top": null,
            "visibility": null,
            "width": null
          }
        },
        "1c2aedb50a8a49f4be366c172b613d22": {
          "model_module": "@jupyter-widgets/base",
          "model_name": "LayoutModel",
          "model_module_version": "1.2.0",
          "state": {
            "_model_module": "@jupyter-widgets/base",
            "_model_module_version": "1.2.0",
            "_model_name": "LayoutModel",
            "_view_count": null,
            "_view_module": "@jupyter-widgets/base",
            "_view_module_version": "1.2.0",
            "_view_name": "LayoutView",
            "align_content": null,
            "align_items": null,
            "align_self": null,
            "border": null,
            "bottom": null,
            "display": null,
            "flex": null,
            "flex_flow": null,
            "grid_area": null,
            "grid_auto_columns": null,
            "grid_auto_flow": null,
            "grid_auto_rows": null,
            "grid_column": null,
            "grid_gap": null,
            "grid_row": null,
            "grid_template_areas": null,
            "grid_template_columns": null,
            "grid_template_rows": null,
            "height": null,
            "justify_content": null,
            "justify_items": null,
            "left": null,
            "margin": null,
            "max_height": null,
            "max_width": null,
            "min_height": null,
            "min_width": null,
            "object_fit": null,
            "object_position": null,
            "order": null,
            "overflow": null,
            "overflow_x": null,
            "overflow_y": null,
            "padding": null,
            "right": null,
            "top": null,
            "visibility": null,
            "width": null
          }
        },
        "6bb139926b49400b84835028a71c1b2a": {
          "model_module": "@jupyter-widgets/controls",
          "model_name": "DescriptionStyleModel",
          "model_module_version": "1.5.0",
          "state": {
            "_model_module": "@jupyter-widgets/controls",
            "_model_module_version": "1.5.0",
            "_model_name": "DescriptionStyleModel",
            "_view_count": null,
            "_view_module": "@jupyter-widgets/base",
            "_view_module_version": "1.2.0",
            "_view_name": "StyleView",
            "description_width": ""
          }
        },
        "0489eaec6ab24d9992d78ccf73156e82": {
          "model_module": "@jupyter-widgets/base",
          "model_name": "LayoutModel",
          "model_module_version": "1.2.0",
          "state": {
            "_model_module": "@jupyter-widgets/base",
            "_model_module_version": "1.2.0",
            "_model_name": "LayoutModel",
            "_view_count": null,
            "_view_module": "@jupyter-widgets/base",
            "_view_module_version": "1.2.0",
            "_view_name": "LayoutView",
            "align_content": null,
            "align_items": null,
            "align_self": null,
            "border": null,
            "bottom": null,
            "display": null,
            "flex": null,
            "flex_flow": null,
            "grid_area": null,
            "grid_auto_columns": null,
            "grid_auto_flow": null,
            "grid_auto_rows": null,
            "grid_column": null,
            "grid_gap": null,
            "grid_row": null,
            "grid_template_areas": null,
            "grid_template_columns": null,
            "grid_template_rows": null,
            "height": null,
            "justify_content": null,
            "justify_items": null,
            "left": null,
            "margin": null,
            "max_height": null,
            "max_width": null,
            "min_height": null,
            "min_width": null,
            "object_fit": null,
            "object_position": null,
            "order": null,
            "overflow": null,
            "overflow_x": null,
            "overflow_y": null,
            "padding": null,
            "right": null,
            "top": null,
            "visibility": null,
            "width": null
          }
        },
        "974c389cafbc4bb5a7abefef857f78b9": {
          "model_module": "@jupyter-widgets/controls",
          "model_name": "ProgressStyleModel",
          "model_module_version": "1.5.0",
          "state": {
            "_model_module": "@jupyter-widgets/controls",
            "_model_module_version": "1.5.0",
            "_model_name": "ProgressStyleModel",
            "_view_count": null,
            "_view_module": "@jupyter-widgets/base",
            "_view_module_version": "1.2.0",
            "_view_name": "StyleView",
            "bar_color": null,
            "description_width": ""
          }
        },
        "92d63d7bb4844dc2bb3aa4cb7205ec0a": {
          "model_module": "@jupyter-widgets/base",
          "model_name": "LayoutModel",
          "model_module_version": "1.2.0",
          "state": {
            "_model_module": "@jupyter-widgets/base",
            "_model_module_version": "1.2.0",
            "_model_name": "LayoutModel",
            "_view_count": null,
            "_view_module": "@jupyter-widgets/base",
            "_view_module_version": "1.2.0",
            "_view_name": "LayoutView",
            "align_content": null,
            "align_items": null,
            "align_self": null,
            "border": null,
            "bottom": null,
            "display": null,
            "flex": null,
            "flex_flow": null,
            "grid_area": null,
            "grid_auto_columns": null,
            "grid_auto_flow": null,
            "grid_auto_rows": null,
            "grid_column": null,
            "grid_gap": null,
            "grid_row": null,
            "grid_template_areas": null,
            "grid_template_columns": null,
            "grid_template_rows": null,
            "height": null,
            "justify_content": null,
            "justify_items": null,
            "left": null,
            "margin": null,
            "max_height": null,
            "max_width": null,
            "min_height": null,
            "min_width": null,
            "object_fit": null,
            "object_position": null,
            "order": null,
            "overflow": null,
            "overflow_x": null,
            "overflow_y": null,
            "padding": null,
            "right": null,
            "top": null,
            "visibility": null,
            "width": null
          }
        },
        "41c1624426e64e6fbde02aaddb43cdce": {
          "model_module": "@jupyter-widgets/controls",
          "model_name": "DescriptionStyleModel",
          "model_module_version": "1.5.0",
          "state": {
            "_model_module": "@jupyter-widgets/controls",
            "_model_module_version": "1.5.0",
            "_model_name": "DescriptionStyleModel",
            "_view_count": null,
            "_view_module": "@jupyter-widgets/base",
            "_view_module_version": "1.2.0",
            "_view_name": "StyleView",
            "description_width": ""
          }
        },
        "0306a2c1843b4183bfda5ea033d95a14": {
          "model_module": "@jupyter-widgets/controls",
          "model_name": "HBoxModel",
          "model_module_version": "1.5.0",
          "state": {
            "_dom_classes": [],
            "_model_module": "@jupyter-widgets/controls",
            "_model_module_version": "1.5.0",
            "_model_name": "HBoxModel",
            "_view_count": null,
            "_view_module": "@jupyter-widgets/controls",
            "_view_module_version": "1.5.0",
            "_view_name": "HBoxView",
            "box_style": "",
            "children": [
              "IPY_MODEL_7cf7a6262cf04e569f74ce0baa018a37",
              "IPY_MODEL_1e74309c900e4c9c809864d7a0c1ad29",
              "IPY_MODEL_689b47e476684e2eb6217e999eff901f"
            ],
            "layout": "IPY_MODEL_a108afb1b6fc40e1b4998ce7504d4be8"
          }
        },
        "7cf7a6262cf04e569f74ce0baa018a37": {
          "model_module": "@jupyter-widgets/controls",
          "model_name": "HTMLModel",
          "model_module_version": "1.5.0",
          "state": {
            "_dom_classes": [],
            "_model_module": "@jupyter-widgets/controls",
            "_model_module_version": "1.5.0",
            "_model_name": "HTMLModel",
            "_view_count": null,
            "_view_module": "@jupyter-widgets/controls",
            "_view_module_version": "1.5.0",
            "_view_name": "HTMLView",
            "description": "",
            "description_tooltip": null,
            "layout": "IPY_MODEL_9051c6cccb7449f7bb9d21aefebcf076",
            "placeholder": "​",
            "style": "IPY_MODEL_bdb7ae58f3c648a7a180bb40075d1fd2",
            "value": "Downloading (…)/main/tokenizer.json: 100%"
          }
        },
        "1e74309c900e4c9c809864d7a0c1ad29": {
          "model_module": "@jupyter-widgets/controls",
          "model_name": "FloatProgressModel",
          "model_module_version": "1.5.0",
          "state": {
            "_dom_classes": [],
            "_model_module": "@jupyter-widgets/controls",
            "_model_module_version": "1.5.0",
            "_model_name": "FloatProgressModel",
            "_view_count": null,
            "_view_module": "@jupyter-widgets/controls",
            "_view_module_version": "1.5.0",
            "_view_name": "ProgressView",
            "bar_style": "success",
            "description": "",
            "description_tooltip": null,
            "layout": "IPY_MODEL_46e49321e9d84e34813a9b4d6732facb",
            "max": 466062,
            "min": 0,
            "orientation": "horizontal",
            "style": "IPY_MODEL_c1a17f8e7867490cbbc7ed7d19745440",
            "value": 466062
          }
        },
        "689b47e476684e2eb6217e999eff901f": {
          "model_module": "@jupyter-widgets/controls",
          "model_name": "HTMLModel",
          "model_module_version": "1.5.0",
          "state": {
            "_dom_classes": [],
            "_model_module": "@jupyter-widgets/controls",
            "_model_module_version": "1.5.0",
            "_model_name": "HTMLModel",
            "_view_count": null,
            "_view_module": "@jupyter-widgets/controls",
            "_view_module_version": "1.5.0",
            "_view_name": "HTMLView",
            "description": "",
            "description_tooltip": null,
            "layout": "IPY_MODEL_422df79d16af4bbd85a83395910fc30f",
            "placeholder": "​",
            "style": "IPY_MODEL_56df00741ca04d028d0ab331fa51e730",
            "value": " 466k/466k [00:00&lt;00:00, 5.90MB/s]"
          }
        },
        "a108afb1b6fc40e1b4998ce7504d4be8": {
          "model_module": "@jupyter-widgets/base",
          "model_name": "LayoutModel",
          "model_module_version": "1.2.0",
          "state": {
            "_model_module": "@jupyter-widgets/base",
            "_model_module_version": "1.2.0",
            "_model_name": "LayoutModel",
            "_view_count": null,
            "_view_module": "@jupyter-widgets/base",
            "_view_module_version": "1.2.0",
            "_view_name": "LayoutView",
            "align_content": null,
            "align_items": null,
            "align_self": null,
            "border": null,
            "bottom": null,
            "display": null,
            "flex": null,
            "flex_flow": null,
            "grid_area": null,
            "grid_auto_columns": null,
            "grid_auto_flow": null,
            "grid_auto_rows": null,
            "grid_column": null,
            "grid_gap": null,
            "grid_row": null,
            "grid_template_areas": null,
            "grid_template_columns": null,
            "grid_template_rows": null,
            "height": null,
            "justify_content": null,
            "justify_items": null,
            "left": null,
            "margin": null,
            "max_height": null,
            "max_width": null,
            "min_height": null,
            "min_width": null,
            "object_fit": null,
            "object_position": null,
            "order": null,
            "overflow": null,
            "overflow_x": null,
            "overflow_y": null,
            "padding": null,
            "right": null,
            "top": null,
            "visibility": null,
            "width": null
          }
        },
        "9051c6cccb7449f7bb9d21aefebcf076": {
          "model_module": "@jupyter-widgets/base",
          "model_name": "LayoutModel",
          "model_module_version": "1.2.0",
          "state": {
            "_model_module": "@jupyter-widgets/base",
            "_model_module_version": "1.2.0",
            "_model_name": "LayoutModel",
            "_view_count": null,
            "_view_module": "@jupyter-widgets/base",
            "_view_module_version": "1.2.0",
            "_view_name": "LayoutView",
            "align_content": null,
            "align_items": null,
            "align_self": null,
            "border": null,
            "bottom": null,
            "display": null,
            "flex": null,
            "flex_flow": null,
            "grid_area": null,
            "grid_auto_columns": null,
            "grid_auto_flow": null,
            "grid_auto_rows": null,
            "grid_column": null,
            "grid_gap": null,
            "grid_row": null,
            "grid_template_areas": null,
            "grid_template_columns": null,
            "grid_template_rows": null,
            "height": null,
            "justify_content": null,
            "justify_items": null,
            "left": null,
            "margin": null,
            "max_height": null,
            "max_width": null,
            "min_height": null,
            "min_width": null,
            "object_fit": null,
            "object_position": null,
            "order": null,
            "overflow": null,
            "overflow_x": null,
            "overflow_y": null,
            "padding": null,
            "right": null,
            "top": null,
            "visibility": null,
            "width": null
          }
        },
        "bdb7ae58f3c648a7a180bb40075d1fd2": {
          "model_module": "@jupyter-widgets/controls",
          "model_name": "DescriptionStyleModel",
          "model_module_version": "1.5.0",
          "state": {
            "_model_module": "@jupyter-widgets/controls",
            "_model_module_version": "1.5.0",
            "_model_name": "DescriptionStyleModel",
            "_view_count": null,
            "_view_module": "@jupyter-widgets/base",
            "_view_module_version": "1.2.0",
            "_view_name": "StyleView",
            "description_width": ""
          }
        },
        "46e49321e9d84e34813a9b4d6732facb": {
          "model_module": "@jupyter-widgets/base",
          "model_name": "LayoutModel",
          "model_module_version": "1.2.0",
          "state": {
            "_model_module": "@jupyter-widgets/base",
            "_model_module_version": "1.2.0",
            "_model_name": "LayoutModel",
            "_view_count": null,
            "_view_module": "@jupyter-widgets/base",
            "_view_module_version": "1.2.0",
            "_view_name": "LayoutView",
            "align_content": null,
            "align_items": null,
            "align_self": null,
            "border": null,
            "bottom": null,
            "display": null,
            "flex": null,
            "flex_flow": null,
            "grid_area": null,
            "grid_auto_columns": null,
            "grid_auto_flow": null,
            "grid_auto_rows": null,
            "grid_column": null,
            "grid_gap": null,
            "grid_row": null,
            "grid_template_areas": null,
            "grid_template_columns": null,
            "grid_template_rows": null,
            "height": null,
            "justify_content": null,
            "justify_items": null,
            "left": null,
            "margin": null,
            "max_height": null,
            "max_width": null,
            "min_height": null,
            "min_width": null,
            "object_fit": null,
            "object_position": null,
            "order": null,
            "overflow": null,
            "overflow_x": null,
            "overflow_y": null,
            "padding": null,
            "right": null,
            "top": null,
            "visibility": null,
            "width": null
          }
        },
        "c1a17f8e7867490cbbc7ed7d19745440": {
          "model_module": "@jupyter-widgets/controls",
          "model_name": "ProgressStyleModel",
          "model_module_version": "1.5.0",
          "state": {
            "_model_module": "@jupyter-widgets/controls",
            "_model_module_version": "1.5.0",
            "_model_name": "ProgressStyleModel",
            "_view_count": null,
            "_view_module": "@jupyter-widgets/base",
            "_view_module_version": "1.2.0",
            "_view_name": "StyleView",
            "bar_color": null,
            "description_width": ""
          }
        },
        "422df79d16af4bbd85a83395910fc30f": {
          "model_module": "@jupyter-widgets/base",
          "model_name": "LayoutModel",
          "model_module_version": "1.2.0",
          "state": {
            "_model_module": "@jupyter-widgets/base",
            "_model_module_version": "1.2.0",
            "_model_name": "LayoutModel",
            "_view_count": null,
            "_view_module": "@jupyter-widgets/base",
            "_view_module_version": "1.2.0",
            "_view_name": "LayoutView",
            "align_content": null,
            "align_items": null,
            "align_self": null,
            "border": null,
            "bottom": null,
            "display": null,
            "flex": null,
            "flex_flow": null,
            "grid_area": null,
            "grid_auto_columns": null,
            "grid_auto_flow": null,
            "grid_auto_rows": null,
            "grid_column": null,
            "grid_gap": null,
            "grid_row": null,
            "grid_template_areas": null,
            "grid_template_columns": null,
            "grid_template_rows": null,
            "height": null,
            "justify_content": null,
            "justify_items": null,
            "left": null,
            "margin": null,
            "max_height": null,
            "max_width": null,
            "min_height": null,
            "min_width": null,
            "object_fit": null,
            "object_position": null,
            "order": null,
            "overflow": null,
            "overflow_x": null,
            "overflow_y": null,
            "padding": null,
            "right": null,
            "top": null,
            "visibility": null,
            "width": null
          }
        },
        "56df00741ca04d028d0ab331fa51e730": {
          "model_module": "@jupyter-widgets/controls",
          "model_name": "DescriptionStyleModel",
          "model_module_version": "1.5.0",
          "state": {
            "_model_module": "@jupyter-widgets/controls",
            "_model_module_version": "1.5.0",
            "_model_name": "DescriptionStyleModel",
            "_view_count": null,
            "_view_module": "@jupyter-widgets/base",
            "_view_module_version": "1.2.0",
            "_view_name": "StyleView",
            "description_width": ""
          }
        },
        "fafc4ef28f734c8b8c224d24ec899483": {
          "model_module": "@jupyter-widgets/controls",
          "model_name": "HBoxModel",
          "model_module_version": "1.5.0",
          "state": {
            "_dom_classes": [],
            "_model_module": "@jupyter-widgets/controls",
            "_model_module_version": "1.5.0",
            "_model_name": "HBoxModel",
            "_view_count": null,
            "_view_module": "@jupyter-widgets/controls",
            "_view_module_version": "1.5.0",
            "_view_name": "HBoxView",
            "box_style": "",
            "children": [
              "IPY_MODEL_6098da53fd7a4e5fbe20ed9b8d0e5a06",
              "IPY_MODEL_df6eb0d5f6d245d6bb65220538cf75a9",
              "IPY_MODEL_cb006a4fa8764cd1abd8a07cc66c817d"
            ],
            "layout": "IPY_MODEL_d888459ea47b4475ae443a32d73cd544"
          }
        },
        "6098da53fd7a4e5fbe20ed9b8d0e5a06": {
          "model_module": "@jupyter-widgets/controls",
          "model_name": "HTMLModel",
          "model_module_version": "1.5.0",
          "state": {
            "_dom_classes": [],
            "_model_module": "@jupyter-widgets/controls",
            "_model_module_version": "1.5.0",
            "_model_name": "HTMLModel",
            "_view_count": null,
            "_view_module": "@jupyter-widgets/controls",
            "_view_module_version": "1.5.0",
            "_view_name": "HTMLView",
            "description": "",
            "description_tooltip": null,
            "layout": "IPY_MODEL_f3f414844c0545edb6bf236506e6ee27",
            "placeholder": "​",
            "style": "IPY_MODEL_f644af1eeab847c292e737dd98856475",
            "value": "100%"
          }
        },
        "df6eb0d5f6d245d6bb65220538cf75a9": {
          "model_module": "@jupyter-widgets/controls",
          "model_name": "FloatProgressModel",
          "model_module_version": "1.5.0",
          "state": {
            "_dom_classes": [],
            "_model_module": "@jupyter-widgets/controls",
            "_model_module_version": "1.5.0",
            "_model_name": "FloatProgressModel",
            "_view_count": null,
            "_view_module": "@jupyter-widgets/controls",
            "_view_module_version": "1.5.0",
            "_view_name": "ProgressView",
            "bar_style": "success",
            "description": "",
            "description_tooltip": null,
            "layout": "IPY_MODEL_8e99d7b2764e4032bd77598db85d0f6e",
            "max": 1,
            "min": 0,
            "orientation": "horizontal",
            "style": "IPY_MODEL_c0ec8b28e72f4cbf84dd0f3d51908811",
            "value": 1
          }
        },
        "cb006a4fa8764cd1abd8a07cc66c817d": {
          "model_module": "@jupyter-widgets/controls",
          "model_name": "HTMLModel",
          "model_module_version": "1.5.0",
          "state": {
            "_dom_classes": [],
            "_model_module": "@jupyter-widgets/controls",
            "_model_module_version": "1.5.0",
            "_model_name": "HTMLModel",
            "_view_count": null,
            "_view_module": "@jupyter-widgets/controls",
            "_view_module_version": "1.5.0",
            "_view_name": "HTMLView",
            "description": "",
            "description_tooltip": null,
            "layout": "IPY_MODEL_93d5df27a03b4d0b967ac88071e30cd7",
            "placeholder": "​",
            "style": "IPY_MODEL_1e3910ecfb484b87ab61d9f7fdebceca",
            "value": " 1/1 [00:00&lt;00:00,  3.92it/s]"
          }
        },
        "d888459ea47b4475ae443a32d73cd544": {
          "model_module": "@jupyter-widgets/base",
          "model_name": "LayoutModel",
          "model_module_version": "1.2.0",
          "state": {
            "_model_module": "@jupyter-widgets/base",
            "_model_module_version": "1.2.0",
            "_model_name": "LayoutModel",
            "_view_count": null,
            "_view_module": "@jupyter-widgets/base",
            "_view_module_version": "1.2.0",
            "_view_name": "LayoutView",
            "align_content": null,
            "align_items": null,
            "align_self": null,
            "border": null,
            "bottom": null,
            "display": null,
            "flex": null,
            "flex_flow": null,
            "grid_area": null,
            "grid_auto_columns": null,
            "grid_auto_flow": null,
            "grid_auto_rows": null,
            "grid_column": null,
            "grid_gap": null,
            "grid_row": null,
            "grid_template_areas": null,
            "grid_template_columns": null,
            "grid_template_rows": null,
            "height": null,
            "justify_content": null,
            "justify_items": null,
            "left": null,
            "margin": null,
            "max_height": null,
            "max_width": null,
            "min_height": null,
            "min_width": null,
            "object_fit": null,
            "object_position": null,
            "order": null,
            "overflow": null,
            "overflow_x": null,
            "overflow_y": null,
            "padding": null,
            "right": null,
            "top": null,
            "visibility": null,
            "width": null
          }
        },
        "f3f414844c0545edb6bf236506e6ee27": {
          "model_module": "@jupyter-widgets/base",
          "model_name": "LayoutModel",
          "model_module_version": "1.2.0",
          "state": {
            "_model_module": "@jupyter-widgets/base",
            "_model_module_version": "1.2.0",
            "_model_name": "LayoutModel",
            "_view_count": null,
            "_view_module": "@jupyter-widgets/base",
            "_view_module_version": "1.2.0",
            "_view_name": "LayoutView",
            "align_content": null,
            "align_items": null,
            "align_self": null,
            "border": null,
            "bottom": null,
            "display": null,
            "flex": null,
            "flex_flow": null,
            "grid_area": null,
            "grid_auto_columns": null,
            "grid_auto_flow": null,
            "grid_auto_rows": null,
            "grid_column": null,
            "grid_gap": null,
            "grid_row": null,
            "grid_template_areas": null,
            "grid_template_columns": null,
            "grid_template_rows": null,
            "height": null,
            "justify_content": null,
            "justify_items": null,
            "left": null,
            "margin": null,
            "max_height": null,
            "max_width": null,
            "min_height": null,
            "min_width": null,
            "object_fit": null,
            "object_position": null,
            "order": null,
            "overflow": null,
            "overflow_x": null,
            "overflow_y": null,
            "padding": null,
            "right": null,
            "top": null,
            "visibility": null,
            "width": null
          }
        },
        "f644af1eeab847c292e737dd98856475": {
          "model_module": "@jupyter-widgets/controls",
          "model_name": "DescriptionStyleModel",
          "model_module_version": "1.5.0",
          "state": {
            "_model_module": "@jupyter-widgets/controls",
            "_model_module_version": "1.5.0",
            "_model_name": "DescriptionStyleModel",
            "_view_count": null,
            "_view_module": "@jupyter-widgets/base",
            "_view_module_version": "1.2.0",
            "_view_name": "StyleView",
            "description_width": ""
          }
        },
        "8e99d7b2764e4032bd77598db85d0f6e": {
          "model_module": "@jupyter-widgets/base",
          "model_name": "LayoutModel",
          "model_module_version": "1.2.0",
          "state": {
            "_model_module": "@jupyter-widgets/base",
            "_model_module_version": "1.2.0",
            "_model_name": "LayoutModel",
            "_view_count": null,
            "_view_module": "@jupyter-widgets/base",
            "_view_module_version": "1.2.0",
            "_view_name": "LayoutView",
            "align_content": null,
            "align_items": null,
            "align_self": null,
            "border": null,
            "bottom": null,
            "display": null,
            "flex": null,
            "flex_flow": null,
            "grid_area": null,
            "grid_auto_columns": null,
            "grid_auto_flow": null,
            "grid_auto_rows": null,
            "grid_column": null,
            "grid_gap": null,
            "grid_row": null,
            "grid_template_areas": null,
            "grid_template_columns": null,
            "grid_template_rows": null,
            "height": null,
            "justify_content": null,
            "justify_items": null,
            "left": null,
            "margin": null,
            "max_height": null,
            "max_width": null,
            "min_height": null,
            "min_width": null,
            "object_fit": null,
            "object_position": null,
            "order": null,
            "overflow": null,
            "overflow_x": null,
            "overflow_y": null,
            "padding": null,
            "right": null,
            "top": null,
            "visibility": null,
            "width": null
          }
        },
        "c0ec8b28e72f4cbf84dd0f3d51908811": {
          "model_module": "@jupyter-widgets/controls",
          "model_name": "ProgressStyleModel",
          "model_module_version": "1.5.0",
          "state": {
            "_model_module": "@jupyter-widgets/controls",
            "_model_module_version": "1.5.0",
            "_model_name": "ProgressStyleModel",
            "_view_count": null,
            "_view_module": "@jupyter-widgets/base",
            "_view_module_version": "1.2.0",
            "_view_name": "StyleView",
            "bar_color": null,
            "description_width": ""
          }
        },
        "93d5df27a03b4d0b967ac88071e30cd7": {
          "model_module": "@jupyter-widgets/base",
          "model_name": "LayoutModel",
          "model_module_version": "1.2.0",
          "state": {
            "_model_module": "@jupyter-widgets/base",
            "_model_module_version": "1.2.0",
            "_model_name": "LayoutModel",
            "_view_count": null,
            "_view_module": "@jupyter-widgets/base",
            "_view_module_version": "1.2.0",
            "_view_name": "LayoutView",
            "align_content": null,
            "align_items": null,
            "align_self": null,
            "border": null,
            "bottom": null,
            "display": null,
            "flex": null,
            "flex_flow": null,
            "grid_area": null,
            "grid_auto_columns": null,
            "grid_auto_flow": null,
            "grid_auto_rows": null,
            "grid_column": null,
            "grid_gap": null,
            "grid_row": null,
            "grid_template_areas": null,
            "grid_template_columns": null,
            "grid_template_rows": null,
            "height": null,
            "justify_content": null,
            "justify_items": null,
            "left": null,
            "margin": null,
            "max_height": null,
            "max_width": null,
            "min_height": null,
            "min_width": null,
            "object_fit": null,
            "object_position": null,
            "order": null,
            "overflow": null,
            "overflow_x": null,
            "overflow_y": null,
            "padding": null,
            "right": null,
            "top": null,
            "visibility": null,
            "width": null
          }
        },
        "1e3910ecfb484b87ab61d9f7fdebceca": {
          "model_module": "@jupyter-widgets/controls",
          "model_name": "DescriptionStyleModel",
          "model_module_version": "1.5.0",
          "state": {
            "_model_module": "@jupyter-widgets/controls",
            "_model_module_version": "1.5.0",
            "_model_name": "DescriptionStyleModel",
            "_view_count": null,
            "_view_module": "@jupyter-widgets/base",
            "_view_module_version": "1.2.0",
            "_view_name": "StyleView",
            "description_width": ""
          }
        }
      }
    }
  },
  "cells": [
    {
      "cell_type": "markdown",
      "source": [
        "#ML Assignment Fine Tune a Model"
      ],
      "metadata": {
        "id": "4i5TPT2AZe4u"
      }
    },
    {
      "cell_type": "markdown",
      "source": [
        "# Installing Libraries and Dependencies"
      ],
      "metadata": {
        "id": "YrV_pBQze8fb"
      }
    },
    {
      "cell_type": "code",
      "source": [
        "!pip install transformers"
      ],
      "metadata": {
        "colab": {
          "base_uri": "https://localhost:8080/"
        },
        "id": "znXR8ulWHJc8",
        "outputId": "5d2962ef-fd1b-4936-f75a-0cba9063878c"
      },
      "execution_count": 1,
      "outputs": [
        {
          "output_type": "stream",
          "name": "stdout",
          "text": [
            "Looking in indexes: https://pypi.org/simple, https://us-python.pkg.dev/colab-wheels/public/simple/\n",
            "Collecting transformers\n",
            "  Downloading transformers-4.29.2-py3-none-any.whl (7.1 MB)\n",
            "\u001b[2K     \u001b[90m━━━━━━━━━━━━━━━━━━━━━━━━━━━━━━━━━━━━━━━━\u001b[0m \u001b[32m7.1/7.1 MB\u001b[0m \u001b[31m72.8 MB/s\u001b[0m eta \u001b[36m0:00:00\u001b[0m\n",
            "\u001b[?25hRequirement already satisfied: filelock in /usr/local/lib/python3.10/dist-packages (from transformers) (3.12.0)\n",
            "Collecting huggingface-hub<1.0,>=0.14.1 (from transformers)\n",
            "  Downloading huggingface_hub-0.15.1-py3-none-any.whl (236 kB)\n",
            "\u001b[2K     \u001b[90m━━━━━━━━━━━━━━━━━━━━━━━━━━━━━━━━━━━━━━\u001b[0m \u001b[32m236.8/236.8 kB\u001b[0m \u001b[31m25.8 MB/s\u001b[0m eta \u001b[36m0:00:00\u001b[0m\n",
            "\u001b[?25hRequirement already satisfied: numpy>=1.17 in /usr/local/lib/python3.10/dist-packages (from transformers) (1.22.4)\n",
            "Requirement already satisfied: packaging>=20.0 in /usr/local/lib/python3.10/dist-packages (from transformers) (23.1)\n",
            "Requirement already satisfied: pyyaml>=5.1 in /usr/local/lib/python3.10/dist-packages (from transformers) (6.0)\n",
            "Requirement already satisfied: regex!=2019.12.17 in /usr/local/lib/python3.10/dist-packages (from transformers) (2022.10.31)\n",
            "Requirement already satisfied: requests in /usr/local/lib/python3.10/dist-packages (from transformers) (2.27.1)\n",
            "Collecting tokenizers!=0.11.3,<0.14,>=0.11.1 (from transformers)\n",
            "  Downloading tokenizers-0.13.3-cp310-cp310-manylinux_2_17_x86_64.manylinux2014_x86_64.whl (7.8 MB)\n",
            "\u001b[2K     \u001b[90m━━━━━━━━━━━━━━━━━━━━━━━━━━━━━━━━━━━━━━━━\u001b[0m \u001b[32m7.8/7.8 MB\u001b[0m \u001b[31m67.9 MB/s\u001b[0m eta \u001b[36m0:00:00\u001b[0m\n",
            "\u001b[?25hRequirement already satisfied: tqdm>=4.27 in /usr/local/lib/python3.10/dist-packages (from transformers) (4.65.0)\n",
            "Requirement already satisfied: fsspec in /usr/local/lib/python3.10/dist-packages (from huggingface-hub<1.0,>=0.14.1->transformers) (2023.4.0)\n",
            "Requirement already satisfied: typing-extensions>=3.7.4.3 in /usr/local/lib/python3.10/dist-packages (from huggingface-hub<1.0,>=0.14.1->transformers) (4.5.0)\n",
            "Requirement already satisfied: urllib3<1.27,>=1.21.1 in /usr/local/lib/python3.10/dist-packages (from requests->transformers) (1.26.15)\n",
            "Requirement already satisfied: certifi>=2017.4.17 in /usr/local/lib/python3.10/dist-packages (from requests->transformers) (2022.12.7)\n",
            "Requirement already satisfied: charset-normalizer~=2.0.0 in /usr/local/lib/python3.10/dist-packages (from requests->transformers) (2.0.12)\n",
            "Requirement already satisfied: idna<4,>=2.5 in /usr/local/lib/python3.10/dist-packages (from requests->transformers) (3.4)\n",
            "Installing collected packages: tokenizers, huggingface-hub, transformers\n",
            "Successfully installed huggingface-hub-0.15.1 tokenizers-0.13.3 transformers-4.29.2\n"
          ]
        }
      ]
    },
    {
      "cell_type": "code",
      "source": [
        "!pip install sentencepiece"
      ],
      "metadata": {
        "id": "C05dbNGBoemg",
        "outputId": "492b396d-c95d-4c6f-b6ac-0eed55633f02",
        "colab": {
          "base_uri": "https://localhost:8080/"
        }
      },
      "execution_count": null,
      "outputs": [
        {
          "output_type": "stream",
          "name": "stdout",
          "text": [
            "Looking in indexes: https://pypi.org/simple, https://us-python.pkg.dev/colab-wheels/public/simple/\n",
            "Requirement already satisfied: sentencepiece in /usr/local/lib/python3.10/dist-packages (0.1.99)\n"
          ]
        }
      ]
    },
    {
      "cell_type": "code",
      "source": [
        "from transformers import T5Tokenizer,T5ForConditionalGeneration,Adafactor"
      ],
      "metadata": {
        "id": "I38M4y6Uo1-T"
      },
      "execution_count": null,
      "outputs": []
    },
    {
      "cell_type": "code",
      "source": [
        "t5_tokenizer = T5Tokenizer.from_pretrained(\"t5-base\")\n"
      ],
      "metadata": {
        "id": "HmfokWZ4ozIu",
        "colab": {
          "base_uri": "https://localhost:8080/",
          "height": 264,
          "referenced_widgets": [
            "686966734b174765ac594f00ecdfb776",
            "2815c502f6a04a709e398548b8c2c2b0",
            "d0332c0837824289ac614503833943d5",
            "18bae32a2ffa4987bbe735160a7c78e9",
            "977e96eefeb6461b89048c02ab127ebb",
            "2b29db5dd82745c7b00c0a40f001e0b8",
            "20d9221800b34024aa959118991a4ebe",
            "ab75cab0eeb84a64aa2b4c309a1d101f",
            "7c3b2b516cef49a4b483e01999e2c636",
            "223cf6f8c93d41c18cf548daf65ae4f8",
            "e101ac3b27294720a9f9848234cc2843",
            "ed03eefa930e42c48ab38a863fdc1df6",
            "ad66d65498fb4daaa58884935be5adf1",
            "b0dc65da5f8143b781896bfb68b422ed",
            "245caf2c2eb2444d8240d2afbdd94653",
            "991ed4f318604b60820370cc6b7c5329",
            "743795e49f574576ad2e05a9509861f1",
            "ff9e8212d2ba43b890b957717be7e3e9",
            "b0a8b6fe7fb049f0ab18d5ea8f45c6ef",
            "1b11b8141cbb4ccaa5bfea461e625a19",
            "edeaabc674d84deb9dea9e836964c52b",
            "d69e5bae8a65466384762c819a280716"
          ]
        },
        "outputId": "4a46ed61-7054-4403-a784-3a03b704b4a2"
      },
      "execution_count": null,
      "outputs": [
        {
          "output_type": "display_data",
          "data": {
            "text/plain": [
              "Downloading (…)ve/main/spiece.model:   0%|          | 0.00/792k [00:00<?, ?B/s]"
            ],
            "application/vnd.jupyter.widget-view+json": {
              "version_major": 2,
              "version_minor": 0,
              "model_id": "686966734b174765ac594f00ecdfb776"
            }
          },
          "metadata": {}
        },
        {
          "output_type": "display_data",
          "data": {
            "text/plain": [
              "Downloading (…)lve/main/config.json:   0%|          | 0.00/1.21k [00:00<?, ?B/s]"
            ],
            "application/vnd.jupyter.widget-view+json": {
              "version_major": 2,
              "version_minor": 0,
              "model_id": "ed03eefa930e42c48ab38a863fdc1df6"
            }
          },
          "metadata": {}
        },
        {
          "output_type": "stream",
          "name": "stderr",
          "text": [
            "/usr/local/lib/python3.10/dist-packages/transformers/models/t5/tokenization_t5.py:163: FutureWarning: This tokenizer was incorrectly instantiated with a model max length of 512 which will be corrected in Transformers v5.\n",
            "For now, this behavior is kept to avoid breaking backwards compatibility when padding/encoding with `truncation is True`.\n",
            "- Be aware that you SHOULD NOT rely on t5-base automatically truncating your input to 512 when padding/encoding.\n",
            "- If you want to encode/pad to sequences longer than 512 you can either instantiate this tokenizer with `model_max_length` or pass `max_length` when encoding/padding.\n",
            "- To avoid this warning, please instantiate this tokenizer with `model_max_length` set to your preferred value.\n",
            "  warnings.warn(\n"
          ]
        }
      ]
    },
    {
      "cell_type": "code",
      "source": [
        "print(t5_tokenizer)"
      ],
      "metadata": {
        "id": "Lsg93lnnpEZe",
        "outputId": "dd840a3e-0644-4f4f-d73f-a1f19648769b",
        "colab": {
          "base_uri": "https://localhost:8080/"
        }
      },
      "execution_count": null,
      "outputs": [
        {
          "output_type": "stream",
          "name": "stdout",
          "text": [
            "T5Tokenizer(name_or_path='t5-base', vocab_size=32100, model_max_length=512, is_fast=False, padding_side='right', truncation_side='right', special_tokens={'eos_token': '</s>', 'unk_token': '<unk>', 'pad_token': '<pad>', 'additional_special_tokens': ['<extra_id_0>', '<extra_id_1>', '<extra_id_2>', '<extra_id_3>', '<extra_id_4>', '<extra_id_5>', '<extra_id_6>', '<extra_id_7>', '<extra_id_8>', '<extra_id_9>', '<extra_id_10>', '<extra_id_11>', '<extra_id_12>', '<extra_id_13>', '<extra_id_14>', '<extra_id_15>', '<extra_id_16>', '<extra_id_17>', '<extra_id_18>', '<extra_id_19>', '<extra_id_20>', '<extra_id_21>', '<extra_id_22>', '<extra_id_23>', '<extra_id_24>', '<extra_id_25>', '<extra_id_26>', '<extra_id_27>', '<extra_id_28>', '<extra_id_29>', '<extra_id_30>', '<extra_id_31>', '<extra_id_32>', '<extra_id_33>', '<extra_id_34>', '<extra_id_35>', '<extra_id_36>', '<extra_id_37>', '<extra_id_38>', '<extra_id_39>', '<extra_id_40>', '<extra_id_41>', '<extra_id_42>', '<extra_id_43>', '<extra_id_44>', '<extra_id_45>', '<extra_id_46>', '<extra_id_47>', '<extra_id_48>', '<extra_id_49>', '<extra_id_50>', '<extra_id_51>', '<extra_id_52>', '<extra_id_53>', '<extra_id_54>', '<extra_id_55>', '<extra_id_56>', '<extra_id_57>', '<extra_id_58>', '<extra_id_59>', '<extra_id_60>', '<extra_id_61>', '<extra_id_62>', '<extra_id_63>', '<extra_id_64>', '<extra_id_65>', '<extra_id_66>', '<extra_id_67>', '<extra_id_68>', '<extra_id_69>', '<extra_id_70>', '<extra_id_71>', '<extra_id_72>', '<extra_id_73>', '<extra_id_74>', '<extra_id_75>', '<extra_id_76>', '<extra_id_77>', '<extra_id_78>', '<extra_id_79>', '<extra_id_80>', '<extra_id_81>', '<extra_id_82>', '<extra_id_83>', '<extra_id_84>', '<extra_id_85>', '<extra_id_86>', '<extra_id_87>', '<extra_id_88>', '<extra_id_89>', '<extra_id_90>', '<extra_id_91>', '<extra_id_92>', '<extra_id_93>', '<extra_id_94>', '<extra_id_95>', '<extra_id_96>', '<extra_id_97>', '<extra_id_98>', '<extra_id_99>']}, clean_up_tokenization_spaces=True)\n"
          ]
        }
      ]
    },
    {
      "cell_type": "code",
      "source": [
        "t5_model = T5ForConditionalGeneration.from_pretrained(\"t5-base\")"
      ],
      "metadata": {
        "id": "c55Qd_YxpL20",
        "outputId": "472577f4-81fb-423c-b1a1-415c5e733f25",
        "colab": {
          "base_uri": "https://localhost:8080/",
          "height": 137,
          "referenced_widgets": [
            "f3bf25680fc948509e6d277a8eeddf9d",
            "5cdf3054f2e34e4d81285d60f2a83aa0",
            "656cb1af80e342988252b172668488a1",
            "816c308a3fb14d12a3708479bd7ef38a",
            "dc1164ec64f048d1b3e60bdb0af450a4",
            "52cbe9f95d5447d995b6dad0dfdd92f7",
            "10bfcd1c96df4474b85bb74ab7a6bd56",
            "ba815c528f564a00a90fae83a73e5f44",
            "f1ed04e27a324b18a93f4a5719393d4c",
            "3ee286c4d8914cd59a5d6553519481ae",
            "2ca7129ebf0a4755afe9ef44776e80b1",
            "e09fe23bccbd48c682f1cdb25360cf89",
            "248831ba6f55487db338f3f5486ba3bd",
            "fa3fbe3b31874bf28be566d92b1a8267",
            "c5c866415a8346afa7cf51a46716c22b",
            "5b7e2ef5fd5b4fb7b4fc9b00efc6294d",
            "7a27d8daf5984766822872bb61815801",
            "30e8c33acf66444385728d2448afcebe",
            "f0804c58605f466ca97358ade5cfe9a8",
            "08807f89c06f4e539abcf9c61e5758a8",
            "fbbb9d024292429c820c504890717429",
            "e8da4c6c97b84234a0fd0c72aad73261"
          ]
        }
      },
      "execution_count": null,
      "outputs": [
        {
          "output_type": "display_data",
          "data": {
            "text/plain": [
              "Downloading pytorch_model.bin:   0%|          | 0.00/892M [00:00<?, ?B/s]"
            ],
            "application/vnd.jupyter.widget-view+json": {
              "version_major": 2,
              "version_minor": 0,
              "model_id": "f3bf25680fc948509e6d277a8eeddf9d"
            }
          },
          "metadata": {}
        },
        {
          "output_type": "display_data",
          "data": {
            "text/plain": [
              "Downloading (…)neration_config.json:   0%|          | 0.00/147 [00:00<?, ?B/s]"
            ],
            "application/vnd.jupyter.widget-view+json": {
              "version_major": 2,
              "version_minor": 0,
              "model_id": "e09fe23bccbd48c682f1cdb25360cf89"
            }
          },
          "metadata": {}
        }
      ]
    },
    {
      "cell_type": "markdown",
      "source": [
        "# Retrieving the data from the given PDFs."
      ],
      "metadata": {
        "id": "8wzpXaLjfBXI"
      }
    },
    {
      "cell_type": "code",
      "execution_count": null,
      "metadata": {
        "id": "WRcCW8olSDOF"
      },
      "outputs": [],
      "source": [
        "titles = []\n",
        "articles = []\n",
        "\n",
        "pdf_directory = \"/content/sample_data/research\""
      ]
    },
    {
      "cell_type": "code",
      "source": [
        "!pip install PyPDF2\n",
        "import os\n",
        "from PyPDF2 import PdfReader"
      ],
      "metadata": {
        "colab": {
          "base_uri": "https://localhost:8080/"
        },
        "id": "sh5aAjAyPNQh",
        "outputId": "65383c40-337e-4e36-e316-3adf67140c4e"
      },
      "execution_count": null,
      "outputs": [
        {
          "output_type": "stream",
          "name": "stdout",
          "text": [
            "Looking in indexes: https://pypi.org/simple, https://us-python.pkg.dev/colab-wheels/public/simple/\n",
            "Collecting PyPDF2\n",
            "  Downloading pypdf2-3.0.1-py3-none-any.whl (232 kB)\n",
            "\u001b[2K     \u001b[90m━━━━━━━━━━━━━━━━━━━━━━━━━━━━━━━━━━━━━━━\u001b[0m \u001b[32m232.6/232.6 kB\u001b[0m \u001b[31m6.6 MB/s\u001b[0m eta \u001b[36m0:00:00\u001b[0m\n",
            "\u001b[?25hInstalling collected packages: PyPDF2\n",
            "Successfully installed PyPDF2-3.0.1\n"
          ]
        }
      ]
    },
    {
      "cell_type": "code",
      "source": [
        "article_data = []\n",
        "\n",
        "# Iterate through the files in the folder\n",
        "# Iterate through the files in the folder\n",
        "# Iterate over each file in the directory\n",
        "for filename in os.listdir(pdf_directory):\n",
        "    # Check if the file is a PDF\n",
        "    if filename.endswith('.pdf'):\n",
        "        # Construct the full path of the PDF file\n",
        "        pdf_path = os.path.join(pdf_directory, filename)\n",
        "\n",
        "        # Open the PDF file and create a PdfReader object\n",
        "        with open(pdf_path, 'rb') as pdf_file:\n",
        "            pdf_reader = PdfReader(pdf_file)\n",
        "            article_name = os.path.splitext(filename)[0]\n",
        "            # Initialize an empty string to store the extracted text\n",
        "            extracted_text = \"\"\n",
        "\n",
        "            # Iterate through each page of the PDF\n",
        "            for page in pdf_reader.pages:\n",
        "                # Extract text from the page\n",
        "                text = page.extract_text()\n",
        "                # Append the extracted text to the overall text\n",
        "                extracted_text += text\n",
        "            \n",
        "            articles.append(extracted_text)\n",
        "            titles.append(article_name)\n"
      ],
      "metadata": {
        "id": "2VbIo69gZG_B"
      },
      "execution_count": null,
      "outputs": []
    },
    {
      "cell_type": "code",
      "source": [
        "titles"
      ],
      "metadata": {
        "colab": {
          "base_uri": "https://localhost:8080/"
        },
        "id": "E6oMMYX9P-2m",
        "outputId": "32c4866c-bdd4-4b58-80a0-91e1f00b9b3c"
      },
      "execution_count": null,
      "outputs": [
        {
          "output_type": "execute_result",
          "data": {
            "text/plain": [
              "['Human Papillomavirus Vaccination for Adults Updated Recommendations of the Advisory Committee on Immunization Practices',\n",
              " 'Use of a 2-Dose Schedule for Human Papillomavirus Vaccination — Updated Recommendations of the Advisory Committee on Immunization Practices',\n",
              " 'Employment and Activity Limitations Among Adults with Chronic Obstructive Pulmonary Disease',\n",
              " 'Recommendations of the Advisory Committee on Immunization Practices']"
            ]
          },
          "metadata": {},
          "execution_count": 13
        }
      ]
    },
    {
      "cell_type": "code",
      "source": [
        "articles[1]"
      ],
      "metadata": {
        "colab": {
          "base_uri": "https://localhost:8080/",
          "height": 268
        },
        "id": "0FLqHZleQBNO",
        "outputId": "f6b398de-5320-41e6-f519-899f45fdca82"
      },
      "execution_count": null,
      "outputs": [
        {
          "output_type": "execute_result",
          "data": {
            "text/plain": [
              "'Morbidity and Mortality Weekly ReportMMWR  / December 16, 2016  / V ol. 65  /  No. 49  1405\\nUS Department of Health and Human Services/Centers for Disease Control and PreventionIntroduction\\nVaccination against human papillomavirus (HPV) is rec -\\nommended to prevent HPV infections and HPV-associated \\ndiseases, including cancers. Routine vaccination at age 11 or \\n12 years has been recommended by the Advisory Committee \\non Immunization Practices (ACIP) since 2006 for females and since 2011 for males ( 1,2). This report provides recom -\\nmendations and guidance regarding use of HPV vaccines and updates ACIP HPV vaccination recommendations previously published in 2014 and 2015 ( 1,2). This report includes new \\nrecommendations for use of a 2-dose schedule for girls and boys who initiate the vaccination series at ages 9 through 14 years. Three doses remain recommended for persons who initiate the vaccination series at ages 15 through 26 years and for immunocompromised persons.\\nBackground\\nHPV infection causes cervical, vaginal, and vulvar cancers \\nin women; penile cancers in men; and oropharyngeal and anal cancers as well as genital warts in both men and women ( 3). Three HPV vaccines are licensed for use in the United States. All are noninfectious. Quadrivalent and 9-valent HPV vac -\\ncines (4vHPV and 9vHPV, Gardasil and Gardasil 9, Merck and Co, Inc., Whitehouse Station, New Jersey) are licensed for use in females and males aged 9 through 26 years ( 1). Bivalent \\nHPV vaccine (2vHPV, Cervarix, GlaxoSmithKline, Rixensart, Belgium) is licensed for use in females aged 9 through 25 years (1). As of late 2016, only 9vHPV is being distributed in the \\nUnited States. The majority of all HPV-associated cancers are caused by HPV 16 or 18, types targeted by all three vaccines. In addition, 4vHPV targets HPV 6 and 11, types that cause \\ngenital warts. 9vHPV protects against these and five additional \\ntypes: HPV 31, 33, 45, 52, and 58. All three vaccines have been approved for administration in a 3-dose series at intervals of 0, 1 or 2, and 6 months. In October 2016, after considering new clinical trial results ( 4), the Food and Drug Administration \\n(FDA) also approved 9vHPV for use in a 2-dose series for girls and boys aged 9 through 14 years ( 5). In October 2016, \\nACIP recommended a 2-dose schedule for adolescents initiat -\\ning HPV vaccination in this age range. This report provides recommendations for use of 2-dose and 3-dose schedules for HPV vaccination.\\nMethods\\nDuring November 2015–October 2016, the ACIP HPV \\nVaccines Work Group held monthly telephone conferences to 1) review and evaluate the quality of the evidence assessing \\nimmunogenicity, efficacy, and postlicensure effectiveness of a \\n2-dose schedule; 2) consider benefits and harms of a 2-dose schedule; 3) weigh the variability in the values and preferences of patients and providers for a 2-dose schedule; and 4) examine health economic analyses. During teleconferences, summaries of findings were presented for Work Group discussion.\\nA systematic review was conducted to identify studies \\ninvolving human subjects* that reported primary data on any important or critical health outcomes related to HPV vaccination\\n† after 2 doses of 9vHPV, 4vHPV, or 2vHPV, \\nadministered at an interval of 0 and ≥6 months (±4 weeks) to Use of a 2-Dose Schedule for Human Papillomavirus Vaccination — Updated \\nRecommendations of the Advisory Committee on Immunization Practices\\nElissa Meites, MD1; Allison Kempe, MD2,3; Lauri E. Markowitz, MD1\\nRecommendations for use of vaccines in children, adolescents and adults are developed by the Advisory Committee on Immunization Practices (ACIP). ACIP is chartered as \\na federal advisory committee to provide expert external \\nadvice and guidance to the Director of the Centers for Disease Control and Prevention (CDC) on use of vaccines and related agents for the control of vaccine-preventable diseases in the civilian population of the United States. Recommendations for use of vaccines in children \\nand adolescents are harmonized to the greatest extent \\npossible with recommendations made by the American Academy of Pediatrics (AAP), the American Academy of Family Physicians (AAFP), and the American College of Obstetricians and Gynecologists (ACOG). Recommendations \\nfor routine use of vaccines in adults are harmonized with \\nrecommendations of AAFP , ACOG, and the American College of Physicians (ACP). ACIP recommendations approved by the CDC Director become agency guidelines on the date published in the Morbidity and Mortality Weekly Report (MMWR). Additional information about \\nACIP is available at  https://www.cdc.gov/vaccines/acip .\\n* N o primary data on special populations or medical conditions, including \\nimmunocompromising conditions, were available for 2-dose intervals and age \\nranges specified.\\n† N o primary data on other important and critical outcomes, including genital warts, \\nprecancers, oropharyngeal cancer, anal cancer, cervical cancer, vaginal/vulvar cancer, and penile cancer, were available for 2-dose intervals and age ranges specified.Morbidity and Mortality Weekly Report 1406  MMWR  /  December 16, 2016  /  V ol. 65  /  No. 49\\nUS Department of Health and Human Services/Centers for Disease Control and Preventionpersons aged 9 through 14 years. The review focused on this \\nage group given available 2-dose trial data for 9vHPV ( 4). \\nImmunogenicity outcomes of interest were seroconversion, \\ngeometric mean titers (GMTs), or antibody avidity. Studies \\nwere excluded if they lacked a comparison group in which efficacy of 3 doses of HPV vaccine against clinical endpoints was demonstrated in clinical trials (e.g., females aged 15 through 26 years).\\n§ Evidence regarding a 3-dose schedule for \\nHPV vaccine was reviewed previously (1,2).\\nQuality of evidence was evaluated using the Grading of \\nRecommendations Assessment, Development and Evaluation (GRADE) approach. Detailed methods and GRADE tables can be found online ( 6). Other studies from the search and \\nfrom the broader literature informed additional expert guid -\\nance that extended beyond the research question addressed formally via GRADE analysis ( 7). Evidence was reviewed by \\nthe Work Group, summarized, and publicly presented at the February and June 2016 ACIP meetings. CDC vaccine rec -\\nommendations are developed using the GRADE framework (8). Proposed recommendations were presented, and after a public comment period, were approved unanimously\\n¶ by the \\nvoting ACIP members at the October 2016 ACIP meeting.\\nSummary of Key Findings\\nImmunogenicity. In the 9vHPV clinical trial that was the \\nbasis for FDA approval of a 2-dose series, participants were girls and boys aged 9 through 14 years, compared with young \\nfemales aged 16 through 26 years ( 4). Among 1,377 partici -\\npants, ≥97.9% seroconverted to all nine vaccine-preventable \\nHPV types by 4 weeks after the last dose. For girls and boys who received 2 doses of 9vHPV 6 months apart (0, 6 month schedule) or 12 months apart (0, 12 month schedule), non -\\ninferiority criteria were met for seroconversion and GMTs. \\nFurthermore, GMTs were significantly higher for all 9vHPV \\ntypes among persons aged 9 through 14 years who received 2 doses compared with females aged 16–26 years who received 3 doses (0, 2, 6 month schedule). Six additional studies found similar results for 4vHPV and 2vHPV ( 6). Immunogenicity \\nwas found to be noninferior with 2 doses in persons aged 9 through 14 years compared with 3 doses in a group in which clinical efficacy was demonstrated (GRADE evidence type 3).\\nEfficacy and effectiveness.  Although efficacy and postlicen -\\nsure effectiveness studies were reviewed, none met the inclusion criteria detailed above. The prelicensure HPV vaccine efficacy \\ntrials were conducted with 3-dose series; post hoc analyses con -\\nducted with data from some of these trials found high efficacy \\nagainst infection among vaccinees who received 2 doses and those who received 3 doses ( 9,10). A large study comparing \\n2 doses with 3 doses also suggested similar efficacy against infection (11). Postlicensure effectiveness studies have found lower effectiveness against various HPV-associated outcomes among vaccinees who received 2 doses compared with those who received 3 doses, but methodologic challenges with these \\nstudies limit interpretation of the findings.**\\nDuration of protection.  Through 10 years of follow-up \\nfrom clinical trials, no evidence of waning protection after \\na 3-dose series of HPV vaccine has been found ( 1). Because \\nantibody kinetics are similar with 2-dose and 3-dose series, duration of protection is also expected to be long-lasting after \\na 2-dose series (12,13).\\nHealth impact and cost-effectiveness modeling.  \\nPopulation-level effectiveness and cost-effectiveness of 2-dose \\nand 3-dose schedules of 9vHPV in the United States have been modeled ( 14). Assuming both efficacy and duration of protec -\\ntion are similar with either schedule, a 2-dose series would be cost-saving and have similar population impact to a 3-dose series. Even if duration of protection is 20 years for a 2-dose series and lifelong for a 3-dose series, additional benefits of a 3-dose series would be relatively small, and a 2-dose series would be more cost-effective (14).\\nRationale\\nHPV vaccines are highly effective and safe, and a powerful pre -\\nvention tool for reducing HPV infections and HPV-associated cancers (1 ,2). Based on the available immunogenicity evidence, \\na 2-dose schedule (0, 6–12 months) will have efficacy equivalent to a 3-dose schedule (0, 1–2, 6 months) if the HPV vaccination series is initiated before the 15th birthday (GRADE evidence type 3) (6 ). ACIP recommends a 2-dose schedule for HPV vac -\\ncination of girls and boys who initiate the vaccination series at ages 9 through 14 years (Category A recommendation).\\nRecommendations\\nRoutine and catch-up age groups.  ACIP recommends \\nroutine HPV vaccination at age 11 or 12 years. Vaccination can be given starting at age 9 years. ACIP also recommends \\nvaccination for females through age 26 years and for males \\nthrough age 21 years who were not adequately vaccinated previously. Males aged 22 through 26 years may be vaccinated. (See also: Special populations, Medical conditions)\\nDosing schedules. For persons initiating vaccination before \\ntheir 15th birthday, the recommended immunization sched -\\nule is 2 doses of HPV vaccine. The second dose should be \\n§ S tudies were excluded when 2-dose interval was not ≥5 months.\\n¶ T welve votes to none, with one recusal. * * I n studies conducted in the setting of a 3-dose HPV vaccine recommendation \\nor policy, many 2-dose recipients received HPV vaccine doses at a 1–2 month \\ninterval; in addition, 2-dose recipients differed from 3-dose recipients in ways \\nthat suggested differences in HPV exposure.Morbidity and Mortality Weekly ReportMMWR  / December 16, 2016  / V ol. 65  /  No. 49  1407\\nUS Department of Health and Human Services/Centers for Disease Control and Preventionadministered 6–12 months after the first dose (0, 6–12 month \\nschedule)†† (Table).\\nFor persons initiating vaccination on or after their 15th \\nbirthday, the recommended immunization schedule is 3 doses \\nof HPV vaccine. The second dose should be administered \\n1–2 months after the first dose, and the third dose should be administered 6 months after the first dose (0, 1–2, 6 month schedule)\\n§§ (Table).\\nPersons vaccinated previously. Persons who initiated vac -\\ncination with 9vHPV, 4vHPV, or 2vHPV before their 15th \\nbirthday, and received 2 doses of any HPV vaccine at the \\nrecommended dosing schedule (0, 6–12 months), or 3 doses of any HPV vaccine at the recommended dosing schedule (0, 1–2, 6 months), are considered adequately vaccinated.\\nPersons who initiated vaccination with 9vHPV, 4vHPV, or \\n2vHPV on or after their 15th birthday, and received 3 doses \\nof any HPV vaccine at the recommended dosing schedule, are \\nconsidered adequately vaccinated.\\n9vHPV may be used to continue or complete a vaccination \\nseries started with 4vHPV or 2vHPV.\\nFor persons who have been adequately vaccinated with \\n2vHPV or 4vHPV, there is no ACIP recommendation regard -\\ning additional vaccination with 9vHPV.\\nInterrupted schedules. If the vaccination schedule is inter -\\nrupted, the series does not need to be restarted. The number of recommended doses is based on age at administration of the first dose.Special populations. For children with a history of sexual \\nabuse or assault, ACIP recommends routine HPV vaccination beginning at age 9 years.\\nFor men who have sex with men,\\n¶¶ ACIP recommends \\nroutine HPV vaccination as for all males, and vaccination through age 26 years for those who were not adequately vac -\\ncinated previously.\\nFor transgender persons, ACIP recommends routine \\nHPV vaccination as for all adolescents, and vaccination through age 26 years for those who were not adequately vaccinated previously.\\nMedical conditions.  ACIP recommends vaccination with 3 \\ndoses of HPV vaccine (0, 1–2, 6 months) for females and males aged 9 through 26 years with primary or secondary immuno -\\ncompromising conditions that might reduce cell-mediated or humoral immunity,*** such as B lymphocyte antibody deficiencies, T lymphocyte complete or partial defects, HIV \\ninfection, malignant neoplasms, transplantation, autoimmune \\ndisease, or immunosuppressive therapy, because immune response to vaccination might be attenuated (Table) (7).\\nContraindications and precautions.  Contraindications \\nand precautions, including those related to pregnancy, are unchanged from previous recommendations ( 1,2). Adverse \\nevents occurring after administration of any vaccine should be reported to the Vaccine Adverse Event Reporting System (VAERS). Reports can be submitted to VAERS online, by fax, or by mail. Additional information about VAERS is available by telephone (1-800-822-7967) or online ( https://vaers.hhs.gov ).TABLE. Recommended number of doses and intervals for human papillomavirus (HPV) vaccine, by age at series initiation and medical conditions — \\nUnited States, 2016\\nPopulationRecommended number of \\nHPV vaccine dosesRecommended interval \\nbetween doses\\nPersons initiating HPV vaccination at ages 9 through 14 years,* except \\nimmunocompromised persons†2 0, 6–12 months§\\nPersons initiating HPV vaccination at ages 15 through 26 years¶ and \\nimmunocompromised persons† initiating HPV vaccination at ages 9 through 26 years3 0, 1–2, 6 months**\\n * A CIP recommends routine HPV vaccination for adolescents at age 11 or 12 years; vaccination may be given starting at age 9 years.\\n † P ersons with primary or secondary immunocompromising conditions that might reduce cell-mediated or humoral immunity (see also: Medical conditions)\\n § I n a 2-dose schedule of HPV vaccine, the minimum interval between the first and second doses is 5 months.\\n ¶ F or persons who were not adequately vaccinated previously, ACIP recommends vaccination for females through age 26 years and for males through age \\n21 years; males ages 22 through 26 years may be vaccinated. Vaccination is recommended for some persons aged 22 through 26 years; see Medical conditions \\nand Special populations.\\n ** I n a 3-dose schedule of HPV vaccine, the minimum intervals are 4 weeks between the first and second doses, 12 weeks between the second and third doses, and \\n5 months between the first and third doses.\\n †† I n a 2-dose schedule of HPV vaccine, the minimum interval between the first \\nand second doses is 5 months. If the second dose is administered after a shorter \\ninterval, a third dose should be administered a minimum of 12 weeks after \\nthe second dose and a minimum of 5 months after the first dose.\\n §§ I n a 3-dose schedule of HPV vaccine, the minimum intervals are 4 weeks \\nbetween the first and second doses, 12 weeks between the second and third \\ndoses, and 5 months between the first and third doses. If a vaccine dose is \\nadministered after a shorter interval, it should be readministered after another \\nminimum interval has elapsed since the most recent dose. ¶¶ I ncluding men who identify as gay or bisexual, or who intend to have sex \\nwith men.\\n *** The r ecommendation for a 3-dose schedule of HPV vaccine does not apply \\nto children aged <15 years with asplenia, asthma, chronic granulomatous disease, chronic liver disease, chronic lung disease, chronic renal disease, \\ncentral nervous system anatomic barrier defects (e.g., cochlear implant), \\ncomplement deficiency, diabetes, heart disease, or sickle cell disease.Morbidity and Mortality Weekly Report 1408  MMWR  /  December 16, 2016  /  V ol. 65  /  No. 49\\nUS Department of Health and Human Services/Centers for Disease Control and PreventionAcknowledgments\\nMembers of the Advisory Committee on Immunization Practices \\n(ACIP) (member roster for July 2016–June 2017 is available online \\nat https://www.cdc.gov/vaccines/acip/committee/members-archive.\\nhtml); ACIP HPV Vaccines Work Group: Jorge E. Arana, MD, \\nAtlanta, Georgia; Joseph Bocchini, MD, Shreveport, Louisiana; Harrell Chesson, PhD, Atlanta, Georgia; Tamera Coyne-Beasley, MD, Chapel Hill, North Carolina; C. Robinette Curtis, MD, Atlanta, Georgia; Carolyn D. Deal, PhD, Bethesda, Maryland; Shelley Deeks, MD, Toronto, Ontario, Canada; John Douglas, MD, Greenwood Village, Colorado; Linda Eckert, MD, Seattle, Washington; Sandra Adamson Fryhofer, MD, Atlanta, Georgia; Julianne Gee, MPH, Atlanta, Georgia; Bruce G. Gellin, MD, Washington, DC; Samuel Katz, MD, Durham, North Carolina; Alison Kempe, MD, Denver, Colorado (Chair); Aimée R. Kreimer, PhD, Bethesda, Maryland; \\nJoohee Lee, MD, Silver Spring, Maryland; Lauri E. Markowitz, MD, Atlanta, Georgia (CDC Lead); Elissa Meites, MD, Atlanta, \\nGeorgia; Amy B. Middleman, MD, Oklahoma City, Oklahoma; Chris Nyquist, MD, Denver, Colorado; Sean O’Leary, MD, Aurora, Colorado; Sara E. Oliver, MD, Atlanta, Georgia; Cynthia Pellegrini, Washington, DC; Jeff Roberts, MD; Rockville, Maryland; José R. Romero, MD, Little Rock, Arkansas; Jeanne Santoli, MD, Atlanta, Georgia; Mona Saraiya, MD, Atlanta, Georgia; Debbie Saslow, PhD, Atlanta, Georgia; Margot Savoy, MD, Wilmington, Delaware; Shannon Stokley, DrPH, Atlanta, Georgia; Lakshmi Sukumaran, MD, Atlanta, Georgia; Elizabeth R. Unger, PhD, MD, Atlanta, Georgia; Patricia Whitley-Williams, MD, New Brunswick, New Jersey; Rodney Willoughby, MD, Wauwatosa, Wisconsin; JoEllen Wolicki, Atlanta, Georgia; Sixun Yang, MD, Rockville, Maryland; Jane Zucker, MD, New York, New York.\\n 1Division of Viral Diseases, National Center for Immunization and Respiratory \\nDiseases, CDC; 2HPV Vaccines Work Group, Advisory Committee on \\nImmunization Practices, Atlanta, Georgia; 3Department of Pediatrics, University \\nof Colorado Anschutz Medical Campus, Denver, Colorado.\\nCorresponding author: Elissa Meites, emeites@cdc.gov , 404-639-8253.\\nReferences\\n 1. M arkowitz LE, Dunne EF , Saraiya M, et al. Human papillomavirus \\nvaccination: recommendations of the Advisory Committee on Immunization \\nPractices (ACIP). MMWR Recomm Rep 2014;63(No. RR-05).\\n 2 . P etrosky E, Bocchini JA Jr, Hariri S, et al. Use of 9-valent human \\npapillomavirus (HPV) vaccine: updated HPV vaccination recommendations of the advisory committee on immunization practices. MMWR Morb Mortal Wkly Rep 2015;64:300–4.\\n 3 . V iens LJ, Henley SJ, Watson M, et al. Human papillomavirus-associated \\ncancers—United States, 2008–2012. MMWR Morb Mortal Wkly Rep 2016;65:661–6. http://dx.doi.org/10.15585/mmwr.mm6526a1 4 . I versen O-E, Miranda MJ, Ulied A, et al. Immunogenicity of the 9-valent \\nHPV vaccine using 2-dose regimens in girls and boys vs a 3-dose regimen in women. JAMA 2016;316:2411–21. http://dx.doi.org/10.1001/\\njama.2016.17615\\n 5 . F ood and Drug Administration. Prescribing information [package insert]. \\nGardasil 9 [human papillomavirus 9-valent vaccine, recombinant]. Silver Spring, MD: US Department of Health and Human Services, Food and Drug Administration; 2016. http://www.fda.gov/downloads/\\nBiologicsBloodVaccines/Vaccines/ApprovedProducts/UCM426457.pdf\\n 6. CDC. G rading of Recommendations Assessment, Development and \\nEvaluation (GRADE) of a 2-dose schedule for human papillomavirus (HPV) vaccination. Atlanta, GA: US Department of Health and Human Services, CDC; 2016. https://www.cdc.gov/vaccines/acip/recs/grade/\\nhpv-2-dose.html\\n 7. R ubin LG, Levin MJ, Ljungman P , et al.; Infectious Diseases Society of \\nAmerica. 2013 IDSA clinical practice guideline for vaccination of the immunocompromised host. Clin Infect Dis 2014;58:e44–100. http://\\ndx.doi.org/10.1093/cid/cit684\\n 8 . Ahmed F , Temte JL, Campos-Outcalt D, Schünemann HJ; ACIP \\nEvidence Based Recommendations Work Group (EBRWG). Methods for developing evidence-based recommendations by the Advisory Committee on Immunization Practices (ACIP) of the U.S. Centers for Disease Control and Prevention (CDC). Vaccine 2011;29:9171–6. http://dx.doi.org/10.1016/j.vaccine.2011.08.005\\n 9. Kr eimer AR, Struyf F , Del Rosario-Raymundo MR, et al.; Costa Rica \\nVaccine T rial Study Group Authors; PATRICIA Study Group Authors; HPV PATRICIA Principal Investigators/Co-Principal Investigator Collaborators; GSK Vaccines Clinical Study Support Group. Efficacy of fewer than three doses of an HPV-16/18 AS04-adjuvanted vaccine: combined analysis of data from the Costa Rica Vaccine and PATRICIA \\nT rials. Lancet Oncol 2015;16:775–86. http://dx.doi.org/10.1016/\\nS1470-2045(15)00047-9\\n 10. Kr eimer AR, Rodriguez AC, Hildesheim A, et al.; CVT Vaccine Group. \\nProof-of-principle evaluation of the efficacy of fewer than three doses \\nof a bivalent HPV16/18 vaccine. J Natl Cancer Inst 2011;103:1444–51. http://dx.doi.org/10.1093/jnci/djr319\\n 11. S ankaranarayanan R, Prabhu PR, Pawlita M, et al.; Indian HPV Vaccine \\nStudy Group. Immunogenicity and HPV infection after one, two, and three doses of quadrivalent HPV vaccine in girls in India: a multicentre prospective cohort study. Lancet Oncol 2016;17:67–77. http://dx.doi.\\norg/10.1016/S1470-2045(15)00414-3\\n 12. R omanowski B, Schwarz TF , Ferguson L, et al. Sustained immunogenicity \\nof the HPV-16/18 AS04-adjuvanted vaccine administered as a two-dose schedule in adolescent girls: five-year clinical data and modeling predictions from a randomized study. Hum Vaccin Immunother 2016;12:20–9. http://dx.doi.org/10.1080/21645515.2015.1065363\\n 13. D obson SR, McNeil S, Dionne M, et al. Immunogenicity of 2 doses of \\nHPV vaccine in younger adolescents vs 3 doses in young women: a randomized clinical trial. JAMA 2013;309:1793–802. http://dx.doi.\\norg/10.1001/jama.2013.1625\\n 14. Laprise JF , Markowitz LE, Chesson HW, Drolet M, Brisson M. \\nComparison of 2-dose and 3-dose 9-valent human papillomavirus vaccine schedules in the United States: a cost-effectiveness analysis. J Infect Dis 2016;214:685–8. http://dx.doi.org/10.1093/infdis/jiw227'"
            ],
            "application/vnd.google.colaboratory.intrinsic+json": {
              "type": "string"
            }
          },
          "metadata": {},
          "execution_count": 14
        }
      ]
    },
    {
      "cell_type": "markdown",
      "source": [
        "\n",
        "# Preprocessing \n",
        "---\n",
        "\n",
        "\n",
        "**Tokenizes the passages, converts them to lowercase, removes punctuation, and eliminates common stop words to prepare the text for further analysis or processing.**\n",
        "\n",
        "\n",
        "---\n",
        "\n"
      ],
      "metadata": {
        "id": "pAiluUetZyyc"
      }
    },
    {
      "cell_type": "code",
      "source": [
        "import nltk\n",
        "import string\n",
        "from nltk.corpus import stopwords\n",
        "\n",
        "nltk.download('stopwords')\n",
        "\n",
        "passage_titles = []\n",
        "passages = []\n",
        "\n",
        "# Define a set of punctuation characters\n",
        "punctuation = set(string.punctuation)\n",
        "\n",
        "# Get the set of stop words\n",
        "stop_words = set(stopwords.words('english'))\n",
        "\n",
        "for i in range(len(titles)):\n",
        "    title = titles[i]\n",
        "    article = articles[i]\n",
        "\n",
        "    if len(article) == 0:\n",
        "        print('Skipping empty article:', title)\n",
        "        continue\n",
        "\n",
        "    article = article.replace('\\n', '')  # Remove newline characters from the article\n",
        "\n",
        "    # Preprocess the passage\n",
        "    chunk_size = 700  # Number of characters in each chunk\n",
        "    start = 0\n",
        "    end = start + chunk_size\n",
        "\n",
        "    while start < len(article):\n",
        "        chunk = article[start:end]\n",
        "\n",
        "        # Lowercase the chunk\n",
        "        chunk = chunk.lower()\n",
        "\n",
        "        # Remove punctuation from the chunk\n",
        "        chunk = ''.join(char for char in chunk if char not in punctuation)\n",
        "\n",
        "        # Remove stop words from the chunk\n",
        "        chunk = ' '.join(word for word in chunk.split() if word not in stop_words)\n",
        "\n",
        "        if len(chunk) > 0:\n",
        "            passage_titles.append(title)\n",
        "            passages.append(chunk)\n",
        "\n",
        "        start = end\n",
        "        end = start + chunk_size\n"
      ],
      "metadata": {
        "colab": {
          "base_uri": "https://localhost:8080/"
        },
        "id": "OXdgSkvIvR6g",
        "outputId": "f51b879c-c7ed-49a4-da21-a2d9063d8b84"
      },
      "execution_count": null,
      "outputs": [
        {
          "output_type": "stream",
          "name": "stderr",
          "text": [
            "[nltk_data] Downloading package stopwords to /root/nltk_data...\n",
            "[nltk_data]   Unzipping corpora/stopwords.zip.\n"
          ]
        }
      ]
    },
    {
      "cell_type": "code",
      "source": [
        "len(passages)"
      ],
      "metadata": {
        "colab": {
          "base_uri": "https://localhost:8080/"
        },
        "id": "0WQXuyBnaifY",
        "outputId": "6cf37af4-b51e-4e56-d662-d48de4301e26"
      },
      "execution_count": null,
      "outputs": [
        {
          "output_type": "execute_result",
          "data": {
            "text/plain": [
              "464"
            ]
          },
          "metadata": {},
          "execution_count": 16
        }
      ]
    },
    {
      "cell_type": "code",
      "source": [
        "passages[1]"
      ],
      "metadata": {
        "colab": {
          "base_uri": "https://localhost:8080/",
          "height": 160
        },
        "id": "2o-CSgX_rvSn",
        "outputId": "60ac5e1c-ff3e-4930-cd2c-932b160d538b"
      },
      "execution_count": null,
      "outputs": [
        {
          "output_type": "execute_result",
          "data": {
            "text/plain": [
              "'1 12 years vaccination given starting age 9 years catchup vaccination recommended since 2006 females age 26 years since 2011 males age 21 years certain special populations age 26 years report updates acip catchup hpv vaccination recommendations guidance published 2014 2015 2016 1–3 routine recommendations vaccination adolescents changed june 2019 acip recommended catchup hpv vaccination persons age 26 years acip recommend catchup vaccination adults aged 27 45 years recognized persons adequately vaccinated might b'"
            ],
            "application/vnd.google.colaboratory.intrinsic+json": {
              "type": "string"
            }
          },
          "metadata": {},
          "execution_count": 17
        }
      ]
    },
    {
      "cell_type": "markdown",
      "source": [
        "# DPR Retriever"
      ],
      "metadata": {
        "id": "GTnM3xu6fSgj"
      }
    },
    {
      "cell_type": "markdown",
      "source": [
        "\n",
        "\n",
        "---\n",
        "\n",
        "\n",
        "**DPR Context Encoder:** The code initializes an instance of the DPRContextEncoder from the \"facebook/dpr-ctx_encoder-multiset-base\" pretrained model. This DPR context encoder is used to encode and represent passages of text.\n",
        "\n",
        "**DPR Context Encoder Tokenizer:** The code also initializes a tokenizer, DPRContextEncoderTokenizerFast, associated with the DPR context encoder model. And this is used to tokenize the passages for DPR Context Encoder\n",
        "\n",
        "\n",
        "\n",
        "---\n"
      ],
      "metadata": {
        "id": "2YM66Dd3aCIu"
      }
    },
    {
      "cell_type": "code",
      "source": [
        "from transformers import DPRQuestionEncoder, DPRContextEncoder, DPRQuestionEncoderTokenizerFast, DPRContextEncoderTokenizerFast\n",
        "import torch"
      ],
      "metadata": {
        "id": "e9oxz343qeuE"
      },
      "execution_count": null,
      "outputs": []
    },
    {
      "cell_type": "code",
      "source": [
        "# Load the DPR context encoder and tokenizer\n",
        "ctx_encoder = DPRContextEncoder.from_pretrained(\"facebook/dpr-ctx_encoder-multiset-base\")\n",
        "ctx_tokenizer = DPRContextEncoderTokenizerFast.from_pretrained(\"facebook/dpr-ctx_encoder-multiset-base\")\n",
        "\n",
        "# Set device (GPU if available, otherwise CPU)\n",
        "device = torch.device(\"cuda\" if torch.cuda.is_available() else \"cpu\")\n",
        "\n",
        "# Move model to device\n",
        "ctx_encoder = ctx_encoder.to(device=device)"
      ],
      "metadata": {
        "id": "NTavINzBpyD5",
        "outputId": "d2e19e7f-a23d-4bb7-8d9b-c9cb700e2577",
        "colab": {
          "base_uri": "https://localhost:8080/",
          "height": 391,
          "referenced_widgets": [
            "cd9eea6264c34fef914faac69e9ccb2d",
            "96ae7bb2566941df9d66b519ef17d80a",
            "002b683894de4ef0a88633c0291569c7",
            "dc81aa55b3ef41d38aa142f604956cc8",
            "1dc5b46fcff44951892e93ada713d36d",
            "e48c97bdd19043f684f5697596fbb9f3",
            "839a43f6a402470cb210152d440dbecc",
            "5e43a6b4a30e47f2aa710142de288c74",
            "a7bce770f68940beaf4be91606338044",
            "800dbe1a56834a6682c3686ad038da70",
            "5a7e3a8d67744d6697a22996f88229a2",
            "c438f637583842eb8f09e0ffdb2e4c21",
            "f3596875d748422aada4754bd4f03867",
            "6be165a4b4e241c8a59b0e52cec1bb20",
            "ad05bbda560c4630a74cba125d00eb3a",
            "71e961b395bc4d96b0acb7568ce65a0a",
            "f55464306aa14e16a77c6b357ea5a6d4",
            "6a6af0dc27a245a9be9119063d26ba8f",
            "01c5f0c9d4fd4ad394818ec6a633b59d",
            "96b14dc9056840c9b7b1fd32fae42775",
            "2738b968b7b246cc8a72255d6c657680",
            "2faae81f04aa48e0bf3c59803df0c2e3",
            "b944acbe012345269c369deff0397dfa",
            "2f0ead8ed1d642e9981d6839727b2881",
            "d6cbf77d1d19458ca204abb447180dce",
            "4318ba5e2dc5479099a14253b203115d",
            "ae34b73884be4061bc7f5cb67c94c3f3",
            "5f727e54d5064297bef5ae7ed4dda6a4",
            "59ff83976a9a4787bd293da566de9e30",
            "0768d852d3fc4fc1a99c6795216dffce",
            "31d2dee41e90408ab2dbf89a88f53869",
            "8890af115aad4c099497ed3ed36cb0a7",
            "5acaad77d08b487da1d1bec33386d904",
            "49657db8595f4affbe3b35e386be46c1",
            "1dd09df5e69144599811b082c140dcdb",
            "7abce4491b544f41a1ed771d7b48282a",
            "9e9b2a50918a4ed7bf8ae9a5ab81bccb",
            "44f9647e3c904beaaf846f349e0476f3",
            "1c2aedb50a8a49f4be366c172b613d22",
            "6bb139926b49400b84835028a71c1b2a",
            "0489eaec6ab24d9992d78ccf73156e82",
            "974c389cafbc4bb5a7abefef857f78b9",
            "92d63d7bb4844dc2bb3aa4cb7205ec0a",
            "41c1624426e64e6fbde02aaddb43cdce",
            "0306a2c1843b4183bfda5ea033d95a14",
            "7cf7a6262cf04e569f74ce0baa018a37",
            "1e74309c900e4c9c809864d7a0c1ad29",
            "689b47e476684e2eb6217e999eff901f",
            "a108afb1b6fc40e1b4998ce7504d4be8",
            "9051c6cccb7449f7bb9d21aefebcf076",
            "bdb7ae58f3c648a7a180bb40075d1fd2",
            "46e49321e9d84e34813a9b4d6732facb",
            "c1a17f8e7867490cbbc7ed7d19745440",
            "422df79d16af4bbd85a83395910fc30f",
            "56df00741ca04d028d0ab331fa51e730"
          ]
        }
      },
      "execution_count": null,
      "outputs": [
        {
          "output_type": "display_data",
          "data": {
            "text/plain": [
              "Downloading (…)lve/main/config.json:   0%|          | 0.00/492 [00:00<?, ?B/s]"
            ],
            "application/vnd.jupyter.widget-view+json": {
              "version_major": 2,
              "version_minor": 0,
              "model_id": "cd9eea6264c34fef914faac69e9ccb2d"
            }
          },
          "metadata": {}
        },
        {
          "output_type": "display_data",
          "data": {
            "text/plain": [
              "Downloading pytorch_model.bin:   0%|          | 0.00/438M [00:00<?, ?B/s]"
            ],
            "application/vnd.jupyter.widget-view+json": {
              "version_major": 2,
              "version_minor": 0,
              "model_id": "c438f637583842eb8f09e0ffdb2e4c21"
            }
          },
          "metadata": {}
        },
        {
          "output_type": "display_data",
          "data": {
            "text/plain": [
              "Downloading (…)okenizer_config.json:   0%|          | 0.00/28.0 [00:00<?, ?B/s]"
            ],
            "application/vnd.jupyter.widget-view+json": {
              "version_major": 2,
              "version_minor": 0,
              "model_id": "b944acbe012345269c369deff0397dfa"
            }
          },
          "metadata": {}
        },
        {
          "output_type": "display_data",
          "data": {
            "text/plain": [
              "Downloading (…)solve/main/vocab.txt:   0%|          | 0.00/232k [00:00<?, ?B/s]"
            ],
            "application/vnd.jupyter.widget-view+json": {
              "version_major": 2,
              "version_minor": 0,
              "model_id": "49657db8595f4affbe3b35e386be46c1"
            }
          },
          "metadata": {}
        },
        {
          "output_type": "display_data",
          "data": {
            "text/plain": [
              "Downloading (…)/main/tokenizer.json:   0%|          | 0.00/466k [00:00<?, ?B/s]"
            ],
            "application/vnd.jupyter.widget-view+json": {
              "version_major": 2,
              "version_minor": 0,
              "model_id": "0306a2c1843b4183bfda5ea033d95a14"
            }
          },
          "metadata": {}
        },
        {
          "output_type": "stream",
          "name": "stderr",
          "text": [
            "The tokenizer class you load from this checkpoint is not the same type as the class this function is called from. It may result in unexpected tokenization. \n",
            "The tokenizer class you load from this checkpoint is 'DPRQuestionEncoderTokenizer'. \n",
            "The class this function is called from is 'DPRContextEncoderTokenizerFast'.\n"
          ]
        }
      ]
    },
    {
      "cell_type": "code",
      "source": [
        "# from sklearn.metrics.pairwise import cosine_similarity\n",
        "\n",
        "# def is_relevant(question_embedding, passage):\n",
        "#     # question_embedding = embed_question(question)\n",
        "#     passage_embedding = embed_passage(passage)\n",
        "    \n",
        "#     similarity_score = cosine_similarity(question_embedding, passage_embedding)\n",
        "#     print(f\"Similarity score: {similarity_score}\")\n",
        "#     # Define a threshold to determine relevance\n",
        "#     relevance_threshold = 0.525\n",
        "    \n",
        "#     if similarity_score > relevance_threshold:\n",
        "#         return True\n",
        "#     else:\n",
        "#         return False"
      ],
      "metadata": {
        "id": "9yovnHrSqcAR"
      },
      "execution_count": null,
      "outputs": []
    },
    {
      "cell_type": "code",
      "source": [
        "from sklearn.feature_extraction.text import TfidfVectorizer\n",
        "!pip install -U scikit-learn\n",
        "!pip install rank-bm25\n",
        "\n",
        "from sklearn.metrics.pairwise import cosine_similarity\n"
      ],
      "metadata": {
        "id": "-wUhSur-rFiK",
        "outputId": "e1529f3a-91dd-4b26-e452-68b333e7dc42",
        "colab": {
          "base_uri": "https://localhost:8080/"
        }
      },
      "execution_count": null,
      "outputs": [
        {
          "output_type": "stream",
          "name": "stdout",
          "text": [
            "Looking in indexes: https://pypi.org/simple, https://us-python.pkg.dev/colab-wheels/public/simple/\n",
            "Requirement already satisfied: scikit-learn in /usr/local/lib/python3.10/dist-packages (1.2.2)\n",
            "Requirement already satisfied: numpy>=1.17.3 in /usr/local/lib/python3.10/dist-packages (from scikit-learn) (1.22.4)\n",
            "Requirement already satisfied: scipy>=1.3.2 in /usr/local/lib/python3.10/dist-packages (from scikit-learn) (1.10.1)\n",
            "Requirement already satisfied: joblib>=1.1.1 in /usr/local/lib/python3.10/dist-packages (from scikit-learn) (1.2.0)\n",
            "Requirement already satisfied: threadpoolctl>=2.0.0 in /usr/local/lib/python3.10/dist-packages (from scikit-learn) (3.1.0)\n",
            "Looking in indexes: https://pypi.org/simple, https://us-python.pkg.dev/colab-wheels/public/simple/\n",
            "Collecting rank-bm25\n",
            "  Downloading rank_bm25-0.2.2-py3-none-any.whl (8.6 kB)\n",
            "Requirement already satisfied: numpy in /usr/local/lib/python3.10/dist-packages (from rank-bm25) (1.22.4)\n",
            "Installing collected packages: rank-bm25\n",
            "Successfully installed rank-bm25-0.2.2\n"
          ]
        }
      ]
    },
    {
      "cell_type": "code",
      "source": [
        "from sklearn.feature_extraction.text import TfidfVectorizer\n",
        "from rank_bm25 import BM25Okapi"
      ],
      "metadata": {
        "id": "NlqY9xxnsGIW"
      },
      "execution_count": null,
      "outputs": []
    },
    {
      "cell_type": "markdown",
      "source": [
        "\n",
        "\n",
        "---\n",
        "\n",
        "\n",
        "1. **Tokenization and Preprocessing:** The function takes a query and a list of passages as input. It tokenizes both the query and passages using the TfidfVectorizer's tokenization function. \n",
        "\n",
        "2. **BM25 Scores Calculation:** The code calculates BM25 scores for the passages based on their relevance to the query. \n",
        "\n",
        "    BM25 is a ranking function commonly used in information retrieval. The BM25Okapi class is initialized with the passage tokens, and the get_scores() method is called with the query tokens to obtain the BM25 scores. \n",
        "\n",
        "\n",
        "3. **Passage Classification:** The code classifies the passages as positive or negative based on a relevance threshold (relevance_threshold). Passages with scores higher than the threshold are considered positive, while passages with scores lower or equal to the threshold are considered negative. \n",
        "\n",
        "\n",
        "---\n",
        "\n"
      ],
      "metadata": {
        "id": "KdpmJYo7azek"
      }
    },
    {
      "cell_type": "code",
      "source": [
        "def classify_passages(query, passages, relevance_threshold=0.5):\n",
        "    # Tokenize and preprocess the query and passages\n",
        "    tokenizer = TfidfVectorizer().build_tokenizer()\n",
        "    query_tokens = tokenizer(query)\n",
        "    passage_tokens = [tokenizer(passage) for passage in passages]\n",
        "\n",
        "    # Calculate the BM25 scores\n",
        "    bm25 = BM25Okapi(passage_tokens)\n",
        "    scores = bm25.get_scores(query_tokens)\n",
        "     # Print the scores\n",
        "    print(\"Scores:\")\n",
        "    for score in scores:\n",
        "        print(\"{:.6f}\".format(score))\n",
        "    # Classify passages as positive or negative based on relevance threshold\n",
        "    positive_passages = []\n",
        "    negative_passages = []\n",
        "    for passage, score in zip(passages, scores):\n",
        "        if score > relevance_threshold:\n",
        "            positive_passages.append(passage)\n",
        "        else:\n",
        "            negative_passages.append(passage)\n",
        "\n",
        "    return positive_passages, negative_passages\n"
      ],
      "metadata": {
        "id": "8t52YvaisFeY"
      },
      "execution_count": null,
      "outputs": []
    },
    {
      "cell_type": "code",
      "source": [
        "def embed_question(question):\n",
        "    q_encoder_model_name = \"facebook/dpr-question_encoder-single-nq-base\"\n",
        "    q_tokenizer = DPRQuestionEncoderTokenizerFast.from_pretrained(q_encoder_model_name)\n",
        "    q_encoder = DPRQuestionEncoder.from_pretrained(q_encoder_model_name)\n",
        "    \n",
        "    input_ids = q_tokenizer.encode(question, truncation=True, padding=\"longest\", return_tensors=\"pt\")\n",
        "    input_ids = input_ids.to(torch.device(\"cuda\" if torch.cuda.is_available() else \"cpu\"))\n",
        "    \n",
        "    with torch.no_grad():\n",
        "        outputs = q_encoder(input_ids=input_ids)\n",
        "    \n",
        "    embeddings = outputs.pooler_output\n",
        "    \n",
        "    return embeddings\n",
        "\n",
        "def embed_passage(passage):\n",
        "    ctx_encoder_model_name = \"facebook/dpr-ctx_encoder-single-nq-base\"\n",
        "    ctx_tokenizer = DPRContextEncoderTokenizerFast.from_pretrained(ctx_encoder_model_name)\n",
        "    ctx_encoder = DPRContextEncoder.from_pretrained(ctx_encoder_model_name)\n",
        "    \n",
        "    input_ids = ctx_tokenizer.encode(passage, truncation=True, padding=\"longest\", return_tensors=\"pt\")\n",
        "    input_ids = input_ids.to(torch.device(\"cuda\" if torch.cuda.is_available() else \"cpu\"))\n",
        "    \n",
        "    with torch.no_grad():\n",
        "        outputs = ctx_encoder(input_ids=input_ids)\n",
        "    \n",
        "    embeddings = outputs.pooler_output\n",
        "    \n",
        "    return embeddings \n"
      ],
      "metadata": {
        "id": "2K8PP_6_qVab"
      },
      "execution_count": null,
      "outputs": []
    },
    {
      "cell_type": "code",
      "source": [
        "\n",
        "# positive_passages = []\n",
        "# negative_passages = []\n",
        "question = \"When did the GARDASIL 9 recommendations change? What were the past three recommendation changes for GARDASIL 9? Is GARDASIL 9 recommended for Adults? Does the ACIP recommend one dose GARDASIL 9?\"\n",
        "# question_embedding = embed_question(question)\n",
        "# # for passage in passages:\n",
        "# #   if is_relevant(question_embedding, passage) == True:\n",
        "# #     positive_passages.append(passage)\n",
        "# #   else :\n",
        "# #     negative_passages.append(passage)\n",
        "\n",
        "positive_passages, negative_passages = classify_passages(question, passages)\n",
        "print(f\"Positive Passages:{len(positive_passages)}\")\n",
        "\n",
        "print(f\"\\nNegative Passages:{len(negative_passages)}\")\n"
      ],
      "metadata": {
        "id": "p1DU_05Oqkv9",
        "outputId": "d5727506-cee4-41ad-81a9-ce57531ae22e",
        "colab": {
          "base_uri": "https://localhost:8080/"
        }
      },
      "execution_count": null,
      "outputs": [
        {
          "output_type": "stream",
          "name": "stdout",
          "text": [
            "Scores:\n",
            "1.597676\n",
            "10.256800\n",
            "2.248296\n",
            "2.726159\n",
            "1.608010\n",
            "2.832543\n",
            "8.269542\n",
            "0.000000\n",
            "1.695754\n",
            "2.233744\n",
            "4.950032\n",
            "0.000000\n",
            "4.949462\n",
            "0.000000\n",
            "2.092012\n",
            "4.729205\n",
            "1.650717\n",
            "0.000000\n",
            "3.544630\n",
            "5.576767\n",
            "2.248296\n",
            "0.000000\n",
            "0.000000\n",
            "3.822865\n",
            "5.576767\n",
            "1.695754\n",
            "0.000000\n",
            "0.000000\n",
            "2.306269\n",
            "1.618478\n",
            "0.000000\n",
            "0.000000\n",
            "0.000000\n",
            "0.000000\n",
            "0.000000\n",
            "3.749634\n",
            "8.021948\n",
            "4.252947\n",
            "3.749634\n",
            "1.661750\n",
            "2.349866\n",
            "2.726159\n",
            "0.000000\n",
            "1.577403\n",
            "3.478969\n",
            "0.000000\n",
            "0.000000\n",
            "0.000000\n",
            "0.000000\n",
            "6.160499\n",
            "8.905530\n",
            "6.526248\n",
            "5.880108\n",
            "0.000000\n",
            "4.032899\n",
            "0.000000\n",
            "4.106091\n",
            "3.679241\n",
            "0.000000\n",
            "0.000000\n",
            "0.000000\n",
            "1.528900\n",
            "1.538360\n",
            "1.672932\n",
            "2.253996\n",
            "7.072148\n",
            "0.000000\n",
            "0.000000\n",
            "0.000000\n",
            "0.000000\n",
            "0.000000\n",
            "0.000000\n",
            "2.317016\n",
            "3.243882\n",
            "0.000000\n",
            "0.000000\n",
            "0.000000\n",
            "22.446793\n",
            "0.000000\n",
            "0.000000\n",
            "3.954943\n",
            "2.144441\n",
            "0.000000\n",
            "0.000000\n",
            "0.000000\n",
            "0.000000\n",
            "0.000000\n",
            "0.000000\n",
            "0.000000\n",
            "0.000000\n",
            "5.083464\n",
            "0.000000\n",
            "0.000000\n",
            "0.000000\n",
            "0.000000\n",
            "4.839860\n",
            "0.000000\n",
            "3.094107\n",
            "0.000000\n",
            "0.000000\n",
            "0.000000\n",
            "0.000000\n",
            "0.000000\n",
            "0.000000\n",
            "4.249670\n",
            "0.000000\n",
            "0.000000\n",
            "0.000000\n",
            "0.000000\n",
            "0.000000\n",
            "0.000000\n",
            "0.000000\n",
            "4.551100\n",
            "0.000000\n",
            "0.000000\n",
            "5.282025\n",
            "2.042086\n",
            "4.320093\n",
            "2.228203\n",
            "0.000000\n",
            "0.000000\n",
            "0.000000\n",
            "0.000000\n",
            "0.000000\n",
            "0.000000\n",
            "0.000000\n",
            "0.000000\n",
            "0.000000\n",
            "2.318774\n",
            "0.000000\n",
            "0.000000\n",
            "0.000000\n",
            "7.991606\n",
            "0.000000\n",
            "7.906008\n",
            "5.114462\n",
            "1.501204\n",
            "2.726159\n",
            "2.639334\n",
            "0.000000\n",
            "3.809444\n",
            "0.000000\n",
            "0.000000\n",
            "4.886817\n",
            "1.767358\n",
            "0.000000\n",
            "3.167213\n",
            "2.176054\n",
            "3.126663\n",
            "0.000000\n",
            "0.000000\n",
            "2.649628\n",
            "1.855942\n",
            "5.903590\n",
            "2.278554\n",
            "4.514921\n",
            "0.000000\n",
            "1.577403\n",
            "1.528900\n",
            "5.107829\n",
            "5.042964\n",
            "3.272170\n",
            "1.567457\n",
            "0.000000\n",
            "2.306269\n",
            "0.000000\n",
            "0.000000\n",
            "0.000000\n",
            "0.000000\n",
            "5.562080\n",
            "0.000000\n",
            "0.000000\n",
            "0.000000\n",
            "0.000000\n",
            "0.000000\n",
            "2.349866\n",
            "2.919925\n",
            "0.000000\n",
            "0.000000\n",
            "3.326305\n",
            "0.000000\n",
            "0.000000\n",
            "5.257308\n",
            "2.773676\n",
            "0.000000\n",
            "0.000000\n",
            "2.079303\n",
            "0.000000\n",
            "2.853841\n",
            "2.020510\n",
            "2.020510\n",
            "1.915962\n",
            "1.577403\n",
            "1.547938\n",
            "0.000000\n",
            "0.000000\n",
            "0.000000\n",
            "0.000000\n",
            "2.317016\n",
            "7.364323\n",
            "2.218831\n",
            "6.945725\n",
            "4.165020\n",
            "0.000000\n",
            "0.000000\n",
            "0.000000\n",
            "0.000000\n",
            "0.000000\n",
            "0.000000\n",
            "1.695754\n",
            "2.920724\n",
            "0.000000\n",
            "1.587475\n",
            "2.972288\n",
            "0.000000\n",
            "0.000000\n",
            "1.903489\n",
            "4.449751\n",
            "0.000000\n",
            "0.000000\n",
            "1.587475\n",
            "2.008277\n",
            "2.317016\n",
            "0.000000\n",
            "1.557637\n",
            "7.113909\n",
            "9.639466\n",
            "0.000000\n",
            "0.000000\n",
            "3.189898\n",
            "0.000000\n",
            "5.545636\n",
            "4.005450\n",
            "0.000000\n",
            "2.566672\n",
            "4.695733\n",
            "2.285071\n",
            "1.597676\n",
            "0.000000\n",
            "0.000000\n",
            "0.000000\n",
            "0.000000\n",
            "3.131528\n",
            "5.115514\n",
            "0.000000\n",
            "1.629084\n",
            "0.000000\n",
            "2.176054\n",
            "0.000000\n",
            "6.464558\n",
            "0.000000\n",
            "0.000000\n",
            "0.000000\n",
            "1.557637\n",
            "0.000000\n",
            "7.208843\n",
            "0.000000\n",
            "2.171653\n",
            "0.000000\n",
            "0.000000\n",
            "0.000000\n",
            "0.000000\n",
            "0.000000\n",
            "0.000000\n",
            "0.000000\n",
            "0.000000\n",
            "3.175103\n",
            "2.092012\n",
            "1.650717\n",
            "8.361249\n",
            "1.672932\n",
            "2.233466\n",
            "0.000000\n",
            "0.000000\n",
            "2.889194\n",
            "0.000000\n",
            "9.389237\n",
            "2.813187\n",
            "2.303171\n",
            "0.000000\n",
            "0.000000\n",
            "0.000000\n",
            "2.034387\n",
            "4.133489\n",
            "0.000000\n",
            "2.782144\n",
            "4.025604\n",
            "0.000000\n",
            "2.597294\n",
            "1.767358\n",
            "3.330122\n",
            "0.000000\n",
            "3.855449\n",
            "4.956777\n",
            "0.000000\n",
            "0.000000\n",
            "0.000000\n",
            "1.788701\n",
            "0.000000\n",
            "2.626138\n",
            "1.915962\n",
            "2.685662\n",
            "1.810567\n",
            "2.697892\n",
            "0.000000\n",
            "2.661531\n",
            "3.656262\n",
            "3.950876\n",
            "2.976318\n",
            "1.891494\n",
            "0.000000\n",
            "3.764524\n",
            "0.000000\n",
            "3.135470\n",
            "2.171653\n",
            "2.157961\n",
            "0.000000\n",
            "0.000000\n",
            "0.000000\n",
            "0.000000\n",
            "0.000000\n",
            "0.000000\n",
            "0.000000\n",
            "2.006822\n",
            "1.979995\n",
            "0.000000\n",
            "0.000000\n",
            "0.000000\n",
            "2.092012\n",
            "2.171653\n",
            "2.614549\n",
            "0.000000\n",
            "2.920724\n",
            "0.000000\n",
            "0.000000\n",
            "0.000000\n",
            "2.976318\n",
            "1.629084\n",
            "0.000000\n",
            "0.000000\n",
            "1.855942\n",
            "3.832308\n",
            "2.867654\n",
            "1.879493\n",
            "4.475554\n",
            "3.435100\n",
            "2.131089\n",
            "0.000000\n",
            "0.000000\n",
            "0.000000\n",
            "0.000000\n",
            "1.706277\n",
            "3.073833\n",
            "2.303171\n",
            "0.000000\n",
            "0.000000\n",
            "0.000000\n",
            "0.000000\n",
            "0.000000\n",
            "0.000000\n",
            "0.000000\n",
            "1.979995\n",
            "5.813365\n",
            "2.176054\n",
            "5.742444\n",
            "10.318579\n",
            "0.000000\n",
            "5.569517\n",
            "7.581454\n",
            "3.871887\n",
            "2.233466\n",
            "8.954467\n",
            "1.928435\n",
            "5.762999\n",
            "0.000000\n",
            "3.145920\n",
            "5.354866\n",
            "6.413316\n",
            "2.293990\n",
            "0.000000\n",
            "0.000000\n",
            "2.374419\n",
            "2.287777\n",
            "4.451602\n",
            "0.000000\n",
            "0.000000\n",
            "0.000000\n",
            "2.760751\n",
            "0.000000\n",
            "1.608010\n",
            "1.557637\n",
            "0.000000\n",
            "0.000000\n",
            "1.707400\n",
            "2.213853\n",
            "1.547938\n",
            "0.000000\n",
            "0.000000\n",
            "0.000000\n",
            "0.000000\n",
            "0.000000\n",
            "0.000000\n",
            "0.000000\n",
            "0.000000\n",
            "0.000000\n",
            "0.000000\n",
            "0.000000\n",
            "0.000000\n",
            "0.000000\n",
            "4.886587\n",
            "0.000000\n",
            "0.000000\n",
            "0.000000\n",
            "0.000000\n",
            "0.000000\n",
            "0.000000\n",
            "0.000000\n",
            "0.000000\n",
            "0.000000\n",
            "0.000000\n",
            "0.000000\n",
            "0.000000\n",
            "0.000000\n",
            "0.000000\n",
            "0.000000\n",
            "0.000000\n",
            "0.000000\n",
            "0.000000\n",
            "0.000000\n",
            "0.000000\n",
            "0.000000\n",
            "0.000000\n",
            "0.000000\n",
            "0.000000\n",
            "0.000000\n",
            "0.000000\n",
            "0.000000\n",
            "1.971511\n",
            "0.000000\n",
            "0.000000\n",
            "0.000000\n",
            "0.000000\n",
            "0.000000\n",
            "0.000000\n",
            "0.000000\n",
            "0.000000\n",
            "0.000000\n",
            "1.474493\n",
            "0.000000\n",
            "0.000000\n",
            "0.000000\n",
            "2.939023\n",
            "0.000000\n",
            "0.000000\n",
            "0.000000\n",
            "0.000000\n",
            "0.000000\n",
            "0.000000\n",
            "0.000000\n",
            "0.000000\n",
            "0.000000\n",
            "0.000000\n",
            "0.000000\n",
            "0.000000\n",
            "Positive Passages:208\n",
            "\n",
            "Negative Passages:256\n"
          ]
        }
      ]
    },
    {
      "cell_type": "markdown",
      "source": [
        "\n",
        "\n",
        "---\n",
        "\n",
        "\n",
        "* **Here, a dataset that pairs positive passages with randomly selected subsets of negative passages is generated.**\n",
        "\n",
        "* **Each example in the dataset consists of a positive passage and three associated negative passages. And this is used for passage ranking and information retrieval.**\n",
        "\n",
        "\n",
        "\n",
        "---\n",
        "\n"
      ],
      "metadata": {
        "id": "HKGlIinzbajV"
      }
    },
    {
      "cell_type": "code",
      "source": [
        "import random\n",
        "dataset = []\n",
        "\n",
        "for positive_passage in positive_passages:\n",
        "    # Randomly select a subset of negative passages\n",
        "    negative_subset = random.sample(negative_passages, k=3)\n",
        "    \n",
        "    # Create a dictionary with positive and negative passages\n",
        "    example = {\n",
        "        \"positive_passages\": positive_passage,\n",
        "        \"negative_passages\": negative_subset\n",
        "    }\n",
        "    \n",
        "    # Add the example to the dataset\n",
        "    dataset.append(example) "
      ],
      "metadata": {
        "id": "lyiw1VfCqnUE"
      },
      "execution_count": null,
      "outputs": []
    },
    {
      "cell_type": "markdown",
      "source": [
        "#Contrastive Learning"
      ],
      "metadata": {
        "id": "GbojQadRcTUX"
      }
    },
    {
      "cell_type": "markdown",
      "source": [
        "\n",
        "\n",
        "---\n",
        "\n",
        "\n",
        "1. **Positive and Negative Examples:** The \n",
        "code pairs positive passages (retrieved based on relevance to a query) with randomly selected negative passages. Positive passages are considered relevant to the query, while negative passages are considered irrelevant.\n",
        "\n",
        "2. **Siamese-like Architecture:** The code utilizes a siamese-like architecture, where both the positive and negative passages are encoded using the same context encoder. This ensures that the embeddings are derived from the same feature space.\n",
        "\n",
        "3. **Embedding Comparison:** After encoding the positive and negative passages, their embeddings are extracted. The embeddings capture the contextual representation of the passages.\n",
        "\n",
        "4. **Similarity Calculation: **The code calculates the similarity scores between the positive and negative embeddings using cosine similarity. Higher similarity scores indicate greater similarity between the positive and negative passages.\n",
        "\n",
        "5. **Margin Ranking Loss:** The contrastive learning objective is to maximize the similarity between positive examples and minimize the similarity between negative examples. The code employs the margin ranking loss function, which encourages a margin (specified by the margin_loss hyperparameter) between the positive and negative similarity scores. The loss penalizes dissimilarity between positive examples and similarity between negative examples.\n",
        "\n",
        "6. **Optimization:** The loss is backpropagated, and the optimizer updates the parameters of the context encoder based on the computed gradients. The learning rate scheduler adjusts the learning rate over epochs to fine-tune the training process. \n",
        "\n",
        "\n",
        "\n",
        "---\n",
        "\n"
      ],
      "metadata": {
        "id": "HTIf3EDLcHLj"
      }
    },
    {
      "cell_type": "code",
      "source": [
        "# Define hyperparameters\n",
        "batch_size = 16\n",
        "learning_rate = 2e-5\n",
        "weight_decay = 0.01\n",
        "margin_loss = 0.2\n",
        "\n",
        "# Define optimizer and learning rate scheduler\n",
        "optimizer = torch.optim.AdamW(ctx_encoder.parameters(), lr=learning_rate, weight_decay=weight_decay)\n",
        "scheduler = torch.optim.lr_scheduler.StepLR(optimizer, step_size=1, gamma=0.1)\n",
        "\n",
        "# Define loss function\n",
        "loss_fn = torch.nn.MarginRankingLoss(margin=margin_loss)\n",
        "\n",
        "# Indexing and encoding steps\n",
        "\n",
        "# Define your dataset and other necessary preprocessing steps\n",
        "\n",
        "# Training loop\n",
        "num_epochs = 5\n",
        "margin = 0.3\n",
        "\n",
        "for epoch in range(num_epochs):\n",
        "    print(f\"Epochs: {epoch}\")\n",
        "    total_loss = 0.0\n",
        "    ctx_encoder.train()\n",
        "    for i in range(0, len(dataset)):\n",
        "        optimizer.zero_grad()\n",
        "\n",
        "        # Get a batch of positive and negative passages\n",
        "        batch = dataset[i]\n",
        "        positive_passages = batch[\"positive_passages\"]\n",
        "        negative_passages = batch[\"negative_passages\"]\n",
        "\n",
        "        # Encode passages\n",
        "      \n",
        "        positive_encodings = ctx_tokenizer(positive_passages, truncation=True, padding=True, return_tensors=\"pt\").to(device)\n",
        "        negative_encodings = ctx_tokenizer(negative_passages, truncation=True, padding=True, return_tensors=\"pt\").to(device)\n",
        "\n",
        "        # Pass the encodings through the context encoder\n",
        "        positive_outputs = ctx_encoder(**positive_encodings)\n",
        "        negative_outputs = ctx_encoder(**negative_encodings) \n",
        "\n",
        "        # Get the pooler output\n",
        "        positive_embeddings = positive_outputs.pooler_output\n",
        "        negative_embeddings = negative_outputs.pooler_output\n",
        "\n",
        "        # Calculate similarity scores\n",
        "        similarity_scores = torch.cosine_similarity(positive_embeddings, negative_embeddings)\n",
        "        # print(f\"Simliarity score: {similarity_scores}\")\n",
        "        # similarity_scores.requires_grad = True \n",
        "\n",
        "        target = torch.ones_like(similarity_scores)\n",
        "        target[0] = -1\n",
        "\n",
        "        # Calculate loss\n",
        "        # loss = torch.max(torch.zeros_like(target), similarity_scores - similarity_scores[0] + margin).mean()\n",
        "        # loss = torch.max(torch.zeros_like(target), -similarity_scores + margin).mean()\n",
        "        # print(f\"Loss : {loss}\")\n",
        "        # loss = loss_fn(similarity_scores, target)\n",
        "        loss = loss_fn(similarity_scores, torch.zeros_like(target), target)\n",
        "        print(f\"Loss : {loss}\")\n",
        "        # Backpropagation and optimization\n",
        "        loss.backward()\n",
        "        optimizer.step()\n",
        "\n",
        "        total_loss += loss.item()\n",
        "\n",
        "    scheduler.step()\n",
        "\n",
        "    avg_loss = total_loss / len(dataset)\n",
        "    print(f\"Epoch {epoch + 1}/{num_epochs} - Loss: {avg_loss:.4f}\")\n",
        "\n",
        "# Save the trained model\n",
        "output_dir = \"path_to_save_model\"\n",
        "ctx_encoder.save_pretrained(output_dir)"
      ],
      "metadata": {
        "id": "qAmiaBsgqoHZ",
        "outputId": "554d539d-0c03-441b-fb89-abde75d688b9",
        "colab": {
          "base_uri": "https://localhost:8080/"
        }
      },
      "execution_count": null,
      "outputs": [
        {
          "output_type": "stream",
          "name": "stdout",
          "text": [
            "Epochs: 0\n",
            "Loss : 0.32873761653900146\n",
            "Loss : 0.29126638174057007\n",
            "Loss : 0.29248708486557007\n",
            "Loss : 0.23882804811000824\n",
            "Loss : 0.27242520451545715\n",
            "Loss : 0.26231077313423157\n",
            "Loss : 0.1850196123123169\n",
            "Loss : 0.21662765741348267\n",
            "Loss : 0.16705918312072754\n",
            "Loss : 0.18486924469470978\n",
            "Loss : 0.1537376046180725\n",
            "Loss : 0.14537380635738373\n",
            "Loss : 0.14448942244052887\n",
            "Loss : 0.1460171937942505\n",
            "Loss : 0.12436554580926895\n",
            "Loss : 0.18259753286838531\n",
            "Loss : 0.16982503235340118\n",
            "Loss : 0.18792665004730225\n",
            "Loss : 0.14476056396961212\n",
            "Loss : 0.1449338048696518\n",
            "Loss : 0.15690357983112335\n",
            "Loss : 0.2046574205160141\n",
            "Loss : 0.14760838449001312\n",
            "Loss : 0.20242531597614288\n",
            "Loss : 0.20421560108661652\n",
            "Loss : 0.13987012207508087\n",
            "Loss : 0.11741024255752563\n",
            "Loss : 0.1686539202928543\n",
            "Loss : 0.16138826310634613\n",
            "Loss : 0.2262677699327469\n",
            "Loss : 0.17341725528240204\n",
            "Loss : 0.10813071578741074\n",
            "Loss : 0.13260366022586823\n",
            "Loss : 0.1593995839357376\n",
            "Loss : 0.3270825743675232\n",
            "Loss : 0.218398317694664\n",
            "Loss : 0.2860676348209381\n",
            "Loss : 0.1944371610879898\n",
            "Loss : 0.23375631868839264\n",
            "Loss : 0.2569756805896759\n",
            "Loss : 0.20231211185455322\n",
            "Loss : 0.18189074099063873\n",
            "Loss : 0.17492686212062836\n",
            "Loss : 0.14278675615787506\n",
            "Loss : 0.19089943170547485\n",
            "Loss : 0.18116600811481476\n",
            "Loss : 0.13200081884860992\n",
            "Loss : 0.13971669971942902\n",
            "Loss : 0.10656920820474625\n",
            "Loss : 0.15701858699321747\n",
            "Loss : 0.1644076555967331\n",
            "Loss : 0.12469617277383804\n",
            "Loss : 0.16042214632034302\n",
            "Loss : 0.14260803163051605\n",
            "Loss : 0.14061738550662994\n",
            "Loss : 0.12171975523233414\n",
            "Loss : 0.15025463700294495\n",
            "Loss : 0.15453611314296722\n",
            "Loss : 0.22588996589183807\n",
            "Loss : 0.19943565130233765\n",
            "Loss : 0.10939308255910873\n",
            "Loss : 0.1964857131242752\n",
            "Loss : 0.1654355376958847\n",
            "Loss : 0.1900053471326828\n",
            "Loss : 0.10326123237609863\n",
            "Loss : 0.16533386707305908\n",
            "Loss : 0.16000688076019287\n",
            "Loss : 0.096243716776371\n",
            "Loss : 0.160459503531456\n",
            "Loss : 0.14793919026851654\n",
            "Loss : 0.12986473739147186\n",
            "Loss : 0.16235947608947754\n",
            "Loss : 0.1500934213399887\n",
            "Loss : 0.09773226827383041\n",
            "Loss : 0.1831733137369156\n",
            "Loss : 0.09826475381851196\n",
            "Loss : 0.13944457471370697\n",
            "Loss : 0.14336657524108887\n",
            "Loss : 0.22392944991588593\n",
            "Loss : 0.13286547362804413\n",
            "Loss : 0.1533421277999878\n",
            "Loss : 0.12101900577545166\n",
            "Loss : 0.1379266232252121\n",
            "Loss : 0.15386559069156647\n",
            "Loss : 0.1399463564157486\n",
            "Loss : 0.2156956046819687\n",
            "Loss : 0.17155008018016815\n",
            "Loss : 0.15358863770961761\n",
            "Loss : 0.11861606687307358\n",
            "Loss : 0.1360088437795639\n",
            "Loss : 0.14298421144485474\n",
            "Loss : 0.16297762095928192\n",
            "Loss : 0.15624414384365082\n",
            "Loss : 0.13957811892032623\n",
            "Loss : 0.17818157374858856\n",
            "Loss : 0.1691495031118393\n",
            "Loss : 0.20254117250442505\n",
            "Loss : 0.12645666301250458\n",
            "Loss : 0.12748558819293976\n",
            "Loss : 0.11430233716964722\n",
            "Loss : 0.1433963030576706\n",
            "Loss : 0.14015966653823853\n",
            "Loss : 0.15138478577136993\n",
            "Loss : 0.15376783907413483\n",
            "Loss : 0.14479953050613403\n",
            "Loss : 0.1152811050415039\n",
            "Loss : 0.12327756732702255\n",
            "Loss : 0.12913353741168976\n",
            "Loss : 0.17012901604175568\n",
            "Loss : 0.19063912332057953\n",
            "Loss : 0.17760221660137177\n",
            "Loss : 0.11843886226415634\n",
            "Loss : 0.13898029923439026\n",
            "Loss : 0.1982284039258957\n",
            "Loss : 0.15871252119541168\n",
            "Loss : 0.1570725440979004\n",
            "Loss : 0.14332781732082367\n",
            "Loss : 0.12533579766750336\n",
            "Loss : 0.17470140755176544\n",
            "Loss : 0.1646822839975357\n",
            "Loss : 0.13977621495723724\n",
            "Loss : 0.15811486542224884\n",
            "Loss : 0.20298433303833008\n",
            "Loss : 0.1461850255727768\n",
            "Loss : 0.20697613060474396\n",
            "Loss : 0.16851358115673065\n",
            "Loss : 0.1663341075181961\n",
            "Loss : 0.19229619204998016\n",
            "Loss : 0.14915287494659424\n",
            "Loss : 0.1517568677663803\n",
            "Loss : 0.1277511715888977\n",
            "Loss : 0.13959486782550812\n",
            "Loss : 0.19557984173297882\n",
            "Loss : 0.18284142017364502\n",
            "Loss : 0.1757199615240097\n",
            "Loss : 0.2149205058813095\n",
            "Loss : 0.13436569273471832\n",
            "Loss : 0.20132209360599518\n",
            "Loss : 0.1669866293668747\n",
            "Loss : 0.1626846343278885\n",
            "Loss : 0.1896064281463623\n",
            "Loss : 0.181348517537117\n",
            "Loss : 0.14039915800094604\n",
            "Loss : 0.14287219941616058\n",
            "Loss : 0.1594598889350891\n",
            "Loss : 0.13458074629306793\n",
            "Loss : 0.10201718658208847\n",
            "Loss : 0.16723138093948364\n",
            "Loss : 0.13123638927936554\n",
            "Loss : 0.16597270965576172\n",
            "Loss : 0.15619878470897675\n",
            "Loss : 0.1411825567483902\n",
            "Loss : 0.16116251051425934\n",
            "Loss : 0.173543319106102\n",
            "Loss : 0.19047991931438446\n",
            "Loss : 0.14163529872894287\n",
            "Loss : 0.1374063342809677\n",
            "Loss : 0.1455106884241104\n",
            "Loss : 0.13277612626552582\n",
            "Loss : 0.15829971432685852\n",
            "Loss : 0.16227249801158905\n",
            "Loss : 0.14414961636066437\n",
            "Loss : 0.1524079293012619\n",
            "Loss : 0.12061220407485962\n",
            "Loss : 0.14023013412952423\n",
            "Loss : 0.1311957985162735\n",
            "Loss : 0.13132260739803314\n",
            "Loss : 0.16147588193416595\n",
            "Loss : 0.14515329897403717\n",
            "Loss : 0.1606069654226303\n",
            "Loss : 0.17215561866760254\n",
            "Loss : 0.1558273881673813\n",
            "Loss : 0.13518677651882172\n",
            "Loss : 0.13245238363742828\n",
            "Loss : 0.1788312792778015\n",
            "Loss : 0.14472444355487823\n",
            "Loss : 0.12991321086883545\n",
            "Loss : 0.18085192143917084\n",
            "Loss : 0.19344820082187653\n",
            "Loss : 0.16711370646953583\n",
            "Loss : 0.07698025554418564\n",
            "Loss : 0.13567420840263367\n",
            "Loss : 0.14273585379123688\n",
            "Loss : 0.20142771303653717\n",
            "Loss : 0.09139909595251083\n",
            "Loss : 0.12964625656604767\n",
            "Loss : 0.1137157455086708\n",
            "Loss : 0.1509854644536972\n",
            "Loss : 0.10616710036993027\n",
            "Loss : 0.15850426256656647\n",
            "Loss : 0.17029154300689697\n",
            "Loss : 0.14314666390419006\n",
            "Loss : 0.13428793847560883\n",
            "Loss : 0.1837674379348755\n",
            "Loss : 0.14269380271434784\n",
            "Loss : 0.12899978458881378\n",
            "Loss : 0.16189925372600555\n",
            "Loss : 0.07352440804243088\n",
            "Loss : 0.21099157631397247\n",
            "Loss : 0.05179993435740471\n",
            "Loss : 0.15307147800922394\n",
            "Loss : 0.21552342176437378\n",
            "Loss : 0.16681768000125885\n",
            "Loss : 0.12953071296215057\n",
            "Loss : 0.14426852762699127\n",
            "Loss : 0.15684063732624054\n",
            "Loss : 0.15997101366519928\n",
            "Loss : 0.1324838250875473\n",
            "Epoch 1/5 - Loss: 0.1608\n",
            "Epochs: 1\n",
            "Loss : 0.15204884111881256\n",
            "Loss : 0.06215757131576538\n",
            "Loss : 0.1621970385313034\n",
            "Loss : 0.167009174823761\n",
            "Loss : 0.1281834989786148\n",
            "Loss : 0.1858673095703125\n",
            "Loss : 0.1680852621793747\n",
            "Loss : 0.23975485563278198\n",
            "Loss : 0.10607429593801498\n",
            "Loss : 0.10654667019844055\n",
            "Loss : 0.12866748869419098\n",
            "Loss : 0.16509191691875458\n",
            "Loss : 0.09415587037801743\n",
            "Loss : 0.1432092934846878\n",
            "Loss : 0.1701614260673523\n",
            "Loss : 0.10427650809288025\n",
            "Loss : 0.14606720209121704\n",
            "Loss : 0.12341956049203873\n",
            "Loss : 0.1504715383052826\n",
            "Loss : 0.15264691412448883\n",
            "Loss : 0.1454324722290039\n",
            "Loss : 0.10872302204370499\n",
            "Loss : 0.10667890310287476\n",
            "Loss : 0.17243315279483795\n",
            "Loss : 0.18298399448394775\n",
            "Loss : 0.12374284118413925\n",
            "Loss : 0.12533068656921387\n",
            "Loss : 0.19900430738925934\n",
            "Loss : 0.06822321563959122\n",
            "Loss : 0.13085411489009857\n",
            "Loss : 0.07889645546674728\n",
            "Loss : 0.24895115196704865\n",
            "Loss : 0.11755243688821793\n",
            "Loss : 0.1199617013335228\n",
            "Loss : 0.18065589666366577\n",
            "Loss : 0.15106183290481567\n",
            "Loss : 0.17966271936893463\n",
            "Loss : 0.16479629278182983\n",
            "Loss : 0.10303131490945816\n",
            "Loss : 0.1650487631559372\n",
            "Loss : 0.12609940767288208\n",
            "Loss : 0.14059604704380035\n",
            "Loss : 0.14344042539596558\n",
            "Loss : 0.11654609441757202\n",
            "Loss : 0.1282062977552414\n",
            "Loss : 0.08944038301706314\n",
            "Loss : 0.13678358495235443\n",
            "Loss : 0.08315349370241165\n",
            "Loss : 0.11365381628274918\n",
            "Loss : 0.1302427500486374\n",
            "Loss : 0.13236312568187714\n",
            "Loss : 0.15790028870105743\n",
            "Loss : 0.12224862724542618\n",
            "Loss : 0.10291588306427002\n",
            "Loss : 0.11156589537858963\n",
            "Loss : 0.08479038625955582\n",
            "Loss : 0.11494525521993637\n",
            "Loss : 0.15718726813793182\n",
            "Loss : 0.13049718737602234\n",
            "Loss : 0.11921469122171402\n",
            "Loss : 0.13425587117671967\n",
            "Loss : 0.08450410515069962\n",
            "Loss : 0.1115679144859314\n",
            "Loss : 0.11450944095849991\n",
            "Loss : 0.11844675987958908\n",
            "Loss : 0.1637822985649109\n",
            "Loss : 0.14136959612369537\n",
            "Loss : 0.057088881731033325\n",
            "Loss : 0.13832974433898926\n",
            "Loss : 0.12355229258537292\n",
            "Loss : 0.1600043624639511\n",
            "Loss : 0.16003994643688202\n",
            "Loss : 0.1574752777814865\n",
            "Loss : 0.1086738109588623\n",
            "Loss : 0.11899811029434204\n",
            "Loss : 0.1010611280798912\n",
            "Loss : 0.1438029408454895\n",
            "Loss : 0.09791040420532227\n",
            "Loss : 0.1961139291524887\n",
            "Loss : 0.13036073744297028\n",
            "Loss : 0.11167830228805542\n",
            "Loss : 0.14969556033611298\n",
            "Loss : 0.09849605709314346\n",
            "Loss : 0.18956340849399567\n",
            "Loss : 0.10402806848287582\n",
            "Loss : 0.14403529465198517\n",
            "Loss : 0.14989668130874634\n",
            "Loss : 0.09767508506774902\n",
            "Loss : 0.08942369371652603\n",
            "Loss : 0.1333448588848114\n",
            "Loss : 0.12188325077295303\n",
            "Loss : 0.06706026196479797\n",
            "Loss : 0.15648162364959717\n",
            "Loss : 0.15111999213695526\n",
            "Loss : 0.12153717130422592\n",
            "Loss : 0.07396981865167618\n",
            "Loss : 0.08911067992448807\n",
            "Loss : 0.14333873987197876\n",
            "Loss : 0.13200150430202484\n",
            "Loss : 0.09634649753570557\n",
            "Loss : 0.07822677493095398\n",
            "Loss : 0.0745934545993805\n",
            "Loss : 0.11238741874694824\n",
            "Loss : 0.11962006241083145\n",
            "Loss : 0.17174172401428223\n",
            "Loss : 0.08408418297767639\n",
            "Loss : 0.09542664140462875\n",
            "Loss : 0.11050742864608765\n",
            "Loss : 0.10569107532501221\n",
            "Loss : 0.07439230382442474\n",
            "Loss : 0.12286841869354248\n",
            "Loss : 0.09177830070257187\n",
            "Loss : 0.09088269621133804\n",
            "Loss : 0.09127071499824524\n",
            "Loss : 0.1209251657128334\n",
            "Loss : 0.10978847742080688\n",
            "Loss : 0.10418745875358582\n",
            "Loss : 0.10006663203239441\n",
            "Loss : 0.13172583281993866\n",
            "Loss : 0.13289231061935425\n",
            "Loss : 0.08911290019750595\n",
            "Loss : 0.11842993646860123\n",
            "Loss : 0.12485632300376892\n",
            "Loss : 0.09562230855226517\n",
            "Loss : 0.07462633401155472\n",
            "Loss : 0.14598874747753143\n",
            "Loss : 0.10972123593091965\n",
            "Loss : 0.05043334886431694\n",
            "Loss : 0.13154222071170807\n",
            "Loss : 0.10821887105703354\n",
            "Loss : 0.03676125779747963\n",
            "Loss : 0.09581351280212402\n",
            "Loss : 0.1584795117378235\n",
            "Loss : 0.12135807424783707\n",
            "Loss : 0.07176263630390167\n",
            "Loss : 0.1841689795255661\n",
            "Loss : 0.13645316660404205\n",
            "Loss : 0.12616951763629913\n",
            "Loss : 0.11146664619445801\n",
            "Loss : 0.16048939526081085\n",
            "Loss : 0.1257549226284027\n",
            "Loss : 0.09662473201751709\n",
            "Loss : 0.06761612743139267\n",
            "Loss : 0.09353993088006973\n",
            "Loss : 0.09805372357368469\n",
            "Loss : 0.09566336870193481\n",
            "Loss : 0.10559972375631332\n",
            "Loss : 0.1201201006770134\n",
            "Loss : 0.0633830651640892\n",
            "Loss : 0.06339200586080551\n",
            "Loss : 0.09546301513910294\n",
            "Loss : 0.08225958794355392\n",
            "Loss : 0.1029215157032013\n",
            "Loss : 0.03426036238670349\n",
            "Loss : 0.08887192606925964\n",
            "Loss : 0.07835932821035385\n",
            "Loss : 0.1086028590798378\n",
            "Loss : 0.047285277396440506\n",
            "Loss : 0.0745813250541687\n",
            "Loss : 0.10122144967317581\n",
            "Loss : 0.10071847587823868\n",
            "Loss : 0.052061352878808975\n",
            "Loss : 0.12929964065551758\n",
            "Loss : 0.08804263919591904\n",
            "Loss : 0.15174710750579834\n",
            "Loss : 0.08468496054410934\n",
            "Loss : 0.09578654915094376\n",
            "Loss : 0.10850921273231506\n",
            "Loss : 0.1380186378955841\n",
            "Loss : 0.12021923065185547\n",
            "Loss : 0.038915544748306274\n",
            "Loss : 0.09502068907022476\n",
            "Loss : 0.0835888609290123\n",
            "Loss : 0.07551038265228271\n",
            "Loss : 0.1110725924372673\n",
            "Loss : 0.11502823978662491\n",
            "Loss : 0.10417940467596054\n",
            "Loss : 0.12827497720718384\n",
            "Loss : 0.10391869395971298\n",
            "Loss : 0.11947876214981079\n",
            "Loss : 0.07738181203603745\n",
            "Loss : 0.08591095358133316\n",
            "Loss : 0.09164992719888687\n",
            "Loss : 0.14346489310264587\n",
            "Loss : 0.1274264007806778\n",
            "Loss : 0.10462861508131027\n",
            "Loss : 0.1156669482588768\n",
            "Loss : 0.08211813122034073\n",
            "Loss : 0.04158530756831169\n",
            "Loss : 0.14805401861667633\n",
            "Loss : 0.11669009178876877\n",
            "Loss : 0.10286178439855576\n",
            "Loss : 0.12027076631784439\n",
            "Loss : 0.09194570779800415\n",
            "Loss : 0.07358118146657944\n",
            "Loss : 0.07701947540044785\n",
            "Loss : 0.14382724463939667\n",
            "Loss : 0.06471866369247437\n",
            "Loss : 0.10273585468530655\n",
            "Loss : 0.04844025894999504\n",
            "Loss : 0.18049609661102295\n",
            "Loss : 0.09995311498641968\n",
            "Loss : 0.10052168369293213\n",
            "Loss : 0.05867047980427742\n",
            "Loss : 0.10464682430028915\n",
            "Loss : 0.11623009294271469\n",
            "Loss : 0.1410071700811386\n",
            "Loss : 0.10379885882139206\n",
            "Epoch 2/5 - Loss: 0.1163\n",
            "Epochs: 2\n",
            "Loss : 0.09816239029169083\n",
            "Loss : 0.07410284876823425\n",
            "Loss : 0.13265852630138397\n",
            "Loss : 0.20003606379032135\n",
            "Loss : 0.12646499276161194\n",
            "Loss : 0.17549704015254974\n",
            "Loss : 0.1403108388185501\n",
            "Loss : 0.1669720560312271\n",
            "Loss : 0.10863559693098068\n",
            "Loss : 0.12982617318630219\n",
            "Loss : 0.07068430632352829\n",
            "Loss : 0.14735735952854156\n",
            "Loss : 0.0876210555434227\n",
            "Loss : 0.1533328741788864\n",
            "Loss : 0.1575167328119278\n",
            "Loss : 0.10296416282653809\n",
            "Loss : 0.11019668728113174\n",
            "Loss : 0.12296558171510696\n",
            "Loss : 0.11824005842208862\n",
            "Loss : 0.12155016511678696\n",
            "Loss : 0.13165602087974548\n",
            "Loss : 0.11554080992937088\n",
            "Loss : 0.12657617032527924\n",
            "Loss : 0.14814801514148712\n",
            "Loss : 0.1156294122338295\n",
            "Loss : 0.07475102692842484\n",
            "Loss : 0.14343701303005219\n",
            "Loss : 0.13998723030090332\n",
            "Loss : 0.05890151858329773\n",
            "Loss : 0.11328599601984024\n",
            "Loss : 0.13436633348464966\n",
            "Loss : 0.21114611625671387\n",
            "Loss : 0.0667671486735344\n",
            "Loss : 0.11860239505767822\n",
            "Loss : 0.11702444404363632\n",
            "Loss : 0.08948520570993423\n",
            "Loss : 0.13718658685684204\n",
            "Loss : 0.18496227264404297\n",
            "Loss : 0.11657857894897461\n",
            "Loss : 0.16490434110164642\n",
            "Loss : 0.1078745499253273\n",
            "Loss : 0.1458802968263626\n",
            "Loss : 0.10942783951759338\n",
            "Loss : 0.10419017821550369\n",
            "Loss : 0.09006750583648682\n",
            "Loss : 0.10884958505630493\n",
            "Loss : 0.09622687101364136\n",
            "Loss : 0.08630301803350449\n",
            "Loss : 0.09954575449228287\n",
            "Loss : 0.16252155601978302\n",
            "Loss : 0.1131182536482811\n",
            "Loss : 0.11188876628875732\n",
            "Loss : 0.13847322762012482\n",
            "Loss : 0.08141028881072998\n",
            "Loss : 0.08034384250640869\n",
            "Loss : 0.09975170344114304\n",
            "Loss : 0.12276295572519302\n",
            "Loss : 0.09424305707216263\n",
            "Loss : 0.14020277559757233\n",
            "Loss : 0.06442690640687943\n",
            "Loss : 0.05766035243868828\n",
            "Loss : 0.10477036237716675\n",
            "Loss : 0.08103527128696442\n",
            "Loss : 0.08473571389913559\n",
            "Loss : 0.1390703320503235\n",
            "Loss : 0.15536732971668243\n",
            "Loss : 0.086835116147995\n",
            "Loss : 0.07154940068721771\n",
            "Loss : 0.1415492296218872\n",
            "Loss : 0.16843374073505402\n",
            "Loss : 0.13621965050697327\n",
            "Loss : 0.14003948867321014\n",
            "Loss : 0.10644354671239853\n",
            "Loss : 0.091792531311512\n",
            "Loss : 0.06477779895067215\n",
            "Loss : 0.0809856578707695\n",
            "Loss : 0.14926928281784058\n",
            "Loss : 0.10385402292013168\n",
            "Loss : 0.1526588350534439\n",
            "Loss : 0.15007521212100983\n",
            "Loss : 0.11238100379705429\n",
            "Loss : 0.08440340310335159\n",
            "Loss : 0.08671148866415024\n",
            "Loss : 0.09441282600164413\n",
            "Loss : 0.07562249153852463\n",
            "Loss : 0.11818081140518188\n",
            "Loss : 0.13018803298473358\n",
            "Loss : 0.05675184354186058\n",
            "Loss : 0.05347328260540962\n",
            "Loss : 0.11202632635831833\n",
            "Loss : 0.12841041386127472\n",
            "Loss : 0.08095183223485947\n",
            "Loss : 0.16175222396850586\n",
            "Loss : 0.1651197224855423\n",
            "Loss : 0.07283170521259308\n",
            "Loss : 0.05580267310142517\n",
            "Loss : 0.10901320725679398\n",
            "Loss : 0.11677414178848267\n",
            "Loss : 0.11926887184381485\n",
            "Loss : 0.10468420386314392\n",
            "Loss : 0.12243442982435226\n",
            "Loss : 0.05248374864459038\n",
            "Loss : 0.08169195801019669\n",
            "Loss : 0.08679363876581192\n",
            "Loss : 0.15696905553340912\n",
            "Loss : 0.10941871255636215\n",
            "Loss : 0.11911585181951523\n",
            "Loss : 0.0683697983622551\n",
            "Loss : 0.09422094374895096\n",
            "Loss : 0.039518628269433975\n",
            "Loss : 0.12799368798732758\n",
            "Loss : 0.096641905605793\n",
            "Loss : 0.11589399725198746\n",
            "Loss : 0.06271619349718094\n",
            "Loss : 0.12812234461307526\n",
            "Loss : 0.07357754558324814\n",
            "Loss : 0.08461854606866837\n",
            "Loss : 0.05322037264704704\n",
            "Loss : 0.1404414027929306\n",
            "Loss : 0.08918581157922745\n",
            "Loss : 0.1294635385274887\n",
            "Loss : 0.09312242269515991\n",
            "Loss : 0.08956590294837952\n",
            "Loss : 0.08525606244802475\n",
            "Loss : 0.1248939037322998\n",
            "Loss : 0.11096400767564774\n",
            "Loss : 0.11052224785089493\n",
            "Loss : 0.06267993897199631\n",
            "Loss : 0.12756800651550293\n",
            "Loss : 0.07607805728912354\n",
            "Loss : 0.01885286532342434\n",
            "Loss : 0.0703321322798729\n",
            "Loss : 0.16213639080524445\n",
            "Loss : 0.13257290422916412\n",
            "Loss : 0.05321836471557617\n",
            "Loss : 0.13710777461528778\n",
            "Loss : 0.05771910026669502\n",
            "Loss : 0.10104251652956009\n",
            "Loss : 0.10881788283586502\n",
            "Loss : 0.13359279930591583\n",
            "Loss : 0.12084579467773438\n",
            "Loss : 0.09277384728193283\n",
            "Loss : 0.05738341435790062\n",
            "Loss : 0.11010558158159256\n",
            "Loss : 0.09106329828500748\n",
            "Loss : 0.12792152166366577\n",
            "Loss : 0.06891126930713654\n",
            "Loss : 0.11494537442922592\n",
            "Loss : 0.09770689159631729\n",
            "Loss : 0.06459177285432816\n",
            "Loss : 0.04968423768877983\n",
            "Loss : 0.07218103855848312\n",
            "Loss : 0.12845879793167114\n",
            "Loss : 0.047907982021570206\n",
            "Loss : 0.10096710920333862\n",
            "Loss : 0.08663032203912735\n",
            "Loss : 0.10297596454620361\n",
            "Loss : 0.011324415914714336\n",
            "Loss : 0.0560084767639637\n",
            "Loss : 0.07761386781930923\n",
            "Loss : 0.1314842253923416\n",
            "Loss : 0.07289537787437439\n",
            "Loss : 0.10921037197113037\n",
            "Loss : 0.06538224220275879\n",
            "Loss : 0.10325662046670914\n",
            "Loss : 0.07961329072713852\n",
            "Loss : 0.10487604141235352\n",
            "Loss : 0.08350685983896255\n",
            "Loss : 0.13344015181064606\n",
            "Loss : 0.13146771490573883\n",
            "Loss : 0.07143589109182358\n",
            "Loss : 0.07839976996183395\n",
            "Loss : 0.08117657899856567\n",
            "Loss : 0.06706218421459198\n",
            "Loss : 0.07503161579370499\n",
            "Loss : 0.052191391587257385\n",
            "Loss : 0.09909427911043167\n",
            "Loss : 0.1280752420425415\n",
            "Loss : 0.08944511413574219\n",
            "Loss : 0.13293635845184326\n",
            "Loss : 0.07428061217069626\n",
            "Loss : 0.09247223287820816\n",
            "Loss : 0.0846986174583435\n",
            "Loss : 0.13581769168376923\n",
            "Loss : 0.11917515844106674\n",
            "Loss : 0.07966388016939163\n",
            "Loss : 0.061845604330301285\n",
            "Loss : 0.08935613185167313\n",
            "Loss : 0.05698332190513611\n",
            "Loss : 0.14486469328403473\n",
            "Loss : 0.10084553807973862\n",
            "Loss : 0.08460927754640579\n",
            "Loss : 0.08965115994215012\n",
            "Loss : 0.09307330846786499\n",
            "Loss : 0.08540844172239304\n",
            "Loss : 0.11247501522302628\n",
            "Loss : 0.17086757719516754\n",
            "Loss : 0.05740906298160553\n",
            "Loss : 0.11294353008270264\n",
            "Loss : 0.06401854008436203\n",
            "Loss : 0.1360902637243271\n",
            "Loss : 0.10549739003181458\n",
            "Loss : 0.11371752619743347\n",
            "Loss : 0.14308369159698486\n",
            "Loss : 0.14946898818016052\n",
            "Loss : 0.08782847970724106\n",
            "Loss : 0.11168020963668823\n",
            "Loss : 0.1322890967130661\n",
            "Epoch 3/5 - Loss: 0.1051\n",
            "Epochs: 3\n",
            "Loss : 0.08187203109264374\n",
            "Loss : 0.052260518074035645\n",
            "Loss : 0.07879983633756638\n",
            "Loss : 0.2151905745267868\n",
            "Loss : 0.08018044382333755\n",
            "Loss : 0.20606206357479095\n",
            "Loss : 0.14403001964092255\n",
            "Loss : 0.24000126123428345\n",
            "Loss : 0.1142687201499939\n",
            "Loss : 0.09603840112686157\n",
            "Loss : 0.10401928424835205\n",
            "Loss : 0.13776451349258423\n",
            "Loss : 0.08521201461553574\n",
            "Loss : 0.11435169726610184\n",
            "Loss : 0.13812725245952606\n",
            "Loss : 0.06513059884309769\n",
            "Loss : 0.13580866158008575\n",
            "Loss : 0.13014866411685944\n",
            "Loss : 0.08184206485748291\n",
            "Loss : 0.11066343635320663\n",
            "Loss : 0.15128059685230255\n",
            "Loss : 0.12295623868703842\n",
            "Loss : 0.12156756967306137\n",
            "Loss : 0.17180238664150238\n",
            "Loss : 0.16643913090229034\n",
            "Loss : 0.06900990009307861\n",
            "Loss : 0.17470122873783112\n",
            "Loss : 0.1970868706703186\n",
            "Loss : 0.023924345150589943\n",
            "Loss : 0.1612473875284195\n",
            "Loss : 0.07043123990297318\n",
            "Loss : 0.20855338871479034\n",
            "Loss : 0.0511256642639637\n",
            "Loss : 0.13676784932613373\n",
            "Loss : 0.16083970665931702\n",
            "Loss : 0.15019145607948303\n",
            "Loss : 0.1394326090812683\n",
            "Loss : 0.17002974450588226\n",
            "Loss : 0.11391083151102066\n",
            "Loss : 0.14574851095676422\n",
            "Loss : 0.10939544439315796\n",
            "Loss : 0.10955939441919327\n",
            "Loss : 0.11684084683656693\n",
            "Loss : 0.1014699935913086\n",
            "Loss : 0.1021435484290123\n",
            "Loss : 0.09247846156358719\n",
            "Loss : 0.12193252891302109\n",
            "Loss : 0.08750631660223007\n",
            "Loss : 0.1044374331831932\n",
            "Loss : 0.17358970642089844\n",
            "Loss : 0.07309997826814651\n",
            "Loss : 0.13416777551174164\n",
            "Loss : 0.1514311283826828\n",
            "Loss : 0.06185036525130272\n",
            "Loss : 0.09604865312576294\n",
            "Loss : 0.12160996347665787\n",
            "Loss : 0.1549464911222458\n",
            "Loss : 0.10696679353713989\n",
            "Loss : 0.1497935801744461\n",
            "Loss : 0.1125861182808876\n",
            "Loss : 0.07215359061956406\n",
            "Loss : 0.07022985070943832\n",
            "Loss : 0.07472987473011017\n",
            "Loss : 0.09175539016723633\n",
            "Loss : 0.1318848580121994\n",
            "Loss : 0.12626777589321136\n",
            "Loss : 0.09468384832143784\n",
            "Loss : 0.05116121843457222\n",
            "Loss : 0.13425253331661224\n",
            "Loss : 0.14089639484882355\n",
            "Loss : 0.1332833170890808\n",
            "Loss : 0.12485823780298233\n",
            "Loss : 0.10064220428466797\n",
            "Loss : 0.0663166269659996\n",
            "Loss : 0.09626700729131699\n",
            "Loss : 0.08768119663000107\n",
            "Loss : 0.12052249908447266\n",
            "Loss : 0.0926070436835289\n",
            "Loss : 0.16969728469848633\n",
            "Loss : 0.13019932806491852\n",
            "Loss : 0.09133873134851456\n",
            "Loss : 0.13969503343105316\n",
            "Loss : 0.09966043382883072\n",
            "Loss : 0.14343880116939545\n",
            "Loss : 0.07656624168157578\n",
            "Loss : 0.12500105798244476\n",
            "Loss : 0.13035254180431366\n",
            "Loss : 0.048334941267967224\n",
            "Loss : 0.05871947482228279\n",
            "Loss : 0.12905408442020416\n",
            "Loss : 0.06914333254098892\n",
            "Loss : 0.035038869827985764\n",
            "Loss : 0.15588761866092682\n",
            "Loss : 0.18208281695842743\n",
            "Loss : 0.09048569202423096\n",
            "Loss : 0.03298262134194374\n",
            "Loss : 0.09296545386314392\n",
            "Loss : 0.11736354976892471\n",
            "Loss : 0.12278950214385986\n",
            "Loss : 0.07409482449293137\n",
            "Loss : 0.09755656868219376\n",
            "Loss : 0.03885115310549736\n",
            "Loss : 0.09776418656110764\n",
            "Loss : 0.11009323596954346\n",
            "Loss : 0.14451657235622406\n",
            "Loss : 0.07616043835878372\n",
            "Loss : 0.11749563366174698\n",
            "Loss : 0.07095132023096085\n",
            "Loss : 0.09361454099416733\n",
            "Loss : 0.057102274149656296\n",
            "Loss : 0.08006796985864639\n",
            "Loss : 0.1013532280921936\n",
            "Loss : 0.07804013043642044\n",
            "Loss : 0.08961555361747742\n",
            "Loss : 0.12345584481954575\n",
            "Loss : 0.07391831278800964\n",
            "Loss : 0.06415034085512161\n",
            "Loss : 0.08432918041944504\n",
            "Loss : 0.15484122931957245\n",
            "Loss : 0.10591131448745728\n",
            "Loss : 0.11436662077903748\n",
            "Loss : 0.049858208745718\n",
            "Loss : 0.09063255786895752\n",
            "Loss : 0.07644408196210861\n",
            "Loss : 0.07340271025896072\n",
            "Loss : 0.07056606560945511\n",
            "Loss : 0.10540714859962463\n",
            "Loss : 0.05211961641907692\n",
            "Loss : 0.1308785229921341\n",
            "Loss : 0.14115668833255768\n",
            "Loss : 0.021960267797112465\n",
            "Loss : 0.11163284629583359\n",
            "Loss : 0.1424858421087265\n",
            "Loss : 0.12190983444452286\n",
            "Loss : 0.05591249838471413\n",
            "Loss : 0.15112195909023285\n",
            "Loss : 0.053795505315065384\n",
            "Loss : 0.09155858308076859\n",
            "Loss : 0.10092053562402725\n",
            "Loss : 0.13741348683834076\n",
            "Loss : 0.11028452962636948\n",
            "Loss : 0.12857232987880707\n",
            "Loss : 0.10624364018440247\n",
            "Loss : 0.10391386598348618\n",
            "Loss : 0.1153043881058693\n",
            "Loss : 0.09517719596624374\n",
            "Loss : 0.08603958040475845\n",
            "Loss : 0.09141921997070312\n",
            "Loss : 0.11269988864660263\n",
            "Loss : 0.039696358144283295\n",
            "Loss : 0.07071944326162338\n",
            "Loss : 0.10152433067560196\n",
            "Loss : 0.130401149392128\n",
            "Loss : 0.05199069157242775\n",
            "Loss : 0.08420828729867935\n",
            "Loss : 0.07539281994104385\n",
            "Loss : 0.0926106795668602\n",
            "Loss : 0.021513381972908974\n",
            "Loss : 0.0486488938331604\n",
            "Loss : 0.08100900053977966\n",
            "Loss : 0.1157330870628357\n",
            "Loss : 0.03159040957689285\n",
            "Loss : 0.11069309711456299\n",
            "Loss : 0.04184022918343544\n",
            "Loss : 0.11669757217168808\n",
            "Loss : 0.06820507347583771\n",
            "Loss : 0.09666270017623901\n",
            "Loss : 0.050351183861494064\n",
            "Loss : 0.12555022537708282\n",
            "Loss : 0.09850236028432846\n",
            "Loss : 0.028255349025130272\n",
            "Loss : 0.05459887161850929\n",
            "Loss : 0.10114439576864243\n",
            "Loss : 0.09077206254005432\n",
            "Loss : 0.07800646871328354\n",
            "Loss : 0.06135156750679016\n",
            "Loss : 0.08495733141899109\n",
            "Loss : 0.07483147829771042\n",
            "Loss : 0.1099301353096962\n",
            "Loss : 0.13184864819049835\n",
            "Loss : 0.05242554470896721\n",
            "Loss : 0.09653804451227188\n",
            "Loss : 0.08073031902313232\n",
            "Loss : 0.12910662591457367\n",
            "Loss : 0.08744146674871445\n",
            "Loss : 0.06612000614404678\n",
            "Loss : 0.06264165043830872\n",
            "Loss : 0.08038393408060074\n",
            "Loss : 0.0736595019698143\n",
            "Loss : 0.1107926294207573\n",
            "Loss : 0.10603497177362442\n",
            "Loss : 0.0893959030508995\n",
            "Loss : 0.10999920219182968\n",
            "Loss : 0.07345328480005264\n",
            "Loss : 0.1028565764427185\n",
            "Loss : 0.05836580693721771\n",
            "Loss : 0.16638709604740143\n",
            "Loss : 0.05585533753037453\n",
            "Loss : 0.10398029536008835\n",
            "Loss : 0.07782202959060669\n",
            "Loss : 0.1357525736093521\n",
            "Loss : 0.1204642653465271\n",
            "Loss : 0.10294502228498459\n",
            "Loss : 0.10011885315179825\n",
            "Loss : 0.14575208723545074\n",
            "Loss : 0.1340266615152359\n",
            "Loss : 0.1088264212012291\n",
            "Loss : 0.11884292215108871\n",
            "Epoch 4/5 - Loss: 0.1031\n",
            "Epochs: 4\n",
            "Loss : 0.08661061525344849\n",
            "Loss : 0.02421742118895054\n",
            "Loss : 0.08592066913843155\n",
            "Loss : 0.2332606315612793\n",
            "Loss : 0.06509429961442947\n",
            "Loss : 0.19526851177215576\n",
            "Loss : 0.13705502450466156\n",
            "Loss : 0.15786878764629364\n",
            "Loss : 0.1214209794998169\n",
            "Loss : 0.10727044194936752\n",
            "Loss : 0.0795474648475647\n",
            "Loss : 0.12483245134353638\n",
            "Loss : 0.07041498273611069\n",
            "Loss : 0.13511008024215698\n",
            "Loss : 0.15269960463047028\n",
            "Loss : 0.10558786243200302\n",
            "Loss : 0.07641267031431198\n",
            "Loss : 0.1245378628373146\n",
            "Loss : 0.08975821733474731\n",
            "Loss : 0.13234710693359375\n",
            "Loss : 0.17235971987247467\n",
            "Loss : 0.1208268478512764\n",
            "Loss : 0.1682218313217163\n",
            "Loss : 0.14530162513256073\n",
            "Loss : 0.1426912546157837\n",
            "Loss : 0.0753084346652031\n",
            "Loss : 0.12889723479747772\n",
            "Loss : 0.13895048201084137\n",
            "Loss : 0.04995829239487648\n",
            "Loss : 0.13632939755916595\n",
            "Loss : 0.06757733970880508\n",
            "Loss : 0.22586876153945923\n",
            "Loss : 0.10947670787572861\n",
            "Loss : 0.13107110559940338\n",
            "Loss : 0.11730872839689255\n",
            "Loss : 0.11144713312387466\n",
            "Loss : 0.15334774553775787\n",
            "Loss : 0.14310197532176971\n",
            "Loss : 0.11190396547317505\n",
            "Loss : 0.1338784545660019\n",
            "Loss : 0.1419534981250763\n",
            "Loss : 0.1136518195271492\n",
            "Loss : 0.1078176498413086\n",
            "Loss : 0.12385237216949463\n",
            "Loss : 0.08369665592908859\n",
            "Loss : 0.12428564578294754\n",
            "Loss : 0.07600291818380356\n",
            "Loss : 0.06338217109441757\n",
            "Loss : 0.13026560842990875\n",
            "Loss : 0.12619180977344513\n",
            "Loss : 0.09795570373535156\n",
            "Loss : 0.10152292251586914\n",
            "Loss : 0.15056349337100983\n",
            "Loss : 0.06228247657418251\n",
            "Loss : 0.11167780309915543\n",
            "Loss : 0.09250272065401077\n",
            "Loss : 0.1502065807580948\n",
            "Loss : 0.11116888374090195\n",
            "Loss : 0.12561820447444916\n",
            "Loss : 0.08299043029546738\n",
            "Loss : 0.10065627098083496\n",
            "Loss : 0.074837826192379\n",
            "Loss : 0.09623277187347412\n",
            "Loss : 0.10202344506978989\n",
            "Loss : 0.1255098432302475\n",
            "Loss : 0.14985452592372894\n",
            "Loss : 0.10959479212760925\n",
            "Loss : 0.06548025459051132\n",
            "Loss : 0.1560899317264557\n",
            "Loss : 0.14589174091815948\n",
            "Loss : 0.0848030373454094\n",
            "Loss : 0.15536470711231232\n",
            "Loss : 0.09367021173238754\n",
            "Loss : 0.08332331478595734\n",
            "Loss : 0.07077384740114212\n",
            "Loss : 0.08047075569629669\n",
            "Loss : 0.10233602672815323\n",
            "Loss : 0.07006192207336426\n",
            "Loss : 0.13553203642368317\n",
            "Loss : 0.1065775528550148\n",
            "Loss : 0.10114482045173645\n",
            "Loss : 0.1568802446126938\n",
            "Loss : 0.0877862349152565\n",
            "Loss : 0.12059956043958664\n",
            "Loss : 0.0639309510588646\n",
            "Loss : 0.08503363281488419\n",
            "Loss : 0.13839678466320038\n",
            "Loss : 0.06703367084264755\n",
            "Loss : 0.07306819409132004\n",
            "Loss : 0.12980620563030243\n",
            "Loss : 0.11702904105186462\n",
            "Loss : 0.05000657960772514\n",
            "Loss : 0.11855576187372208\n",
            "Loss : 0.12916354835033417\n",
            "Loss : 0.04774005338549614\n",
            "Loss : 0.053808510303497314\n",
            "Loss : 0.07029224932193756\n",
            "Loss : 0.15110555291175842\n",
            "Loss : 0.14916013181209564\n",
            "Loss : 0.08110760897397995\n",
            "Loss : 0.07930653542280197\n",
            "Loss : 0.05354702100157738\n",
            "Loss : 0.11877328902482986\n",
            "Loss : 0.12908591330051422\n",
            "Loss : 0.13668006658554077\n",
            "Loss : 0.07473167032003403\n",
            "Loss : 0.12995679676532745\n",
            "Loss : 0.0938757061958313\n",
            "Loss : 0.08102504163980484\n",
            "Loss : 0.053514499217271805\n",
            "Loss : 0.09445605427026749\n",
            "Loss : 0.07773102074861526\n",
            "Loss : 0.0889204740524292\n",
            "Loss : 0.05793525651097298\n",
            "Loss : 0.10729419440031052\n",
            "Loss : 0.09805794805288315\n",
            "Loss : 0.07922801375389099\n",
            "Loss : 0.07450833171606064\n",
            "Loss : 0.15054951608181\n",
            "Loss : 0.11307653039693832\n",
            "Loss : 0.12293019145727158\n",
            "Loss : 0.05288538336753845\n",
            "Loss : 0.09811174869537354\n",
            "Loss : 0.12828274071216583\n",
            "Loss : 0.10677960515022278\n",
            "Loss : 0.11093541234731674\n",
            "Loss : 0.1058887466788292\n",
            "Loss : 0.06989431381225586\n",
            "Loss : 0.14340795576572418\n",
            "Loss : 0.15045033395290375\n",
            "Loss : 0.04355330765247345\n",
            "Loss : 0.11396286636590958\n",
            "Loss : 0.1448173075914383\n",
            "Loss : 0.14188262820243835\n",
            "Loss : 0.04325379058718681\n",
            "Loss : 0.15049132704734802\n",
            "Loss : 0.11411910504102707\n",
            "Loss : 0.11232128739356995\n",
            "Loss : 0.08095205575227737\n",
            "Loss : 0.09927328675985336\n",
            "Loss : 0.11373651027679443\n",
            "Loss : 0.09623334556818008\n",
            "Loss : 0.1262347549200058\n",
            "Loss : 0.11689060181379318\n",
            "Loss : 0.09979916363954544\n",
            "Loss : 0.1742611527442932\n",
            "Loss : 0.05001954361796379\n",
            "Loss : 0.11913289874792099\n",
            "Loss : 0.08537689596414566\n",
            "Loss : 0.059875503182411194\n",
            "Loss : 0.06697674095630646\n",
            "Loss : 0.07674462348222733\n",
            "Loss : 0.07554309070110321\n",
            "Loss : 0.08211121708154678\n",
            "Loss : 0.061237920075654984\n",
            "Loss : 0.06481141597032547\n",
            "Loss : 0.09839659184217453\n",
            "Loss : 0.03201490268111229\n",
            "Loss : 0.05005462467670441\n",
            "Loss : 0.08199626952409744\n",
            "Loss : 0.11892630904912949\n",
            "Loss : 0.06301051378250122\n",
            "Loss : 0.11175942420959473\n",
            "Loss : 0.0486518032848835\n",
            "Loss : 0.13899274170398712\n",
            "Loss : 0.09048966318368912\n",
            "Loss : 0.08178208023309708\n",
            "Loss : 0.06615085154771805\n",
            "Loss : 0.10696550458669662\n",
            "Loss : 0.1134781613945961\n",
            "Loss : 0.05605034530162811\n",
            "Loss : 0.06520432233810425\n",
            "Loss : 0.04848213121294975\n",
            "Loss : 0.06616558879613876\n",
            "Loss : 0.08419018983840942\n",
            "Loss : 0.09393310546875\n",
            "Loss : 0.0845898911356926\n",
            "Loss : 0.1578998565673828\n",
            "Loss : 0.1407872438430786\n",
            "Loss : 0.13562005758285522\n",
            "Loss : 0.10206421464681625\n",
            "Loss : 0.07836779206991196\n",
            "Loss : 0.053264081478118896\n",
            "Loss : 0.09902266412973404\n",
            "Loss : 0.10181795805692673\n",
            "Loss : 0.06558544188737869\n",
            "Loss : 0.09192341566085815\n",
            "Loss : 0.06029881536960602\n",
            "Loss : 0.025361442938447\n",
            "Loss : 0.10783442109823227\n",
            "Loss : 0.1008104681968689\n",
            "Loss : 0.06661533564329147\n",
            "Loss : 0.11912643909454346\n",
            "Loss : 0.10092142969369888\n",
            "Loss : 0.07047254592180252\n",
            "Loss : 0.07190282642841339\n",
            "Loss : 0.14824619889259338\n",
            "Loss : 0.04015184938907623\n",
            "Loss : 0.12911346554756165\n",
            "Loss : 0.08666255325078964\n",
            "Loss : 0.13428641855716705\n",
            "Loss : 0.133173868060112\n",
            "Loss : 0.10344749689102173\n",
            "Loss : 0.10143200308084488\n",
            "Loss : 0.16485436260700226\n",
            "Loss : 0.13969965279102325\n",
            "Loss : 0.1230449452996254\n",
            "Loss : 0.1461104303598404\n",
            "Epoch 5/5 - Loss: 0.1037\n"
          ]
        }
      ]
    },
    {
      "cell_type": "code",
      "source": [
        "len(passages)"
      ],
      "metadata": {
        "id": "FgbmqY0m15GL",
        "outputId": "b7cb1e64-95ba-4563-aa4a-3b9868015f91",
        "colab": {
          "base_uri": "https://localhost:8080/"
        }
      },
      "execution_count": null,
      "outputs": [
        {
          "output_type": "execute_result",
          "data": {
            "text/plain": [
              "464"
            ]
          },
          "metadata": {},
          "execution_count": 29
        }
      ]
    },
    {
      "cell_type": "code",
      "source": [
        "len(passage_titles)"
      ],
      "metadata": {
        "id": "vgVojioa16eO",
        "outputId": "8d14834a-8b58-4f07-a6a9-138dd85d2fd0",
        "colab": {
          "base_uri": "https://localhost:8080/"
        }
      },
      "execution_count": null,
      "outputs": [
        {
          "output_type": "execute_result",
          "data": {
            "text/plain": [
              "464"
            ]
          },
          "metadata": {},
          "execution_count": 30
        }
      ]
    },
    {
      "cell_type": "code",
      "source": [
        "chunked_corpus = {'title': passage_titles, 'text': passages}"
      ],
      "metadata": {
        "id": "tJS9cHgzbz1w"
      },
      "execution_count": null,
      "outputs": []
    },
    {
      "cell_type": "markdown",
      "source": [
        "# DPR context encoder to compute embeddings for the passages in batches, and stores the computed embeddings"
      ],
      "metadata": {
        "id": "B3WIczKAczxL"
      }
    },
    {
      "cell_type": "code",
      "source": [
        "from transformers import DPRContextEncoderTokenizerFast\n",
        "ctx_tokenizer = DPRContextEncoderTokenizerFast.from_pretrained(\"facebook/dpr-ctx_encoder-multiset-base\")"
      ],
      "metadata": {
        "colab": {
          "base_uri": "https://localhost:8080/"
        },
        "id": "RTD5Ld_wa1lZ",
        "outputId": "254ba776-381b-442d-ee9e-816151b731b4"
      },
      "execution_count": null,
      "outputs": [
        {
          "output_type": "stream",
          "name": "stderr",
          "text": [
            "The tokenizer class you load from this checkpoint is not the same type as the class this function is called from. It may result in unexpected tokenization. \n",
            "The tokenizer class you load from this checkpoint is 'DPRQuestionEncoderTokenizer'. \n",
            "The class this function is called from is 'DPRContextEncoderTokenizerFast'.\n"
          ]
        }
      ]
    },
    {
      "cell_type": "code",
      "source": [
        "num_passages = len(chunked_corpus['title'])"
      ],
      "metadata": {
        "id": "S3Jp1-KOblFQ"
      },
      "execution_count": null,
      "outputs": []
    },
    {
      "cell_type": "code",
      "source": [
        "outputs = ctx_tokenizer(\n",
        "    chunked_corpus[\"title\"],\n",
        "    chunked_corpus[\"text\"],\n",
        "    truncation = True,\n",
        "    padding = \"longest\",\n",
        "    return_tensors = \"pt\",\n",
        ")"
      ],
      "metadata": {
        "id": "4DtygO-hcJa9"
      },
      "execution_count": null,
      "outputs": []
    },
    {
      "cell_type": "code",
      "source": [
        "input_ids = outputs[\"input_ids\"]"
      ],
      "metadata": {
        "id": "lrFwGLKYcioG"
      },
      "execution_count": null,
      "outputs": []
    },
    {
      "cell_type": "code",
      "source": [
        "print(input_ids.shape)"
      ],
      "metadata": {
        "colab": {
          "base_uri": "https://localhost:8080/"
        },
        "id": "E9_8JxFkcq0S",
        "outputId": "a15f2906-b546-46d3-ea19-d97319cf32fb"
      },
      "execution_count": null,
      "outputs": [
        {
          "output_type": "stream",
          "name": "stdout",
          "text": [
            "torch.Size([464, 258])\n"
          ]
        }
      ]
    },
    {
      "cell_type": "code",
      "source": [
        "import torch\n",
        "device = \"cpu\"\n",
        "if torch.cuda.is_available():\n",
        "  device = torch.device(\"cuda\")\n",
        "\n",
        "else:\n",
        "  print(\"No device is available\")"
      ],
      "metadata": {
        "id": "irbUytEbctDl",
        "colab": {
          "base_uri": "https://localhost:8080/"
        },
        "outputId": "ee8d5c97-6ccd-405d-d276-867fd8af623c"
      },
      "execution_count": null,
      "outputs": [
        {
          "output_type": "stream",
          "name": "stdout",
          "text": [
            "No device is available\n"
          ]
        }
      ]
    },
    {
      "cell_type": "code",
      "source": [
        "# from transformers import DPRContextEncoder\n",
        "# ctx_encoder = DPRContextEncoder.from_pretrained(\"facebook/dpr-ctx_encoder-multiset-base\")\n",
        "# ctx_encoder = ctx_encoder.to(device=device)"
      ],
      "metadata": {
        "id": "dwFqCgFIdFT9"
      },
      "execution_count": null,
      "outputs": []
    },
    {
      "cell_type": "code",
      "source": [
        "import time\n",
        "import datetime\n",
        "\n",
        "def format_time(elapsed):\n",
        "  elapsed_rounded = int(round(elapsed))\n",
        "  return str(datetime.timedelta(seconds = elapsed_rounded))"
      ],
      "metadata": {
        "id": "X9qSNSf4dkhZ"
      },
      "execution_count": null,
      "outputs": []
    },
    {
      "cell_type": "code",
      "source": [
        "import time\n",
        "import math\n",
        "torch.set_grad_enabled(False)\n",
        "t0 = time.time()\n",
        "\n",
        "step = 0\n",
        "\n",
        "batch_size = 16\n",
        "\n",
        "num_passages = input_ids.size()[0]\n",
        "num_batches =  math.ceil(num_passages/batch_size)\n",
        "\n",
        "embeds_batches= []\n",
        "for i in range(0, num_passages, batch_size):\n",
        "  if step%100 == 0 and not step ==0:\n",
        "    elapsed = format_time(time.time()-t0)\n",
        "\n",
        "    print('Batch {:>5,} of {:>5,}. Elapsed: {:}.'. format(step, num_batches, elapsed))\n",
        "\n",
        "  batch_ids = input_ids[i:i+16, :]\n",
        "  batch_ids = batch_ids.to(device)\n",
        "\n",
        "  outputs = ctx_encoder(\n",
        "      batch_ids,\n",
        "      return_dict = True,\n",
        "  )\n",
        "\n",
        "  embeddings = outputs[\"pooler_output\"]\n",
        "  embeddings = embeddings.detach().cpu().numpy()\n",
        "\n",
        "  embeds_batches.append(embeddings)\n",
        "  step+= 1\n",
        "  print(step)\n",
        "\n",
        "print(\"Done\")\n"
      ],
      "metadata": {
        "colab": {
          "base_uri": "https://localhost:8080/"
        },
        "id": "ooFO7OZaeASV",
        "outputId": "6c02a8a8-173e-4dd4-d224-d3bedcfd28d4"
      },
      "execution_count": null,
      "outputs": [
        {
          "output_type": "stream",
          "name": "stdout",
          "text": [
            "1\n",
            "2\n",
            "3\n",
            "4\n",
            "5\n",
            "6\n",
            "7\n",
            "8\n",
            "9\n",
            "10\n",
            "11\n",
            "12\n",
            "13\n",
            "14\n",
            "15\n",
            "16\n",
            "17\n",
            "18\n",
            "19\n",
            "20\n",
            "21\n",
            "22\n",
            "23\n",
            "24\n",
            "25\n",
            "26\n",
            "27\n",
            "28\n",
            "29\n",
            "Done\n"
          ]
        }
      ]
    },
    {
      "cell_type": "code",
      "source": [
        "num_passages"
      ],
      "metadata": {
        "colab": {
          "base_uri": "https://localhost:8080/"
        },
        "id": "-KFdcY2JgK9V",
        "outputId": "4982033b-9ad6-4068-be72-733b66269feb"
      },
      "execution_count": null,
      "outputs": [
        {
          "output_type": "execute_result",
          "data": {
            "text/plain": [
              "464"
            ]
          },
          "metadata": {},
          "execution_count": 40
        }
      ]
    },
    {
      "cell_type": "code",
      "source": [
        "import numpy as np\n",
        "embeddings = np.concatenate(embeds_batches, axis = 0)\n",
        "print('Size of dataset embeddings :', embeddings.shape)"
      ],
      "metadata": {
        "colab": {
          "base_uri": "https://localhost:8080/"
        },
        "id": "-WEmtxWIgg6Q",
        "outputId": "41fe1d42-fc92-4319-b07c-b640e99a14cd"
      },
      "execution_count": null,
      "outputs": [
        {
          "output_type": "stream",
          "name": "stdout",
          "text": [
            "Size of dataset embeddings : (464, 768)\n"
          ]
        }
      ]
    },
    {
      "cell_type": "markdown",
      "source": [
        "# FAISS"
      ],
      "metadata": {
        "id": "QfNeDDu7dfXj"
      }
    },
    {
      "cell_type": "code",
      "source": [
        "!pip install faiss-cpu"
      ],
      "metadata": {
        "colab": {
          "base_uri": "https://localhost:8080/"
        },
        "id": "0owKqWM8g-oy",
        "outputId": "e1ca490a-e51c-4fa9-a97e-3beadd20d2b4"
      },
      "execution_count": null,
      "outputs": [
        {
          "output_type": "stream",
          "name": "stdout",
          "text": [
            "Looking in indexes: https://pypi.org/simple, https://us-python.pkg.dev/colab-wheels/public/simple/\n",
            "Collecting faiss-cpu\n",
            "  Downloading faiss_cpu-1.7.4-cp310-cp310-manylinux_2_17_x86_64.manylinux2014_x86_64.whl (17.6 MB)\n",
            "\u001b[2K     \u001b[90m━━━━━━━━━━━━━━━━━━━━━━━━━━━━━━━━━━━━━━━━\u001b[0m \u001b[32m17.6/17.6 MB\u001b[0m \u001b[31m59.6 MB/s\u001b[0m eta \u001b[36m0:00:00\u001b[0m\n",
            "\u001b[?25hInstalling collected packages: faiss-cpu\n",
            "Successfully installed faiss-cpu-1.7.4\n"
          ]
        }
      ]
    },
    {
      "cell_type": "markdown",
      "source": [
        "\n",
        "\n",
        "---\n",
        "\n",
        "**The code initializes a HNSWFlat index from faiss for efficient similarity search. It specifies the dimensionality of the embeddings (dim) and the number of connections per index (m). The index is set to use the inner product as the distance metric.**\n",
        "\n",
        "---\n",
        "\n"
      ],
      "metadata": {
        "id": "1EF2EC3TdcXX"
      }
    },
    {
      "cell_type": "code",
      "source": [
        "import faiss\n",
        "dim = 768\n",
        "m = 128\n",
        "\n",
        "index = faiss.IndexHNSWFlat(dim, m , faiss.METRIC_INNER_PRODUCT)"
      ],
      "metadata": {
        "id": "HYMMqW-XhFns"
      },
      "execution_count": null,
      "outputs": []
    },
    {
      "cell_type": "code",
      "source": [
        "# t0 = time.time()\n",
        "index.train(embeddings)\n",
        "index.add(embeddings)\n",
        "\n",
        "# print('Done')\n",
        "# print('Adding embeddings to index took', format_time(time.time()-t0))"
      ],
      "metadata": {
        "id": "s71LXAAehhsI"
      },
      "execution_count": null,
      "outputs": []
    },
    {
      "cell_type": "markdown",
      "source": [
        "\n",
        "\n",
        "---\n",
        "\n",
        "**Query Encoder and Query Embeddings**\n",
        "\n",
        "---\n",
        "\n"
      ],
      "metadata": {
        "id": "i1y5AT7rdj4p"
      }
    },
    {
      "cell_type": "code",
      "source": [
        "from transformers import DPRQuestionEncoder\n",
        "q_encoder = DPRQuestionEncoder.from_pretrained(\"facebook/dpr-ctx_encoder-multiset-base\")\n",
        "q_encoder = q_encoder.to(device=device)"
      ],
      "metadata": {
        "colab": {
          "base_uri": "https://localhost:8080/"
        },
        "id": "cLJbAaiCh5sG",
        "outputId": "e5dc4717-14db-4fcd-8deb-dffc0f278868"
      },
      "execution_count": null,
      "outputs": [
        {
          "output_type": "stream",
          "name": "stderr",
          "text": [
            "Some weights of the model checkpoint at facebook/dpr-ctx_encoder-multiset-base were not used when initializing DPRQuestionEncoder: ['ctx_encoder.bert_model.encoder.layer.8.output.dense.bias', 'ctx_encoder.bert_model.encoder.layer.7.attention.self.value.weight', 'ctx_encoder.bert_model.encoder.layer.1.attention.self.value.weight', 'ctx_encoder.bert_model.encoder.layer.0.attention.self.value.bias', 'ctx_encoder.bert_model.encoder.layer.1.output.LayerNorm.bias', 'ctx_encoder.bert_model.encoder.layer.7.attention.self.query.bias', 'ctx_encoder.bert_model.encoder.layer.7.output.dense.bias', 'ctx_encoder.bert_model.encoder.layer.5.attention.self.query.weight', 'ctx_encoder.bert_model.encoder.layer.2.output.dense.weight', 'ctx_encoder.bert_model.encoder.layer.7.output.LayerNorm.weight', 'ctx_encoder.bert_model.encoder.layer.10.attention.output.LayerNorm.bias', 'ctx_encoder.bert_model.encoder.layer.0.attention.self.value.weight', 'ctx_encoder.bert_model.encoder.layer.8.attention.output.LayerNorm.weight', 'ctx_encoder.bert_model.encoder.layer.5.intermediate.dense.weight', 'ctx_encoder.bert_model.encoder.layer.10.output.LayerNorm.bias', 'ctx_encoder.bert_model.encoder.layer.9.attention.self.value.bias', 'ctx_encoder.bert_model.embeddings.word_embeddings.weight', 'ctx_encoder.bert_model.encoder.layer.9.intermediate.dense.bias', 'ctx_encoder.bert_model.encoder.layer.7.attention.self.key.bias', 'ctx_encoder.bert_model.encoder.layer.11.output.dense.bias', 'ctx_encoder.bert_model.encoder.layer.5.attention.output.LayerNorm.bias', 'ctx_encoder.bert_model.encoder.layer.1.attention.output.dense.bias', 'ctx_encoder.bert_model.encoder.layer.1.attention.output.LayerNorm.weight', 'ctx_encoder.bert_model.encoder.layer.8.attention.self.query.weight', 'ctx_encoder.bert_model.encoder.layer.2.intermediate.dense.bias', 'ctx_encoder.bert_model.encoder.layer.3.attention.output.LayerNorm.weight', 'ctx_encoder.bert_model.encoder.layer.11.intermediate.dense.weight', 'ctx_encoder.bert_model.embeddings.LayerNorm.weight', 'ctx_encoder.bert_model.encoder.layer.8.output.LayerNorm.weight', 'ctx_encoder.bert_model.encoder.layer.8.attention.self.query.bias', 'ctx_encoder.bert_model.encoder.layer.8.attention.output.LayerNorm.bias', 'ctx_encoder.bert_model.encoder.layer.5.output.LayerNorm.weight', 'ctx_encoder.bert_model.encoder.layer.2.attention.self.query.weight', 'ctx_encoder.bert_model.encoder.layer.3.output.LayerNorm.bias', 'ctx_encoder.bert_model.encoder.layer.4.output.dense.weight', 'ctx_encoder.bert_model.encoder.layer.1.attention.output.LayerNorm.bias', 'ctx_encoder.bert_model.embeddings.token_type_embeddings.weight', 'ctx_encoder.bert_model.encoder.layer.0.attention.self.key.weight', 'ctx_encoder.bert_model.encoder.layer.4.attention.output.dense.bias', 'ctx_encoder.bert_model.encoder.layer.10.attention.self.key.weight', 'ctx_encoder.bert_model.encoder.layer.3.output.dense.weight', 'ctx_encoder.bert_model.encoder.layer.11.attention.self.query.weight', 'ctx_encoder.bert_model.encoder.layer.0.attention.output.LayerNorm.bias', 'ctx_encoder.bert_model.encoder.layer.3.output.LayerNorm.weight', 'ctx_encoder.bert_model.encoder.layer.2.attention.output.dense.weight', 'ctx_encoder.bert_model.encoder.layer.9.output.dense.bias', 'ctx_encoder.bert_model.encoder.layer.3.attention.output.dense.bias', 'ctx_encoder.bert_model.encoder.layer.10.attention.self.query.bias', 'ctx_encoder.bert_model.encoder.layer.2.output.dense.bias', 'ctx_encoder.bert_model.encoder.layer.6.attention.self.key.bias', 'ctx_encoder.bert_model.encoder.layer.8.attention.self.key.bias', 'ctx_encoder.bert_model.encoder.layer.4.attention.self.value.weight', 'ctx_encoder.bert_model.encoder.layer.8.output.LayerNorm.bias', 'ctx_encoder.bert_model.encoder.layer.1.attention.self.key.weight', 'ctx_encoder.bert_model.encoder.layer.6.output.dense.bias', 'ctx_encoder.bert_model.encoder.layer.2.attention.self.key.weight', 'ctx_encoder.bert_model.encoder.layer.3.attention.self.query.bias', 'ctx_encoder.bert_model.encoder.layer.4.attention.self.query.bias', 'ctx_encoder.bert_model.encoder.layer.6.output.LayerNorm.weight', 'ctx_encoder.bert_model.encoder.layer.0.output.LayerNorm.bias', 'ctx_encoder.bert_model.encoder.layer.8.output.dense.weight', 'ctx_encoder.bert_model.encoder.layer.11.attention.self.key.bias', 'ctx_encoder.bert_model.encoder.layer.9.attention.self.key.bias', 'ctx_encoder.bert_model.encoder.layer.11.attention.output.LayerNorm.weight', 'ctx_encoder.bert_model.encoder.layer.6.intermediate.dense.bias', 'ctx_encoder.bert_model.encoder.layer.3.attention.self.query.weight', 'ctx_encoder.bert_model.encoder.layer.10.attention.output.dense.bias', 'ctx_encoder.bert_model.encoder.layer.6.attention.self.key.weight', 'ctx_encoder.bert_model.encoder.layer.4.intermediate.dense.bias', 'ctx_encoder.bert_model.encoder.layer.8.attention.self.value.bias', 'ctx_encoder.bert_model.encoder.layer.9.attention.output.LayerNorm.weight', 'ctx_encoder.bert_model.encoder.layer.7.attention.output.dense.bias', 'ctx_encoder.bert_model.encoder.layer.9.attention.output.dense.bias', 'ctx_encoder.bert_model.encoder.layer.11.attention.output.dense.bias', 'ctx_encoder.bert_model.encoder.layer.1.output.dense.weight', 'ctx_encoder.bert_model.encoder.layer.11.output.LayerNorm.weight', 'ctx_encoder.bert_model.encoder.layer.0.intermediate.dense.weight', 'ctx_encoder.bert_model.encoder.layer.8.attention.output.dense.weight', 'ctx_encoder.bert_model.encoder.layer.6.attention.output.dense.weight', 'ctx_encoder.bert_model.encoder.layer.5.output.dense.bias', 'ctx_encoder.bert_model.encoder.layer.4.attention.self.key.bias', 'ctx_encoder.bert_model.encoder.layer.5.attention.self.value.bias', 'ctx_encoder.bert_model.encoder.layer.0.attention.output.LayerNorm.weight', 'ctx_encoder.bert_model.encoder.layer.10.attention.self.value.weight', 'ctx_encoder.bert_model.encoder.layer.10.intermediate.dense.bias', 'ctx_encoder.bert_model.encoder.layer.11.attention.self.value.bias', 'ctx_encoder.bert_model.encoder.layer.1.intermediate.dense.weight', 'ctx_encoder.bert_model.encoder.layer.8.attention.self.value.weight', 'ctx_encoder.bert_model.encoder.layer.6.intermediate.dense.weight', 'ctx_encoder.bert_model.encoder.layer.5.attention.output.LayerNorm.weight', 'ctx_encoder.bert_model.encoder.layer.0.attention.output.dense.bias', 'ctx_encoder.bert_model.encoder.layer.3.attention.self.value.weight', 'ctx_encoder.bert_model.encoder.layer.10.attention.self.query.weight', 'ctx_encoder.bert_model.embeddings.position_embeddings.weight', 'ctx_encoder.bert_model.encoder.layer.11.attention.output.LayerNorm.bias', 'ctx_encoder.bert_model.encoder.layer.2.attention.self.value.bias', 'ctx_encoder.bert_model.encoder.layer.6.attention.output.dense.bias', 'ctx_encoder.bert_model.encoder.layer.2.attention.output.LayerNorm.bias', 'ctx_encoder.bert_model.encoder.layer.8.attention.output.dense.bias', 'ctx_encoder.bert_model.encoder.layer.7.attention.output.LayerNorm.bias', 'ctx_encoder.bert_model.encoder.layer.2.intermediate.dense.weight', 'ctx_encoder.bert_model.encoder.layer.3.attention.self.key.weight', 'ctx_encoder.bert_model.encoder.layer.5.attention.output.dense.bias', 'ctx_encoder.bert_model.encoder.layer.11.attention.self.value.weight', 'ctx_encoder.bert_model.encoder.layer.4.attention.self.query.weight', 'ctx_encoder.bert_model.encoder.layer.5.attention.self.query.bias', 'ctx_encoder.bert_model.encoder.layer.9.attention.output.dense.weight', 'ctx_encoder.bert_model.encoder.layer.5.attention.self.key.weight', 'ctx_encoder.bert_model.encoder.layer.4.output.LayerNorm.weight', 'ctx_encoder.bert_model.encoder.layer.1.output.LayerNorm.weight', 'ctx_encoder.bert_model.encoder.layer.3.attention.self.key.bias', 'ctx_encoder.bert_model.encoder.layer.3.intermediate.dense.bias', 'ctx_encoder.bert_model.encoder.layer.6.attention.self.value.weight', 'ctx_encoder.bert_model.encoder.layer.3.output.dense.bias', 'ctx_encoder.bert_model.encoder.layer.1.attention.self.value.bias', 'ctx_encoder.bert_model.encoder.layer.7.output.dense.weight', 'ctx_encoder.bert_model.encoder.layer.9.attention.self.query.weight', 'ctx_encoder.bert_model.encoder.layer.1.attention.output.dense.weight', 'ctx_encoder.bert_model.encoder.layer.6.attention.self.query.bias', 'ctx_encoder.bert_model.encoder.layer.4.attention.self.key.weight', 'ctx_encoder.bert_model.encoder.layer.0.attention.self.query.bias', 'ctx_encoder.bert_model.encoder.layer.2.attention.output.LayerNorm.weight', 'ctx_encoder.bert_model.encoder.layer.4.output.dense.bias', 'ctx_encoder.bert_model.encoder.layer.5.output.dense.weight', 'ctx_encoder.bert_model.encoder.layer.4.attention.self.value.bias', 'ctx_encoder.bert_model.encoder.layer.3.attention.self.value.bias', 'ctx_encoder.bert_model.encoder.layer.10.intermediate.dense.weight', 'ctx_encoder.bert_model.encoder.layer.5.output.LayerNorm.bias', 'ctx_encoder.bert_model.encoder.layer.6.output.LayerNorm.bias', 'ctx_encoder.bert_model.encoder.layer.7.attention.self.value.bias', 'ctx_encoder.bert_model.encoder.layer.9.attention.self.value.weight', 'ctx_encoder.bert_model.encoder.layer.5.attention.self.value.weight', 'ctx_encoder.bert_model.encoder.layer.4.output.LayerNorm.bias', 'ctx_encoder.bert_model.encoder.layer.9.attention.output.LayerNorm.bias', 'ctx_encoder.bert_model.encoder.layer.10.attention.output.dense.weight', 'ctx_encoder.bert_model.encoder.layer.4.attention.output.dense.weight', 'ctx_encoder.bert_model.encoder.layer.6.attention.self.value.bias', 'ctx_encoder.bert_model.encoder.layer.5.intermediate.dense.bias', 'ctx_encoder.bert_model.encoder.layer.9.output.LayerNorm.weight', 'ctx_encoder.bert_model.encoder.layer.4.intermediate.dense.weight', 'ctx_encoder.bert_model.encoder.layer.10.attention.self.value.bias', 'ctx_encoder.bert_model.embeddings.LayerNorm.bias', 'ctx_encoder.bert_model.encoder.layer.6.output.dense.weight', 'ctx_encoder.bert_model.encoder.layer.1.attention.self.query.weight', 'ctx_encoder.bert_model.encoder.layer.0.output.dense.weight', 'ctx_encoder.bert_model.encoder.layer.9.attention.self.key.weight', 'ctx_encoder.bert_model.encoder.layer.3.intermediate.dense.weight', 'ctx_encoder.bert_model.encoder.layer.9.intermediate.dense.weight', 'ctx_encoder.bert_model.encoder.layer.2.output.LayerNorm.weight', 'ctx_encoder.bert_model.encoder.layer.0.attention.self.query.weight', 'ctx_encoder.bert_model.encoder.layer.2.attention.output.dense.bias', 'ctx_encoder.bert_model.encoder.layer.6.attention.output.LayerNorm.bias', 'ctx_encoder.bert_model.encoder.layer.11.output.LayerNorm.bias', 'ctx_encoder.bert_model.encoder.layer.0.output.dense.bias', 'ctx_encoder.bert_model.encoder.layer.7.attention.self.key.weight', 'ctx_encoder.bert_model.encoder.layer.1.attention.self.key.bias', 'ctx_encoder.bert_model.encoder.layer.4.attention.output.LayerNorm.weight', 'ctx_encoder.bert_model.encoder.layer.9.output.dense.weight', 'ctx_encoder.bert_model.encoder.layer.7.output.LayerNorm.bias', 'ctx_encoder.bert_model.encoder.layer.7.intermediate.dense.weight', 'ctx_encoder.bert_model.encoder.layer.7.attention.output.dense.weight', 'ctx_encoder.bert_model.encoder.layer.10.output.dense.weight', 'ctx_encoder.bert_model.encoder.layer.10.attention.self.key.bias', 'ctx_encoder.bert_model.encoder.layer.9.output.LayerNorm.bias', 'ctx_encoder.bert_model.encoder.layer.11.intermediate.dense.bias', 'ctx_encoder.bert_model.encoder.layer.2.attention.self.value.weight', 'ctx_encoder.bert_model.encoder.layer.11.attention.self.key.weight', 'ctx_encoder.bert_model.encoder.layer.0.attention.self.key.bias', 'ctx_encoder.bert_model.encoder.layer.2.attention.self.query.bias', 'ctx_encoder.bert_model.encoder.layer.4.attention.output.LayerNorm.bias', 'ctx_encoder.bert_model.encoder.layer.11.attention.output.dense.weight', 'ctx_encoder.bert_model.encoder.layer.10.attention.output.LayerNorm.weight', 'ctx_encoder.bert_model.encoder.layer.10.output.LayerNorm.weight', 'ctx_encoder.bert_model.encoder.layer.7.attention.output.LayerNorm.weight', 'ctx_encoder.bert_model.encoder.layer.7.intermediate.dense.bias', 'ctx_encoder.bert_model.encoder.layer.7.attention.self.query.weight', 'ctx_encoder.bert_model.encoder.layer.1.attention.self.query.bias', 'ctx_encoder.bert_model.encoder.layer.0.output.LayerNorm.weight', 'ctx_encoder.bert_model.encoder.layer.0.intermediate.dense.bias', 'ctx_encoder.bert_model.encoder.layer.5.attention.self.key.bias', 'ctx_encoder.bert_model.encoder.layer.3.attention.output.LayerNorm.bias', 'ctx_encoder.bert_model.encoder.layer.2.output.LayerNorm.bias', 'ctx_encoder.bert_model.encoder.layer.6.attention.output.LayerNorm.weight', 'ctx_encoder.bert_model.encoder.layer.8.attention.self.key.weight', 'ctx_encoder.bert_model.encoder.layer.1.intermediate.dense.bias', 'ctx_encoder.bert_model.encoder.layer.3.attention.output.dense.weight', 'ctx_encoder.bert_model.encoder.layer.8.intermediate.dense.bias', 'ctx_encoder.bert_model.encoder.layer.10.output.dense.bias', 'ctx_encoder.bert_model.encoder.layer.2.attention.self.key.bias', 'ctx_encoder.bert_model.encoder.layer.11.output.dense.weight', 'ctx_encoder.bert_model.encoder.layer.0.attention.output.dense.weight', 'ctx_encoder.bert_model.encoder.layer.6.attention.self.query.weight', 'ctx_encoder.bert_model.encoder.layer.9.attention.self.query.bias', 'ctx_encoder.bert_model.encoder.layer.8.intermediate.dense.weight', 'ctx_encoder.bert_model.encoder.layer.1.output.dense.bias', 'ctx_encoder.bert_model.encoder.layer.5.attention.output.dense.weight', 'ctx_encoder.bert_model.encoder.layer.11.attention.self.query.bias']\n",
            "- This IS expected if you are initializing DPRQuestionEncoder from the checkpoint of a model trained on another task or with another architecture (e.g. initializing a BertForSequenceClassification model from a BertForPreTraining model).\n",
            "- This IS NOT expected if you are initializing DPRQuestionEncoder from the checkpoint of a model that you expect to be exactly identical (initializing a BertForSequenceClassification model from a BertForSequenceClassification model).\n",
            "Some weights of DPRQuestionEncoder were not initialized from the model checkpoint at facebook/dpr-ctx_encoder-multiset-base and are newly initialized: ['bert_model.encoder.layer.9.attention.output.dense.bias', 'bert_model.encoder.layer.2.intermediate.dense.weight', 'bert_model.encoder.layer.6.output.LayerNorm.bias', 'bert_model.encoder.layer.5.intermediate.dense.bias', 'bert_model.encoder.layer.8.output.LayerNorm.weight', 'bert_model.encoder.layer.0.attention.self.query.weight', 'bert_model.encoder.layer.9.output.dense.weight', 'bert_model.encoder.layer.0.attention.self.value.bias', 'bert_model.encoder.layer.6.output.LayerNorm.weight', 'bert_model.encoder.layer.4.output.dense.weight', 'bert_model.encoder.layer.2.attention.output.dense.weight', 'bert_model.encoder.layer.4.output.LayerNorm.weight', 'bert_model.encoder.layer.9.attention.self.key.weight', 'bert_model.encoder.layer.7.attention.self.value.bias', 'bert_model.encoder.layer.1.output.LayerNorm.bias', 'bert_model.encoder.layer.10.attention.self.key.bias', 'bert_model.encoder.layer.5.attention.self.value.weight', 'bert_model.encoder.layer.4.attention.output.LayerNorm.weight', 'bert_model.encoder.layer.0.attention.output.LayerNorm.weight', 'bert_model.encoder.layer.10.output.LayerNorm.bias', 'bert_model.encoder.layer.3.attention.output.dense.bias', 'bert_model.embeddings.LayerNorm.bias', 'bert_model.encoder.layer.11.attention.self.value.bias', 'bert_model.encoder.layer.4.attention.self.value.bias', 'bert_model.encoder.layer.8.output.dense.weight', 'bert_model.encoder.layer.11.intermediate.dense.bias', 'bert_model.encoder.layer.0.intermediate.dense.weight', 'bert_model.encoder.layer.1.intermediate.dense.bias', 'bert_model.encoder.layer.8.attention.self.value.weight', 'bert_model.encoder.layer.8.attention.self.query.bias', 'bert_model.encoder.layer.11.output.LayerNorm.bias', 'bert_model.encoder.layer.10.output.dense.weight', 'bert_model.encoder.layer.0.output.LayerNorm.weight', 'bert_model.encoder.layer.10.attention.output.LayerNorm.weight', 'bert_model.encoder.layer.4.attention.self.query.weight', 'bert_model.encoder.layer.4.attention.self.value.weight', 'bert_model.embeddings.word_embeddings.weight', 'bert_model.encoder.layer.7.output.dense.weight', 'bert_model.encoder.layer.3.attention.self.value.weight', 'bert_model.encoder.layer.7.attention.output.dense.weight', 'bert_model.encoder.layer.2.attention.output.dense.bias', 'bert_model.encoder.layer.2.output.dense.weight', 'bert_model.encoder.layer.2.attention.output.LayerNorm.bias', 'bert_model.encoder.layer.7.attention.output.dense.bias', 'bert_model.encoder.layer.7.output.dense.bias', 'bert_model.encoder.layer.6.output.dense.bias', 'bert_model.encoder.layer.1.output.dense.weight', 'bert_model.encoder.layer.7.attention.self.key.bias', 'bert_model.encoder.layer.6.intermediate.dense.bias', 'bert_model.encoder.layer.3.attention.output.LayerNorm.bias', 'bert_model.encoder.layer.4.output.dense.bias', 'bert_model.encoder.layer.8.attention.self.key.weight', 'bert_model.encoder.layer.1.attention.output.LayerNorm.bias', 'bert_model.encoder.layer.10.intermediate.dense.bias', 'bert_model.encoder.layer.2.attention.self.query.weight', 'bert_model.encoder.layer.3.intermediate.dense.weight', 'bert_model.encoder.layer.8.attention.output.dense.weight', 'bert_model.encoder.layer.10.output.LayerNorm.weight', 'bert_model.encoder.layer.10.intermediate.dense.weight', 'bert_model.encoder.layer.3.attention.self.query.bias', 'bert_model.encoder.layer.1.attention.output.LayerNorm.weight', 'bert_model.encoder.layer.3.attention.self.value.bias', 'bert_model.encoder.layer.8.output.dense.bias', 'bert_model.encoder.layer.1.attention.self.value.bias', 'bert_model.encoder.layer.3.attention.self.key.weight', 'bert_model.encoder.layer.2.attention.self.key.weight', 'bert_model.encoder.layer.4.attention.self.key.bias', 'bert_model.encoder.layer.5.attention.output.LayerNorm.weight', 'bert_model.encoder.layer.5.attention.self.value.bias', 'bert_model.encoder.layer.5.output.LayerNorm.weight', 'bert_model.encoder.layer.9.attention.self.key.bias', 'bert_model.encoder.layer.5.attention.output.LayerNorm.bias', 'bert_model.encoder.layer.6.attention.self.value.weight', 'bert_model.encoder.layer.11.attention.self.key.bias', 'bert_model.encoder.layer.11.output.dense.weight', 'bert_model.encoder.layer.4.output.LayerNorm.bias', 'bert_model.encoder.layer.0.attention.self.value.weight', 'bert_model.encoder.layer.8.intermediate.dense.weight', 'bert_model.encoder.layer.9.attention.output.LayerNorm.bias', 'bert_model.encoder.layer.9.output.LayerNorm.bias', 'bert_model.encoder.layer.2.intermediate.dense.bias', 'bert_model.encoder.layer.5.output.dense.bias', 'bert_model.encoder.layer.11.attention.self.value.weight', 'bert_model.encoder.layer.6.output.dense.weight', 'bert_model.encoder.layer.3.attention.output.LayerNorm.weight', 'bert_model.encoder.layer.0.output.LayerNorm.bias', 'bert_model.encoder.layer.10.attention.output.dense.weight', 'bert_model.encoder.layer.3.attention.self.query.weight', 'bert_model.encoder.layer.0.attention.self.query.bias', 'bert_model.encoder.layer.1.attention.self.query.bias', 'bert_model.encoder.layer.1.intermediate.dense.weight', 'bert_model.encoder.layer.4.intermediate.dense.bias', 'bert_model.encoder.layer.7.output.LayerNorm.weight', 'bert_model.encoder.layer.6.attention.output.dense.bias', 'bert_model.encoder.layer.11.attention.output.LayerNorm.weight', 'bert_model.encoder.layer.6.attention.self.query.weight', 'bert_model.encoder.layer.5.attention.output.dense.bias', 'bert_model.encoder.layer.5.output.dense.weight', 'bert_model.encoder.layer.9.attention.output.LayerNorm.weight', 'bert_model.encoder.layer.5.intermediate.dense.weight', 'bert_model.encoder.layer.10.attention.self.key.weight', 'bert_model.encoder.layer.4.attention.self.key.weight', 'bert_model.encoder.layer.3.intermediate.dense.bias', 'bert_model.encoder.layer.9.attention.self.value.weight', 'bert_model.encoder.layer.0.attention.self.key.bias', 'bert_model.encoder.layer.2.attention.output.LayerNorm.weight', 'bert_model.encoder.layer.3.output.dense.bias', 'bert_model.encoder.layer.5.attention.self.query.bias', 'bert_model.encoder.layer.9.intermediate.dense.bias', 'bert_model.encoder.layer.5.attention.self.key.bias', 'bert_model.encoder.layer.11.attention.output.dense.weight', 'bert_model.encoder.layer.7.intermediate.dense.bias', 'bert_model.encoder.layer.4.attention.output.LayerNorm.bias', 'bert_model.encoder.layer.0.output.dense.weight', 'bert_model.encoder.layer.1.attention.self.value.weight', 'bert_model.encoder.layer.4.attention.output.dense.weight', 'bert_model.encoder.layer.7.output.LayerNorm.bias', 'bert_model.encoder.layer.1.attention.self.key.weight', 'bert_model.encoder.layer.5.attention.self.key.weight', 'bert_model.encoder.layer.11.attention.self.query.weight', 'bert_model.encoder.layer.1.attention.output.dense.weight', 'bert_model.encoder.layer.1.attention.output.dense.bias', 'bert_model.encoder.layer.8.attention.output.dense.bias', 'bert_model.encoder.layer.11.attention.self.query.bias', 'bert_model.encoder.layer.11.output.dense.bias', 'bert_model.encoder.layer.2.attention.self.query.bias', 'bert_model.encoder.layer.2.attention.self.value.weight', 'bert_model.encoder.layer.1.attention.self.key.bias', 'bert_model.encoder.layer.9.attention.output.dense.weight', 'bert_model.encoder.layer.4.attention.output.dense.bias', 'bert_model.encoder.layer.8.attention.output.LayerNorm.weight', 'bert_model.encoder.layer.9.attention.self.value.bias', 'bert_model.encoder.layer.10.attention.self.query.bias', 'bert_model.encoder.layer.4.intermediate.dense.weight', 'bert_model.encoder.layer.3.attention.self.key.bias', 'bert_model.encoder.layer.10.attention.output.LayerNorm.bias', 'bert_model.encoder.layer.8.intermediate.dense.bias', 'bert_model.encoder.layer.0.attention.output.dense.bias', 'bert_model.encoder.layer.7.attention.self.key.weight', 'bert_model.embeddings.token_type_embeddings.weight', 'bert_model.encoder.layer.6.attention.self.query.bias', 'bert_model.encoder.layer.11.attention.output.dense.bias', 'bert_model.encoder.layer.0.attention.output.LayerNorm.bias', 'bert_model.encoder.layer.10.attention.output.dense.bias', 'bert_model.encoder.layer.8.attention.self.query.weight', 'bert_model.encoder.layer.2.attention.self.value.bias', 'bert_model.encoder.layer.6.attention.output.LayerNorm.weight', 'bert_model.encoder.layer.6.attention.self.key.weight', 'bert_model.encoder.layer.3.output.LayerNorm.bias', 'bert_model.encoder.layer.9.attention.self.query.weight', 'bert_model.encoder.layer.9.output.LayerNorm.weight', 'bert_model.encoder.layer.5.output.LayerNorm.bias', 'bert_model.encoder.layer.8.attention.self.value.bias', 'bert_model.encoder.layer.7.intermediate.dense.weight', 'bert_model.encoder.layer.7.attention.self.query.weight', 'bert_model.encoder.layer.1.attention.self.query.weight', 'bert_model.encoder.layer.9.output.dense.bias', 'bert_model.encoder.layer.3.attention.output.dense.weight', 'bert_model.encoder.layer.7.attention.self.query.bias', 'bert_model.encoder.layer.3.output.LayerNorm.weight', 'bert_model.encoder.layer.7.attention.output.LayerNorm.bias', 'bert_model.encoder.layer.1.output.LayerNorm.weight', 'bert_model.encoder.layer.7.attention.self.value.weight', 'bert_model.encoder.layer.10.output.dense.bias', 'bert_model.encoder.layer.2.attention.self.key.bias', 'bert_model.encoder.layer.10.attention.self.value.weight', 'bert_model.encoder.layer.4.attention.self.query.bias', 'bert_model.encoder.layer.11.attention.output.LayerNorm.bias', 'bert_model.encoder.layer.8.attention.self.key.bias', 'bert_model.encoder.layer.2.output.LayerNorm.bias', 'bert_model.encoder.layer.5.attention.self.query.weight', 'bert_model.encoder.layer.6.attention.self.value.bias', 'bert_model.encoder.layer.7.attention.output.LayerNorm.weight', 'bert_model.encoder.layer.0.attention.output.dense.weight', 'bert_model.encoder.layer.9.attention.self.query.bias', 'bert_model.embeddings.position_embeddings.weight', 'bert_model.encoder.layer.6.attention.output.dense.weight', 'bert_model.encoder.layer.9.intermediate.dense.weight', 'bert_model.encoder.layer.10.attention.self.query.weight', 'bert_model.encoder.layer.6.intermediate.dense.weight', 'bert_model.encoder.layer.6.attention.output.LayerNorm.bias', 'bert_model.encoder.layer.11.intermediate.dense.weight', 'bert_model.encoder.layer.0.output.dense.bias', 'bert_model.encoder.layer.10.attention.self.value.bias', 'bert_model.encoder.layer.8.attention.output.LayerNorm.bias', 'bert_model.encoder.layer.11.output.LayerNorm.weight', 'bert_model.encoder.layer.0.intermediate.dense.bias', 'bert_model.encoder.layer.6.attention.self.key.bias', 'bert_model.encoder.layer.2.output.LayerNorm.weight', 'bert_model.encoder.layer.1.output.dense.bias', 'bert_model.encoder.layer.0.attention.self.key.weight', 'bert_model.encoder.layer.2.output.dense.bias', 'bert_model.encoder.layer.8.output.LayerNorm.bias', 'bert_model.encoder.layer.3.output.dense.weight', 'bert_model.encoder.layer.5.attention.output.dense.weight', 'bert_model.encoder.layer.11.attention.self.key.weight', 'bert_model.embeddings.LayerNorm.weight']\n",
            "You should probably TRAIN this model on a down-stream task to be able to use it for predictions and inference.\n"
          ]
        }
      ]
    },
    {
      "cell_type": "code",
      "source": [
        "from transformers import DPRQuestionEncoderTokenizerFast\n",
        "\n",
        "q_tokenizer = DPRQuestionEncoderTokenizerFast.from_pretrained(\"facebook/dpr-ctx_encoder-multiset-base\")\n",
        "# q_encoder = q_encoder.to(device)"
      ],
      "metadata": {
        "id": "UT6nVaEtiZE9"
      },
      "execution_count": null,
      "outputs": []
    },
    {
      "cell_type": "markdown",
      "source": [
        "# \"Does the ACIP recommend one dose GARDASIL 9?\""
      ],
      "metadata": {
        "id": "9THiFCtLc9Kx"
      }
    },
    {
      "cell_type": "code",
      "source": [
        "import re\n",
        "\n",
        "question = \"Does the ACIP recommend one dose GARDASIL 9?\""
      ],
      "metadata": {
        "id": "5qizAbo5XztQ"
      },
      "execution_count": null,
      "outputs": []
    },
    {
      "cell_type": "code",
      "source": [
        "input_ids = q_tokenizer.encode(question, return_tensors = \"pt\")\n",
        "input_ids = input_ids.to(device)\n",
        "outputs = q_encoder(input_ids)\n",
        "q_embed = outputs['pooler_output']\n",
        "\n",
        "q_embed = q_embed.cpu().numpy()\n",
        "\n",
        "print(\"Query Embedding:\", q_embed.shape)"
      ],
      "metadata": {
        "colab": {
          "base_uri": "https://localhost:8080/"
        },
        "id": "waetAB16iyHY",
        "outputId": "bc1794c1-7503-4564-f225-67fd67754a49"
      },
      "execution_count": null,
      "outputs": [
        {
          "output_type": "stream",
          "name": "stdout",
          "text": [
            "Query Embedding: (1, 768)\n"
          ]
        }
      ]
    },
    {
      "cell_type": "markdown",
      "source": [
        "\n",
        "\n",
        "---\n",
        "\n",
        "**Getting the relevant Passage Indices**\n",
        "\n",
        "---\n",
        "\n"
      ],
      "metadata": {
        "id": "Od6SCHqKdKtc"
      }
    },
    {
      "cell_type": "code",
      "source": [
        "D, I = index.search(q_embed, k= 10)\n",
        "print(\"Closest matching indices:\", I)\n",
        "\n",
        "print(\"Inner Products:\", D)"
      ],
      "metadata": {
        "colab": {
          "base_uri": "https://localhost:8080/"
        },
        "id": "eIdllNOYjZk6",
        "outputId": "f627ed24-1aa2-4ebc-e498-7b4d72080931"
      },
      "execution_count": null,
      "outputs": [
        {
          "output_type": "stream",
          "name": "stdout",
          "text": [
            "Closest matching indices: [[437 449  72  99 273  93 455 126 110 106]]\n",
            "Inner Products: [[32.510246 24.621412 24.467623 23.550383 20.609459 20.543941 20.35867\n",
            "  19.770508 16.162598 15.489602]]\n"
          ]
        }
      ]
    },
    {
      "cell_type": "markdown",
      "source": [
        "\n",
        "\n",
        "---\n",
        "\n",
        "**Relevant Passages for the question**\n",
        "\n",
        "---\n",
        "\n"
      ],
      "metadata": {
        "id": "uJQ6toJ1dDEG"
      }
    },
    {
      "cell_type": "code",
      "source": [
        "import textwrap \n",
        "retrieved_passages = []\n",
        "retrieved_indices = []\n",
        "wrapper = textwrap.TextWrapper(width = 80)\n",
        "for i in I[0]:\n",
        "  print('Index:', i)\n",
        "  title = chunked_corpus['title'][i]\n",
        "  passage = chunked_corpus['text'][i]\n",
        "\n",
        "  retrieved_passages.append(passage)\n",
        "  retrieved_indices.append(i)\n",
        "\n",
        "  print('Article Title:' , title, '\\n')\n",
        "  print('Passage:')\n",
        "\n",
        "  print(wrapper.fill(passage))\n",
        "  print('')\n"
      ],
      "metadata": {
        "colab": {
          "base_uri": "https://localhost:8080/"
        },
        "id": "XVm0K4KRjxs-",
        "outputId": "1ac6e2b5-de9d-42a1-b84e-df3541333e3a"
      },
      "execution_count": null,
      "outputs": [
        {
          "output_type": "stream",
          "name": "stdout",
          "text": [
            "Index: 437\n",
            "Article Title: Recommendations of the Advisory Committee on Immunization Practices \n",
            "\n",
            "Passage:\n",
            "skinner sr et al efficacy human papillomavirus hpv1618 as04adjuvanted vaccine\n",
            "women aged 15–25 years without serological evidence previous exposure hpv1618\n",
            "int j cancer 2012131106–16 164 herrero r quint w hildesheim et al reduced\n",
            "prevalence oral human papillomavirus hpv 4 years bivalent hpv vaccination\n",
            "randomized clinical trial costa rica plos one 20138e68329 165 kreimer ar\n",
            "gonzalez p katki ha et al efficacy bivalent hpv 1618 vaccine anal hpv 1618\n",
            "infection among young women nested analysis within costa rica vaccine rial\n",
            "lancet oncol 201112862–70 166 naud ps rotelimartins cm de carval\n",
            "\n",
            "Index: 449\n",
            "Article Title: Recommendations of the Advisory Committee on Immunization Practices \n",
            "\n",
            "Passage:\n",
            "int j cancer 2013132198–207 207 markowitz le hariri lin c et al reduction human\n",
            "papillomavirus hpv prevalence among young women following hpv vaccine\n",
            "introduction united states national health nutrition examination surveys\n",
            "2003–2010 j infect dis 2013208385–93 208 flagg ew schwartz r weinstock h\n",
            "prevalence anogenital warts among participants private health plans united\n",
            "states 2003–2010 potential impact human papillomavirus vaccination j public\n",
            "health 20131031428–35 209 hariri markowitz le dunne ef unger er population\n",
            "impact hpv vaccines summary early evidence j adolesc health 2013 53679–82 210\n",
            "ali h donovan\n",
            "\n",
            "Index: 72\n",
            "Article Title: Employment and Activity Limitations Among Adults with Chronic Obstructive Pulmonary Disease \n",
            "\n",
            "Passage:\n",
            "ronic obstructive pulmonary disease — united states 2013anne g wheaton phd1\n",
            "timothy j cunningham phd1 earl ford md1 janet b croft phd1 author affiliations\n",
            "end textinside296 mycoplasma pneumoniae outbreak longterm care facility —\n",
            "nebraska 2014300 u se 9valent human papillomavirus hpv vaccine updated hpv\n",
            "vaccination recommendations advisory committee immunization practices305 upda\n",
            "ted recommendations use typhoid vaccine — advisory committee immunization\n",
            "practices united states 2015309 announcement310 quickstatscontinuing education\n",
            "examination available httpwwwcdcgovmmwrcmecontedinfohtmlweekly † available httpw\n",
            "\n",
            "Index: 99\n",
            "Article Title: Employment and Activity Limitations Among Adults with Chronic Obstructive Pulmonary Disease \n",
            "\n",
            "Passage:\n",
            "ed guide help states develop implement tobacco control programs§§ cdc also\n",
            "compiled guide communitybased strategies increase physical activity cdc guide\n",
            "strategies increase physical activity community¶¶ 1division population health\n",
            "national center chronic disease prevention health promotion cdc corresponding\n",
            "author anne g wheaton awheatoncdcgov 7704885362references 1 h eron deaths\n",
            "leading causes 2010 natl vital stat rep 2013 621–96 2 us b urden disease\n",
            "collaborators state us health 19902010 burden diseases injuries risk factors\n",
            "jama 2013310591–608 3 lee pn f ry js systematic review\n",
            "\n",
            "Index: 273\n",
            "Article Title: Recommendations of the Advisory Committee on Immunization Practices \n",
            "\n",
            "Passage:\n",
            "adrivalent hpv vaccine gardasil produced merck co inc whitehouse station new\n",
            "jersey licensed use females males aged 9 26 years bivalent hpv vaccine cervarix\n",
            "produced glaxosmithkline rixensart belgium licensed use females aged 9 25 years\n",
            "vaccines composed typespecific hpv l1 protein major capsid protein hpv\n",
            "expression l1 protein using recombinant dna technology produces vlps vaccines\n",
            "noninfectiousquadrivalent vaccine hpv4 contains hpv 6 11 16 18 l1 vlps l1\n",
            "protein expressed saccharomyces cerevisiae baker’s yeast selfassembles\n",
            "conformationally intact noninfect\n",
            "\n",
            "Index: 93\n",
            "Article Title: Employment and Activity Limitations Among Adults with Chronic Obstructive Pulmonary Disease \n",
            "\n",
            "Passage:\n",
            "47–67 30000new mexico 9224 55 49–62 93000delaware 5150 55 48–63 43000new jersey\n",
            "13179 54 49–60 400000texas 10783 53 47–59 1040000connecticut 7609 53 47–60\n",
            "163000washington 11065 53 48–58 301000new york 8805 52 47–59 856000massachusetts\n",
            "14914 51 47–57 296000vermont 6322 51 45–58 28000maryland 12830 50 45–56\n",
            "244000wisconsin 6521 50 42–58 245000nebraska 17017 49 44–53 74000illinois 5586\n",
            "48 41–55 491000california 11507 45 41–50 1352000north dakota 7725 45 39–51\n",
            "27000colorado 13487 44 40–49 182000hawaii 7788 44 37–51 51000utah 12648 42 38–46\n",
            "80000idaho 5573 42 36\n",
            "\n",
            "Index: 455\n",
            "Article Title: Recommendations of the Advisory Committee on Immunization Practices \n",
            "\n",
            "Passage:\n",
            "red book editor david kimberlin md birmingham alabama american academy physician\n",
            "assistants mariemichèle léger mph alexandria virginia american college health\n",
            "association susan evan md columbia missouri american college obstetricians\n",
            "gynecologists laura e riley md boston massachusetts american college physicians\n",
            "sandra adamson fryhofer md atlanta georgia american geriatrics society kenneth\n",
            "schmader md durham north carolina america’s health insurance plans mark j\n",
            "netoskie md houston texas american medical association sandra adamson fryhofer\n",
            "md atlanta georgia american nurses association katie brewer msn silver spring\n",
            "maryland amer\n",
            "\n",
            "Index: 126\n",
            "Article Title: Employment and Activity Limitations Among Adults with Chronic Obstructive Pulmonary Disease \n",
            "\n",
            "Passage:\n",
            "facilities protect staff members residents education regarding monitoring\n",
            "outbreaks infection prevention measures delayed recognition outbreak\n",
            "determination etiologic agent might prolong transmis sion period delay effective\n",
            "interventionstable number patients confirmed probable mycoplasma pneumoniae\n",
            "respiratory illness longterm care facility selected characteristics — nebraska\n",
            "2014characteristicconfirmed n 14probable† n 41 total n 55no link\n",
            "facilityresident 6 43 14 34 20 36staff member 5 36 17 41 22 40community member3\n",
            "21 10 24 13 24sexwomen 11 79 31 76 42\n",
            "\n",
            "Index: 110\n",
            "Article Title: Employment and Activity Limitations Among Adults with Chronic Obstructive Pulmonary Disease \n",
            "\n",
            "Passage:\n",
            "outbreak started alzheimer unit june 2 index patient experienced fever cough\n",
            "examined primary care provider’s office june 4 june 5 started amoxicillin\n",
            "hospitalized died june 7three alzheimer unit residents became ill time ecdhd\n",
            "ndhhs notified illness spread units diagnostic specimens collected june 22 ndhhs\n",
            "established working case definition instructed facility ask attending physician\n",
            "collect np op swabs hospitalized resident asked facility collect specimens\n",
            "residents staff members\n",
            "\n",
            "Index: 106\n",
            "Article Title: Employment and Activity Limitations Among Adults with Chronic Obstructive Pulmonary Disease \n",
            "\n",
            "Passage:\n",
            "ar sp dalal aa indirect costs chronic obstructive pulmonary disease review\n",
            "economic burden employers individuals united states int j chron obstruct pulmon\n",
            "dis 20149289–300 8 thornton nider j romley ja wong ks zhang j eber goldman dp\n",
            "disability burden copd copd 20129513–21 9 c unningham tj ford es rolle iv\n",
            "wheaton ag croft jb associations selfreported cigarette smoking chronic\n",
            "obstructive pulmonary disease comorbid chronic conditions united states copd\n",
            "2014epub ahead print 10 zhang j lin xf bai cx comparison clinical features\n",
            "nonsmokers copd smokers copd retrospective\n",
            "\n"
          ]
        }
      ]
    },
    {
      "cell_type": "code",
      "source": [
        "retrieved_indices"
      ],
      "metadata": {
        "id": "O0p611gDZPFG",
        "outputId": "afae1c7f-aa1f-44da-cf7b-8b66c27a82dc",
        "colab": {
          "base_uri": "https://localhost:8080/"
        }
      },
      "execution_count": null,
      "outputs": [
        {
          "output_type": "execute_result",
          "data": {
            "text/plain": [
              "[437, 449, 72, 99, 273, 93, 455, 126, 110, 106]"
            ]
          },
          "metadata": {},
          "execution_count": 51
        }
      ]
    },
    {
      "cell_type": "code",
      "source": [
        "len(passages)"
      ],
      "metadata": {
        "colab": {
          "base_uri": "https://localhost:8080/"
        },
        "id": "U7ektGEImhdQ",
        "outputId": "1a5d1a1c-7942-49c7-8379-e597f3ece8bc"
      },
      "execution_count": null,
      "outputs": [
        {
          "output_type": "execute_result",
          "data": {
            "text/plain": [
              "464"
            ]
          },
          "metadata": {},
          "execution_count": 52
        }
      ]
    },
    {
      "cell_type": "code",
      "source": [
        "# Save the trained model\n",
        "output_dir = \"path_to_save_model\"\n",
        "ctx_encoder.save_pretrained(output_dir)"
      ],
      "metadata": {
        "id": "4zWATyIqzzAz"
      },
      "execution_count": null,
      "outputs": []
    },
    {
      "cell_type": "code",
      "source": [
        "!pip install datasets"
      ],
      "metadata": {
        "id": "zWAQ522XbTlz",
        "outputId": "678f8257-49ef-4a32-dc9c-625d3906e947",
        "colab": {
          "base_uri": "https://localhost:8080/"
        }
      },
      "execution_count": null,
      "outputs": [
        {
          "output_type": "stream",
          "name": "stdout",
          "text": [
            "Looking in indexes: https://pypi.org/simple, https://us-python.pkg.dev/colab-wheels/public/simple/\n",
            "Collecting datasets\n",
            "  Downloading datasets-2.12.0-py3-none-any.whl (474 kB)\n",
            "\u001b[2K     \u001b[90m━━━━━━━━━━━━━━━━━━━━━━━━━━━━━━━━━━━━━━━\u001b[0m \u001b[32m474.6/474.6 kB\u001b[0m \u001b[31m7.5 MB/s\u001b[0m eta \u001b[36m0:00:00\u001b[0m\n",
            "\u001b[?25hRequirement already satisfied: numpy>=1.17 in /usr/local/lib/python3.10/dist-packages (from datasets) (1.22.4)\n",
            "Requirement already satisfied: pyarrow>=8.0.0 in /usr/local/lib/python3.10/dist-packages (from datasets) (9.0.0)\n",
            "Collecting dill<0.3.7,>=0.3.0 (from datasets)\n",
            "  Downloading dill-0.3.6-py3-none-any.whl (110 kB)\n",
            "\u001b[2K     \u001b[90m━━━━━━━━━━━━━━━━━━━━━━━━━━━━━━━━━━━━━━\u001b[0m \u001b[32m110.5/110.5 kB\u001b[0m \u001b[31m11.8 MB/s\u001b[0m eta \u001b[36m0:00:00\u001b[0m\n",
            "\u001b[?25hRequirement already satisfied: pandas in /usr/local/lib/python3.10/dist-packages (from datasets) (1.5.3)\n",
            "Requirement already satisfied: requests>=2.19.0 in /usr/local/lib/python3.10/dist-packages (from datasets) (2.27.1)\n",
            "Requirement already satisfied: tqdm>=4.62.1 in /usr/local/lib/python3.10/dist-packages (from datasets) (4.65.0)\n",
            "Collecting xxhash (from datasets)\n",
            "  Downloading xxhash-3.2.0-cp310-cp310-manylinux_2_17_x86_64.manylinux2014_x86_64.whl (212 kB)\n",
            "\u001b[2K     \u001b[90m━━━━━━━━━━━━━━━━━━━━━━━━━━━━━━━━━━━━━━\u001b[0m \u001b[32m212.5/212.5 kB\u001b[0m \u001b[31m16.4 MB/s\u001b[0m eta \u001b[36m0:00:00\u001b[0m\n",
            "\u001b[?25hCollecting multiprocess (from datasets)\n",
            "  Downloading multiprocess-0.70.14-py310-none-any.whl (134 kB)\n",
            "\u001b[2K     \u001b[90m━━━━━━━━━━━━━━━━━━━━━━━━━━━━━━━━━━━━━━\u001b[0m \u001b[32m134.3/134.3 kB\u001b[0m \u001b[31m12.8 MB/s\u001b[0m eta \u001b[36m0:00:00\u001b[0m\n",
            "\u001b[?25hRequirement already satisfied: fsspec[http]>=2021.11.1 in /usr/local/lib/python3.10/dist-packages (from datasets) (2023.4.0)\n",
            "Collecting aiohttp (from datasets)\n",
            "  Downloading aiohttp-3.8.4-cp310-cp310-manylinux_2_17_x86_64.manylinux2014_x86_64.whl (1.0 MB)\n",
            "\u001b[2K     \u001b[90m━━━━━━━━━━━━━━━━━━━━━━━━━━━━━━━━━━━━━━━━\u001b[0m \u001b[32m1.0/1.0 MB\u001b[0m \u001b[31m24.7 MB/s\u001b[0m eta \u001b[36m0:00:00\u001b[0m\n",
            "\u001b[?25hRequirement already satisfied: huggingface-hub<1.0.0,>=0.11.0 in /usr/local/lib/python3.10/dist-packages (from datasets) (0.15.1)\n",
            "Requirement already satisfied: packaging in /usr/local/lib/python3.10/dist-packages (from datasets) (23.1)\n",
            "Collecting responses<0.19 (from datasets)\n",
            "  Downloading responses-0.18.0-py3-none-any.whl (38 kB)\n",
            "Requirement already satisfied: pyyaml>=5.1 in /usr/local/lib/python3.10/dist-packages (from datasets) (6.0)\n",
            "Requirement already satisfied: attrs>=17.3.0 in /usr/local/lib/python3.10/dist-packages (from aiohttp->datasets) (23.1.0)\n",
            "Requirement already satisfied: charset-normalizer<4.0,>=2.0 in /usr/local/lib/python3.10/dist-packages (from aiohttp->datasets) (2.0.12)\n",
            "Collecting multidict<7.0,>=4.5 (from aiohttp->datasets)\n",
            "  Downloading multidict-6.0.4-cp310-cp310-manylinux_2_17_x86_64.manylinux2014_x86_64.whl (114 kB)\n",
            "\u001b[2K     \u001b[90m━━━━━━━━━━━━━━━━━━━━━━━━━━━━━━━━━━━━━━\u001b[0m \u001b[32m114.5/114.5 kB\u001b[0m \u001b[31m10.9 MB/s\u001b[0m eta \u001b[36m0:00:00\u001b[0m\n",
            "\u001b[?25hCollecting async-timeout<5.0,>=4.0.0a3 (from aiohttp->datasets)\n",
            "  Downloading async_timeout-4.0.2-py3-none-any.whl (5.8 kB)\n",
            "Collecting yarl<2.0,>=1.0 (from aiohttp->datasets)\n",
            "  Downloading yarl-1.9.2-cp310-cp310-manylinux_2_17_x86_64.manylinux2014_x86_64.whl (268 kB)\n",
            "\u001b[2K     \u001b[90m━━━━━━━━━━━━━━━━━━━━━━━━━━━━━━━━━━━━━━\u001b[0m \u001b[32m268.8/268.8 kB\u001b[0m \u001b[31m20.0 MB/s\u001b[0m eta \u001b[36m0:00:00\u001b[0m\n",
            "\u001b[?25hCollecting frozenlist>=1.1.1 (from aiohttp->datasets)\n",
            "  Downloading frozenlist-1.3.3-cp310-cp310-manylinux_2_5_x86_64.manylinux1_x86_64.manylinux_2_17_x86_64.manylinux2014_x86_64.whl (149 kB)\n",
            "\u001b[2K     \u001b[90m━━━━━━━━━━━━━━━━━━━━━━━━━━━━━━━━━━━━━━\u001b[0m \u001b[32m149.6/149.6 kB\u001b[0m \u001b[31m14.0 MB/s\u001b[0m eta \u001b[36m0:00:00\u001b[0m\n",
            "\u001b[?25hCollecting aiosignal>=1.1.2 (from aiohttp->datasets)\n",
            "  Downloading aiosignal-1.3.1-py3-none-any.whl (7.6 kB)\n",
            "Requirement already satisfied: filelock in /usr/local/lib/python3.10/dist-packages (from huggingface-hub<1.0.0,>=0.11.0->datasets) (3.12.0)\n",
            "Requirement already satisfied: typing-extensions>=3.7.4.3 in /usr/local/lib/python3.10/dist-packages (from huggingface-hub<1.0.0,>=0.11.0->datasets) (4.5.0)\n",
            "Requirement already satisfied: urllib3<1.27,>=1.21.1 in /usr/local/lib/python3.10/dist-packages (from requests>=2.19.0->datasets) (1.26.15)\n",
            "Requirement already satisfied: certifi>=2017.4.17 in /usr/local/lib/python3.10/dist-packages (from requests>=2.19.0->datasets) (2022.12.7)\n",
            "Requirement already satisfied: idna<4,>=2.5 in /usr/local/lib/python3.10/dist-packages (from requests>=2.19.0->datasets) (3.4)\n",
            "Requirement already satisfied: python-dateutil>=2.8.1 in /usr/local/lib/python3.10/dist-packages (from pandas->datasets) (2.8.2)\n",
            "Requirement already satisfied: pytz>=2020.1 in /usr/local/lib/python3.10/dist-packages (from pandas->datasets) (2022.7.1)\n",
            "Requirement already satisfied: six>=1.5 in /usr/local/lib/python3.10/dist-packages (from python-dateutil>=2.8.1->pandas->datasets) (1.16.0)\n",
            "Installing collected packages: xxhash, multidict, frozenlist, dill, async-timeout, yarl, responses, multiprocess, aiosignal, aiohttp, datasets\n",
            "Successfully installed aiohttp-3.8.4 aiosignal-1.3.1 async-timeout-4.0.2 datasets-2.12.0 dill-0.3.6 frozenlist-1.3.3 multidict-6.0.4 multiprocess-0.70.14 responses-0.18.0 xxhash-3.2.0 yarl-1.9.2\n"
          ]
        }
      ]
    },
    {
      "cell_type": "code",
      "source": [
        "len(embeddings)"
      ],
      "metadata": {
        "id": "1kXS_9dNaYNb",
        "outputId": "3fd10e78-e6ef-411d-eb15-38dd8b898e17",
        "colab": {
          "base_uri": "https://localhost:8080/"
        }
      },
      "execution_count": null,
      "outputs": [
        {
          "output_type": "execute_result",
          "data": {
            "text/plain": [
              "464"
            ]
          },
          "metadata": {},
          "execution_count": 54
        }
      ]
    },
    {
      "cell_type": "code",
      "source": [
        "pip install datasets"
      ],
      "metadata": {
        "id": "IxWFatg6aslU",
        "colab": {
          "base_uri": "https://localhost:8080/"
        },
        "outputId": "7f15708c-9b8d-4c07-fca7-775c31b20023"
      },
      "execution_count": null,
      "outputs": [
        {
          "output_type": "stream",
          "name": "stdout",
          "text": [
            "Looking in indexes: https://pypi.org/simple, https://us-python.pkg.dev/colab-wheels/public/simple/\n",
            "Requirement already satisfied: datasets in /usr/local/lib/python3.10/dist-packages (2.12.0)\n",
            "Requirement already satisfied: numpy>=1.17 in /usr/local/lib/python3.10/dist-packages (from datasets) (1.22.4)\n",
            "Requirement already satisfied: pyarrow>=8.0.0 in /usr/local/lib/python3.10/dist-packages (from datasets) (9.0.0)\n",
            "Requirement already satisfied: dill<0.3.7,>=0.3.0 in /usr/local/lib/python3.10/dist-packages (from datasets) (0.3.6)\n",
            "Requirement already satisfied: pandas in /usr/local/lib/python3.10/dist-packages (from datasets) (1.5.3)\n",
            "Requirement already satisfied: requests>=2.19.0 in /usr/local/lib/python3.10/dist-packages (from datasets) (2.27.1)\n",
            "Requirement already satisfied: tqdm>=4.62.1 in /usr/local/lib/python3.10/dist-packages (from datasets) (4.65.0)\n",
            "Requirement already satisfied: xxhash in /usr/local/lib/python3.10/dist-packages (from datasets) (3.2.0)\n",
            "Requirement already satisfied: multiprocess in /usr/local/lib/python3.10/dist-packages (from datasets) (0.70.14)\n",
            "Requirement already satisfied: fsspec[http]>=2021.11.1 in /usr/local/lib/python3.10/dist-packages (from datasets) (2023.4.0)\n",
            "Requirement already satisfied: aiohttp in /usr/local/lib/python3.10/dist-packages (from datasets) (3.8.4)\n",
            "Requirement already satisfied: huggingface-hub<1.0.0,>=0.11.0 in /usr/local/lib/python3.10/dist-packages (from datasets) (0.15.1)\n",
            "Requirement already satisfied: packaging in /usr/local/lib/python3.10/dist-packages (from datasets) (23.1)\n",
            "Requirement already satisfied: responses<0.19 in /usr/local/lib/python3.10/dist-packages (from datasets) (0.18.0)\n",
            "Requirement already satisfied: pyyaml>=5.1 in /usr/local/lib/python3.10/dist-packages (from datasets) (6.0)\n",
            "Requirement already satisfied: attrs>=17.3.0 in /usr/local/lib/python3.10/dist-packages (from aiohttp->datasets) (23.1.0)\n",
            "Requirement already satisfied: charset-normalizer<4.0,>=2.0 in /usr/local/lib/python3.10/dist-packages (from aiohttp->datasets) (2.0.12)\n",
            "Requirement already satisfied: multidict<7.0,>=4.5 in /usr/local/lib/python3.10/dist-packages (from aiohttp->datasets) (6.0.4)\n",
            "Requirement already satisfied: async-timeout<5.0,>=4.0.0a3 in /usr/local/lib/python3.10/dist-packages (from aiohttp->datasets) (4.0.2)\n",
            "Requirement already satisfied: yarl<2.0,>=1.0 in /usr/local/lib/python3.10/dist-packages (from aiohttp->datasets) (1.9.2)\n",
            "Requirement already satisfied: frozenlist>=1.1.1 in /usr/local/lib/python3.10/dist-packages (from aiohttp->datasets) (1.3.3)\n",
            "Requirement already satisfied: aiosignal>=1.1.2 in /usr/local/lib/python3.10/dist-packages (from aiohttp->datasets) (1.3.1)\n",
            "Requirement already satisfied: filelock in /usr/local/lib/python3.10/dist-packages (from huggingface-hub<1.0.0,>=0.11.0->datasets) (3.12.0)\n",
            "Requirement already satisfied: typing-extensions>=3.7.4.3 in /usr/local/lib/python3.10/dist-packages (from huggingface-hub<1.0.0,>=0.11.0->datasets) (4.5.0)\n",
            "Requirement already satisfied: urllib3<1.27,>=1.21.1 in /usr/local/lib/python3.10/dist-packages (from requests>=2.19.0->datasets) (1.26.15)\n",
            "Requirement already satisfied: certifi>=2017.4.17 in /usr/local/lib/python3.10/dist-packages (from requests>=2.19.0->datasets) (2022.12.7)\n",
            "Requirement already satisfied: idna<4,>=2.5 in /usr/local/lib/python3.10/dist-packages (from requests>=2.19.0->datasets) (3.4)\n",
            "Requirement already satisfied: python-dateutil>=2.8.1 in /usr/local/lib/python3.10/dist-packages (from pandas->datasets) (2.8.2)\n",
            "Requirement already satisfied: pytz>=2020.1 in /usr/local/lib/python3.10/dist-packages (from pandas->datasets) (2022.7.1)\n",
            "Requirement already satisfied: six>=1.5 in /usr/local/lib/python3.10/dist-packages (from python-dateutil>=2.8.1->pandas->datasets) (1.16.0)\n"
          ]
        }
      ]
    },
    {
      "cell_type": "code",
      "source": [
        "from datasets import Dataset\n",
        "import pandas as pd\n",
        "\n",
        "df = pd.DataFrame(chunked_corpus)\n",
        "custom_dataset = Dataset.from_pandas(df)\n",
        "print(custom_dataset)"
      ],
      "metadata": {
        "colab": {
          "base_uri": "https://localhost:8080/"
        },
        "id": "k4dn_i-Oouy1",
        "outputId": "ea76196f-3888-41df-a71f-507803bc44dc"
      },
      "execution_count": null,
      "outputs": [
        {
          "output_type": "stream",
          "name": "stdout",
          "text": [
            "Dataset({\n",
            "    features: ['title', 'text'],\n",
            "    num_rows: 464\n",
            "})\n"
          ]
        }
      ]
    },
    {
      "cell_type": "code",
      "source": [
        "embs = []\n",
        "for i in range(embeddings.shape[0]):\n",
        "  embs.append(embeddings[i,:])"
      ],
      "metadata": {
        "id": "PtMmMrUqpQgN"
      },
      "execution_count": null,
      "outputs": []
    },
    {
      "cell_type": "code",
      "source": [
        "custom_dataset = custom_dataset.add_column(\"embeddings\", embs)\n",
        "custom_dataset"
      ],
      "metadata": {
        "colab": {
          "base_uri": "https://localhost:8080/"
        },
        "id": "4SRhdSnMpxkI",
        "outputId": "530cc8c7-21cd-4e76-8fe1-3602560249fe"
      },
      "execution_count": null,
      "outputs": [
        {
          "output_type": "execute_result",
          "data": {
            "text/plain": [
              "Dataset({\n",
              "    features: ['title', 'text', 'embeddings'],\n",
              "    num_rows: 464\n",
              "})"
            ]
          },
          "metadata": {},
          "execution_count": 58
        }
      ]
    },
    {
      "cell_type": "code",
      "source": [
        "index = faiss.IndexHNSWFlat(dim, m, faiss.METRIC_INNER_PRODUCT)\n",
        "custom_dataset.add_faiss_index(column = \"embeddings\", index_name = \"embeddings\", custom_index=index)"
      ],
      "metadata": {
        "colab": {
          "base_uri": "https://localhost:8080/",
          "height": 120,
          "referenced_widgets": [
            "fafc4ef28f734c8b8c224d24ec899483",
            "6098da53fd7a4e5fbe20ed9b8d0e5a06",
            "df6eb0d5f6d245d6bb65220538cf75a9",
            "cb006a4fa8764cd1abd8a07cc66c817d",
            "d888459ea47b4475ae443a32d73cd544",
            "f3f414844c0545edb6bf236506e6ee27",
            "f644af1eeab847c292e737dd98856475",
            "8e99d7b2764e4032bd77598db85d0f6e",
            "c0ec8b28e72f4cbf84dd0f3d51908811",
            "93d5df27a03b4d0b967ac88071e30cd7",
            "1e3910ecfb484b87ab61d9f7fdebceca"
          ]
        },
        "id": "TYFFCgpRp7hc",
        "outputId": "97ef72a9-8d9a-43bf-cc92-ece6a573f906"
      },
      "execution_count": null,
      "outputs": [
        {
          "output_type": "display_data",
          "data": {
            "text/plain": [
              "  0%|          | 0/1 [00:00<?, ?it/s]"
            ],
            "application/vnd.jupyter.widget-view+json": {
              "version_major": 2,
              "version_minor": 0,
              "model_id": "fafc4ef28f734c8b8c224d24ec899483"
            }
          },
          "metadata": {}
        },
        {
          "output_type": "execute_result",
          "data": {
            "text/plain": [
              "Dataset({\n",
              "    features: ['title', 'text', 'embeddings'],\n",
              "    num_rows: 464\n",
              "})"
            ]
          },
          "metadata": {},
          "execution_count": 59
        }
      ]
    },
    {
      "cell_type": "code",
      "source": [],
      "metadata": {
        "id": "JOIYN70F9_3H"
      },
      "execution_count": null,
      "outputs": []
    },
    {
      "cell_type": "code",
      "source": [
        "from transformers import RagRetriever"
      ],
      "metadata": {
        "id": "tfyMjYH9rXxF"
      },
      "execution_count": null,
      "outputs": []
    },
    {
      "cell_type": "code",
      "source": [
        "# !pip install --upgrade datasets\n",
        "\n",
        "!pip install transformers\n",
        "!pip install datasets\n",
        "!pip install faiss\n",
        "retriever = RagRetriever.from_pretrained(\n",
        "    \"facebook/rag-sequence-nq\",\n",
        "    use_dummy_dataset = False,\n",
        "    indexed_dataset = custom_dataset,\n",
        "    index_name = \"embeddings\",\n",
        ")"
      ],
      "metadata": {
        "id": "mF4sMtjR8G8C",
        "outputId": "10cabbab-4bda-4e4b-bc4e-781ff356fe18",
        "colab": {
          "base_uri": "https://localhost:8080/",
          "height": 1000
        }
      },
      "execution_count": null,
      "outputs": [
        {
          "output_type": "stream",
          "name": "stdout",
          "text": [
            "Looking in indexes: https://pypi.org/simple, https://us-python.pkg.dev/colab-wheels/public/simple/\n",
            "Requirement already satisfied: transformers in /usr/local/lib/python3.10/dist-packages (4.29.2)\n",
            "Requirement already satisfied: filelock in /usr/local/lib/python3.10/dist-packages (from transformers) (3.12.0)\n",
            "Requirement already satisfied: huggingface-hub<1.0,>=0.14.1 in /usr/local/lib/python3.10/dist-packages (from transformers) (0.15.1)\n",
            "Requirement already satisfied: numpy>=1.17 in /usr/local/lib/python3.10/dist-packages (from transformers) (1.22.4)\n",
            "Requirement already satisfied: packaging>=20.0 in /usr/local/lib/python3.10/dist-packages (from transformers) (23.1)\n",
            "Requirement already satisfied: pyyaml>=5.1 in /usr/local/lib/python3.10/dist-packages (from transformers) (6.0)\n",
            "Requirement already satisfied: regex!=2019.12.17 in /usr/local/lib/python3.10/dist-packages (from transformers) (2022.10.31)\n",
            "Requirement already satisfied: requests in /usr/local/lib/python3.10/dist-packages (from transformers) (2.27.1)\n",
            "Requirement already satisfied: tokenizers!=0.11.3,<0.14,>=0.11.1 in /usr/local/lib/python3.10/dist-packages (from transformers) (0.13.3)\n",
            "Requirement already satisfied: tqdm>=4.27 in /usr/local/lib/python3.10/dist-packages (from transformers) (4.65.0)\n",
            "Requirement already satisfied: fsspec in /usr/local/lib/python3.10/dist-packages (from huggingface-hub<1.0,>=0.14.1->transformers) (2023.4.0)\n",
            "Requirement already satisfied: typing-extensions>=3.7.4.3 in /usr/local/lib/python3.10/dist-packages (from huggingface-hub<1.0,>=0.14.1->transformers) (4.5.0)\n",
            "Requirement already satisfied: urllib3<1.27,>=1.21.1 in /usr/local/lib/python3.10/dist-packages (from requests->transformers) (1.26.15)\n",
            "Requirement already satisfied: certifi>=2017.4.17 in /usr/local/lib/python3.10/dist-packages (from requests->transformers) (2022.12.7)\n",
            "Requirement already satisfied: charset-normalizer~=2.0.0 in /usr/local/lib/python3.10/dist-packages (from requests->transformers) (2.0.12)\n",
            "Requirement already satisfied: idna<4,>=2.5 in /usr/local/lib/python3.10/dist-packages (from requests->transformers) (3.4)\n",
            "Looking in indexes: https://pypi.org/simple, https://us-python.pkg.dev/colab-wheels/public/simple/\n",
            "Requirement already satisfied: datasets in /usr/local/lib/python3.10/dist-packages (2.12.0)\n",
            "Requirement already satisfied: numpy>=1.17 in /usr/local/lib/python3.10/dist-packages (from datasets) (1.22.4)\n",
            "Requirement already satisfied: pyarrow>=8.0.0 in /usr/local/lib/python3.10/dist-packages (from datasets) (9.0.0)\n",
            "Requirement already satisfied: dill<0.3.7,>=0.3.0 in /usr/local/lib/python3.10/dist-packages (from datasets) (0.3.6)\n",
            "Requirement already satisfied: pandas in /usr/local/lib/python3.10/dist-packages (from datasets) (1.5.3)\n",
            "Requirement already satisfied: requests>=2.19.0 in /usr/local/lib/python3.10/dist-packages (from datasets) (2.27.1)\n",
            "Requirement already satisfied: tqdm>=4.62.1 in /usr/local/lib/python3.10/dist-packages (from datasets) (4.65.0)\n",
            "Requirement already satisfied: xxhash in /usr/local/lib/python3.10/dist-packages (from datasets) (3.2.0)\n",
            "Requirement already satisfied: multiprocess in /usr/local/lib/python3.10/dist-packages (from datasets) (0.70.14)\n",
            "Requirement already satisfied: fsspec[http]>=2021.11.1 in /usr/local/lib/python3.10/dist-packages (from datasets) (2023.4.0)\n",
            "Requirement already satisfied: aiohttp in /usr/local/lib/python3.10/dist-packages (from datasets) (3.8.4)\n",
            "Requirement already satisfied: huggingface-hub<1.0.0,>=0.11.0 in /usr/local/lib/python3.10/dist-packages (from datasets) (0.15.1)\n",
            "Requirement already satisfied: packaging in /usr/local/lib/python3.10/dist-packages (from datasets) (23.1)\n",
            "Requirement already satisfied: responses<0.19 in /usr/local/lib/python3.10/dist-packages (from datasets) (0.18.0)\n",
            "Requirement already satisfied: pyyaml>=5.1 in /usr/local/lib/python3.10/dist-packages (from datasets) (6.0)\n",
            "Requirement already satisfied: attrs>=17.3.0 in /usr/local/lib/python3.10/dist-packages (from aiohttp->datasets) (23.1.0)\n",
            "Requirement already satisfied: charset-normalizer<4.0,>=2.0 in /usr/local/lib/python3.10/dist-packages (from aiohttp->datasets) (2.0.12)\n",
            "Requirement already satisfied: multidict<7.0,>=4.5 in /usr/local/lib/python3.10/dist-packages (from aiohttp->datasets) (6.0.4)\n",
            "Requirement already satisfied: async-timeout<5.0,>=4.0.0a3 in /usr/local/lib/python3.10/dist-packages (from aiohttp->datasets) (4.0.2)\n",
            "Requirement already satisfied: yarl<2.0,>=1.0 in /usr/local/lib/python3.10/dist-packages (from aiohttp->datasets) (1.9.2)\n",
            "Requirement already satisfied: frozenlist>=1.1.1 in /usr/local/lib/python3.10/dist-packages (from aiohttp->datasets) (1.3.3)\n",
            "Requirement already satisfied: aiosignal>=1.1.2 in /usr/local/lib/python3.10/dist-packages (from aiohttp->datasets) (1.3.1)\n",
            "Requirement already satisfied: filelock in /usr/local/lib/python3.10/dist-packages (from huggingface-hub<1.0.0,>=0.11.0->datasets) (3.12.0)\n",
            "Requirement already satisfied: typing-extensions>=3.7.4.3 in /usr/local/lib/python3.10/dist-packages (from huggingface-hub<1.0.0,>=0.11.0->datasets) (4.5.0)\n",
            "Requirement already satisfied: urllib3<1.27,>=1.21.1 in /usr/local/lib/python3.10/dist-packages (from requests>=2.19.0->datasets) (1.26.15)\n",
            "Requirement already satisfied: certifi>=2017.4.17 in /usr/local/lib/python3.10/dist-packages (from requests>=2.19.0->datasets) (2022.12.7)\n",
            "Requirement already satisfied: idna<4,>=2.5 in /usr/local/lib/python3.10/dist-packages (from requests>=2.19.0->datasets) (3.4)\n",
            "Requirement already satisfied: python-dateutil>=2.8.1 in /usr/local/lib/python3.10/dist-packages (from pandas->datasets) (2.8.2)\n",
            "Requirement already satisfied: pytz>=2020.1 in /usr/local/lib/python3.10/dist-packages (from pandas->datasets) (2022.7.1)\n",
            "Requirement already satisfied: six>=1.5 in /usr/local/lib/python3.10/dist-packages (from python-dateutil>=2.8.1->pandas->datasets) (1.16.0)\n",
            "\u001b[31mERROR: Operation cancelled by user\u001b[0m\u001b[31m\n",
            "\u001b[0mLooking in indexes: https://pypi.org/simple, https://us-python.pkg.dev/colab-wheels/public/simple/\n",
            "\u001b[31mERROR: Could not find a version that satisfies the requirement faiss (from versions: none)\u001b[0m\u001b[31m\n",
            "\u001b[0m\u001b[31mERROR: No matching distribution found for faiss\u001b[0m\u001b[31m\n",
            "\u001b[0m"
          ]
        },
        {
          "output_type": "error",
          "ename": "ImportError",
          "evalue": "ignored",
          "traceback": [
            "\u001b[0;31m---------------------------------------------------------------------------\u001b[0m",
            "\u001b[0;31mImportError\u001b[0m                               Traceback (most recent call last)",
            "\u001b[0;32m<ipython-input-62-7a71a9bd21a2>\u001b[0m in \u001b[0;36m<cell line: 6>\u001b[0;34m()\u001b[0m\n\u001b[1;32m      4\u001b[0m \u001b[0mget_ipython\u001b[0m\u001b[0;34m(\u001b[0m\u001b[0;34m)\u001b[0m\u001b[0;34m.\u001b[0m\u001b[0msystem\u001b[0m\u001b[0;34m(\u001b[0m\u001b[0;34m'pip install datasets'\u001b[0m\u001b[0;34m)\u001b[0m\u001b[0;34m\u001b[0m\u001b[0;34m\u001b[0m\u001b[0m\n\u001b[1;32m      5\u001b[0m \u001b[0mget_ipython\u001b[0m\u001b[0;34m(\u001b[0m\u001b[0;34m)\u001b[0m\u001b[0;34m.\u001b[0m\u001b[0msystem\u001b[0m\u001b[0;34m(\u001b[0m\u001b[0;34m'pip install faiss'\u001b[0m\u001b[0;34m)\u001b[0m\u001b[0;34m\u001b[0m\u001b[0;34m\u001b[0m\u001b[0m\n\u001b[0;32m----> 6\u001b[0;31m retriever = RagRetriever.from_pretrained(\n\u001b[0m\u001b[1;32m      7\u001b[0m     \u001b[0;34m\"facebook/rag-sequence-nq\"\u001b[0m\u001b[0;34m,\u001b[0m\u001b[0;34m\u001b[0m\u001b[0;34m\u001b[0m\u001b[0m\n\u001b[1;32m      8\u001b[0m     \u001b[0muse_dummy_dataset\u001b[0m \u001b[0;34m=\u001b[0m \u001b[0;32mFalse\u001b[0m\u001b[0;34m,\u001b[0m\u001b[0;34m\u001b[0m\u001b[0;34m\u001b[0m\u001b[0m\n",
            "\u001b[0;32m/usr/local/lib/python3.10/dist-packages/transformers/models/rag/retrieval_rag.py\u001b[0m in \u001b[0;36mfrom_pretrained\u001b[0;34m(cls, retriever_name_or_path, indexed_dataset, **kwargs)\u001b[0m\n\u001b[1;32m    418\u001b[0m     \u001b[0;34m@\u001b[0m\u001b[0mclassmethod\u001b[0m\u001b[0;34m\u001b[0m\u001b[0;34m\u001b[0m\u001b[0m\n\u001b[1;32m    419\u001b[0m     \u001b[0;32mdef\u001b[0m \u001b[0mfrom_pretrained\u001b[0m\u001b[0;34m(\u001b[0m\u001b[0mcls\u001b[0m\u001b[0;34m,\u001b[0m \u001b[0mretriever_name_or_path\u001b[0m\u001b[0;34m,\u001b[0m \u001b[0mindexed_dataset\u001b[0m\u001b[0;34m=\u001b[0m\u001b[0;32mNone\u001b[0m\u001b[0;34m,\u001b[0m \u001b[0;34m**\u001b[0m\u001b[0mkwargs\u001b[0m\u001b[0;34m)\u001b[0m\u001b[0;34m:\u001b[0m\u001b[0;34m\u001b[0m\u001b[0;34m\u001b[0m\u001b[0m\n\u001b[0;32m--> 420\u001b[0;31m         \u001b[0mrequires_backends\u001b[0m\u001b[0;34m(\u001b[0m\u001b[0mcls\u001b[0m\u001b[0;34m,\u001b[0m \u001b[0;34m[\u001b[0m\u001b[0;34m\"datasets\"\u001b[0m\u001b[0;34m,\u001b[0m \u001b[0;34m\"faiss\"\u001b[0m\u001b[0;34m]\u001b[0m\u001b[0;34m)\u001b[0m\u001b[0;34m\u001b[0m\u001b[0;34m\u001b[0m\u001b[0m\n\u001b[0m\u001b[1;32m    421\u001b[0m         \u001b[0mconfig\u001b[0m \u001b[0;34m=\u001b[0m \u001b[0mkwargs\u001b[0m\u001b[0;34m.\u001b[0m\u001b[0mpop\u001b[0m\u001b[0;34m(\u001b[0m\u001b[0;34m\"config\"\u001b[0m\u001b[0;34m,\u001b[0m \u001b[0;32mNone\u001b[0m\u001b[0;34m)\u001b[0m \u001b[0;32mor\u001b[0m \u001b[0mRagConfig\u001b[0m\u001b[0;34m.\u001b[0m\u001b[0mfrom_pretrained\u001b[0m\u001b[0;34m(\u001b[0m\u001b[0mretriever_name_or_path\u001b[0m\u001b[0;34m,\u001b[0m \u001b[0;34m**\u001b[0m\u001b[0mkwargs\u001b[0m\u001b[0;34m)\u001b[0m\u001b[0;34m\u001b[0m\u001b[0;34m\u001b[0m\u001b[0m\n\u001b[1;32m    422\u001b[0m         \u001b[0mrag_tokenizer\u001b[0m \u001b[0;34m=\u001b[0m \u001b[0mRagTokenizer\u001b[0m\u001b[0;34m.\u001b[0m\u001b[0mfrom_pretrained\u001b[0m\u001b[0;34m(\u001b[0m\u001b[0mretriever_name_or_path\u001b[0m\u001b[0;34m,\u001b[0m \u001b[0mconfig\u001b[0m\u001b[0;34m=\u001b[0m\u001b[0mconfig\u001b[0m\u001b[0;34m)\u001b[0m\u001b[0;34m\u001b[0m\u001b[0;34m\u001b[0m\u001b[0m\n",
            "\u001b[0;32m/usr/local/lib/python3.10/dist-packages/transformers/utils/import_utils.py\u001b[0m in \u001b[0;36mrequires_backends\u001b[0;34m(obj, backends)\u001b[0m\n\u001b[1;32m   1098\u001b[0m     \u001b[0mfailed\u001b[0m \u001b[0;34m=\u001b[0m \u001b[0;34m[\u001b[0m\u001b[0mmsg\u001b[0m\u001b[0;34m.\u001b[0m\u001b[0mformat\u001b[0m\u001b[0;34m(\u001b[0m\u001b[0mname\u001b[0m\u001b[0;34m)\u001b[0m \u001b[0;32mfor\u001b[0m \u001b[0mavailable\u001b[0m\u001b[0;34m,\u001b[0m \u001b[0mmsg\u001b[0m \u001b[0;32min\u001b[0m \u001b[0mchecks\u001b[0m \u001b[0;32mif\u001b[0m \u001b[0;32mnot\u001b[0m \u001b[0mavailable\u001b[0m\u001b[0;34m(\u001b[0m\u001b[0;34m)\u001b[0m\u001b[0;34m]\u001b[0m\u001b[0;34m\u001b[0m\u001b[0;34m\u001b[0m\u001b[0m\n\u001b[1;32m   1099\u001b[0m     \u001b[0;32mif\u001b[0m \u001b[0mfailed\u001b[0m\u001b[0;34m:\u001b[0m\u001b[0;34m\u001b[0m\u001b[0;34m\u001b[0m\u001b[0m\n\u001b[0;32m-> 1100\u001b[0;31m         \u001b[0;32mraise\u001b[0m \u001b[0mImportError\u001b[0m\u001b[0;34m(\u001b[0m\u001b[0;34m\"\"\u001b[0m\u001b[0;34m.\u001b[0m\u001b[0mjoin\u001b[0m\u001b[0;34m(\u001b[0m\u001b[0mfailed\u001b[0m\u001b[0;34m)\u001b[0m\u001b[0;34m)\u001b[0m\u001b[0;34m\u001b[0m\u001b[0;34m\u001b[0m\u001b[0m\n\u001b[0m\u001b[1;32m   1101\u001b[0m \u001b[0;34m\u001b[0m\u001b[0m\n\u001b[1;32m   1102\u001b[0m \u001b[0;34m\u001b[0m\u001b[0m\n",
            "\u001b[0;31mImportError\u001b[0m: \nRagRetriever requires the 🤗 Datasets library but it was not found in your environment. You can install it with:\n```\npip install datasets\n```\nIn a notebook or a colab, you can install it by executing a cell with\n```\n!pip install datasets\n```\nthen restarting your kernel.\n\nNote that if you have a local folder named `datasets` or a local python file named `datasets.py` in your current\nworking directory, python may try to import this instead of the 🤗 Datasets library. You should rename this folder or\nthat python file if that's the case. Please note that you may need to restart your runtime after installation.\n\nRagRetriever requires the faiss library but it was not found in your environment. Checkout the instructions on the\ninstallation page of its repo: https://github.com/facebookresearch/faiss/blob/master/INSTALL.md and follow the ones\nthat match your environment. Please note that you may need to restart your runtime after installation.\n",
            "",
            "\u001b[0;31m---------------------------------------------------------------------------\u001b[0;32m\nNOTE: If your import is failing due to a missing package, you can\nmanually install dependencies using either !pip or !apt.\n\nTo view examples of installing some common dependencies, click the\n\"Open Examples\" button below.\n\u001b[0;31m---------------------------------------------------------------------------\u001b[0m\n"
          ],
          "errorDetails": {
            "actions": [
              {
                "action": "open_url",
                "actionText": "Open Examples",
                "url": "/notebooks/snippets/importing_libraries.ipynb"
              }
            ]
          }
        }
      ]
    },
    {
      "cell_type": "code",
      "source": [
        "from transformers import RagTokenizer\n",
        "tokenizer = RagTokenizer.from_pretrained(\n",
        "    \"facebook/rag-sequence-nq\"\n",
        ")"
      ],
      "metadata": {
        "id": "Fb7dJbZ9sLF4",
        "outputId": "008e4c28-f728-4b38-aa91-7169db2e75d9",
        "colab": {
          "base_uri": "https://localhost:8080/"
        }
      },
      "execution_count": null,
      "outputs": [
        {
          "output_type": "stream",
          "name": "stderr",
          "text": [
            "The tokenizer class you load from this checkpoint is not the same type as the class this function is called from. It may result in unexpected tokenization. \n",
            "The tokenizer class you load from this checkpoint is 'RagTokenizer'. \n",
            "The class this function is called from is 'DPRQuestionEncoderTokenizer'.\n",
            "The tokenizer class you load from this checkpoint is not the same type as the class this function is called from. It may result in unexpected tokenization. \n",
            "The tokenizer class you load from this checkpoint is 'RagTokenizer'. \n",
            "The class this function is called from is 'DPRQuestionEncoderTokenizerFast'.\n",
            "The tokenizer class you load from this checkpoint is not the same type as the class this function is called from. It may result in unexpected tokenization. \n",
            "The tokenizer class you load from this checkpoint is 'RagTokenizer'. \n",
            "The class this function is called from is 'BartTokenizer'.\n",
            "The tokenizer class you load from this checkpoint is not the same type as the class this function is called from. It may result in unexpected tokenization. \n",
            "The tokenizer class you load from this checkpoint is 'RagTokenizer'. \n",
            "The class this function is called from is 'BartTokenizerFast'.\n"
          ]
        }
      ]
    },
    {
      "cell_type": "code",
      "source": [
        "from transformers import RagSequenceForGeneration\n",
        "model = RagSequenceForGeneration.from_pretrained(\n",
        "    \"facebook/rag-sequence-nq\",\n",
        "    retriever = retriever\n",
        ")"
      ],
      "metadata": {
        "id": "3NzKyKqe-iyb",
        "outputId": "a9464f5a-eda2-48a8-cc28-6fb0d258e630",
        "colab": {
          "base_uri": "https://localhost:8080/"
        }
      },
      "execution_count": null,
      "outputs": [
        {
          "output_type": "stream",
          "name": "stderr",
          "text": [
            "Some weights of the model checkpoint at facebook/rag-sequence-nq were not used when initializing RagSequenceForGeneration: ['rag.question_encoder.question_encoder.bert_model.pooler.dense.weight', 'rag.question_encoder.question_encoder.bert_model.pooler.dense.bias']\n",
            "- This IS expected if you are initializing RagSequenceForGeneration from the checkpoint of a model trained on another task or with another architecture (e.g. initializing a BertForSequenceClassification model from a BertForPreTraining model).\n",
            "- This IS NOT expected if you are initializing RagSequenceForGeneration from the checkpoint of a model that you expect to be exactly identical (initializing a BertForSequenceClassification model from a BertForSequenceClassification model).\n",
            "Some weights of RagSequenceForGeneration were not initialized from the model checkpoint at facebook/rag-sequence-nq and are newly initialized: ['rag.generator.lm_head.weight']\n",
            "You should probably TRAIN this model on a down-stream task to be able to use it for predictions and inference.\n"
          ]
        }
      ]
    },
    {
      "cell_type": "code",
      "source": [
        "context = \"\"\n",
        "len = 4\n",
        "for i in range(4):\n",
        "  context = context + retrieved_passages[i]\n"
      ],
      "metadata": {
        "id": "YdviMYLOiWPE"
      },
      "execution_count": null,
      "outputs": []
    },
    {
      "cell_type": "code",
      "source": [
        "context"
      ],
      "metadata": {
        "id": "g-JAyw7OiiJ9",
        "outputId": "d454c3d7-0f1b-48e5-eeb2-902da6350d8d",
        "colab": {
          "base_uri": "https://localhost:8080/",
          "height": 607
        }
      },
      "execution_count": null,
      "outputs": [
        {
          "output_type": "execute_result",
          "data": {
            "text/plain": [
              "'skinner sr et al efficacy human papillomavirus hpv1618 as04adjuvanted vaccine women aged 15–25 years without serological evidence previous exposure hpv1618 int j cancer 2012131106–16 164 herrero r quint w hildesheim et al reduced prevalence oral human papillomavirus hpv 4 years bivalent hpv vaccination randomized clinical trial costa rica plos one 20138e68329 165 kreimer ar gonzalez p katki ha et al efficacy bivalent hpv 1618 vaccine anal hpv 1618 infection among young women nested analysis within costa rica vaccine rial lancet oncol 201112862–70 166 naud ps rotelimartins cm de carvalint j cancer 2013132198–207 207 markowitz le hariri lin c et al reduction human papillomavirus hpv prevalence among young women following hpv vaccine introduction united states national health nutrition examination surveys 2003–2010 j infect dis 2013208385–93 208 flagg ew schwartz r weinstock h prevalence anogenital warts among participants private health plans united states 2003–2010 potential impact human papillomavirus vaccination j public health 20131031428–35 209 hariri markowitz le dunne ef unger er population impact hpv vaccines summary early evidence j adolesc health 2013 53679–82 210 ali h donovanronic obstructive pulmonary disease — united states 2013anne g wheaton phd1 timothy j cunningham phd1 earl ford md1 janet b croft phd1 author affiliations end textinside296 mycoplasma pneumoniae outbreak longterm care facility — nebraska 2014300 u se 9valent human papillomavirus hpv vaccine updated hpv vaccination recommendations advisory committee immunization practices305 upda ted recommendations use typhoid vaccine — advisory committee immunization practices united states 2015309 announcement310 quickstatscontinuing education examination available httpwwwcdcgovmmwrcmecontedinfohtmlweekly † available httpwed guide help states develop implement tobacco control programs§§ cdc also compiled guide communitybased strategies increase physical activity cdc guide strategies increase physical activity community¶¶ 1division population health national center chronic disease prevention health promotion cdc corresponding author anne g wheaton awheatoncdcgov 7704885362references 1 h eron deaths leading causes 2010 natl vital stat rep 2013 621–96 2 us b urden disease collaborators state us health 19902010 burden diseases injuries risk factors jama 2013310591–608 3 lee pn f ry js systematic review'"
            ],
            "application/vnd.google.colaboratory.intrinsic+json": {
              "type": "string"
            }
          },
          "metadata": {},
          "execution_count": 64
        }
      ]
    },
    {
      "cell_type": "code",
      "source": [
        "question = \"Does the ACIP recommend one dose GARDASIL 9?\""
      ],
      "metadata": {
        "id": "C2pzibvvikj-"
      },
      "execution_count": null,
      "outputs": []
    },
    {
      "cell_type": "code",
      "source": [
        "# Encode the inputs\n",
        "# input_dict = tokenizer(question, context, return_tensors=\"pt\")"
      ],
      "metadata": {
        "id": "LB_anr4biID1"
      },
      "execution_count": null,
      "outputs": []
    },
    {
      "cell_type": "code",
      "source": [
        "# n_docs = 5"
      ],
      "metadata": {
        "id": "Cm5uK9BljBF7"
      },
      "execution_count": null,
      "outputs": []
    },
    {
      "cell_type": "code",
      "source": [
        "# # Reshape input_ids_np to match the expected dimension\n",
        "# input_ids_np = input_ids_np.reshape(1, -1)\n",
        "\n",
        "# # Perform passage retrieval\n",
        "# retrieved_doc_ids = retriever.retrieve(input_ids_np, n_docs=n_docs)\n",
        "\n",
        "# # Get the retrieved documents\n",
        "# retrieved_docs = retriever.batch_retrieve(retrieved_doc_ids)"
      ],
      "metadata": {
        "id": "dnGljDrViyZW"
      },
      "execution_count": 1,
      "outputs": []
    },
    {
      "cell_type": "code",
      "source": [
        "# import time\n",
        "# t0 = time.time()\n",
        "\n",
        "# question = \"Is GARDASIL 9 recommended for Adults?\"\n",
        "\n",
        "# input_ids = tokenizer.question_encoder(question, return_tensors = \"pt\")[\"input_ids\"]\n",
        "# generated = model.generate(input_ids)\n",
        "\n",
        "# generated_string = tokenizer.batch_decode(generated, skip_special_tokens = True)[0]\n",
        "# print(generated_string)"
      ],
      "metadata": {
        "id": "rxbjW73N-4RD"
      },
      "execution_count": null,
      "outputs": []
    },
    {
      "cell_type": "markdown",
      "source": [
        "\n",
        "\n",
        "---\n",
        "\n",
        "With the RAG Generator. It can be seen that it doesn't perform well.\n",
        "\n",
        "---\n",
        "\n"
      ],
      "metadata": {
        "id": "2RV-yBmPeMwv"
      }
    },
    {
      "cell_type": "code",
      "source": [
        "import time\n",
        "\n",
        "t0 = time.time()\n",
        "\n",
        "question = \"Does the ACIP recommend one dose GARDASIL 9?\"\n",
        "\n",
        "outputs = tokenizer.question_encoder(question, return_tensors=\"pt\")\n",
        "input_ids = outputs[\"input_ids\"] \n",
        "attention_mask = outputs[\"attention_mask\"] \n",
        "\n",
        "generated = model.generate(\n",
        "    input_ids=input_ids,\n",
        "    attention_mask=attention_mask,\n",
        "    num_return_sequences=8,\n",
        "    max_length=50,\n",
        "    temperature=0.8,\n",
        "    num_beams = 5,\n",
        "    min_length=30  # Set the desired minimum length here\n",
        ")\n",
        "generated_strings = tokenizer.batch_decode(generated, skip_special_tokens=True)\n",
        "for i, generated_string in enumerate(generated_strings):\n",
        "    print(f\"Generated sequence {i + 1}: {generated_string}\")\n",
        "\n",
        "print(f\"Time taken: {time.time() - t0:.2f} seconds\")\n"
      ],
      "metadata": {
        "id": "L7KHy6cEBFrT",
        "outputId": "96dcaf0f-3ae6-438f-e637-fd00f4e7d8dd",
        "colab": {
          "base_uri": "https://localhost:8080/"
        }
      },
      "execution_count": null,
      "outputs": [
        {
          "output_type": "stream",
          "name": "stdout",
          "text": [
            "Generated sequence 1:  6.5 u.s. pascals, m.c., m.n., m.c.,m.n.\n",
            "Generated sequence 2:  6.5 u.s. pascals, m.c., m.n., m.c.,m.s.\n",
            "Generated sequence 3:  6.5 u.s. pascals, m.c., m.n., m.c.,m.n.s.\n",
            "Generated sequence 4:  6.5 u.s. pascals, m.c., m.n., m.c.,m.s.s.\n",
            "Generated sequence 5:  6.5 u.s. pascals, m.c., m.n., m.c.,m.s.a.a.a.a.a.a.u.u.u.\n",
            "Generated sequence 6:  doesn't need to be re-september 9, 2017., 2017.iocco.i.u.a.i.n.i.i.u.u.u.u.u.u.\n",
            "Generated sequence 7:  doesn't need to be re-september 9, 2017., 2017.iocco.i.u.a.i.n.i.u.i.u.u.u.u.u.\n",
            "Generated sequence 8:  doesn't need to be re-september 9, 2017., 2017.iocco.i.u.a.i.n.i.i.u.u.u.u.u.m.\n",
            "Time taken: 419.42 seconds\n"
          ]
        }
      ]
    },
    {
      "cell_type": "markdown",
      "source": [
        "\n",
        "\n",
        "---\n",
        "\n",
        "**T5 Model**\n",
        "\n",
        "---\n",
        "\n"
      ],
      "metadata": {
        "id": "ihgScF1aeS9n"
      }
    },
    {
      "cell_type": "code",
      "source": [
        "t5_model"
      ],
      "metadata": {
        "id": "FuASYOyq7_G6",
        "outputId": "79e4725c-98f5-472e-bedb-1f9bb2687df9",
        "colab": {
          "base_uri": "https://localhost:8080/"
        }
      },
      "execution_count": null,
      "outputs": [
        {
          "output_type": "execute_result",
          "data": {
            "text/plain": [
              "T5ForConditionalGeneration(\n",
              "  (shared): Embedding(32128, 768)\n",
              "  (encoder): T5Stack(\n",
              "    (embed_tokens): Embedding(32128, 768)\n",
              "    (block): ModuleList(\n",
              "      (0): T5Block(\n",
              "        (layer): ModuleList(\n",
              "          (0): T5LayerSelfAttention(\n",
              "            (SelfAttention): T5Attention(\n",
              "              (q): Linear(in_features=768, out_features=768, bias=False)\n",
              "              (k): Linear(in_features=768, out_features=768, bias=False)\n",
              "              (v): Linear(in_features=768, out_features=768, bias=False)\n",
              "              (o): Linear(in_features=768, out_features=768, bias=False)\n",
              "              (relative_attention_bias): Embedding(32, 12)\n",
              "            )\n",
              "            (layer_norm): T5LayerNorm()\n",
              "            (dropout): Dropout(p=0.1, inplace=False)\n",
              "          )\n",
              "          (1): T5LayerFF(\n",
              "            (DenseReluDense): T5DenseActDense(\n",
              "              (wi): Linear(in_features=768, out_features=3072, bias=False)\n",
              "              (wo): Linear(in_features=3072, out_features=768, bias=False)\n",
              "              (dropout): Dropout(p=0.1, inplace=False)\n",
              "              (act): ReLU()\n",
              "            )\n",
              "            (layer_norm): T5LayerNorm()\n",
              "            (dropout): Dropout(p=0.1, inplace=False)\n",
              "          )\n",
              "        )\n",
              "      )\n",
              "      (1-11): 11 x T5Block(\n",
              "        (layer): ModuleList(\n",
              "          (0): T5LayerSelfAttention(\n",
              "            (SelfAttention): T5Attention(\n",
              "              (q): Linear(in_features=768, out_features=768, bias=False)\n",
              "              (k): Linear(in_features=768, out_features=768, bias=False)\n",
              "              (v): Linear(in_features=768, out_features=768, bias=False)\n",
              "              (o): Linear(in_features=768, out_features=768, bias=False)\n",
              "            )\n",
              "            (layer_norm): T5LayerNorm()\n",
              "            (dropout): Dropout(p=0.1, inplace=False)\n",
              "          )\n",
              "          (1): T5LayerFF(\n",
              "            (DenseReluDense): T5DenseActDense(\n",
              "              (wi): Linear(in_features=768, out_features=3072, bias=False)\n",
              "              (wo): Linear(in_features=3072, out_features=768, bias=False)\n",
              "              (dropout): Dropout(p=0.1, inplace=False)\n",
              "              (act): ReLU()\n",
              "            )\n",
              "            (layer_norm): T5LayerNorm()\n",
              "            (dropout): Dropout(p=0.1, inplace=False)\n",
              "          )\n",
              "        )\n",
              "      )\n",
              "    )\n",
              "    (final_layer_norm): T5LayerNorm()\n",
              "    (dropout): Dropout(p=0.1, inplace=False)\n",
              "  )\n",
              "  (decoder): T5Stack(\n",
              "    (embed_tokens): Embedding(32128, 768)\n",
              "    (block): ModuleList(\n",
              "      (0): T5Block(\n",
              "        (layer): ModuleList(\n",
              "          (0): T5LayerSelfAttention(\n",
              "            (SelfAttention): T5Attention(\n",
              "              (q): Linear(in_features=768, out_features=768, bias=False)\n",
              "              (k): Linear(in_features=768, out_features=768, bias=False)\n",
              "              (v): Linear(in_features=768, out_features=768, bias=False)\n",
              "              (o): Linear(in_features=768, out_features=768, bias=False)\n",
              "              (relative_attention_bias): Embedding(32, 12)\n",
              "            )\n",
              "            (layer_norm): T5LayerNorm()\n",
              "            (dropout): Dropout(p=0.1, inplace=False)\n",
              "          )\n",
              "          (1): T5LayerCrossAttention(\n",
              "            (EncDecAttention): T5Attention(\n",
              "              (q): Linear(in_features=768, out_features=768, bias=False)\n",
              "              (k): Linear(in_features=768, out_features=768, bias=False)\n",
              "              (v): Linear(in_features=768, out_features=768, bias=False)\n",
              "              (o): Linear(in_features=768, out_features=768, bias=False)\n",
              "            )\n",
              "            (layer_norm): T5LayerNorm()\n",
              "            (dropout): Dropout(p=0.1, inplace=False)\n",
              "          )\n",
              "          (2): T5LayerFF(\n",
              "            (DenseReluDense): T5DenseActDense(\n",
              "              (wi): Linear(in_features=768, out_features=3072, bias=False)\n",
              "              (wo): Linear(in_features=3072, out_features=768, bias=False)\n",
              "              (dropout): Dropout(p=0.1, inplace=False)\n",
              "              (act): ReLU()\n",
              "            )\n",
              "            (layer_norm): T5LayerNorm()\n",
              "            (dropout): Dropout(p=0.1, inplace=False)\n",
              "          )\n",
              "        )\n",
              "      )\n",
              "      (1-11): 11 x T5Block(\n",
              "        (layer): ModuleList(\n",
              "          (0): T5LayerSelfAttention(\n",
              "            (SelfAttention): T5Attention(\n",
              "              (q): Linear(in_features=768, out_features=768, bias=False)\n",
              "              (k): Linear(in_features=768, out_features=768, bias=False)\n",
              "              (v): Linear(in_features=768, out_features=768, bias=False)\n",
              "              (o): Linear(in_features=768, out_features=768, bias=False)\n",
              "            )\n",
              "            (layer_norm): T5LayerNorm()\n",
              "            (dropout): Dropout(p=0.1, inplace=False)\n",
              "          )\n",
              "          (1): T5LayerCrossAttention(\n",
              "            (EncDecAttention): T5Attention(\n",
              "              (q): Linear(in_features=768, out_features=768, bias=False)\n",
              "              (k): Linear(in_features=768, out_features=768, bias=False)\n",
              "              (v): Linear(in_features=768, out_features=768, bias=False)\n",
              "              (o): Linear(in_features=768, out_features=768, bias=False)\n",
              "            )\n",
              "            (layer_norm): T5LayerNorm()\n",
              "            (dropout): Dropout(p=0.1, inplace=False)\n",
              "          )\n",
              "          (2): T5LayerFF(\n",
              "            (DenseReluDense): T5DenseActDense(\n",
              "              (wi): Linear(in_features=768, out_features=3072, bias=False)\n",
              "              (wo): Linear(in_features=3072, out_features=768, bias=False)\n",
              "              (dropout): Dropout(p=0.1, inplace=False)\n",
              "              (act): ReLU()\n",
              "            )\n",
              "            (layer_norm): T5LayerNorm()\n",
              "            (dropout): Dropout(p=0.1, inplace=False)\n",
              "          )\n",
              "        )\n",
              "      )\n",
              "    )\n",
              "    (final_layer_norm): T5LayerNorm()\n",
              "    (dropout): Dropout(p=0.1, inplace=False)\n",
              "  )\n",
              "  (lm_head): Linear(in_features=768, out_features=32128, bias=False)\n",
              ")"
            ]
          },
          "metadata": {},
          "execution_count": 83
        }
      ]
    },
    {
      "cell_type": "code",
      "source": [
        "t5_tokenizer"
      ],
      "metadata": {
        "id": "J86sMA-P8BIt",
        "outputId": "d26184a6-02aa-425d-b3e7-4afe93f0672c",
        "colab": {
          "base_uri": "https://localhost:8080/"
        }
      },
      "execution_count": null,
      "outputs": [
        {
          "output_type": "execute_result",
          "data": {
            "text/plain": [
              "T5Tokenizer(name_or_path='t5-base', vocab_size=32100, model_max_length=512, is_fast=False, padding_side='right', truncation_side='right', special_tokens={'eos_token': '</s>', 'unk_token': '<unk>', 'pad_token': '<pad>', 'additional_special_tokens': ['<extra_id_0>', '<extra_id_1>', '<extra_id_2>', '<extra_id_3>', '<extra_id_4>', '<extra_id_5>', '<extra_id_6>', '<extra_id_7>', '<extra_id_8>', '<extra_id_9>', '<extra_id_10>', '<extra_id_11>', '<extra_id_12>', '<extra_id_13>', '<extra_id_14>', '<extra_id_15>', '<extra_id_16>', '<extra_id_17>', '<extra_id_18>', '<extra_id_19>', '<extra_id_20>', '<extra_id_21>', '<extra_id_22>', '<extra_id_23>', '<extra_id_24>', '<extra_id_25>', '<extra_id_26>', '<extra_id_27>', '<extra_id_28>', '<extra_id_29>', '<extra_id_30>', '<extra_id_31>', '<extra_id_32>', '<extra_id_33>', '<extra_id_34>', '<extra_id_35>', '<extra_id_36>', '<extra_id_37>', '<extra_id_38>', '<extra_id_39>', '<extra_id_40>', '<extra_id_41>', '<extra_id_42>', '<extra_id_43>', '<extra_id_44>', '<extra_id_45>', '<extra_id_46>', '<extra_id_47>', '<extra_id_48>', '<extra_id_49>', '<extra_id_50>', '<extra_id_51>', '<extra_id_52>', '<extra_id_53>', '<extra_id_54>', '<extra_id_55>', '<extra_id_56>', '<extra_id_57>', '<extra_id_58>', '<extra_id_59>', '<extra_id_60>', '<extra_id_61>', '<extra_id_62>', '<extra_id_63>', '<extra_id_64>', '<extra_id_65>', '<extra_id_66>', '<extra_id_67>', '<extra_id_68>', '<extra_id_69>', '<extra_id_70>', '<extra_id_71>', '<extra_id_72>', '<extra_id_73>', '<extra_id_74>', '<extra_id_75>', '<extra_id_76>', '<extra_id_77>', '<extra_id_78>', '<extra_id_79>', '<extra_id_80>', '<extra_id_81>', '<extra_id_82>', '<extra_id_83>', '<extra_id_84>', '<extra_id_85>', '<extra_id_86>', '<extra_id_87>', '<extra_id_88>', '<extra_id_89>', '<extra_id_90>', '<extra_id_91>', '<extra_id_92>', '<extra_id_93>', '<extra_id_94>', '<extra_id_95>', '<extra_id_96>', '<extra_id_97>', '<extra_id_98>', '<extra_id_99>']}, clean_up_tokenization_spaces=True)"
            ]
          },
          "metadata": {},
          "execution_count": 84
        }
      ]
    },
    {
      "cell_type": "code",
      "source": [
        "question"
      ],
      "metadata": {
        "id": "zAqn_JWs9YTK",
        "outputId": "e2986b2c-84bd-4973-8843-453cabaa71d2",
        "colab": {
          "base_uri": "https://localhost:8080/",
          "height": 35
        }
      },
      "execution_count": null,
      "outputs": [
        {
          "output_type": "execute_result",
          "data": {
            "text/plain": [
              "'Does the ACIP recommend one dose GARDASIL 9?'"
            ],
            "application/vnd.google.colaboratory.intrinsic+json": {
              "type": "string"
            }
          },
          "metadata": {},
          "execution_count": 67
        }
      ]
    },
    {
      "cell_type": "code",
      "source": [
        "inputs = t5_tokenizer.prepare_seq2seq_batch(question, retrieved_passages, return_tensors=\"pt\")"
      ],
      "metadata": {
        "id": "TUPL8D4R9baQ",
        "outputId": "323f2eb5-0e20-491f-deda-c0f137ff5f83",
        "colab": {
          "base_uri": "https://localhost:8080/"
        }
      },
      "execution_count": null,
      "outputs": [
        {
          "output_type": "stream",
          "name": "stderr",
          "text": [
            "/usr/local/lib/python3.10/dist-packages/transformers/tokenization_utils_base.py:3732: FutureWarning: \n",
            "`prepare_seq2seq_batch` is deprecated and will be removed in version 5 of HuggingFace Transformers. Use the regular\n",
            "`__call__` method to prepare your inputs and targets.\n",
            "\n",
            "Here is a short example:\n",
            "\n",
            "model_inputs = tokenizer(src_texts, text_target=tgt_texts, ...)\n",
            "\n",
            "If you either need to use different keyword arguments for the source and target texts, you should do two calls like\n",
            "this:\n",
            "\n",
            "model_inputs = tokenizer(src_texts, ...)\n",
            "labels = tokenizer(text_target=tgt_texts, ...)\n",
            "model_inputs[\"labels\"] = labels[\"input_ids\"]\n",
            "\n",
            "See the documentation of your specific tokenizer for more details on the specific arguments to the tokenizer of choice.\n",
            "For a more complete example, see the implementation of `prepare_seq2seq_batch`.\n",
            "\n",
            "  warnings.warn(formatted_warning, FutureWarning)\n",
            "/usr/local/lib/python3.10/dist-packages/transformers/tokenization_utils_base.py:3606: UserWarning: `as_target_tokenizer` is deprecated and will be removed in v5 of Transformers. You can tokenize your labels by using the argument `text_target` of the regular `__call__` method (either in the same call as your input texts if you use the same keyword arguments, or in a separate call.\n",
            "  warnings.warn(\n"
          ]
        }
      ]
    },
    {
      "cell_type": "code",
      "source": [
        "outputs = t5_model.generate(inputs[\"input_ids\"], attention_mask=inputs[\"attention_mask\"])\n"
      ],
      "metadata": {
        "id": "7vnM8div9lKO",
        "outputId": "0c1d22fd-052a-402d-eb6c-8e980922d1c2",
        "colab": {
          "base_uri": "https://localhost:8080/"
        }
      },
      "execution_count": null,
      "outputs": [
        {
          "output_type": "stream",
          "name": "stderr",
          "text": [
            "/usr/local/lib/python3.10/dist-packages/transformers/generation/utils.py:1346: UserWarning: Using `max_length`'s default (20) to control the generation length. This behaviour is deprecated and will be removed from the config in v5 of Transformers -- we recommend using `max_new_tokens` to control the maximum length of the generation.\n",
            "  warnings.warn(\n"
          ]
        }
      ]
    },
    {
      "cell_type": "code",
      "source": [
        "answers = t5_tokenizer.batch_decode(outputs, skip_special_tokens=True)\n"
      ],
      "metadata": {
        "id": "9s0qobPc9siF"
      },
      "execution_count": null,
      "outputs": []
    },
    {
      "cell_type": "code",
      "source": [
        "# Generate answers from each passage\n",
        "answers = []\n",
        "for passage in retrieved_passages:\n",
        "    # Concatenate the question and passage\n",
        "    input_text = f\"question: {question} context: {passage}\"\n",
        "\n",
        "    # Encode the input text\n",
        "    input_ids = t5_tokenizer.encode(input_text, return_tensors=\"pt\")\n",
        "\n",
        "    # Generate the answer\n",
        "    output = t5_model.generate(input_ids, num_beams = 5, max_length=50)\n",
        "\n",
        "    # Decode and store the answer\n",
        "    answer = t5_tokenizer.decode(output[0], skip_special_tokens=True)\n",
        "    answers.append(answer)\n",
        "\n",
        "# Print the generated answers\n",
        "for i, answer in enumerate(answers):\n",
        "    print(f\"Answer {i+1}: {answer}\")\n"
      ],
      "metadata": {
        "id": "_smBvcVZ_0yD",
        "outputId": "a1ab9f8c-3e8e-4117-bfa0-9fcb8b91e5da",
        "colab": {
          "base_uri": "https://localhost:8080/"
        }
      },
      "execution_count": null,
      "outputs": [
        {
          "output_type": "stream",
          "name": "stdout",
          "text": [
            "Answer 1: 165 kreimer ar gonzalez p katki ha et al efficacy bivalent hpv 1618 vaccine anal hpv 1618 infection among young women\n",
            "Answer 2: 20131031428–35 209 hariri markowitz le dunne ef unger er population impact hpv vaccines\n",
            "Answer 3: u se 9valent human papillomavirus hpv vaccine updated hpv vaccination recommendations\n",
            "Answer 4: 2 us b urden disease collaborators state us health 19902010 burden diseases injuries risk factors jama 2013310591–608 3 lee pn f ry js systematic review\n",
            "Answer 5: 26 years bivalent hpv vaccine cervarix produced glaxosmithkline rixensart belgium licensed use females aged 9 25 years vaccines\n",
            "Answer 6: 47–67 30000new mexico 9224 55 49–62 93000delaware 5150 55 48–63 43000new jersey 13179 54 49–60 400000texas 10783 53 47–59\n",
            "Answer 7: sandra adamson fryhofer md atlanta georgia\n",
            "Answer 8: 6 43 14 34 20 36staff member 5 36 17 41 22 40community member3 21 10 24 13 24sexwomen 11 79 31 76 42\n",
            "Answer 9: june 4 june 5 started amoxicillin hospitalized died june 7three alzheimer unit residents became ill time ecdhd ndhhs notified illness spread units diagnostic specimen\n",
            "Answer 10: 20129513–21 9 c unningham tj ford es rolle iv wheaton ag croft jb associations selfreported cigarette smoking\n"
          ]
        }
      ]
    },
    {
      "cell_type": "markdown",
      "source": [
        "\n",
        "\n",
        "---\n",
        "\n",
        "**1. Concatenating Input Text:** The code combines the input question and the retrieved passages into a single string called `input_text`. The question is prefixed with \"question:\" and the passages are prefixed with \"context:\". This concatenation is done to provide the model with the question and relevant context for generating answers.\n",
        "\n",
        "**2. Encoding Input Text:** The code tokenizes and encodes the `input_text` using the T5 tokenizer (`t5_tokenizer`). The encoded input is returned as a PyTorch tensor (`input_ids`).\n",
        "\n",
        "**3. Answer Generation:** The code passes the encoded input tensor to the T5 model (`t5_model`) for answer generation. It specifies the number of beams to use during generation (`num_beams`) and the maximum length of the generated answer (`max_length`).\n",
        "\n",
        "**4. Decoding and Storing the Answer:** The code decodes the generated answer by removing special tokens and converting the output tensor (`output[0]`) into a readable text using the T5 tokenizer (`t5_tokenizer.decode`). The decoded answer is then appended to the `answers` list.\n",
        "\n",
        "\n",
        "---\n",
        "\n"
      ],
      "metadata": {
        "id": "wEuhqbP0eoD2"
      }
    },
    {
      "cell_type": "code",
      "source": [
        "# # Generate answers from each passage\n",
        "answers = []\n",
        "# for passage in retrieved_passages:\n",
        "#     # Concatenate the question and passage\n",
        "input_text = f\"question: {question} context: {retrieved_passages}\"\n",
        "\n",
        "    # Encode the input text\n",
        "input_ids = t5_tokenizer.encode(input_text, return_tensors=\"pt\")\n",
        "\n",
        "    # Generate the answer\n",
        "output = t5_model.generate(input_ids, num_beams = 5, max_length=50)\n",
        "\n",
        "    # Decode and store the answer\n",
        "answer = t5_tokenizer.decode(output[0], skip_special_tokens=True)\n",
        "answers.append(answer)\n",
        "\n",
        "# Print the generated answers\n",
        "for i, answer in enumerate(answers):\n",
        "    print(f\"Answer {i+1}: {answer}\")"
      ],
      "metadata": {
        "id": "VHi6GJxSA8tx",
        "outputId": "de5564f4-5b2b-45bb-bf45-2112a42144da",
        "colab": {
          "base_uri": "https://localhost:8080/"
        }
      },
      "execution_count": null,
      "outputs": [
        {
          "output_type": "stream",
          "name": "stderr",
          "text": [
            "Token indices sequence length is longer than the specified maximum sequence length for this model (1843 > 512). Running this sequence through the model will result in indexing errors\n"
          ]
        },
        {
          "output_type": "stream",
          "name": "stdout",
          "text": [
            "Answer 1: new jersey licensed use females males aged 9 26 years bivalent hpv vaccine cervarix produced glaxosmithkline rixensart belgium licensed use females aged 9 26 years\n"
          ]
        }
      ]
    },
    {
      "cell_type": "code",
      "source": [
        "for i, answer in enumerate(answers):\n",
        "    print(f\"Answer {i+1}: {answer}\")"
      ],
      "metadata": {
        "id": "xcynwX919vMM",
        "outputId": "bcaba100-ab1d-4da6-df11-36eb64459f13",
        "colab": {
          "base_uri": "https://localhost:8080/"
        }
      },
      "execution_count": null,
      "outputs": [
        {
          "output_type": "stream",
          "name": "stdout",
          "text": [
            "Answer 1: new jersey licensed use females males aged 9 26 years bivalent hpv vaccine cervarix produced glaxosmithkline rixensart belgium licensed use females aged 9 26 years\n"
          ]
        }
      ]
    },
    {
      "cell_type": "markdown",
      "source": [
        "# Is GARDASIL 9 recommended for Adults?"
      ],
      "metadata": {
        "id": "S36eh8o7oqVD"
      }
    },
    {
      "cell_type": "code",
      "source": [
        "import re\n",
        "question = \"Is GARDASIL 9 recommended for Adults?\""
      ],
      "metadata": {
        "id": "juCmoGs7oucW"
      },
      "execution_count": null,
      "outputs": []
    },
    {
      "cell_type": "code",
      "source": [
        "input_ids = q_tokenizer.encode(question, return_tensors = \"pt\")\n",
        "input_ids = input_ids.to(device)\n",
        "outputs = q_encoder(input_ids)\n",
        "q_embed = outputs['pooler_output']\n",
        "q_embed = q_embed.cpu().numpy()\n",
        "print(\"Query Embedding:\", q_embed.shape)"
      ],
      "metadata": {
        "colab": {
          "base_uri": "https://localhost:8080/"
        },
        "id": "A5ZvTUj-oz_B",
        "outputId": "d03cfb51-5713-412b-83a9-bad7d7971725"
      },
      "execution_count": null,
      "outputs": [
        {
          "output_type": "stream",
          "name": "stdout",
          "text": [
            "Query Embedding: (1, 768)\n"
          ]
        }
      ]
    },
    {
      "cell_type": "code",
      "source": [
        "D, I = index.search(q_embed, k= 10)\n",
        "print(\"Closest matching indices:\", I)\n",
        "print(\"Inner Products:\", D)"
      ],
      "metadata": {
        "colab": {
          "base_uri": "https://localhost:8080/"
        },
        "id": "mJieFQRQo3BS",
        "outputId": "f38c2bd2-081f-4e57-fbea-ee4cd9a75c82"
      },
      "execution_count": null,
      "outputs": [
        {
          "output_type": "stream",
          "name": "stdout",
          "text": [
            "Closest matching indices: [[ 72 326 126 449 273  99  93 455  36 121]]\n",
            "Inner Products: [[20.876705 20.6635   20.365509 20.290716 18.066357 17.460443 15.822736\n",
            "  15.710029 15.13734  12.05438 ]]\n"
          ]
        }
      ]
    },
    {
      "cell_type": "code",
      "source": [
        "import textwrap \n",
        "retrieved_passages = []\n",
        "retrieved_indices = []\n",
        "wrapper = textwrap.TextWrapper(width = 80)\n",
        "for i in I[0]:\n",
        "  print('Index:', i)\n",
        "  title = chunked_corpus['title'][i]\n",
        "  passage = chunked_corpus['text'][i]\n",
        "  retrieved_passages.append(passage)\n",
        "  retrieved_indices.append(i)\n",
        "  print('Article Title:' , title, '\\n')\n",
        "  print('Passage:')\n",
        "  print(wrapper.fill(passage))\n",
        "  print('')"
      ],
      "metadata": {
        "colab": {
          "base_uri": "https://localhost:8080/"
        },
        "id": "rqCCw4_Vo5Ll",
        "outputId": "3b2835b0-acf1-47eb-d616-d3b7ee55d6bf"
      },
      "execution_count": null,
      "outputs": [
        {
          "output_type": "stream",
          "name": "stdout",
          "text": [
            "Index: 72\n",
            "Article Title: Employment and Activity Limitations Among Adults with Chronic Obstructive Pulmonary Disease \n",
            "\n",
            "Passage:\n",
            "ronic obstructive pulmonary disease — united states 2013anne g wheaton phd1\n",
            "timothy j cunningham phd1 earl ford md1 janet b croft phd1 author affiliations\n",
            "end textinside296 mycoplasma pneumoniae outbreak longterm care facility —\n",
            "nebraska 2014300 u se 9valent human papillomavirus hpv vaccine updated hpv\n",
            "vaccination recommendations advisory committee immunization practices305 upda\n",
            "ted recommendations use typhoid vaccine — advisory committee immunization\n",
            "practices united states 2015309 announcement310 quickstatscontinuing education\n",
            "examination available httpwwwcdcgovmmwrcmecontedinfohtmlweekly † available httpw\n",
            "\n",
            "Index: 326\n",
            "Article Title: Recommendations of the Advisory Committee on Immunization Practices \n",
            "\n",
            "Passage:\n",
            "betes mellitus autoimmune thyroiditis receipt hpv4 156bivalent hpv vaccine\n",
            "hpv2hpv2 efficacyfemales aged 15–25 yearshpv2 efficacy cin2 evaluated two\n",
            "randomized doubleblind controlled clinical trials females aged 15–25 years\n",
            "including phase ii study phase iii trial 157158 phase iii trial included 18644\n",
            "females 158159 interim analysis phase iii trial showed high efficacy 158\n",
            "endofstudy atp analysis efficacy hpv 16 18related cin2 949 95 ci 877–984 table 4\n",
            "160 statistically significant efficacy demonstrated individually hpv 16 hpv\n",
            "18related lesions itt\n",
            "\n",
            "Index: 126\n",
            "Article Title: Employment and Activity Limitations Among Adults with Chronic Obstructive Pulmonary Disease \n",
            "\n",
            "Passage:\n",
            "facilities protect staff members residents education regarding monitoring\n",
            "outbreaks infection prevention measures delayed recognition outbreak\n",
            "determination etiologic agent might prolong transmis sion period delay effective\n",
            "interventionstable number patients confirmed probable mycoplasma pneumoniae\n",
            "respiratory illness longterm care facility selected characteristics — nebraska\n",
            "2014characteristicconfirmed n 14probable† n 41 total n 55no link\n",
            "facilityresident 6 43 14 34 20 36staff member 5 36 17 41 22 40community member3\n",
            "21 10 24 13 24sexwomen 11 79 31 76 42\n",
            "\n",
            "Index: 449\n",
            "Article Title: Recommendations of the Advisory Committee on Immunization Practices \n",
            "\n",
            "Passage:\n",
            "int j cancer 2013132198–207 207 markowitz le hariri lin c et al reduction human\n",
            "papillomavirus hpv prevalence among young women following hpv vaccine\n",
            "introduction united states national health nutrition examination surveys\n",
            "2003–2010 j infect dis 2013208385–93 208 flagg ew schwartz r weinstock h\n",
            "prevalence anogenital warts among participants private health plans united\n",
            "states 2003–2010 potential impact human papillomavirus vaccination j public\n",
            "health 20131031428–35 209 hariri markowitz le dunne ef unger er population\n",
            "impact hpv vaccines summary early evidence j adolesc health 2013 53679–82 210\n",
            "ali h donovan\n",
            "\n",
            "Index: 273\n",
            "Article Title: Recommendations of the Advisory Committee on Immunization Practices \n",
            "\n",
            "Passage:\n",
            "adrivalent hpv vaccine gardasil produced merck co inc whitehouse station new\n",
            "jersey licensed use females males aged 9 26 years bivalent hpv vaccine cervarix\n",
            "produced glaxosmithkline rixensart belgium licensed use females aged 9 25 years\n",
            "vaccines composed typespecific hpv l1 protein major capsid protein hpv\n",
            "expression l1 protein using recombinant dna technology produces vlps vaccines\n",
            "noninfectiousquadrivalent vaccine hpv4 contains hpv 6 11 16 18 l1 vlps l1\n",
            "protein expressed saccharomyces cerevisiae baker’s yeast selfassembles\n",
            "conformationally intact noninfect\n",
            "\n",
            "Index: 99\n",
            "Article Title: Employment and Activity Limitations Among Adults with Chronic Obstructive Pulmonary Disease \n",
            "\n",
            "Passage:\n",
            "ed guide help states develop implement tobacco control programs§§ cdc also\n",
            "compiled guide communitybased strategies increase physical activity cdc guide\n",
            "strategies increase physical activity community¶¶ 1division population health\n",
            "national center chronic disease prevention health promotion cdc corresponding\n",
            "author anne g wheaton awheatoncdcgov 7704885362references 1 h eron deaths\n",
            "leading causes 2010 natl vital stat rep 2013 621–96 2 us b urden disease\n",
            "collaborators state us health 19902010 burden diseases injuries risk factors\n",
            "jama 2013310591–608 3 lee pn f ry js systematic review\n",
            "\n",
            "Index: 93\n",
            "Article Title: Employment and Activity Limitations Among Adults with Chronic Obstructive Pulmonary Disease \n",
            "\n",
            "Passage:\n",
            "47–67 30000new mexico 9224 55 49–62 93000delaware 5150 55 48–63 43000new jersey\n",
            "13179 54 49–60 400000texas 10783 53 47–59 1040000connecticut 7609 53 47–60\n",
            "163000washington 11065 53 48–58 301000new york 8805 52 47–59 856000massachusetts\n",
            "14914 51 47–57 296000vermont 6322 51 45–58 28000maryland 12830 50 45–56\n",
            "244000wisconsin 6521 50 42–58 245000nebraska 17017 49 44–53 74000illinois 5586\n",
            "48 41–55 491000california 11507 45 41–50 1352000north dakota 7725 45 39–51\n",
            "27000colorado 13487 44 40–49 182000hawaii 7788 44 37–51 51000utah 12648 42 38–46\n",
            "80000idaho 5573 42 36\n",
            "\n",
            "Index: 455\n",
            "Article Title: Recommendations of the Advisory Committee on Immunization Practices \n",
            "\n",
            "Passage:\n",
            "red book editor david kimberlin md birmingham alabama american academy physician\n",
            "assistants mariemichèle léger mph alexandria virginia american college health\n",
            "association susan evan md columbia missouri american college obstetricians\n",
            "gynecologists laura e riley md boston massachusetts american college physicians\n",
            "sandra adamson fryhofer md atlanta georgia american geriatrics society kenneth\n",
            "schmader md durham north carolina america’s health insurance plans mark j\n",
            "netoskie md houston texas american medical association sandra adamson fryhofer\n",
            "md atlanta georgia american nurses association katie brewer msn silver spring\n",
            "maryland amer\n",
            "\n",
            "Index: 36\n",
            "Article Title: Use of a 2-Dose Schedule for Human Papillomavirus Vaccination — Updated Recommendations of the Advisory Committee on Immunization Practices \n",
            "\n",
            "Passage:\n",
            "new recommendations use 2dose schedule girls boys initiate vaccination series\n",
            "ages 9 14 years three doses remain recommended persons initiate vaccination\n",
            "series ages 15 26 years immunocompromised personsbackgroundhpv infection causes\n",
            "cervical vaginal vulvar cancers women penile cancers men oropharyngeal anal\n",
            "cancers well genital warts men women 3 three hpv vaccines licensed use united\n",
            "states noninfectious quadrivalent 9valent hpv vac cines 4vhpv 9vhpv gardasil\n",
            "gardasil 9 merck co inc whitehouse station new jersey licensed f\n",
            "\n",
            "Index: 121\n",
            "Article Title: Employment and Activity Limitations Among Adults with Chronic Obstructive Pulmonary Disease \n",
            "\n",
            "Passage:\n",
            "services nphl nebraska public health laboratory specimens c ollected ill\n",
            "residents strict droplet precautions implemented facility closed new\n",
            "admissionsmorbidity mortality weekly report 298 mmwr march 27 2015 v ol 64\n",
            "11this outbreak unusual type facility number fatalitiesolder patients pneumonia\n",
            "might falls confusion dizziness fatigue without fever classic pneumonia symptom\n",
            "might serious comorbidities eg underlying lung disease making case ascertainment\n",
            "difficult 235 outbreak began alzheimer unit accu rate illness histories could\n",
            "\n"
          ]
        }
      ]
    },
    {
      "cell_type": "code",
      "source": [
        "question"
      ],
      "metadata": {
        "colab": {
          "base_uri": "https://localhost:8080/",
          "height": 35
        },
        "id": "ok--6qAFpMb2",
        "outputId": "c1a92e2a-96ed-4abf-936b-686136d2a3e6"
      },
      "execution_count": null,
      "outputs": [
        {
          "output_type": "execute_result",
          "data": {
            "text/plain": [
              "'Is GARDASIL 9 recommended for Adults?'"
            ],
            "application/vnd.google.colaboratory.intrinsic+json": {
              "type": "string"
            }
          },
          "metadata": {},
          "execution_count": 79
        }
      ]
    },
    {
      "cell_type": "code",
      "source": [
        "# # Generate answers from each passage\n",
        "answers = []\n",
        "# for passage in retrieved_passages:\n",
        "#     # Concatenate the question and passage\n",
        "input_text = f\"question: {question} context: {retrieved_passages}\"\n",
        "\n",
        "    # Encode the input text\n",
        "input_ids = t5_tokenizer.encode(input_text, return_tensors=\"pt\")\n",
        "\n",
        "    # Generate the answer\n",
        "output = t5_model.generate(input_ids, num_beams = 10, max_length=50)\n",
        "\n",
        "    # Decode and store the answer\n",
        "answer = t5_tokenizer.decode(output[0], skip_special_tokens=True)\n",
        "answers.append(answer)\n",
        "\n",
        "# Print the generated answers\n",
        "for i, answer in enumerate(answers):\n",
        "    print(f\"Answer {i+1}: {answer}\")"
      ],
      "metadata": {
        "colab": {
          "base_uri": "https://localhost:8080/"
        },
        "id": "jXhvvSFGpDBQ",
        "outputId": "e5bb3d47-44ea-4bbe-f688-964cec70b0a9"
      },
      "execution_count": null,
      "outputs": [
        {
          "output_type": "stream",
          "name": "stdout",
          "text": [
            "Answer 1: noninfectious quadrivalent 9valent hpv vac cines 4vhpv 9vhpv gardasil 9 merck co inc whitehouse station new jersey licensed f\n"
          ]
        }
      ]
    },
    {
      "cell_type": "code",
      "source": [
        "for i, answer in enumerate(answers):\n",
        "    print(f\"Answer {i+1}: {answer}\")"
      ],
      "metadata": {
        "colab": {
          "base_uri": "https://localhost:8080/"
        },
        "id": "JzzOsOtMpb5c",
        "outputId": "96ee45bd-5710-43b3-bc8a-9ec908a406f4"
      },
      "execution_count": null,
      "outputs": [
        {
          "output_type": "stream",
          "name": "stdout",
          "text": [
            "Answer 1: noninfectious quadrivalent 9valent hpv vac cines 4vhpv 9vhpv gardasil 9 merck co inc whitehouse station new jersey licensed f\n"
          ]
        }
      ]
    },
    {
      "cell_type": "markdown",
      "source": [
        "# What were the past 3 recommendation changes for GARDASIL 9?"
      ],
      "metadata": {
        "id": "lrENScJ2p9IQ"
      }
    },
    {
      "cell_type": "code",
      "source": [
        "import re\n",
        "question = \"What were the past 3 recommendation changes for GARDASIL 9?\""
      ],
      "metadata": {
        "id": "PcbBIFg2qAvg"
      },
      "execution_count": null,
      "outputs": []
    },
    {
      "cell_type": "code",
      "source": [
        "input_ids = q_tokenizer.encode(question, return_tensors = \"pt\")\n",
        "input_ids = input_ids.to(device)\n",
        "outputs = q_encoder(input_ids)\n",
        "q_embed = outputs['pooler_output']\n",
        "q_embed = q_embed.cpu().numpy()\n",
        "print(\"Query Embedding:\", q_embed.shape)"
      ],
      "metadata": {
        "colab": {
          "base_uri": "https://localhost:8080/"
        },
        "id": "ngr8Id8qqTnl",
        "outputId": "b2e83e4d-4fc1-4158-df48-8210af67a4fb"
      },
      "execution_count": null,
      "outputs": [
        {
          "output_type": "stream",
          "name": "stdout",
          "text": [
            "Query Embedding: (1, 768)\n"
          ]
        }
      ]
    },
    {
      "cell_type": "code",
      "source": [
        "D, I = index.search(q_embed, k= 10)\n",
        "print(\"Closest matching indices:\", I)\n",
        "print(\"Inner Products:\", D)"
      ],
      "metadata": {
        "colab": {
          "base_uri": "https://localhost:8080/"
        },
        "id": "CJZiQw2JqW2n",
        "outputId": "ca31e876-c36d-418c-d5f6-3168b1da599c"
      },
      "execution_count": null,
      "outputs": [
        {
          "output_type": "stream",
          "name": "stdout",
          "text": [
            "Closest matching indices: [[ 72 449  99  93 273 455 126  36 121 110]]\n",
            "Inner Products: [[22.115742 20.434309 20.160736 18.640837 17.500168 17.128311 16.69266\n",
            "  14.707298 14.502974 14.388355]]\n"
          ]
        }
      ]
    },
    {
      "cell_type": "code",
      "source": [
        "import textwrap \n",
        "retrieved_passages = []\n",
        "retrieved_indices = []\n",
        "wrapper = textwrap.TextWrapper(width = 80)\n",
        "for i in I[0]:\n",
        "  print('Index:', i)\n",
        "  title = chunked_corpus['title'][i]\n",
        "  passage = chunked_corpus['text'][i]\n",
        "  retrieved_passages.append(passage)\n",
        "  retrieved_indices.append(i)\n",
        "  print('Article Title:' , title, '\\n')\n",
        "  print('Passage:')\n",
        "  print(wrapper.fill(passage))\n",
        "  print('')"
      ],
      "metadata": {
        "colab": {
          "base_uri": "https://localhost:8080/"
        },
        "id": "P_s-_oRSqZMm",
        "outputId": "84ecc4b6-7f76-4dbe-efca-195f692d4497"
      },
      "execution_count": null,
      "outputs": [
        {
          "output_type": "stream",
          "name": "stdout",
          "text": [
            "Index: 72\n",
            "Article Title: Employment and Activity Limitations Among Adults with Chronic Obstructive Pulmonary Disease \n",
            "\n",
            "Passage:\n",
            "ronic obstructive pulmonary disease — united states 2013anne g wheaton phd1\n",
            "timothy j cunningham phd1 earl ford md1 janet b croft phd1 author affiliations\n",
            "end textinside296 mycoplasma pneumoniae outbreak longterm care facility —\n",
            "nebraska 2014300 u se 9valent human papillomavirus hpv vaccine updated hpv\n",
            "vaccination recommendations advisory committee immunization practices305 upda\n",
            "ted recommendations use typhoid vaccine — advisory committee immunization\n",
            "practices united states 2015309 announcement310 quickstatscontinuing education\n",
            "examination available httpwwwcdcgovmmwrcmecontedinfohtmlweekly † available httpw\n",
            "\n",
            "Index: 449\n",
            "Article Title: Recommendations of the Advisory Committee on Immunization Practices \n",
            "\n",
            "Passage:\n",
            "int j cancer 2013132198–207 207 markowitz le hariri lin c et al reduction human\n",
            "papillomavirus hpv prevalence among young women following hpv vaccine\n",
            "introduction united states national health nutrition examination surveys\n",
            "2003–2010 j infect dis 2013208385–93 208 flagg ew schwartz r weinstock h\n",
            "prevalence anogenital warts among participants private health plans united\n",
            "states 2003–2010 potential impact human papillomavirus vaccination j public\n",
            "health 20131031428–35 209 hariri markowitz le dunne ef unger er population\n",
            "impact hpv vaccines summary early evidence j adolesc health 2013 53679–82 210\n",
            "ali h donovan\n",
            "\n",
            "Index: 99\n",
            "Article Title: Employment and Activity Limitations Among Adults with Chronic Obstructive Pulmonary Disease \n",
            "\n",
            "Passage:\n",
            "ed guide help states develop implement tobacco control programs§§ cdc also\n",
            "compiled guide communitybased strategies increase physical activity cdc guide\n",
            "strategies increase physical activity community¶¶ 1division population health\n",
            "national center chronic disease prevention health promotion cdc corresponding\n",
            "author anne g wheaton awheatoncdcgov 7704885362references 1 h eron deaths\n",
            "leading causes 2010 natl vital stat rep 2013 621–96 2 us b urden disease\n",
            "collaborators state us health 19902010 burden diseases injuries risk factors\n",
            "jama 2013310591–608 3 lee pn f ry js systematic review\n",
            "\n",
            "Index: 93\n",
            "Article Title: Employment and Activity Limitations Among Adults with Chronic Obstructive Pulmonary Disease \n",
            "\n",
            "Passage:\n",
            "47–67 30000new mexico 9224 55 49–62 93000delaware 5150 55 48–63 43000new jersey\n",
            "13179 54 49–60 400000texas 10783 53 47–59 1040000connecticut 7609 53 47–60\n",
            "163000washington 11065 53 48–58 301000new york 8805 52 47–59 856000massachusetts\n",
            "14914 51 47–57 296000vermont 6322 51 45–58 28000maryland 12830 50 45–56\n",
            "244000wisconsin 6521 50 42–58 245000nebraska 17017 49 44–53 74000illinois 5586\n",
            "48 41–55 491000california 11507 45 41–50 1352000north dakota 7725 45 39–51\n",
            "27000colorado 13487 44 40–49 182000hawaii 7788 44 37–51 51000utah 12648 42 38–46\n",
            "80000idaho 5573 42 36\n",
            "\n",
            "Index: 273\n",
            "Article Title: Recommendations of the Advisory Committee on Immunization Practices \n",
            "\n",
            "Passage:\n",
            "adrivalent hpv vaccine gardasil produced merck co inc whitehouse station new\n",
            "jersey licensed use females males aged 9 26 years bivalent hpv vaccine cervarix\n",
            "produced glaxosmithkline rixensart belgium licensed use females aged 9 25 years\n",
            "vaccines composed typespecific hpv l1 protein major capsid protein hpv\n",
            "expression l1 protein using recombinant dna technology produces vlps vaccines\n",
            "noninfectiousquadrivalent vaccine hpv4 contains hpv 6 11 16 18 l1 vlps l1\n",
            "protein expressed saccharomyces cerevisiae baker’s yeast selfassembles\n",
            "conformationally intact noninfect\n",
            "\n",
            "Index: 455\n",
            "Article Title: Recommendations of the Advisory Committee on Immunization Practices \n",
            "\n",
            "Passage:\n",
            "red book editor david kimberlin md birmingham alabama american academy physician\n",
            "assistants mariemichèle léger mph alexandria virginia american college health\n",
            "association susan evan md columbia missouri american college obstetricians\n",
            "gynecologists laura e riley md boston massachusetts american college physicians\n",
            "sandra adamson fryhofer md atlanta georgia american geriatrics society kenneth\n",
            "schmader md durham north carolina america’s health insurance plans mark j\n",
            "netoskie md houston texas american medical association sandra adamson fryhofer\n",
            "md atlanta georgia american nurses association katie brewer msn silver spring\n",
            "maryland amer\n",
            "\n",
            "Index: 126\n",
            "Article Title: Employment and Activity Limitations Among Adults with Chronic Obstructive Pulmonary Disease \n",
            "\n",
            "Passage:\n",
            "facilities protect staff members residents education regarding monitoring\n",
            "outbreaks infection prevention measures delayed recognition outbreak\n",
            "determination etiologic agent might prolong transmis sion period delay effective\n",
            "interventionstable number patients confirmed probable mycoplasma pneumoniae\n",
            "respiratory illness longterm care facility selected characteristics — nebraska\n",
            "2014characteristicconfirmed n 14probable† n 41 total n 55no link\n",
            "facilityresident 6 43 14 34 20 36staff member 5 36 17 41 22 40community member3\n",
            "21 10 24 13 24sexwomen 11 79 31 76 42\n",
            "\n",
            "Index: 36\n",
            "Article Title: Use of a 2-Dose Schedule for Human Papillomavirus Vaccination — Updated Recommendations of the Advisory Committee on Immunization Practices \n",
            "\n",
            "Passage:\n",
            "new recommendations use 2dose schedule girls boys initiate vaccination series\n",
            "ages 9 14 years three doses remain recommended persons initiate vaccination\n",
            "series ages 15 26 years immunocompromised personsbackgroundhpv infection causes\n",
            "cervical vaginal vulvar cancers women penile cancers men oropharyngeal anal\n",
            "cancers well genital warts men women 3 three hpv vaccines licensed use united\n",
            "states noninfectious quadrivalent 9valent hpv vac cines 4vhpv 9vhpv gardasil\n",
            "gardasil 9 merck co inc whitehouse station new jersey licensed f\n",
            "\n",
            "Index: 121\n",
            "Article Title: Employment and Activity Limitations Among Adults with Chronic Obstructive Pulmonary Disease \n",
            "\n",
            "Passage:\n",
            "services nphl nebraska public health laboratory specimens c ollected ill\n",
            "residents strict droplet precautions implemented facility closed new\n",
            "admissionsmorbidity mortality weekly report 298 mmwr march 27 2015 v ol 64\n",
            "11this outbreak unusual type facility number fatalitiesolder patients pneumonia\n",
            "might falls confusion dizziness fatigue without fever classic pneumonia symptom\n",
            "might serious comorbidities eg underlying lung disease making case ascertainment\n",
            "difficult 235 outbreak began alzheimer unit accu rate illness histories could\n",
            "\n",
            "Index: 110\n",
            "Article Title: Employment and Activity Limitations Among Adults with Chronic Obstructive Pulmonary Disease \n",
            "\n",
            "Passage:\n",
            "outbreak started alzheimer unit june 2 index patient experienced fever cough\n",
            "examined primary care provider’s office june 4 june 5 started amoxicillin\n",
            "hospitalized died june 7three alzheimer unit residents became ill time ecdhd\n",
            "ndhhs notified illness spread units diagnostic specimens collected june 22 ndhhs\n",
            "established working case definition instructed facility ask attending physician\n",
            "collect np op swabs hospitalized resident asked facility collect specimens\n",
            "residents staff members\n",
            "\n"
          ]
        }
      ]
    },
    {
      "cell_type": "code",
      "source": [
        "question"
      ],
      "metadata": {
        "colab": {
          "base_uri": "https://localhost:8080/",
          "height": 35
        },
        "id": "1iKF-GuQqnrc",
        "outputId": "3e5b9cd7-d866-4c56-e8a2-90cffc178b3c"
      },
      "execution_count": null,
      "outputs": [
        {
          "output_type": "execute_result",
          "data": {
            "text/plain": [
              "'What were the past 3 recommendation changes for GARDASIL 9?'"
            ],
            "application/vnd.google.colaboratory.intrinsic+json": {
              "type": "string"
            }
          },
          "metadata": {},
          "execution_count": 88
        }
      ]
    },
    {
      "cell_type": "code",
      "source": [],
      "metadata": {
        "id": "txfF-STarA_v"
      },
      "execution_count": null,
      "outputs": []
    },
    {
      "cell_type": "code",
      "source": [
        "answers = []\n",
        "# for passage in retrieved_passages:\n",
        "#     # Concatenate the question and passage\n",
        "input_text = f\"question: {question} context: {retrieved_passages}\"\n",
        "\n",
        "    # Encode the input text\n",
        "input_ids = t5_tokenizer.encode(input_text, return_tensors=\"pt\")\n",
        "\n",
        "    # Generate the answer\n",
        "output = t5_model.generate(input_ids, num_beams = 10, max_length=50)\n",
        "\n",
        "    # Decode and store the answer\n",
        "answer = t5_tokenizer.decode(output[0], skip_special_tokens=True)\n",
        "answers.append(answer)\n",
        "\n",
        "# Print the generated answers\n",
        "for i, answer in enumerate(answers):\n",
        "    print(f\"Answer {i+1}: {answer}\")"
      ],
      "metadata": {
        "colab": {
          "base_uri": "https://localhost:8080/"
        },
        "id": "rehWfK7hqkZB",
        "outputId": "f37a1abc-d294-49aa-bf23-18291dca93fc"
      },
      "execution_count": null,
      "outputs": [
        {
          "output_type": "stream",
          "name": "stdout",
          "text": [
            "Answer 1: use 2dose schedule girls boys initiate vaccination series ages 9 14 years\n"
          ]
        }
      ]
    },
    {
      "cell_type": "code",
      "source": [
        "# Generate answers from each passage\n",
        "answers = []\n",
        "for passage in retrieved_passages:\n",
        "    # Concatenate the question and passage\n",
        "    input_text = f\"question: {question} context: {passage}\"\n",
        "\n",
        "    # Encode the input text\n",
        "    input_ids = t5_tokenizer.encode(input_text, return_tensors=\"pt\")\n",
        "\n",
        "    # Generate the answer\n",
        "    output = t5_model.generate(input_ids, num_beams = 5, max_length=50)\n",
        "\n",
        "    # Decode and store the answer\n",
        "    answer = t5_tokenizer.decode(output[0], skip_special_tokens=True)\n",
        "    answers.append(answer)\n",
        "\n",
        "# Print the generated answers\n",
        "for i, answer in enumerate(answers):\n",
        "    print(f\"Answer {i+1}: {answer}\")"
      ],
      "metadata": {
        "colab": {
          "base_uri": "https://localhost:8080/"
        },
        "id": "W47RJ58_rFGg",
        "outputId": "9fb87762-28f7-4ae6-fb17-48c0f18c1711"
      },
      "execution_count": null,
      "outputs": [
        {
          "output_type": "stream",
          "name": "stdout",
          "text": [
            "Answer 1: use typhoid vaccine\n",
            "Answer 2: 53679–82 210\n",
            "Answer 3: lee pn f ry js systematic review\n",
            "Answer 4: 10783 53 47–59 1040000connecticut 7609 53 47–60 163000washington 11065 53 48–58 301000new york 8805 52 47–59 856000massachuset\n",
            "Answer 5: females males aged 9 26 years bivalent hpv vaccine cervarix produced glaxosmithkline rixensart belgium licensed use females aged 9 25 years vaccines\n",
            "Answer 6: sandra adamson fryhofer md atlanta georgia american geriatrics society kenneth schmader md durham north carolina america’\n",
            "Answer 7: 21 10 24 13 24sexwomen 11 79 31 76 42\n",
            "Answer 8: new recommendations use 2dose schedule girls boys initiate vaccination series ages 9 14 years three doses remain recommended persons initiate vaccination series ages 15 26 years immunocompromised persons\n",
            "Answer 9: strict droplet precautions\n",
            "Answer 10: attending physician collect np op swabs\n"
          ]
        }
      ]
    },
    {
      "cell_type": "markdown",
      "source": [
        "# When did the GARDASIL 9 recommendations change?"
      ],
      "metadata": {
        "id": "wHzIzsM5rjkO"
      }
    },
    {
      "cell_type": "code",
      "source": [
        "import re\n",
        "question = \"When did the GARDASIL 9 recommendations change?\""
      ],
      "metadata": {
        "id": "ZM4SLN8hrnOW"
      },
      "execution_count": null,
      "outputs": []
    },
    {
      "cell_type": "code",
      "source": [
        "input_ids = q_tokenizer.encode(question, return_tensors = \"pt\")\n",
        "input_ids = input_ids.to(device)\n",
        "outputs = q_encoder(input_ids)\n",
        "q_embed = outputs['pooler_output']\n",
        "q_embed = q_embed.cpu().numpy()\n",
        "print(\"Query Embedding:\", q_embed.shape)"
      ],
      "metadata": {
        "colab": {
          "base_uri": "https://localhost:8080/"
        },
        "id": "7S-MnlQxrvDq",
        "outputId": "52788b46-88c9-4842-d8d9-18a090cdd8ab"
      },
      "execution_count": null,
      "outputs": [
        {
          "output_type": "stream",
          "name": "stdout",
          "text": [
            "Query Embedding: (1, 768)\n"
          ]
        }
      ]
    },
    {
      "cell_type": "code",
      "source": [
        "D, I = index.search(q_embed, k= 10)\n",
        "print(\"Closest matching indices:\", I)\n",
        "print(\"Inner Products:\", D)"
      ],
      "metadata": {
        "colab": {
          "base_uri": "https://localhost:8080/"
        },
        "id": "E9iYDx9irxCN",
        "outputId": "7adcba06-42e5-4932-96d6-1f587c4bb7cf"
      },
      "execution_count": null,
      "outputs": [
        {
          "output_type": "stream",
          "name": "stdout",
          "text": [
            "Closest matching indices: [[437 449 455  72 326 273  99  93 126  36]]\n",
            "Inner Products: [[33.825714 24.246387 24.026375 23.92072  20.311127 20.272831 20.13876\n",
            "  17.613972 15.34108  14.980211]]\n"
          ]
        }
      ]
    },
    {
      "cell_type": "code",
      "source": [
        "import textwrap \n",
        "retrieved_passages = []\n",
        "retrieved_indices = []\n",
        "wrapper = textwrap.TextWrapper(width = 80)\n",
        "for i in I[0]:\n",
        "  print('Index:', i)\n",
        "  title = chunked_corpus['title'][i]\n",
        "  passage = chunked_corpus['text'][i]\n",
        "  retrieved_passages.append(passage)\n",
        "  retrieved_indices.append(i)\n",
        "  print('Article Title:' , title, '\\n')\n",
        "  print('Passage:')\n",
        "  print(wrapper.fill(passage))\n",
        "  print('')"
      ],
      "metadata": {
        "colab": {
          "base_uri": "https://localhost:8080/"
        },
        "id": "p8QgHSb4r0o-",
        "outputId": "2cbeda68-d262-4147-8a3e-efb397065261"
      },
      "execution_count": null,
      "outputs": [
        {
          "output_type": "stream",
          "name": "stdout",
          "text": [
            "Index: 437\n",
            "Article Title: Recommendations of the Advisory Committee on Immunization Practices \n",
            "\n",
            "Passage:\n",
            "skinner sr et al efficacy human papillomavirus hpv1618 as04adjuvanted vaccine\n",
            "women aged 15–25 years without serological evidence previous exposure hpv1618\n",
            "int j cancer 2012131106–16 164 herrero r quint w hildesheim et al reduced\n",
            "prevalence oral human papillomavirus hpv 4 years bivalent hpv vaccination\n",
            "randomized clinical trial costa rica plos one 20138e68329 165 kreimer ar\n",
            "gonzalez p katki ha et al efficacy bivalent hpv 1618 vaccine anal hpv 1618\n",
            "infection among young women nested analysis within costa rica vaccine rial\n",
            "lancet oncol 201112862–70 166 naud ps rotelimartins cm de carval\n",
            "\n",
            "Index: 449\n",
            "Article Title: Recommendations of the Advisory Committee on Immunization Practices \n",
            "\n",
            "Passage:\n",
            "int j cancer 2013132198–207 207 markowitz le hariri lin c et al reduction human\n",
            "papillomavirus hpv prevalence among young women following hpv vaccine\n",
            "introduction united states national health nutrition examination surveys\n",
            "2003–2010 j infect dis 2013208385–93 208 flagg ew schwartz r weinstock h\n",
            "prevalence anogenital warts among participants private health plans united\n",
            "states 2003–2010 potential impact human papillomavirus vaccination j public\n",
            "health 20131031428–35 209 hariri markowitz le dunne ef unger er population\n",
            "impact hpv vaccines summary early evidence j adolesc health 2013 53679–82 210\n",
            "ali h donovan\n",
            "\n",
            "Index: 455\n",
            "Article Title: Recommendations of the Advisory Committee on Immunization Practices \n",
            "\n",
            "Passage:\n",
            "red book editor david kimberlin md birmingham alabama american academy physician\n",
            "assistants mariemichèle léger mph alexandria virginia american college health\n",
            "association susan evan md columbia missouri american college obstetricians\n",
            "gynecologists laura e riley md boston massachusetts american college physicians\n",
            "sandra adamson fryhofer md atlanta georgia american geriatrics society kenneth\n",
            "schmader md durham north carolina america’s health insurance plans mark j\n",
            "netoskie md houston texas american medical association sandra adamson fryhofer\n",
            "md atlanta georgia american nurses association katie brewer msn silver spring\n",
            "maryland amer\n",
            "\n",
            "Index: 72\n",
            "Article Title: Employment and Activity Limitations Among Adults with Chronic Obstructive Pulmonary Disease \n",
            "\n",
            "Passage:\n",
            "ronic obstructive pulmonary disease — united states 2013anne g wheaton phd1\n",
            "timothy j cunningham phd1 earl ford md1 janet b croft phd1 author affiliations\n",
            "end textinside296 mycoplasma pneumoniae outbreak longterm care facility —\n",
            "nebraska 2014300 u se 9valent human papillomavirus hpv vaccine updated hpv\n",
            "vaccination recommendations advisory committee immunization practices305 upda\n",
            "ted recommendations use typhoid vaccine — advisory committee immunization\n",
            "practices united states 2015309 announcement310 quickstatscontinuing education\n",
            "examination available httpwwwcdcgovmmwrcmecontedinfohtmlweekly † available httpw\n",
            "\n",
            "Index: 326\n",
            "Article Title: Recommendations of the Advisory Committee on Immunization Practices \n",
            "\n",
            "Passage:\n",
            "betes mellitus autoimmune thyroiditis receipt hpv4 156bivalent hpv vaccine\n",
            "hpv2hpv2 efficacyfemales aged 15–25 yearshpv2 efficacy cin2 evaluated two\n",
            "randomized doubleblind controlled clinical trials females aged 15–25 years\n",
            "including phase ii study phase iii trial 157158 phase iii trial included 18644\n",
            "females 158159 interim analysis phase iii trial showed high efficacy 158\n",
            "endofstudy atp analysis efficacy hpv 16 18related cin2 949 95 ci 877–984 table 4\n",
            "160 statistically significant efficacy demonstrated individually hpv 16 hpv\n",
            "18related lesions itt\n",
            "\n",
            "Index: 273\n",
            "Article Title: Recommendations of the Advisory Committee on Immunization Practices \n",
            "\n",
            "Passage:\n",
            "adrivalent hpv vaccine gardasil produced merck co inc whitehouse station new\n",
            "jersey licensed use females males aged 9 26 years bivalent hpv vaccine cervarix\n",
            "produced glaxosmithkline rixensart belgium licensed use females aged 9 25 years\n",
            "vaccines composed typespecific hpv l1 protein major capsid protein hpv\n",
            "expression l1 protein using recombinant dna technology produces vlps vaccines\n",
            "noninfectiousquadrivalent vaccine hpv4 contains hpv 6 11 16 18 l1 vlps l1\n",
            "protein expressed saccharomyces cerevisiae baker’s yeast selfassembles\n",
            "conformationally intact noninfect\n",
            "\n",
            "Index: 99\n",
            "Article Title: Employment and Activity Limitations Among Adults with Chronic Obstructive Pulmonary Disease \n",
            "\n",
            "Passage:\n",
            "ed guide help states develop implement tobacco control programs§§ cdc also\n",
            "compiled guide communitybased strategies increase physical activity cdc guide\n",
            "strategies increase physical activity community¶¶ 1division population health\n",
            "national center chronic disease prevention health promotion cdc corresponding\n",
            "author anne g wheaton awheatoncdcgov 7704885362references 1 h eron deaths\n",
            "leading causes 2010 natl vital stat rep 2013 621–96 2 us b urden disease\n",
            "collaborators state us health 19902010 burden diseases injuries risk factors\n",
            "jama 2013310591–608 3 lee pn f ry js systematic review\n",
            "\n",
            "Index: 93\n",
            "Article Title: Employment and Activity Limitations Among Adults with Chronic Obstructive Pulmonary Disease \n",
            "\n",
            "Passage:\n",
            "47–67 30000new mexico 9224 55 49–62 93000delaware 5150 55 48–63 43000new jersey\n",
            "13179 54 49–60 400000texas 10783 53 47–59 1040000connecticut 7609 53 47–60\n",
            "163000washington 11065 53 48–58 301000new york 8805 52 47–59 856000massachusetts\n",
            "14914 51 47–57 296000vermont 6322 51 45–58 28000maryland 12830 50 45–56\n",
            "244000wisconsin 6521 50 42–58 245000nebraska 17017 49 44–53 74000illinois 5586\n",
            "48 41–55 491000california 11507 45 41–50 1352000north dakota 7725 45 39–51\n",
            "27000colorado 13487 44 40–49 182000hawaii 7788 44 37–51 51000utah 12648 42 38–46\n",
            "80000idaho 5573 42 36\n",
            "\n",
            "Index: 126\n",
            "Article Title: Employment and Activity Limitations Among Adults with Chronic Obstructive Pulmonary Disease \n",
            "\n",
            "Passage:\n",
            "facilities protect staff members residents education regarding monitoring\n",
            "outbreaks infection prevention measures delayed recognition outbreak\n",
            "determination etiologic agent might prolong transmis sion period delay effective\n",
            "interventionstable number patients confirmed probable mycoplasma pneumoniae\n",
            "respiratory illness longterm care facility selected characteristics — nebraska\n",
            "2014characteristicconfirmed n 14probable† n 41 total n 55no link\n",
            "facilityresident 6 43 14 34 20 36staff member 5 36 17 41 22 40community member3\n",
            "21 10 24 13 24sexwomen 11 79 31 76 42\n",
            "\n",
            "Index: 36\n",
            "Article Title: Use of a 2-Dose Schedule for Human Papillomavirus Vaccination — Updated Recommendations of the Advisory Committee on Immunization Practices \n",
            "\n",
            "Passage:\n",
            "new recommendations use 2dose schedule girls boys initiate vaccination series\n",
            "ages 9 14 years three doses remain recommended persons initiate vaccination\n",
            "series ages 15 26 years immunocompromised personsbackgroundhpv infection causes\n",
            "cervical vaginal vulvar cancers women penile cancers men oropharyngeal anal\n",
            "cancers well genital warts men women 3 three hpv vaccines licensed use united\n",
            "states noninfectious quadrivalent 9valent hpv vac cines 4vhpv 9vhpv gardasil\n",
            "gardasil 9 merck co inc whitehouse station new jersey licensed f\n",
            "\n"
          ]
        }
      ]
    },
    {
      "cell_type": "code",
      "source": [
        "answers = []\n",
        "# for passage in retrieved_passages:\n",
        "#     # Concatenate the question and passage\n",
        "input_text = f\"question: {question} context: {retrieved_passages}\"\n",
        "\n",
        "    # Encode the input text\n",
        "input_ids = t5_tokenizer.encode(input_text, return_tensors=\"pt\")\n",
        "\n",
        "    # Generate the answer\n",
        "output = t5_model.generate(input_ids, num_beams = 10, max_length=50)\n",
        "\n",
        "    # Decode and store the answer\n",
        "answer = t5_tokenizer.decode(output[0], skip_special_tokens=True)\n",
        "answers.append(answer)\n",
        "\n",
        "# Print the generated answers\n",
        "for i, answer in enumerate(answers):\n",
        "    print(f\"Answer {i+1}: {answer}\")"
      ],
      "metadata": {
        "colab": {
          "base_uri": "https://localhost:8080/"
        },
        "id": "sJ3DD1Qyr8Rf",
        "outputId": "f3903a22-02be-4edb-f59c-da82d702869e"
      },
      "execution_count": null,
      "outputs": [
        {
          "output_type": "stream",
          "name": "stdout",
          "text": [
            "Answer 1: 2015309 announcement310 quickstatscontinuing education examination available httpwwwcdcgovmmwrcmecontedinfohtmlweekly  available httpw'\n"
          ]
        }
      ]
    },
    {
      "cell_type": "code",
      "source": [
        "# Generate answers from each passage\n",
        "answers = []\n",
        "for passage in retrieved_passages:\n",
        "    # Concatenate the question and passage\n",
        "    input_text = f\"question: {question} context: {passage}\"\n",
        "\n",
        "    # Encode the input text\n",
        "    input_ids = t5_tokenizer.encode(input_text, return_tensors=\"pt\")\n",
        "\n",
        "    # Generate the answer\n",
        "    output = t5_model.generate(input_ids, num_beams = 5, max_length=50)\n",
        "\n",
        "    # Decode and store the answer\n",
        "    answer = t5_tokenizer.decode(output[0], skip_special_tokens=True)\n",
        "    answers.append(answer)\n",
        "\n",
        "# Print the generated answers\n",
        "for i, answer in enumerate(answers):\n",
        "    print(f\"Answer {i+1}: {answer}\")"
      ],
      "metadata": {
        "colab": {
          "base_uri": "https://localhost:8080/"
        },
        "id": "l-jq_djIr_W7",
        "outputId": "e579786f-28ab-47d4-bd58-d3368546593f"
      },
      "execution_count": null,
      "outputs": [
        {
          "output_type": "stream",
          "name": "stdout",
          "text": [
            "Answer 1: 2012131106–16 164 herrero r quint w hildesheim et al reduced prevalence oral human papillomavirus hpv 4 years bivalent hp\n",
            "Answer 2: 20131031428–35 209 hariri markowitz le dunne ef unger er population impact hpv vaccines\n",
            "Answer 3: david kimberlin md birmingham alabama\n",
            "Answer 4: 2015309 announcement310 quickstatscontinuing education examination available httpwwwcdcgovmmwrcmecontedinfohtmlweekly\n",
            "Answer 5: 949 95 ci 877–984 table 4 160 statistically significant efficacy demonstrated individually hpv 16 hpv 18related lesions itt\n",
            "Answer 6: 9 25 years vaccines composed typespecific hpv l1 protein major capsid protein hpv expression l1 protein using recombinant dna technology produces vlps vaccines\n",
            "Answer 7: 2013 621–96 2 us b urden disease collaborators state us health 19902010 burden diseases risk factors jama 2013310591–608 3 lee pn f ry js systematic review\n",
            "Answer 8: 47–67 30000new mexico 9224 55 49–62 93000delaware 5150 55 48–63 43000new jersey 13179 54 49–60 400000texas 10783 53 47–59\n",
            "Answer 9: nebraska 2014\n",
            "Answer 10: 2dose schedule girls boys initiate vaccination series ages 9 14 years three doses remain recommended persons initiate vaccination series ages 15 26 years\n"
          ]
        }
      ]
    },
    {
      "cell_type": "code",
      "source": [
        "from transformer import BartTokenizer, BartForConditionalGene"
      ],
      "metadata": {
        "id": "35DA4_EfOA7F"
      },
      "execution_count": null,
      "outputs": []
    }
  ]
}